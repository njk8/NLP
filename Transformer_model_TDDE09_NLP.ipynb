{
  "nbformat": 4,
  "nbformat_minor": 0,
  "metadata": {
    "colab": {
      "name": "Transformer_model_TDDE09_NLP.ipynb",
      "provenance": [],
      "collapsed_sections": [],
      "include_colab_link": true
    },
    "kernelspec": {
      "name": "python3",
      "display_name": "Python 3"
    },
    "accelerator": "GPU"
  },
  "cells": [
    {
      "cell_type": "markdown",
      "metadata": {
        "id": "view-in-github",
        "colab_type": "text"
      },
      "source": [
        "<a href=\"https://colab.research.google.com/github/njk8/NLP/blob/main/Transformer_model_TDDE09_NLP.ipynb\" target=\"_parent\"><img src=\"https://colab.research.google.com/assets/colab-badge.svg\" alt=\"Open In Colab\"/></a>"
      ]
    },
    {
      "cell_type": "markdown",
      "metadata": {
        "id": "h_DL9fX5u1T4"
      },
      "source": [
        "# TDDE09 NLP Project - Transformer Model"
      ]
    },
    {
      "cell_type": "markdown",
      "metadata": {
        "id": "JiBzgTyG7pWe"
      },
    {
      "cell_type": "code",
      "metadata": {
        "colab": {
          "base_uri": "https://localhost:8080/"
        },
        "id": "75zOl8Iniwyk",
        "outputId": "4f8dab17-e6dc-4da0-99e6-6a43c500c3d2"
      },
      "source": [
        "from google.colab import drive\n",
        "drive.mount('/content/drive')"
      ],
      "execution_count": null,
      "outputs": [
        {
          "output_type": "stream",
          "text": [
            "Mounted at /content/drive\n"
          ],
          "name": "stdout"
        }
      ]
    },
    {
      "cell_type": "code",
      "metadata": {
        "colab": {
          "base_uri": "https://localhost:8080/"
        },
        "id": "C9VUMWh3jTq_",
        "outputId": "8a86db4c-82cf-4a22-89be-e86390ca8e24"
      },
      "source": [
        "%cd /content/drive/My Drive/NLP_Project/"
      ],
      "execution_count": null,
      "outputs": [
        {
          "output_type": "stream",
          "text": [
            "/content/drive/My Drive/NLP_Project\n"
          ],
          "name": "stdout"
        }
      ]
    },
    {
      "cell_type": "markdown",
      "metadata": {
        "id": "MLsYYQ2_vPON"
      },
      "source": [
        "**Import dependencies**"
      ]
    },
    {
      "cell_type": "code",
      "metadata": {
        "id": "ha26xs8_mWVn"
      },
      "source": [
        "import numpy as np\n",
        "import math\n",
        "import re\n",
        "import time"
      ],
      "execution_count": null,
      "outputs": []
    },
    {
      "cell_type": "code",
      "metadata": {
        "id": "TPgoJcbimb8A"
      },
      "source": [
        "import tensorflow as tf\n",
        "from tensorflow.keras import layers\n",
        "import tensorflow_datasets as tfds"
      ],
      "execution_count": null,
      "outputs": []
    },
    {
      "cell_type": "markdown",
      "metadata": {
        "id": "pzjm6oqgG4nP"
      },
      "source": [
        "**Load the dataset**"
      ]
    },
    {
      "cell_type": "code",
      "metadata": {
        "id": "rkLrU_TPjcYn"
      },
      "source": [
        "with open(\"europarl-v7.sv-en.en\", mode='r', encoding='utf-8') as f:\n",
        "  europarl_en = f.read()\n",
        "\n",
        "with open(\"europarl-v7.sv-en.sv\", mode='r', encoding='utf-8') as f:\n",
        "  europarl_sv = f.read()"
      ],
      "execution_count": null,
      "outputs": []
    },
    {
      "cell_type": "code",
      "metadata": {
        "colab": {
          "base_uri": "https://localhost:8080/",
          "height": 35
        },
        "id": "sc8SaMSGlKMB",
        "outputId": "a0b8ece2-6b14-4f4e-9370-bd495545ef57"
      },
      "source": [
        "europarl_en[:50]"
      ],
      "execution_count": null,
      "outputs": [
        {
          "output_type": "execute_result",
          "data": {
            "application/vnd.google.colaboratory.intrinsic+json": {
              "type": "string"
            },
            "text/plain": [
              "'Resumption of the session\\nI declare resumed the se'"
            ]
          },
          "metadata": {
            "tags": []
          },
          "execution_count": 6
        }
      ]
    },
    {
      "cell_type": "code",
      "metadata": {
        "id": "hnFSFoGIiOSv"
      },
      "source": [
        "#a.m = a.$$$m = am"
      ],
      "execution_count": null,
      "outputs": []
    },
    {
      "cell_type": "markdown",
      "metadata": {
        "id": "3bMKWzunvbsn"
      },
      "source": [
        "### **Data preprocess**"
      ]
    },
    {
      "cell_type": "code",
      "metadata": {
        "id": "B222UAT_kjOx"
      },
      "source": [
        "corpus_en = europarl_en\n",
        "#any char following '.' replace it with '.$$$'\n",
        "corpus_en = re.sub(r\"\\.(?=[0-9]|[a-z]|[A-Z])\", \".$$$\", corpus_en)\n",
        "#now we remove all such instance of '.$$$' from corpus\n",
        "corpus_en = re.sub(r\".\\$\\$\\$\", '', corpus_en)\n",
        "#replace two whitespaces with single whitespace \n",
        "corpus_en = re.sub(r\"  +\", \" \", corpus_en)\n",
        "#split each sentence in corpus based on '\\n' new line char\n",
        "corpus_en = corpus_en.split('\\n')\n",
        "\n",
        "corpus_sv = europarl_sv\n",
        "corpus_sv = re.sub(r\"\\.(?=[0-9]|[a-z]|[A-Z])\", \".$$$\", corpus_sv)\n",
        "corpus_sv = re.sub(r\".\\$\\$\\$\", '', corpus_sv)\n",
        "corpus_sv = re.sub(r\"  +\", \" \", corpus_sv)\n",
        "corpus_sv = corpus_sv.split('\\n')"
      ],
      "execution_count": null,
      "outputs": []
    },
    {
      "cell_type": "code",
      "metadata": {
        "colab": {
          "base_uri": "https://localhost:8080/"
        },
        "id": "sOVFdOmzmJNZ",
        "outputId": "dc41d91d-950c-4c72-a03c-deefa94a990a"
      },
      "source": [
        "corpus_en[:25]"
      ],
      "execution_count": null,
      "outputs": [
        {
          "output_type": "execute_result",
          "data": {
            "text/plain": [
              "['Resumption of the session',\n",
              " 'I declare resumed the session of the European Parliament adjourned on Friday 17 December 1999, and I would like once again to wish you a happy new year in the hope that you enjoyed a pleasant festive period.',\n",
              " \"Although, as you will have seen, the dreaded 'millennium bug' failed to materialise, still the people in a number of countries suffered a series of natural disasters that truly were dreadful.\",\n",
              " 'You have requested a debate on this subject in the course of the next few days, during this part-session.',\n",
              " \"In the meantime, I should like to observe a minute' s silence, as a number of Members have requested, on behalf of all the victims concerned, particularly those of the terrible storms, in the various countries of the European Union.\",\n",
              " \"Please rise, then, for this minute' s silence.\",\n",
              " \"(The House rose and observed a minute' s silence)\",\n",
              " 'Madam President, on a point of order.',\n",
              " 'You will be aware from the press and television that there have been a number of bomb explosions and killings in Sri Lanka.',\n",
              " 'One of the people assassinated very recently in Sri Lanka was Mr Kumar Ponnambalam, who had visited the European Parliament just a few months ago.',\n",
              " \"Would it be appropriate for you, Madam President, to write a letter to the Sri Lankan President expressing Parliament's regret at his and the other violent deaths in Sri Lanka and urging her to do everything she possibly can to seek a peaceful reconciliation to a very difficult situation?\",\n",
              " 'Yes, Mr Evans, I feel an initiative of the type you have just suggested would be entirely appropriate.',\n",
              " 'If the House agrees, I shall do as Mr Evans has suggested.',\n",
              " 'Madam President, on a point of order.',\n",
              " 'I would like your advice about Rule 143 concerning inadmissibility.',\n",
              " 'My question relates to something that will come up on Thursday and which I will then raise again.',\n",
              " 'The Cunha report on multiannual guidance programmes comes before Parliament on Thursday and contains a proposal in paragraph 6 that a form of quota penalties should be introduced for countries which fail to meet their fleet reduction targets annually.',\n",
              " 'It says that this should be done despite the principle of relative stability.',\n",
              " 'I believe that the principle of relative stability is a fundamental legal principle of the common fisheries policy and a proposal to subvert it would be legally inadmissible.',\n",
              " 'I want to know whether one can raise an objection of that kind to what is merely a report, not a legislative proposal, and whether that is something I can competently do on Thursday.',\n",
              " 'That is precisely the time when you may, if you wish, raise this question, ie. on Thursday prior to the start of the presentation of the report.',\n",
              " '',\n",
              " \"Madam President, coinciding with this year' s first part-session of the European Parliament, a date has been set, unfortunately for next Thursday, in Texas in America, for the execution of a young 34 year-old man who has been sentenced to death. We shall call him Mr Hicks.\",\n",
              " 'At the request of a French Member, Mr Zimeray, a petition has already been presented, which many people signed, including myself. However, I would ask you, in accordance with the line which is now constantly followed by the European Parliament and by the whole of the European Community, to make representations, using the weight of your prestigious office and the institution you represent, to the President and to the Governor of Texas, Mr Bush, who has the power to order a stay of execution and to reprieve the condemned person.',\n",
              " 'This is all in accordance with the principles that we have always upheld.']"
            ]
          },
          "metadata": {
            "tags": []
          },
          "execution_count": 7
        }
      ]
    },
    {
      "cell_type": "code",
      "metadata": {
        "colab": {
          "base_uri": "https://localhost:8080/",
          "height": 35
        },
        "id": "URybEsnfWfuF",
        "outputId": "4961009a-144c-4363-9d4a-461beadcc8f1"
      },
      "source": [
        "corpus_en[0]"
      ],
      "execution_count": null,
      "outputs": [
        {
          "output_type": "execute_result",
          "data": {
            "application/vnd.google.colaboratory.intrinsic+json": {
              "type": "string"
            },
            "text/plain": [
              "'Resumption of the session'"
            ]
          },
          "metadata": {
            "tags": []
          },
          "execution_count": 10
        }
      ]
    },
    {
      "cell_type": "markdown",
      "metadata": {
        "id": "JDD33woF3Xs_"
      },
      "source": [
        "**Tokenizer will encode each word in sentence with its unique integer value and build a vocab for us. It will also make all sentences to lower case, add spaces before ' . ' and ' , '**. Encoding is fully invertible because all out-of-vocab wordpieces are byte-encoded. Which means unknown word pieces will be encoded one character at a time.\n",
        "8192 + 26(all english alphabets) + 2(start, end tokens) = 8221"
      ]
    },
    {
      "cell_type": "code",
      "metadata": {
        "id": "Wl0XtAfqnMfR"
      },
      "source": [
        "tokenizer_en = tfds.deprecated.text.SubwordTextEncoder.build_from_corpus(corpus_en, target_vocab_size=2**13)"
      ],
      "execution_count": null,
      "outputs": []
    },
    {
      "cell_type": "code",
      "metadata": {
        "id": "H0ZkN2gV4UBr"
      },
      "source": [
        "tokenizer_sv = tfds.deprecated.text.SubwordTextEncoder.build_from_corpus(corpus_sv, target_vocab_size=2**13)"
      ],
      "execution_count": null,
      "outputs": []
    },
    {
      "cell_type": "code",
      "metadata": {
        "colab": {
          "base_uri": "https://localhost:8080/"
        },
        "id": "qAsKXHlcnu4K",
        "outputId": "91c80ce5-f278-4efa-b1f0-cb3a14a6b22d"
      },
      "source": [
        "VOCAB_SIZE_EN = tokenizer_en.vocab_size + 2 \n",
        "VOCAB_SIZE_EN"
      ],
      "execution_count": null,
      "outputs": [
        {
          "output_type": "execute_result",
          "data": {
            "text/plain": [
              "8221"
            ]
          },
          "metadata": {
            "tags": []
          },
          "execution_count": 9
        }
      ]
    },
    {
      "cell_type": "code",
      "metadata": {
        "id": "9uVPeUqDq5mm",
        "colab": {
          "base_uri": "https://localhost:8080/"
        },
        "outputId": "d349c7fe-bf2c-473f-87bc-eb356dbe55fc"
      },
      "source": [
        "tokenizer_sv.subwords"
      ],
      "execution_count": null,
      "outputs": [
        {
          "output_type": "execute_result",
          "data": {
            "text/plain": [
              "['att_',\n",
              " ', ',\n",
              " 'och_',\n",
              " 'i_',\n",
              " 'som_',\n",
              " 'för_',\n",
              " 'en_',\n",
              " 'av_',\n",
              " 'det_',\n",
              " 'är_',\n",
              " 'de_',\n",
              " 'till_',\n",
              " 'om_',\n",
              " 'har_',\n",
              " 'på_',\n",
              " 'den_',\n",
              " 'med_',\n",
              " 'inte_',\n",
              " 'vi_',\n",
              " 's_',\n",
              " 'ett_',\n",
              " 't_',\n",
              " 'a_',\n",
              " 'Jag_',\n",
              " 'jag_',\n",
              " 'Det_',\n",
              " 'kommer_',\n",
              " 'kan_',\n",
              " 'måste_',\n",
              " 'detta_',\n",
              " 'r_',\n",
              " 'er_',\n",
              " 'från_',\n",
              " 'Vi_',\n",
              " 'n_',\n",
              " 'vill_',\n",
              " 'skulle_',\n",
              " 'också_',\n",
              " 'så_',\n",
              " 'na_',\n",
              " 'denna_',\n",
              " 'man_',\n",
              " 'EU',\n",
              " 'en',\n",
              " 'mycket_',\n",
              " ' - ',\n",
              " '. ',\n",
              " 'alla_',\n",
              " '! ',\n",
              " 'sig_',\n",
              " 'men_',\n",
              " 'när_',\n",
              " 'Europeiska_',\n",
              " 'vara_',\n",
              " 'eller_',\n",
              " 'talman',\n",
              " 'gäller_',\n",
              " 'Herr_',\n",
              " 'dessa_',\n",
              " 'andra_',\n",
              " 'kommissionen_',\n",
              " ') ',\n",
              " 'även_',\n",
              " 'mot_',\n",
              " 'I_',\n",
              " 'ska_',\n",
              " 'inom_',\n",
              " 'oss_',\n",
              " 'skall_',\n",
              " 'e_',\n",
              " 'finns_',\n",
              " 'utan_',\n",
              " 'under_',\n",
              " 'bara_',\n",
              " 'här_',\n",
              " 'et_',\n",
              " 'bör_',\n",
              " 'er',\n",
              " 'göra_',\n",
              " 'genom_',\n",
              " 'ta_',\n",
              " 'EU_',\n",
              " 'mer_',\n",
              " 'mellan_',\n",
              " 'var_',\n",
              " ': ',\n",
              " 'eftersom_',\n",
              " 'anser_',\n",
              " 'na',\n",
              " 'Detta_',\n",
              " 'nu_',\n",
              " 'kunna_',\n",
              " 'än_',\n",
              " 'vid_',\n",
              " 'nde_',\n",
              " 'vilket_',\n",
              " 'europeiska_',\n",
              " 'därför_',\n",
              " 'få_',\n",
              " 'där_',\n",
              " 'ni_',\n",
              " 'över_',\n",
              " 'ar_',\n",
              " 'ha_',\n",
              " 'fram_',\n",
              " 'Den_',\n",
              " 'allt_',\n",
              " 'våra_',\n",
              " 'nya_',\n",
              " 'För_',\n",
              " 'vad_',\n",
              " 'upp_',\n",
              " 'se_',\n",
              " 'fråga_',\n",
              " 'får_',\n",
              " '- ',\n",
              " 'vår_',\n",
              " 'mig_',\n",
              " 'många_',\n",
              " 'sin_',\n",
              " 'åtgärder_',\n",
              " 'De_',\n",
              " 'rådet_',\n",
              " 'hur_',\n",
              " 'särskilt_',\n",
              " 'första_',\n",
              " 'förslag_',\n",
              " 'parlamentet_',\n",
              " 'ts_',\n",
              " 'as_',\n",
              " ' (',\n",
              " 'd_',\n",
              " 'sina_',\n",
              " 'sätt_',\n",
              " 'något_',\n",
              " 'dem_',\n",
              " 'unionen_',\n",
              " 'redan_',\n",
              " 'år_',\n",
              " 'efter_',\n",
              " 'vilja_',\n",
              " 'ekonomiska_',\n",
              " 'säga_',\n",
              " 'viktigt_',\n",
              " 'et',\n",
              " 'politiska_',\n",
              " 'några_',\n",
              " 'helt_',\n",
              " 'ge_',\n",
              " 'min_',\n",
              " 'kommissionens_',\n",
              " 'Men_',\n",
              " 'deras_',\n",
              " 'frågor_',\n",
              " 'gemensamma_',\n",
              " 'två_',\n",
              " 'bli_',\n",
              " 'olika_',\n",
              " 'vissa_',\n",
              " 'stöd_',\n",
              " 'länder_',\n",
              " 'Om_',\n",
              " 'del_',\n",
              " 'gör_',\n",
              " 'dag_',\n",
              " 'ning_',\n",
              " 'ande_',\n",
              " 'Europa_',\n",
              " 'det',\n",
              " 'frågan_',\n",
              " 'hela_',\n",
              " 'herr_',\n",
              " 'behöver_',\n",
              " 'mänskliga_',\n",
              " 'sitt_',\n",
              " 'medlemsstaterna_',\n",
              " 'någon_',\n",
              " 'betänkande_',\n",
              " 'När_',\n",
              " 'ordförande',\n",
              " 'utskottet_',\n",
              " 'ens_',\n",
              " 'dess_',\n",
              " 'verkligen_',\n",
              " 'dock_',\n",
              " 'rätt_',\n",
              " 'då_',\n",
              " 'Därför_',\n",
              " 'han_',\n",
              " 'tror_',\n",
              " 'stora_',\n",
              " 'mina_',\n",
              " 'hade_',\n",
              " ' – ',\n",
              " 'in_',\n",
              " 'samma_',\n",
              " 'vårt_',\n",
              " 'detta',\n",
              " 'hoppas_',\n",
              " 'fortfarande_',\n",
              " 'ändringsförslag_',\n",
              " 'blir_',\n",
              " 'sedan_',\n",
              " 'ar',\n",
              " 'Europa',\n",
              " 'Fru_',\n",
              " 'betänkandet_',\n",
              " 'stor_',\n",
              " 'rättigheter_',\n",
              " 'vet_',\n",
              " 'nationella_',\n",
              " 'grund_',\n",
              " 'varit_',\n",
              " 'ger_',\n",
              " 'framför_',\n",
              " 'Europaparlamentet_',\n",
              " 'ut_',\n",
              " 'unionens_',\n",
              " 'möjligt_',\n",
              " 'des_',\n",
              " 'sociala_',\n",
              " 'går_',\n",
              " 'ser_',\n",
              " 'problem_',\n",
              " 'En_',\n",
              " 'står_',\n",
              " 'grundläggande_',\n",
              " 'rådets_',\n",
              " 'ingen_',\n",
              " 'innebär_',\n",
              " 'handlar_',\n",
              " 'enligt_',\n",
              " 'arbete_',\n",
              " 'rna_',\n",
              " 'erna_',\n",
              " 'procent_',\n",
              " 'ännu_',\n",
              " 'gå_',\n",
              " 'samt_',\n",
              " 'politik_',\n",
              " 'om',\n",
              " 'exempel_',\n",
              " 'skapa_',\n",
              " 'vilka_',\n",
              " 'människor_',\n",
              " 'borde_',\n",
              " 'Som_',\n",
              " ' ”',\n",
              " 'större_',\n",
              " 'tar_',\n",
              " 'ing_',\n",
              " 'bättre_',\n",
              " 'inför_',\n",
              " 'år',\n",
              " 'tacka_',\n",
              " 'unionen',\n",
              " 'beslut_',\n",
              " 'både_',\n",
              " 'komma_',\n",
              " 'internationella_',\n",
              " 'fall_',\n",
              " 'sätt',\n",
              " 'Kommissionen_',\n",
              " 'bra_',\n",
              " '. - (',\n",
              " 'viktiga_',\n",
              " 'da_',\n",
              " 'liga_',\n",
              " 'just_',\n",
              " 'varje_',\n",
              " 'annat_',\n",
              " 'stödja_',\n",
              " 'ndet_',\n",
              " 'kommissionen',\n",
              " 'senaste_',\n",
              " 'betänkande',\n",
              " 'stöder_',\n",
              " 'ts',\n",
              " 're_',\n",
              " 'herrar',\n",
              " 'medlemsstater_',\n",
              " 'mitt_',\n",
              " 'naturligtvis_',\n",
              " 'ytterligare_',\n",
              " 'nde',\n",
              " 'tid_',\n",
              " 'åt_',\n",
              " 'land_',\n",
              " 'emellertid_',\n",
              " 'samarbete_',\n",
              " 'iska_',\n",
              " 'utveckling_',\n",
              " 'håller_',\n",
              " 'damer_',\n",
              " 'het_',\n",
              " 'viktig_',\n",
              " 'förslaget_',\n",
              " 'punkt_',\n",
              " 'fråga',\n",
              " 'tre_',\n",
              " 're',\n",
              " 'företag_',\n",
              " 'gjort_',\n",
              " 'nas_',\n",
              " 'EN',\n",
              " 'är',\n",
              " 'roll_',\n",
              " 'gång_',\n",
              " '\\xa0\\xa0 – ',\n",
              " 'as',\n",
              " 'mål_',\n",
              " 'fortsätta_',\n",
              " 'ning',\n",
              " 'an_',\n",
              " 'själva_',\n",
              " 'ade_',\n",
              " 'parlamentets_',\n",
              " 'situationen_',\n",
              " 'europeisk_',\n",
              " 'it_',\n",
              " 'de',\n",
              " 'miljoner_',\n",
              " 'endast_',\n",
              " 'till',\n",
              " 'inre_',\n",
              " 'kanske_',\n",
              " 'dag',\n",
              " 'frågor',\n",
              " 'artikel_',\n",
              " 'avtal_',\n",
              " 'lägga_',\n",
              " 'flera_',\n",
              " 'faktiskt_',\n",
              " 'rättsliga_',\n",
              " 'vilken_',\n",
              " '\\xa0',\n",
              " 'bland_',\n",
              " 'ligt_',\n",
              " 'tydligt_',\n",
              " 'visar_',\n",
              " 'hänsyn_',\n",
              " 'samtidigt_',\n",
              " 'o_',\n",
              " 'nämligen_',\n",
              " 'alltid_',\n",
              " 'hans_',\n",
              " 'Låt_',\n",
              " 'Förenta_',\n",
              " 'mindre_',\n",
              " 'rättigheter',\n",
              " 'arna_',\n",
              " 'å_',\n",
              " 'enda_',\n",
              " 'tidigare_',\n",
              " 'antal_',\n",
              " 'system_',\n",
              " 'an',\n",
              " 'nuvarande_',\n",
              " 'möjlighet_',\n",
              " 'medborgare_',\n",
              " 'ligger_',\n",
              " 'marknaden_',\n",
              " 'ns_',\n",
              " 'nödvändigt_',\n",
              " 'områden_',\n",
              " 'ny_',\n",
              " 'dem',\n",
              " 'området_',\n",
              " 'förbättra_',\n",
              " 'het',\n",
              " 'Vad_',\n",
              " 'emot_',\n",
              " 'länderna_',\n",
              " 'miljö',\n",
              " 'ramen_',\n",
              " 'främja_',\n",
              " 'direktiv_',\n",
              " 'röstade_',\n",
              " 'hos_',\n",
              " 'ra_',\n",
              " 'Denna_',\n",
              " 'för',\n",
              " 'Med_',\n",
              " 'era_',\n",
              " 'tredje_',\n",
              " 'gemensam_',\n",
              " 'den',\n",
              " 'rådet',\n",
              " 'ekonomisk_',\n",
              " 'utgör_',\n",
              " 'stort_',\n",
              " 'små_',\n",
              " 'förslag',\n",
              " 'lika_',\n",
              " 'öka_',\n",
              " 'väl_',\n",
              " 'tanke_',\n",
              " 'På_',\n",
              " 'information_',\n",
              " 'energi',\n",
              " 'medel_',\n",
              " 'Att_',\n",
              " 'på',\n",
              " 'välkomnar_',\n",
              " 'längre_',\n",
              " 'stöd',\n",
              " 'al',\n",
              " 'genomföra_',\n",
              " 'g_',\n",
              " 'kvinnor_',\n",
              " 'sidan_',\n",
              " 'tillsammans_',\n",
              " 'Man_',\n",
              " 'länder',\n",
              " 'tycker_',\n",
              " 'Ett_',\n",
              " 'här',\n",
              " 'are_',\n",
              " 'l_',\n",
              " 'trots_',\n",
              " 'samband_',\n",
              " 'or',\n",
              " 'använda_',\n",
              " 'vi',\n",
              " 'direktivet_',\n",
              " 'säger_',\n",
              " 'at_',\n",
              " 'land',\n",
              " 'ningen_',\n",
              " 'ofta_',\n",
              " 'mest_',\n",
              " 'parlamentet',\n",
              " 'debatt_',\n",
              " 'alltså_',\n",
              " 'medlemsstaterna',\n",
              " 'lig_',\n",
              " 'garantera_',\n",
              " 'föredraganden_',\n",
              " 'fått_',\n",
              " '; ',\n",
              " 'talar_',\n",
              " 'närvarande_',\n",
              " 'tt_',\n",
              " 'personer_',\n",
              " 'kräver_',\n",
              " 'skriftlig',\n",
              " 'ka_',\n",
              " 'grupp_',\n",
              " 'politisk_',\n",
              " 'nivå',\n",
              " 'Även_',\n",
              " 'Europaparlamentets_',\n",
              " '” ',\n",
              " 'Dessa_',\n",
              " 'program_',\n",
              " 'uppnå_',\n",
              " 'klart_',\n",
              " 'åtgärder',\n",
              " 'ande',\n",
              " 'annan_',\n",
              " 'minska_',\n",
              " 'nivå_',\n",
              " 'största_',\n",
              " 'krävs_',\n",
              " 'debatten_',\n",
              " 'val',\n",
              " 'k_',\n",
              " 'område_',\n",
              " 'es_',\n",
              " '1_',\n",
              " 'stället_',\n",
              " 'sådana_',\n",
              " 'or_',\n",
              " 'rör_',\n",
              " 'kommissionär',\n",
              " 'rösta_',\n",
              " 'utvecklingen_',\n",
              " 'delar_',\n",
              " 'bidra_',\n",
              " 'm_',\n",
              " 'tala_',\n",
              " 'med',\n",
              " 'kunde_',\n",
              " 'gruppen_',\n",
              " 'ni',\n",
              " 'Ni_',\n",
              " 'ansvar_',\n",
              " 'tas_',\n",
              " 'offentliga_',\n",
              " 'betänkandet',\n",
              " 'egna_',\n",
              " 'synnerhet_',\n",
              " 'DE',\n",
              " 'ningar_',\n",
              " 'oss',\n",
              " 'steg_',\n",
              " 'framsteg_',\n",
              " 'ur_',\n",
              " 'rättigheterna_',\n",
              " 'sådan_',\n",
              " 'hjälpa_',\n",
              " 'problem',\n",
              " 'rum_',\n",
              " 'allmänna_',\n",
              " 'ordförandeskapet_',\n",
              " 'initiativ_',\n",
              " 'skydda_',\n",
              " 'först_',\n",
              " 'behovet_',\n",
              " 'finansiella_',\n",
              " 'ri',\n",
              " 'arbete',\n",
              " 'av',\n",
              " 'nings',\n",
              " 'budget',\n",
              " 'området',\n",
              " 'strategi_',\n",
              " 'utveckling',\n",
              " 'fru_',\n",
              " 'medlemsstaternas_',\n",
              " 'hjälp_',\n",
              " 'tillgång_',\n",
              " 'nå_',\n",
              " 'leda_',\n",
              " 'heller_',\n",
              " 'kommissionsledamot',\n",
              " 'ord_',\n",
              " 'mål',\n",
              " 'st_',\n",
              " 'iga_',\n",
              " 'ordförande_',\n",
              " 'upp',\n",
              " 'känner_',\n",
              " 'visa_',\n",
              " 'dessutom_',\n",
              " 'ut',\n",
              " 'medlemsstater',\n",
              " 'ing',\n",
              " 'lösa_',\n",
              " 'krav_',\n",
              " 'hålla_',\n",
              " 'st',\n",
              " 'ert_',\n",
              " 'medborgarna_',\n",
              " 'börja_',\n",
              " 'ns',\n",
              " 'skydd_',\n",
              " 'säkerhet_',\n",
              " 'nästa_',\n",
              " 'politik',\n",
              " 'båda_',\n",
              " 'bästa_',\n",
              " 'avgörande_',\n",
              " 'arbeta_',\n",
              " 'viktigaste_',\n",
              " 'nu',\n",
              " 'tt',\n",
              " 'lagstiftning_',\n",
              " 'liksom_',\n",
              " 'kl',\n",
              " 'ra',\n",
              " 'social_',\n",
              " 'euro_',\n",
              " 'Under_',\n",
              " 'möjligheter_',\n",
              " 'ledamöter_',\n",
              " 'Och_',\n",
              " 'nytt_',\n",
              " 'Dessutom_',\n",
              " 'ändå_',\n",
              " 'all_',\n",
              " 'svar_',\n",
              " 'att',\n",
              " 'regeringen_',\n",
              " 'fiske',\n",
              " 'enlighet_',\n",
              " 'fler_',\n",
              " 'ma_',\n",
              " 'es',\n",
              " 'ro',\n",
              " 'avtalet_',\n",
              " 'införa_',\n",
              " 'ju_',\n",
              " 'bekämpa_',\n",
              " '5_',\n",
              " 'hög_',\n",
              " 'omfattande_',\n",
              " 'lagt_',\n",
              " 'världen',\n",
              " 'marknaden',\n",
              " 'uppmanar_',\n",
              " 'am',\n",
              " 'Europas_',\n",
              " 'tjänster_',\n",
              " 'kommande_',\n",
              " 'ber',\n",
              " 'on_',\n",
              " 'sk_',\n",
              " 'arbets',\n",
              " 'världen_',\n",
              " 'före_',\n",
              " 'politiken_',\n",
              " 'innan_',\n",
              " 'sagt_',\n",
              " 'demokratiska_',\n",
              " 'gemenskapens_',\n",
              " 'lag',\n",
              " 'företag',\n",
              " 'framtida_',\n",
              " 'ng',\n",
              " 'faktum_',\n",
              " 'dra_',\n",
              " 'lo',\n",
              " 'situation_',\n",
              " 'systemet_',\n",
              " 'frågan',\n",
              " 'sett_',\n",
              " 'säkerhets',\n",
              " 'tagit_',\n",
              " 'landet_',\n",
              " 'gen',\n",
              " 'snabbt_',\n",
              " 'konkurrens',\n",
              " 'te_',\n",
              " 'område',\n",
              " 'egen_',\n",
              " 'staterna_',\n",
              " 'lösning_',\n",
              " 'förra_',\n",
              " 'Enligt_',\n",
              " 'inte',\n",
              " 'icke',\n",
              " 'el',\n",
              " 'regler_',\n",
              " 'resolution_',\n",
              " 'instrument_',\n",
              " 'FN',\n",
              " 'väl',\n",
              " 'medelstora_',\n",
              " 'tiden_',\n",
              " 'ja',\n",
              " 'le',\n",
              " 'under',\n",
              " 'försöka_',\n",
              " 'fram',\n",
              " 'do',\n",
              " 'slut',\n",
              " 'bestämmelser_',\n",
              " 'projekt_',\n",
              " 'gräns',\n",
              " 'främst_',\n",
              " 'erna',\n",
              " 'ram',\n",
              " 'ga_',\n",
              " 'resultat_',\n",
              " 'andra',\n",
              " 'sade_',\n",
              " 'rna',\n",
              " 'blivit_',\n",
              " 'klar',\n",
              " 'kolleger_',\n",
              " 'behov_',\n",
              " '2_',\n",
              " 'ed',\n",
              " 'syfte_',\n",
              " 'ad_',\n",
              " 'verkar_',\n",
              " 'effektivt_',\n",
              " 'form_',\n",
              " 'tillbaka_',\n",
              " 'stärka_',\n",
              " 'uppgifter_',\n",
              " 'bet',\n",
              " 'produkter_',\n",
              " 'vidta_',\n",
              " 'innehåller_',\n",
              " 'li',\n",
              " '000_',\n",
              " 'leder_',\n",
              " 'ha',\n",
              " 'procent',\n",
              " 'll',\n",
              " 'problemet_',\n",
              " 'syftar_',\n",
              " 'framtiden',\n",
              " 'utveckla_',\n",
              " 'go',\n",
              " 'särskilda_',\n",
              " 'områden',\n",
              " 'och',\n",
              " 'gi',\n",
              " 'tillräckligt_',\n",
              " 'sig',\n",
              " 'ag',\n",
              " 'da',\n",
              " 'itu_',\n",
              " 'gruppen',\n",
              " 'forskning_',\n",
              " 'alltför_',\n",
              " 'in',\n",
              " 'alla',\n",
              " 'ståndpunkt_',\n",
              " 'minst_',\n",
              " 'nödvändiga_',\n",
              " 'ligen_',\n",
              " '\" ',\n",
              " 'visat_',\n",
              " 'försöker_',\n",
              " 'genomförandet_',\n",
              " 'hälso',\n",
              " 'gjorde_',\n",
              " 'la_',\n",
              " 'grund',\n",
              " 'finnas_',\n",
              " 'man',\n",
              " 'ter',\n",
              " 'direkt_',\n",
              " 'on',\n",
              " 'kampen_',\n",
              " 'såsom_',\n",
              " 'Till_',\n",
              " 'enbart_',\n",
              " 'fortsätter_',\n",
              " 'sådant_',\n",
              " 'inget_',\n",
              " 'fullt_',\n",
              " 'tid',\n",
              " 'ta',\n",
              " 'ter_',\n",
              " 'vare_',\n",
              " 'Europaparlamentet',\n",
              " 'tänker_',\n",
              " '3_',\n",
              " 'folk',\n",
              " 'villkor_',\n",
              " 'har',\n",
              " 'långt_',\n",
              " 'möjligt',\n",
              " 'ber_',\n",
              " 'aldrig_',\n",
              " 'hon_',\n",
              " 'framtiden_',\n",
              " 'anta_',\n",
              " 'bidrag_',\n",
              " 'fick_',\n",
              " 'fullständigt_',\n",
              " 'fe',\n",
              " '0_',\n",
              " 'gratulera_',\n",
              " 'betydelse_',\n",
              " 'Hur_',\n",
              " 'pe',\n",
              " 'rad_',\n",
              " 'myndigheterna_',\n",
              " 'absolut_',\n",
              " 'vidare_',\n",
              " 'där',\n",
              " 'snart_',\n",
              " 'över',\n",
              " 'kolleger',\n",
              " 'saker_',\n",
              " 'avtal',\n",
              " 'ena_',\n",
              " 'nyligen_',\n",
              " 'skäl_',\n",
              " 'enkelt_',\n",
              " 'därmed_',\n",
              " 'sista_',\n",
              " 'barn_',\n",
              " 'fast_',\n",
              " 'miss',\n",
              " 'EG',\n",
              " 'Nu_',\n",
              " 'haft_',\n",
              " 'barn',\n",
              " 'föra_',\n",
              " 'rätt',\n",
              " 'resurser_',\n",
              " 'ad',\n",
              " 'goda_',\n",
              " 'v_',\n",
              " 'föreslår_',\n",
              " 'politiskt_',\n",
              " 'utanför_',\n",
              " 'la',\n",
              " 'rätta_',\n",
              " 'inga_',\n",
              " 'världs',\n",
              " 'y_',\n",
              " 'varför_',\n",
              " 'viss_',\n",
              " 'behövs_',\n",
              " 'internationell_',\n",
              " 'betona_',\n",
              " 'som',\n",
              " 'di',\n",
              " 'vore_',\n",
              " 'åtminstone_',\n",
              " 'ord',\n",
              " 'ot',\n",
              " 'kort_',\n",
              " 'andet_',\n",
              " 'lång_',\n",
              " 'mi',\n",
              " 'um',\n",
              " 'hand_',\n",
              " 'hållbar_',\n",
              " 'Så_',\n",
              " 'tra',\n",
              " 'ul',\n",
              " 'ud',\n",
              " 'länge_',\n",
              " 'flyg',\n",
              " 'nära_',\n",
              " 'ko',\n",
              " 'Samtidigt_',\n",
              " 'vis_',\n",
              " 'Ryssland_',\n",
              " 'fördraget_',\n",
              " 'arbetet_',\n",
              " 'ten_',\n",
              " '4_',\n",
              " 'ma',\n",
              " 'euro',\n",
              " 'transport',\n",
              " 'ekonomiskt_',\n",
              " 'svårt_',\n",
              " 'grad_',\n",
              " '00',\n",
              " 'väg_',\n",
              " 'följd_',\n",
              " 'kommit_',\n",
              " 'pengar_',\n",
              " 'göra',\n",
              " 'at',\n",
              " 'arbetar_',\n",
              " 'högre_',\n",
              " 'fallet_',\n",
              " 'tex',\n",
              " 'medborgare',\n",
              " 'tekniska_',\n",
              " 'intresse_',\n",
              " 'Eftersom_',\n",
              " 'ställa_',\n",
              " 'rättigheterna',\n",
              " 'kollega_',\n",
              " 'stor',\n",
              " 'avslutad',\n",
              " 'vatten',\n",
              " 'sam',\n",
              " 'verksamhet_',\n",
              " 'programmet_',\n",
              " 'diskutera_',\n",
              " 'mig',\n",
              " 'fria_',\n",
              " 'Turkiet_',\n",
              " 'rätten_',\n",
              " 'Tack_',\n",
              " 'För',\n",
              " 'så',\n",
              " 'överens_',\n",
              " 'are',\n",
              " '\\xa0\\xa0 . – ',\n",
              " 'kammaren_',\n",
              " 'va_',\n",
              " 'såväl_',\n",
              " 'principen_',\n",
              " 'it',\n",
              " 'bort_',\n",
              " 'Le',\n",
              " 'vin',\n",
              " 'språk',\n",
              " 'ton',\n",
              " 'låta_',\n",
              " 'kontroll',\n",
              " 'svar',\n",
              " 'vars_',\n",
              " 'insatser_',\n",
              " 'precis_',\n",
              " 'handel_',\n",
              " 'globala_',\n",
              " 'regionala_',\n",
              " 'ki',\n",
              " 'Slutligen_',\n",
              " 'fall',\n",
              " 'pp',\n",
              " 'sta',\n",
              " 'é',\n",
              " 'mo',\n",
              " 'be_',\n",
              " 'förhandlingarna_',\n",
              " 'sak',\n",
              " 'undvika_',\n",
              " 'ck',\n",
              " 'samarbetet_',\n",
              " 'handels',\n",
              " 'Nästa_',\n",
              " 'beslut',\n",
              " 'intresse',\n",
              " 'enskilda_',\n",
              " 'system',\n",
              " 'antalet_',\n",
              " 'kontroll_',\n",
              " 'tyvärr_',\n",
              " 'ng_',\n",
              " 'Ma',\n",
              " 'dagens_',\n",
              " '”.',\n",
              " 'is',\n",
              " 'processen_',\n",
              " 'Genom_',\n",
              " 'början_',\n",
              " 'nästan_',\n",
              " 'följa_',\n",
              " 'utbildning_',\n",
              " 'ske_',\n",
              " 'åter',\n",
              " 'avseende_',\n",
              " 'bi',\n",
              " 'beroende_',\n",
              " 'själv_',\n",
              " 'sför',\n",
              " 'ol',\n",
              " 'ör',\n",
              " 'intressen',\n",
              " 'oberoende_',\n",
              " 'Trots_',\n",
              " 'ings',\n",
              " 'Parlamentet_',\n",
              " 'stats',\n",
              " 'tids',\n",
              " 'slutet_',\n",
              " 'fem_',\n",
              " 'nationell_',\n",
              " 'krisen_',\n",
              " 'ir',\n",
              " 'su',\n",
              " 'kommissionsledamoten',\n",
              " 'tro',\n",
              " 'sker_',\n",
              " 'heten_',\n",
              " 'efter',\n",
              " '2000',\n",
              " 'gemensamt_',\n",
              " 'Ka',\n",
              " 'el_',\n",
              " 'konkreta_',\n",
              " 'Alla_',\n",
              " 'betydande_',\n",
              " 'Vi',\n",
              " 'allvarliga_',\n",
              " 'äga_',\n",
              " 'z_',\n",
              " 'förhindra_',\n",
              " 'ned',\n",
              " 'ka',\n",
              " 'exempelvis_',\n",
              " '6_',\n",
              " 'fri',\n",
              " 'ur',\n",
              " 'bygga_',\n",
              " 'fyra_',\n",
              " 'Ta',\n",
              " 'positiva_',\n",
              " 'jordbruks',\n",
              " 'kunnat_',\n",
              " 'to',\n",
              " 'sätta_',\n",
              " 'budget_',\n",
              " 'rar_',\n",
              " 'program',\n",
              " 'tre',\n",
              " 'dvs',\n",
              " 'europeiskt_',\n",
              " 'gemenskaps',\n",
              " 'själv',\n",
              " 'bakom_',\n",
              " 'ci',\n",
              " 'ver',\n",
              " 'du',\n",
              " 'sektorn_',\n",
              " 'tack_',\n",
              " 'menar_',\n",
              " 'demokrati',\n",
              " 'ål',\n",
              " 'medan_',\n",
              " 'var',\n",
              " 'dialog_',\n",
              " 'snarare_',\n",
              " 'helst_',\n",
              " 'åt',\n",
              " 'lokala_',\n",
              " 'hjälp',\n",
              " 'berörda_',\n",
              " 'Sa',\n",
              " 'kon',\n",
              " ' \" ',\n",
              " 'bil',\n",
              " 'Min_',\n",
              " 'eri',\n",
              " ...]"
            ]
          },
          "metadata": {
            "tags": []
          },
          "execution_count": 15
        }
      ]
    },
    {
      "cell_type": "code",
      "metadata": {
        "colab": {
          "base_uri": "https://localhost:8080/"
        },
        "id": "tlWiT8KlcB3r",
        "outputId": "e9c84208-a6cf-4722-a807-981adaf46c9b"
      },
      "source": [
        "VOCAB_SIZE_SV = tokenizer_sv.vocab_size + 2\n",
        "VOCAB_SIZE_SV"
      ],
      "execution_count": null,
      "outputs": [
        {
          "output_type": "execute_result",
          "data": {
            "text/plain": [
              "8234"
            ]
          },
          "metadata": {
            "tags": []
          },
          "execution_count": 10
        }
      ]
    },
    {
      "cell_type": "markdown",
      "metadata": {
        "id": "8DHC0Cz_qmdy"
      },
      "source": [
        "**Pad the 'start' and 'end' token to all sentences in the corpus**"
      ]
    },
    {
      "cell_type": "code",
      "metadata": {
        "id": "sro1ih4ZuBh-"
      },
      "source": [
        "inputs = [[VOCAB_SIZE_EN-2] + tokenizer_en.encode(sentence) + [VOCAB_SIZE_EN-1] for sentence in corpus_en]"
      ],
      "execution_count": null,
      "outputs": []
    },
    {
      "cell_type": "code",
      "metadata": {
        "id": "qq8lN013cVKC"
      },
      "source": [
        "outputs = [[VOCAB_SIZE_SV-2] + tokenizer_sv.encode(sentence) + [VOCAB_SIZE_SV-1] for sentence in corpus_sv]"
      ],
      "execution_count": null,
      "outputs": []
    },
    {
      "cell_type": "code",
      "metadata": {
        "colab": {
          "base_uri": "https://localhost:8080/"
        },
        "id": "5GCBnbnGvJF0",
        "outputId": "e850ab54-b4cb-4f81-ad34-af73327f3b7b"
      },
      "source": [
        "inputs[0]"
      ],
      "execution_count": null,
      "outputs": [
        {
          "output_type": "execute_result",
          "data": {
            "text/plain": [
              "[8219, 2561, 1009, 2044, 3, 1, 2573, 8220]"
            ]
          },
          "metadata": {
            "tags": []
          },
          "execution_count": 19
        }
      ]
    },
    {
      "cell_type": "code",
      "metadata": {
        "colab": {
          "base_uri": "https://localhost:8080/",
          "height": 35
        },
        "id": "QhSZMz_EvS6Z",
        "outputId": "632751ce-43e8-4534-b2ff-ac1337b51791"
      },
      "source": [
        "corpus_en[0]"
      ],
      "execution_count": null,
      "outputs": [
        {
          "output_type": "execute_result",
          "data": {
            "application/vnd.google.colaboratory.intrinsic+json": {
              "type": "string"
            },
            "text/plain": [
              "'Resumption of the session'"
            ]
          },
          "metadata": {
            "tags": []
          },
          "execution_count": 20
        }
      ]
    },
    {
      "cell_type": "code",
      "metadata": {
        "colab": {
          "base_uri": "https://localhost:8080/"
        },
        "id": "9DsMEoZacn4g",
        "outputId": "26633d78-d9f5-4be5-8412-d0f31ef7c5b4"
      },
      "source": [
        "outputs[0]"
      ],
      "execution_count": null,
      "outputs": [
        {
          "output_type": "execute_result",
          "data": {
            "text/plain": [
              "[8232, 3338, 78, 7341, 5898, 8, 5836, 44, 8233]"
            ]
          },
          "metadata": {
            "tags": []
          },
          "execution_count": 21
        }
      ]
    },
    {
      "cell_type": "markdown",
      "metadata": {
        "id": "WV8tsLw23iz4"
      },
      "source": [
        "**Get sentences having Max length of 20**"
      ]
    },
    {
      "cell_type": "code",
      "metadata": {
        "id": "PGnqe-Ql6e5N"
      },
      "source": [
        "MAX_LENGTH = 20\n",
        "\n",
        "idx_to_remove = [count for count, sent in enumerate(inputs) if len(sent) > MAX_LENGTH]\n",
        "\n",
        "#delete sentences from inputs(source) that exceed max len of 20, correspondingly also delete sentences in outputs(target).\n",
        "for idx in reversed(idx_to_remove):\n",
        "  del inputs[idx]\n",
        "  del outputs[idx]\n",
        "\n",
        "#we do the same thing for outputs(target) ie: find sent that exceed max len of 20 in target outputs and del from both outputs \n",
        "#and inputs\n",
        "idx_to_remove = [count for count, sent in enumerate(outputs) if len(sent) > MAX_LENGTH]\n",
        "for idx in reversed(idx_to_remove):\n",
        "  del inputs[idx]\n",
        "  del outputs[idx]"
      ],
      "execution_count": null,
      "outputs": []
    },
    {
      "cell_type": "markdown",
      "metadata": {
        "id": "WOftLKzA7Mxi"
      },
      "source": [
        "**Pad value of 0 for sentences less than its max length**"
      ]
    },
    {
      "cell_type": "code",
      "metadata": {
        "id": "qyQuEzzd7h1G"
      },
      "source": [
        "inputs = tf.keras.preprocessing.sequence.pad_sequences(inputs, value=0, padding='post', maxlen=MAX_LENGTH)"
      ],
      "execution_count": null,
      "outputs": []
    },
    {
      "cell_type": "code",
      "metadata": {
        "colab": {
          "base_uri": "https://localhost:8080/"
        },
        "id": "RChAnCJU7sn4",
        "outputId": "0baaae64-930d-4f0b-cceb-213a1bfbf626"
      },
      "source": [
        "inputs.shape"
      ],
      "execution_count": null,
      "outputs": [
        {
          "output_type": "execute_result",
          "data": {
            "text/plain": [
              "(444842, 20)"
            ]
          },
          "metadata": {
            "tags": []
          },
          "execution_count": 17
        }
      ]
    },
    {
      "cell_type": "code",
      "metadata": {
        "id": "mRSGbGfDeMCj"
      },
      "source": [
        "outputs = tf.keras.preprocessing.sequence.pad_sequences(outputs, value=0, padding='post', maxlen=MAX_LENGTH)"
      ],
      "execution_count": null,
      "outputs": []
    },
    {
      "cell_type": "code",
      "metadata": {
        "colab": {
          "base_uri": "https://localhost:8080/"
        },
        "id": "WoKGYd2Aen2Y",
        "outputId": "bd83e86a-0035-4e70-96ca-44bad8fd89f7"
      },
      "source": [
        "outputs.shape"
      ],
      "execution_count": null,
      "outputs": [
        {
          "output_type": "execute_result",
          "data": {
            "text/plain": [
              "(444842, 20)"
            ]
          },
          "metadata": {
            "tags": []
          },
          "execution_count": 18
        }
      ]
    },
    {
      "cell_type": "code",
      "metadata": {
        "colab": {
          "base_uri": "https://localhost:8080/"
        },
        "id": "_h54QSTWNna9",
        "outputId": "2a896546-d13b-49f8-b11e-98398b91265a"
      },
      "source": [
        "valid_src = inputs[-1000:]\n",
        "valid_ref = outputs[-1000:]\n",
        "valid_src.shape, valid_ref.shape"
      ],
      "execution_count": null,
      "outputs": [
        {
          "output_type": "execute_result",
          "data": {
            "text/plain": [
              "((1000, 20), (1000, 20))"
            ]
          },
          "metadata": {
            "tags": []
          },
          "execution_count": 16
        }
      ]
    },
    {
      "cell_type": "code",
      "metadata": {
        "id": "pdZXp64CcgP9"
      },
      "source": [
        ""
      ],
      "execution_count": null,
      "outputs": []
    },
    {
      "cell_type": "code",
      "metadata": {
        "colab": {
          "base_uri": "https://localhost:8080/"
        },
        "id": "GSw6oKpOOAaz",
        "outputId": "ad4f3337-d131-471e-eb81-d26483c39175"
      },
      "source": [
        "inputs = inputs[:-1000]\n",
        "outputs = outputs[:-1000]\n",
        "inputs.shape, outputs.shape"
      ],
      "execution_count": null,
      "outputs": [
        {
          "output_type": "execute_result",
          "data": {
            "text/plain": [
              "((443842, 20), (443842, 20))"
            ]
          },
          "metadata": {
            "tags": []
          },
          "execution_count": 17
        }
      ]
    },
    {
      "cell_type": "markdown",
      "metadata": {
        "id": "KwryDXIn4eVg"
      },
      "source": [
        "**preparing our dataset to be batched**"
      ]
    },
    {
      "cell_type": "code",
      "metadata": {
        "id": "jG1t1E9jeu1R"
      },
      "source": [
        "BATCH_SIZE = 64\n",
        "BUFFER_SIZE = 20000\n",
        "\n",
        "dataset = tf.data.Dataset.from_tensor_slices((inputs, outputs))\n",
        "\n",
        "#to help increase speed during training - store it in cache\n",
        "dataset = dataset.cache()\n",
        "dataset = dataset.shuffle(BUFFER_SIZE).batch(BATCH_SIZE)\n",
        "#to help access to data faster - further improving speed (Note: it has no effect on accuracy)\n",
        "#This transformation basically uses a background thread and an internal buffer to prefetch elements \n",
        "#from the input dataset ahead of the time they are requested.\n",
        "dataset = dataset.prefetch(tf.data.experimental.AUTOTUNE)"
      ],
      "execution_count": null,
      "outputs": []
    },
    {
      "cell_type": "code",
      "metadata": {
        "id": "8YLnyluZsCmt",
        "colab": {
          "base_uri": "https://localhost:8080/"
        },
        "outputId": "7d04f71d-c7f7-4108-f794-5ed5a7ba88e9"
      },
      "source": [
        "next(iter(dataset))"
      ],
      "execution_count": null,
      "outputs": [
        {
          "output_type": "execute_result",
          "data": {
            "text/plain": [
              "(<tf.Tensor: shape=(64, 20), dtype=int32, numpy=\n",
              " array([[8219, 1290,   26, ...,    0,    0,    0],\n",
              "        [8219,   11,   33, ..., 8220,    0,    0],\n",
              "        [8219,  135, 7064, ...,    0,    0,    0],\n",
              "        ...,\n",
              "        [8219,  176,    9, ...,    0,    0,    0],\n",
              "        [8219,   25,  223, ...,    0,    0,    0],\n",
              "        [8219, 3914,  227, ...,    0,    0,    0]], dtype=int32)>,\n",
              " <tf.Tensor: shape=(64, 20), dtype=int32, numpy=\n",
              " array([[8232, 5208,   10, ..., 8022, 8233,    0],\n",
              "        [8232,   24,   37, ...,    0,    0,    0],\n",
              "        [8232,   24, 1985, ...,    0,    0,    0],\n",
              "        ...,\n",
              "        [8232,   26,   71, ..., 8022, 8233,    0],\n",
              "        [8232, 1527,   27, ...,    0,    0,    0],\n",
              "        [8232, 7677, 5185, ...,    0,    0,    0]], dtype=int32)>)"
            ]
          },
          "metadata": {
            "tags": []
          },
          "execution_count": 30
        }
      ]
    },
    {
      "cell_type": "markdown",
      "metadata": {
        "id": "rMV8UXCq40eY"
      },
      "source": [
        "## Positional Encoding"
      ]
    },
    {
      "cell_type": "markdown",
      "metadata": {
        "id": "s2tm6VIx442b"
      },
      "source": [
        "**Embeddings represent a word in a d-dimensional space where tokens with similar meaning will be closer to each other. But the embeddings do not encode the relative position of words in a sentence. So after adding the positional encoding, words will be closer to each other based on the similarity of their meaning and also their position in the sentence. We represent this using the following formula:**<br><br>\n",
        "$$\\Large{PE_{(pos, 2i)} = sin(pos / 10000^{2i / d_{model}})} $$\n",
        "$$\\Large{PE_{(pos, 2i+1)} = cos(pos / 10000^{2i / d_{model}})} $$\n",
        "<br>\n",
        "**For each each dimension of an embedding which is represented as 'i' we will get cosine function w.r.t the position in the sequence.**"
      ]
    },
    {
      "cell_type": "code",
      "metadata": {
        "id": "8PxIclTyBnP4"
      },
      "source": [
        "class PositionalEncoding(layers.Layer):\n",
        "\n",
        "    def __init__(self):\n",
        "        super(PositionalEncoding, self).__init__()\n",
        "    \n",
        "    def get_angles(self, pos, i, d_model):\n",
        "        #pos -> [seqlen, 1] , i -> [1, d_model] , d_model -> embedding dimension size\n",
        "        angles = 1 / np.power(10000., (2*(i//2)) / np.float32(d_model))\n",
        "        return pos * angles\n",
        "\n",
        "    def call(self, inputs):\n",
        "        #get the first dimension of the input tensor (seq length)\n",
        "        seq_length = inputs.shape.as_list()[-2]\n",
        "        #get the second dimension of the input tensor (embedding dim)\n",
        "        d_model = inputs.shape.as_list()[-1]\n",
        "        #send list of positions from 0 to seq length with an additional axis [seq, 1], send list of dimensions [1, dim]\n",
        "        angles = self.get_angles(np.arange(seq_length)[:, np.newaxis], np.arange(d_model)[np.newaxis, :], d_model)\n",
        "        #all angle values 0 to last with a step of 2 (to access even part)\n",
        "        angles[:, 0::2] = np.sin(angles[:, 0::2])\n",
        "        #1:last:2 with step of 2 to access the odd part\n",
        "        angles[:, 1::2] = np.cos(angles[:, 1::2])\n",
        "        # add extra dim [1, seq, d_model] to accomodate batch size [batch, seq, d_model]\n",
        "        pos_encoding = angles[np.newaxis, ...]\n",
        "        #concat (add the embedding input to pos encoding (convert to tensor))\n",
        "        return inputs + tf.cast(pos_encoding, tf.float32)"
      ],
      "execution_count": null,
      "outputs": []
    },
    {
      "cell_type": "markdown",
      "metadata": {
        "id": "I0_2lemX5cUC"
      },
      "source": [
        "## Scaled Dot Product"
      ]
    },
    {
      "cell_type": "markdown",
      "metadata": {
        "id": "gFBC_8nZ5fs_"
      },
      "source": [
        "$$\\Large{Attention(Q, K, V) = softmax_k(\\frac{QK^T}{\\sqrt{d_k}}) V} $$"
      ]
    },
    {
      "cell_type": "code",
      "metadata": {
        "id": "UvT5ErCbp84U"
      },
      "source": [
        "def scaled_dot_product_attention(queries, keys, values, mask):\n",
        "    #Q, K and V  size -> [batch, nb.proj, seq, nb.proj.dim]\n",
        "    #matrix multiply query with the transpose of key matrix => [batch, nb.proj, 20, 20]\n",
        "    product = tf.matmul(queries, keys, transpose_b=True)\n",
        "\n",
        "    #get the keys dimension size and type caste it to float\n",
        "    keys_dim = tf.cast(tf.shape(keys)[-1], tf.float32)\n",
        "\n",
        "    #scale the product by dimension size -> so as to get consistent variance regardless the value of dim\n",
        "    scaled_product = product / tf.math.sqrt(keys_dim)\n",
        "    \n",
        "    #if there is a valid mask!\n",
        "    if mask is not None:\n",
        "        #padded values get multiplied by a very large negative number ~ close to negative infinity\n",
        "        #this makes sure that softmax applied on the padded values go to zeroes. \n",
        "        scaled_product += (mask * -1e9)\n",
        "    \n",
        "    #finally we apply softmax along last dimension such that prob of seq sum up to 1, \n",
        "    #the result is multiplied with values matrix.\n",
        "    attention = tf.matmul(tf.nn.softmax(scaled_product, axis=-1), values)  # [batch, nb.proj, seq, nb.proj.dim]\n",
        "    \n",
        "    return attention, tf.nn.softmax(scaled_product, axis=-1)"
      ],
      "execution_count": null,
      "outputs": []
    },
    {
      "cell_type": "code",
      "metadata": {
        "colab": {
          "base_uri": "https://localhost:8080/"
        },
        "id": "QpPHdDlOkMbe",
        "outputId": "9b56cc45-1f43-46af-b091-e7688d39724a"
      },
      "source": [
        "x = tf.random.uniform((64, 8, 20, 64))\n",
        "product, _ = scaled_dot_product_attention(x, x, x, mask=None)\n",
        "product.shape"
      ],
      "execution_count": null,
      "outputs": [
        {
          "output_type": "execute_result",
          "data": {
            "text/plain": [
              "TensorShape([64, 8, 20, 64])"
            ]
          },
          "metadata": {
            "tags": []
          },
          "execution_count": 33
        }
      ]
    },
    {
      "cell_type": "code",
      "metadata": {
        "id": "kFdy_i_kvXc2",
        "colab": {
          "base_uri": "https://localhost:8080/"
        },
        "outputId": "978957eb-2130-458c-ffa7-def9f1644169"
      },
      "source": [
        "[2, 4, 6, 0, 0 ,0 ] , [0, 0, 0 , 1, 1, 1]"
      ],
      "execution_count": null,
      "outputs": [
        {
          "output_type": "execute_result",
          "data": {
            "text/plain": [
              "([2, 4, 6, 0, 0, 0], [0, 0, 0, 1, 1, 1])"
            ]
          },
          "metadata": {
            "tags": []
          },
          "execution_count": 34
        }
      ]
    },
    {
      "cell_type": "markdown",
      "metadata": {
        "id": "j-HQxbh_52ht"
      },
      "source": [
        "## Multi Head Attention "
      ]
    },
    {
      "cell_type": "markdown",
      "metadata": {
        "id": "uFx-2BJK57jo"
      },
      "source": [
        "<center><img src=\"https://www.tensorflow.org/images/tutorials/transformer/multi_head_attention.png\" width=\"300\" alt=\"multi-head attention\">"
      ]
    },
    {
      "cell_type": "code",
      "metadata": {
        "id": "BsbPguu13Ha2"
      },
      "source": [
        "class MultiHeadAttention(layers.Layer):\n",
        "    \n",
        "    def __init__(self, nb_proj):\n",
        "        #call the base super class\n",
        "        super(MultiHeadAttention, self).__init__()\n",
        "        #initialize the no. of projections\n",
        "        self.nb_proj = nb_proj\n",
        "        \n",
        "    def build(self, input_shape):\n",
        "        #get the dimension (d_model)\n",
        "        self.d_model = input_shape[-1]\n",
        "\n",
        "        #we check if the d_model dimension is divisible by no. of proj\n",
        "        assert self.d_model % self.nb_proj == 0\n",
        "        \n",
        "        #divide and get only the integer part of the fraction\n",
        "        self.d_proj = self.d_model // self.nb_proj\n",
        "        \n",
        "        #define dense layers having d_model as hidden units for Q, K and V\n",
        "        self.query_lin = layers.Dense(units=self.d_model)\n",
        "        self.key_lin = layers.Dense(units=self.d_model)\n",
        "        self.value_lin = layers.Dense(units=self.d_model)\n",
        "        \n",
        "        #Final output linear layer\n",
        "        self.final_lin = layers.Dense(units=self.d_model)\n",
        "        \n",
        "    def split_proj(self, inputs, batch_size): # inputs: (batch_size, seq_length, d_model)\n",
        "        #we define the split shape we want for our output tensor here [Batch, seq, nb_proj, dim_proj]\n",
        "        shape = (batch_size, -1, self.nb_proj, self.d_proj)\n",
        "\n",
        "        #Now we reshape the inputs into the above defined shape\n",
        "        splited_inputs = tf.reshape(inputs, shape=shape) # (batch_size, seq_length, nb_proj, d_proj)\n",
        "\n",
        "        return tf.transpose(splited_inputs, perm=[0, 2, 1, 3]) # (batch_size, nb_proj, seq_length, d_proj)\n",
        "    \n",
        "    def call(self, queries, keys, values, mask):\n",
        "        #get the bactch size\n",
        "        batch_size = tf.shape(queries)[0]\n",
        "        \n",
        "        #apply the layers onto Q, K and V\n",
        "        queries = self.query_lin(queries)\n",
        "        keys = self.key_lin(keys)\n",
        "        values = self.value_lin(values)\n",
        "        \n",
        "        #we get the splitted projections for Q, K and V respectively\n",
        "        queries = self.split_proj(queries, batch_size)\n",
        "        keys = self.split_proj(keys, batch_size)\n",
        "        values = self.split_proj(values, batch_size)\n",
        "        \n",
        "        #get the attention weights\n",
        "        attention, weights = scaled_dot_product_attention(queries, keys, values, mask)\n",
        "        \n",
        "        #permute and get back original tensor shape of [batch, seq, nb.proj, dim_proj]\n",
        "        attention = tf.transpose(attention, perm=[0, 2, 1, 3])\n",
        "        \n",
        "        #merge and reshape back into [Batch, seq, nb.proj * dim_proj] = [Batch, seq, d_model]\n",
        "        concat_attention = tf.reshape(attention, shape=(batch_size, -1, self.d_model))\n",
        " \n",
        "        \n",
        "        outputs = self.final_lin(concat_attention)  #[Batch, Seq, d_model]\n",
        "\n",
        "        return outputs, weights"
      ],
      "execution_count": null,
      "outputs": []
    },
    {
      "cell_type": "code",
      "metadata": {
        "id": "zDVsi1bOGZDu"
      },
      "source": [
        "temp_mha = MultiHeadAttention(8)\n",
        "y = tf.random.uniform((64, 20, 512))  # (batch_size, seq_len, d_model)"
      ],
      "execution_count": null,
      "outputs": []
    },
    {
      "cell_type": "code",
      "metadata": {
        "colab": {
          "base_uri": "https://localhost:8080/"
        },
        "id": "DxrJ5t60G_fj",
        "outputId": "92c8b2ad-b8b1-4e47-d685-cb6e9a12fbc0"
      },
      "source": [
        "out, w = temp_mha(y, y, y, mask=None)\n",
        "out.shape"
      ],
      "execution_count": null,
      "outputs": [
        {
          "output_type": "execute_result",
          "data": {
            "text/plain": [
              "TensorShape([64, 20, 512])"
            ]
          },
          "metadata": {
            "tags": []
          },
          "execution_count": 37
        }
      ]
    },
    {
      "cell_type": "markdown",
      "metadata": {
        "id": "eHBUzvnf-rYA"
      },
      "source": [
        "## Encoder-Decoder Architecture"
      ]
    },
    {
      "cell_type": "markdown",
      "metadata": {
        "id": "DhsWelEY-s4r"
      },
      "source": [
        "<center><img src=\"https://www.tensorflow.org/images/tutorials/transformer/transformer.png\" width=\"400\" alt=\"transformer\">\n",
        "<br><center>Transformer Model"
      ]
    },
    {
      "cell_type": "code",
      "metadata": {
        "id": "0EGqYzIoKUnV"
      },
      "source": [
        "class EncoderLayer(layers.Layer):\n",
        "    \n",
        "    def __init__(self, FFN_units, nb_proj, dropout_rate):\n",
        "        super(EncoderLayer, self).__init__()\n",
        "        self.FFN_units = FFN_units\n",
        "        self.nb_proj = nb_proj\n",
        "        self.dropout_rate = dropout_rate\n",
        "    \n",
        "    def build(self, input_shape):\n",
        "        self.d_model = input_shape[-1]\n",
        "        \n",
        "        #Define MHA for the encoder\n",
        "        self.multi_head_attention = MultiHeadAttention(self.nb_proj)\n",
        "        self.dropout_1 = layers.Dropout(rate=self.dropout_rate)\n",
        "        self.norm_1 = layers.LayerNormalization(epsilon=1e-6)\n",
        "        \n",
        "        #Define the FFN layer!\n",
        "        self.dense_1 = layers.Dense(units=self.FFN_units, activation=\"relu\")\n",
        "        self.dense_2 = layers.Dense(units=self.d_model)\n",
        "        self.dropout_2 = layers.Dropout(rate=self.dropout_rate)\n",
        "        self.norm_2 = layers.LayerNormalization(epsilon=1e-6)\n",
        "        \n",
        "    def call(self, inputs, mask, training):\n",
        "        #call MHA here with the query, key and value == input\n",
        "        attention, _ = self.multi_head_attention(inputs, inputs, inputs, mask)\n",
        "        #apply dropout for regularization\n",
        "        attention = self.dropout_1(attention, training=training)\n",
        "        #perfrom add and normalization\n",
        "        attention = self.norm_1(attention + inputs)\n",
        "        \n",
        "        outputs = self.dense_1(attention)\n",
        "        outputs = self.dense_2(outputs)\n",
        "        outputs = self.dropout_2(outputs, training=training)\n",
        "        outputs = self.norm_2(outputs + attention)\n",
        "        \n",
        "        return outputs # [Batch, Seq, D_model]"
      ],
      "execution_count": null,
      "outputs": []
    },
    {
      "cell_type": "code",
      "metadata": {
        "colab": {
          "base_uri": "https://localhost:8080/"
        },
        "id": "vdQnf8aBBTQG",
        "outputId": "677a2b74-3066-446e-8b3e-5b10aceb991c"
      },
      "source": [
        "EL = EncoderLayer(1024, 8, 0.1)\n",
        "x = tf.random.uniform((64, 20, 512))\n",
        "EL(x, None, False).shape"
      ],
      "execution_count": null,
      "outputs": [
        {
          "output_type": "execute_result",
          "data": {
            "text/plain": [
              "TensorShape([64, 20, 512])"
            ]
          },
          "metadata": {
            "tags": []
          },
          "execution_count": 45
        }
      ]
    },
    {
      "cell_type": "code",
      "metadata": {
        "id": "xOnGMNsvZp_2"
      },
      "source": [
        "class Encoder(layers.Layer):\n",
        "    \n",
        "    def __init__(self, nb_layers, FFN_units, nb_proj, dropout_rate, vocab_size, d_model, name=\"encoder\"):\n",
        "        super(Encoder, self).__init__(name=name)\n",
        "        self.nb_layers = nb_layers\n",
        "        self.d_model = d_model\n",
        "        \n",
        "        self.embedding = layers.Embedding(vocab_size, d_model)\n",
        "        self.pos_encoding = PositionalEncoding()\n",
        "        self.dropout = layers.Dropout(rate=dropout_rate)\n",
        "        #create 'N' Encodinglayers, where N = No. of layers\n",
        "        self.enc_layers = [EncoderLayer(FFN_units, nb_proj, dropout_rate) for _ in range(nb_layers)]\n",
        "    \n",
        "    def call(self, inputs, mask, training):\n",
        "        outputs = self.embedding(inputs)\n",
        "        outputs *= tf.math.sqrt(tf.cast(self.d_model, tf.float32))\n",
        "        outputs = self.pos_encoding(outputs)\n",
        "        outputs = self.dropout(outputs, training)\n",
        "        \n",
        "        #loop through and call each encoding layer Nb layers of time\n",
        "        for i in range(self.nb_layers):\n",
        "            outputs = self.enc_layers[i](outputs, mask, training)\n",
        "\n",
        "        return outputs"
      ],
      "execution_count": null,
      "outputs": []
    },
    {
      "cell_type": "code",
      "metadata": {
        "colab": {
          "base_uri": "https://localhost:8080/"
        },
        "id": "mI5CjemZCrYm",
        "outputId": "bf09c551-483c-4cdf-c5ca-6152c848b9d8"
      },
      "source": [
        "enc = Encoder(6, 1024, 8, 0.1, 8192, 512)\n",
        "x = tf.random.uniform((64, 20)) #[Batch, Seq]\n",
        "enc(x, None, False).shape"
      ],
      "execution_count": null,
      "outputs": [
        {
          "output_type": "execute_result",
          "data": {
            "text/plain": [
              "TensorShape([64, 20, 512])"
            ]
          },
          "metadata": {
            "tags": []
          },
          "execution_count": 47
        }
      ]
    },
    {
      "cell_type": "code",
      "metadata": {
        "id": "cCqKnuUAAkS6"
      },
      "source": [
        "class DecoderLayer(layers.Layer):\n",
        "    \n",
        "    def __init__(self, FFN_units, nb_proj, dropout_rate):\n",
        "        super(DecoderLayer, self).__init__()\n",
        "        self.FFN_units = FFN_units\n",
        "        self.nb_proj = nb_proj\n",
        "        self.dropout_rate = dropout_rate\n",
        "    \n",
        "    def build(self, input_shape):\n",
        "        self.d_model = input_shape[-1]\n",
        "        \n",
        "        # Define first Multi head attention with itself\n",
        "        self.multi_head_attention_1 = MultiHeadAttention(self.nb_proj)\n",
        "        self.dropout_1 = layers.Dropout(rate=self.dropout_rate)\n",
        "        self.norm_1 = layers.LayerNormalization(epsilon=1e-6)\n",
        "        \n",
        "        # Second Multi head attention combined with encoder output\n",
        "        self.multi_head_attention_2 = MultiHeadAttention(self.nb_proj)\n",
        "        self.dropout_2 = layers.Dropout(rate=self.dropout_rate)\n",
        "        self.norm_2 = layers.LayerNormalization(epsilon=1e-6)\n",
        "        \n",
        "        # Feed foward Network\n",
        "        self.dense_1 = layers.Dense(units=self.FFN_units, activation=\"relu\")\n",
        "        self.dense_2 = layers.Dense(units=self.d_model)\n",
        "        self.dropout_3 = layers.Dropout(rate=self.dropout_rate)\n",
        "        self.norm_3 = layers.LayerNormalization(epsilon=1e-6)\n",
        "        \n",
        "    def call(self, inputs, enc_outputs, mask_1, mask_2, training):\n",
        "        #apply MHA with padding mask\n",
        "        attention, _ = self.multi_head_attention_1(inputs, inputs, inputs, mask_1)\n",
        "        attention = self.dropout_1(attention, training)\n",
        "        attention = self.norm_1(attention + inputs)\n",
        "        \n",
        "        #apply MHA with look ahead mask\n",
        "        attention_2, wb2 = self.multi_head_attention_2(attention, enc_outputs, enc_outputs, mask_2)\n",
        "        attention_2 = self.dropout_2(attention_2, training)\n",
        "        attention_2 = self.norm_2(attention_2 + attention)\n",
        "        \n",
        "        #apply the final FFN layer\n",
        "        outputs = self.dense_1(attention_2)\n",
        "        outputs = self.dense_2(outputs)\n",
        "        outputs = self.dropout_3(outputs, training)\n",
        "        outputs = self.norm_3(outputs + attention_2)\n",
        "        \n",
        "        return outputs, wb2"
      ],
      "execution_count": null,
      "outputs": []
    },
    {
      "cell_type": "code",
      "metadata": {
        "id": "tilHdNz4Eji6"
      },
      "source": [
        "class Decoder(layers.Layer):\n",
        "    \n",
        "    def __init__(self, nb_layers, FFN_units, nb_proj, dropout_rate, vocab_size, d_model, name=\"decoder\"):\n",
        "        super(Decoder, self).__init__(name=name)\n",
        "        self.d_model = d_model\n",
        "        self.nb_layers = nb_layers\n",
        "        \n",
        "        self.embedding = layers.Embedding(vocab_size, d_model)\n",
        "        self.pos_encoding = PositionalEncoding()\n",
        "        self.dropout = layers.Dropout(rate=dropout_rate)\n",
        "        \n",
        "        self.dec_layers = [DecoderLayer(FFN_units, nb_proj, dropout_rate) for i in range(nb_layers)]\n",
        "    \n",
        "    def call(self, inputs, enc_outputs, mask_1, mask_2, training):\n",
        "        #apply the decoder layer architecture in steps\n",
        "        outputs = self.embedding(inputs)\n",
        "        outputs *= tf.math.sqrt(tf.cast(self.d_model, tf.float32))\n",
        "        outputs = self.pos_encoding(outputs)\n",
        "        outputs = self.dropout(outputs, training)\n",
        "\n",
        "        for i in range(self.nb_layers):\n",
        "            #loop through and call all such decoder layer instances\n",
        "            outputs, wb2 = self.dec_layers[i](outputs, enc_outputs, mask_1, mask_2, training)\n",
        "            #[Batch, Seq, d_model]\n",
        "\n",
        "        return outputs, wb2"
      ],
      "execution_count": null,
      "outputs": []
    },
    {
      "cell_type": "code",
      "metadata": {
        "colab": {
          "base_uri": "https://localhost:8080/"
        },
        "id": "UDtO6-ie_NeB",
        "outputId": "bab1c79c-4a54-4ea1-c01d-70331625c042"
      },
      "source": [
        "dec = Decoder(6, 1024, 8, 0.1, 8232, 512)\n",
        "x = tf.random.uniform((64, 20)) #[Batch, Seq]\n",
        "y = enc(x, None, False)\n",
        "a, b = dec(x, y, None, None, False) #[Batch, Seq, D_model]\n",
        "a.shape, b.shape"
      ],
      "execution_count": null,
      "outputs": [
        {
          "output_type": "execute_result",
          "data": {
            "text/plain": [
              "(TensorShape([64, 20, 512]), TensorShape([64, 8, 20, 20]))"
            ]
          },
          "metadata": {
            "tags": []
          },
          "execution_count": 50
        }
      ]
    },
    {
      "cell_type": "markdown",
      "metadata": {
        "id": "aFV25pKmFj9j"
      },
      "source": [
        "### **Now Lets! combine everything together to build our final Transformer architecture**"
      ]
    },
    {
      "cell_type": "code",
      "metadata": {
        "id": "obdURUudF8w9"
      },
      "source": [
        "class Transformer(tf.keras.Model):\n",
        "    \n",
        "    def __init__(self, vocab_size_enc, vocab_size_dec, d_model, nb_layers, FFN_units, nb_proj, dropout_rate, name=\"transformer\"):\n",
        "        super(Transformer, self).__init__(name=name)\n",
        "\n",
        "        #Define Encoder, decoder and final linear layer\n",
        "        self.encoder = Encoder(nb_layers, FFN_units, nb_proj, dropout_rate, vocab_size_enc, d_model)\n",
        "        self.decoder = Decoder(nb_layers, FFN_units, nb_proj, dropout_rate, vocab_size_dec, d_model)\n",
        "        self.last_linear = layers.Dense(units=vocab_size_dec, name=\"final_output\")\n",
        "    \n",
        "    def create_padding_mask(self, seq):\n",
        "        mask = tf.cast(tf.math.equal(seq, 0), tf.float32)\n",
        "        #We add 2 empty dimesions [Batch, nb.proj, seq, seq] since masking is done after scaled dot product \n",
        "        #which has input dimension of size = [batch, nb.proj, seq, seq].\n",
        "        return mask[:, tf.newaxis, tf.newaxis, :]\n",
        "\n",
        "    def create_look_ahead_mask(self, seq):\n",
        "        seq_len = tf.shape(seq)[1]\n",
        "        #here we only consider the lower left traingle and hide upper right traingle of the matrix\n",
        "        #the value -1 means keep the lower left traingle and 0 -> disable upper right traingle\n",
        "        #(using the linalg.band_part function).\n",
        "        look_ahead_mask = 1 - tf.linalg.band_part(tf.ones((seq_len, seq_len)), -1, 0)\n",
        "        return look_ahead_mask\n",
        "    \n",
        "    def call(self, enc_inputs, dec_inputs, training):\n",
        "        #encoder mask\n",
        "        enc_mask = self.create_padding_mask(enc_inputs)\n",
        "        #decoder first mask \n",
        "        dec_mask_1 = tf.maximum(self.create_padding_mask(dec_inputs), self.create_look_ahead_mask(dec_inputs))\n",
        "        #decoder second mask, here we use encoder inputs since our keys and values to MHA are from the output of encoder \n",
        "        #and queries come from decoder side. We want to mask encoder padded outputs when we recombine with decoder inputs.\n",
        "        dec_mask_2 = self.create_padding_mask(enc_inputs)\n",
        "        \n",
        "        #get the encoder outputs\n",
        "        enc_outputs = self.encoder(enc_inputs, enc_mask, training)\n",
        "        #get the decoder outputs\n",
        "        dec_outputs, weights = self.decoder(dec_inputs, enc_outputs, dec_mask_1, dec_mask_2, training)\n",
        "        \n",
        "        #apply the final output layer of unit size = decoder vocab size (such that the model will \n",
        "        #predict the words from swedish vocab that have highest probabilities given english input sentence.)\n",
        "        outputs = self.last_linear(dec_outputs)\n",
        "        \n",
        "        return outputs, weights  #[Batch, Seq, Voacab_size_dec]"
      ],
      "execution_count": null,
      "outputs": []
    },
    {
      "cell_type": "code",
      "metadata": {
        "colab": {
          "base_uri": "https://localhost:8080/"
        },
        "id": "oQv-faWRfJvh",
        "outputId": "c5a7f28f-0b45-40cc-a698-d0eda66e7806"
      },
      "source": [
        "tf.linalg.band_part(tf.ones((10, 10)), 0, -1)"
      ],
      "execution_count": null,
      "outputs": [
        {
          "output_type": "execute_result",
          "data": {
            "text/plain": [
              "<tf.Tensor: shape=(10, 10), dtype=float32, numpy=\n",
              "array([[1., 1., 1., 1., 1., 1., 1., 1., 1., 1.],\n",
              "       [0., 1., 1., 1., 1., 1., 1., 1., 1., 1.],\n",
              "       [0., 0., 1., 1., 1., 1., 1., 1., 1., 1.],\n",
              "       [0., 0., 0., 1., 1., 1., 1., 1., 1., 1.],\n",
              "       [0., 0., 0., 0., 1., 1., 1., 1., 1., 1.],\n",
              "       [0., 0., 0., 0., 0., 1., 1., 1., 1., 1.],\n",
              "       [0., 0., 0., 0., 0., 0., 1., 1., 1., 1.],\n",
              "       [0., 0., 0., 0., 0., 0., 0., 1., 1., 1.],\n",
              "       [0., 0., 0., 0., 0., 0., 0., 0., 1., 1.],\n",
              "       [0., 0., 0., 0., 0., 0., 0., 0., 0., 1.]], dtype=float32)>"
            ]
          },
          "metadata": {
            "tags": []
          },
          "execution_count": 45
        }
      ]
    },
    {
      "cell_type": "code",
      "metadata": {
        "id": "sLUE83fuddTr"
      },
      "source": [
        "def create_padding_mask(seq):\n",
        "  mask = tf.cast(tf.math.equal(seq, 0), tf.float32)\n",
        "  return mask[:, tf.newaxis, tf.newaxis, :]"
      ],
      "execution_count": null,
      "outputs": []
    },
    {
      "cell_type": "code",
      "metadata": {
        "id": "jSQx_6Y3eq9N"
      },
      "source": [
        "def create_look_ahead_mask(seq):\n",
        "  seq_len = tf.shape(seq)[1]\n",
        "  look_ahead_mask = 1 - tf.linalg.band_part(tf.ones((seq_len, seq_len)), -1, 0)\n",
        "  return look_ahead_mask"
      ],
      "execution_count": null,
      "outputs": []
    },
    {
      "cell_type": "code",
      "metadata": {
        "colab": {
          "base_uri": "https://localhost:8080/"
        },
        "id": "unCAQECYdqL6",
        "outputId": "9ad6a059-1f3f-4820-a6b0-27545e2ce5e6"
      },
      "source": [
        "seq = tf.cast([[583, 288, 0, 412, 103, 0, 0, 0]], tf.int32)\n",
        "create_padding_mask(seq)"
      ],
      "execution_count": null,
      "outputs": [
        {
          "output_type": "execute_result",
          "data": {
            "text/plain": [
              "<tf.Tensor: shape=(1, 1, 1, 8), dtype=float32, numpy=array([[[[0., 0., 1., 0., 0., 1., 1., 1.]]]], dtype=float32)>"
            ]
          },
          "metadata": {
            "tags": []
          },
          "execution_count": 48
        }
      ]
    },
    {
      "cell_type": "code",
      "metadata": {
        "colab": {
          "base_uri": "https://localhost:8080/"
        },
        "id": "wRQMdTSYewLq",
        "outputId": "bf44c668-76e8-4131-c8aa-549dc628f7ac"
      },
      "source": [
        "create_look_ahead_mask(seq)"
      ],
      "execution_count": null,
      "outputs": [
        {
          "output_type": "execute_result",
          "data": {
            "text/plain": [
              "<tf.Tensor: shape=(8, 8), dtype=float32, numpy=\n",
              "array([[0., 1., 1., 1., 1., 1., 1., 1.],\n",
              "       [0., 0., 1., 1., 1., 1., 1., 1.],\n",
              "       [0., 0., 0., 1., 1., 1., 1., 1.],\n",
              "       [0., 0., 0., 0., 1., 1., 1., 1.],\n",
              "       [0., 0., 0., 0., 0., 1., 1., 1.],\n",
              "       [0., 0., 0., 0., 0., 0., 1., 1.],\n",
              "       [0., 0., 0., 0., 0., 0., 0., 1.],\n",
              "       [0., 0., 0., 0., 0., 0., 0., 0.]], dtype=float32)>"
            ]
          },
          "metadata": {
            "tags": []
          },
          "execution_count": 49
        }
      ]
    },
    {
      "cell_type": "code",
      "metadata": {
        "colab": {
          "base_uri": "https://localhost:8080/"
        },
        "id": "OYSJ_j-ffxq4",
        "outputId": "b703dec0-f90e-4c7e-93e8-f9c75ffdfee2"
      },
      "source": [
        "#automatically reshapes into [..., seq, seq] and compares with look ahead max\n",
        "#this operation helps us apply both the mask!\n",
        "tf.maximum(create_padding_mask(seq), create_look_ahead_mask(seq))"
      ],
      "execution_count": null,
      "outputs": [
        {
          "output_type": "execute_result",
          "data": {
            "text/plain": [
              "<tf.Tensor: shape=(1, 1, 8, 8), dtype=float32, numpy=\n",
              "array([[[[0., 1., 1., 1., 1., 1., 1., 1.],\n",
              "         [0., 0., 1., 1., 1., 1., 1., 1.],\n",
              "         [0., 0., 1., 1., 1., 1., 1., 1.],\n",
              "         [0., 0., 1., 0., 1., 1., 1., 1.],\n",
              "         [0., 0., 1., 0., 0., 1., 1., 1.],\n",
              "         [0., 0., 1., 0., 0., 1., 1., 1.],\n",
              "         [0., 0., 1., 0., 0., 1., 1., 1.],\n",
              "         [0., 0., 1., 0., 0., 1., 1., 1.]]]], dtype=float32)>"
            ]
          },
          "metadata": {
            "tags": []
          },
          "execution_count": 50
        }
      ]
    },
    {
      "cell_type": "code",
      "metadata": {
        "id": "QrbJu9K1n0pB"
      },
      "source": [
        "tm = Transformer(10000, 10000, 512, 6, 1024, 8, 0.1)\n",
        "t_input = tf.random.uniform((1, 20), dtype=tf.int64, minval=0, maxval=200)\n",
        "t_target = tf.random.uniform((1, 20), dtype=tf.int64, minval=0, maxval=200)"
      ],
      "execution_count": null,
      "outputs": []
    },
    {
      "cell_type": "code",
      "metadata": {
        "id": "7wBuoV3Po-rn",
        "colab": {
          "base_uri": "https://localhost:8080/"
        },
        "outputId": "72b92309-2a71-454b-e44d-ae7a9a58b43e"
      },
      "source": [
        "a, w = tm(t_input, t_target, False)\n",
        "a.shape, w.shape"
      ],
      "execution_count": null,
      "outputs": [
        {
          "output_type": "execute_result",
          "data": {
            "text/plain": [
              "(TensorShape([1, 20, 10000]), TensorShape([1, 8, 20, 20]))"
            ]
          },
          "metadata": {
            "tags": []
          },
          "execution_count": 52
        }
      ]
    },
    {
      "cell_type": "code",
      "metadata": {
        "colab": {
          "base_uri": "https://localhost:8080/"
        },
        "id": "dNrcHi57XR_J",
        "outputId": "ac66b30d-7d3c-4328-a8bd-0c7befd2c3ce"
      },
      "source": [
        "head = 0\n",
        "# shape: (batch=1, num_heads, seq_len_q, seq_len_k)\n",
        "attention_heads = tf.squeeze(w, 0)\n",
        "attention = attention_heads[head]\n",
        "attention.shape"
      ],
      "execution_count": null,
      "outputs": [
        {
          "output_type": "execute_result",
          "data": {
            "text/plain": [
              "TensorShape([20, 20])"
            ]
          },
          "metadata": {
            "tags": []
          },
          "execution_count": 53
        }
      ]
    },
    {
      "cell_type": "markdown",
      "metadata": {
        "id": "crjPBv53feyn"
      },
      "source": [
        "**Hyperparameters**"
      ]
    },
    {
      "cell_type": "code",
      "metadata": {
        "id": "yYmZN_JhQIln"
      },
      "source": [
        "#tf.keras.backend.clear_session()\n",
        "\n",
        "# Lets define the Hyper-parameters needed to train our dataset\n",
        "# we initially choose small size parameter values for faster training compared to as stated in the paper!\n",
        "D_MODEL = 128       # 512\n",
        "NB_LAYERS = 4       # 6\n",
        "FFN_UNITS = 512     # 2048\n",
        "NB_PROJ = 8         # 8\n",
        "DROPOUT_RATE = 0.1  # 0.1\n",
        "\n",
        "#Instantiate the transformer model\n",
        "transformer = Transformer(VOCAB_SIZE_EN, VOCAB_SIZE_SV, D_MODEL, NB_LAYERS, FFN_UNITS, NB_PROJ, DROPOUT_RATE)"
      ],
      "execution_count": null,
      "outputs": []
    },
    {
      "cell_type": "markdown",
      "metadata": {
        "id": "nGBDqGP9Roxn"
      },
      "source": [
        "**Now before we start training we need to do few very important steps:**<br><br>1) First we define our loss object as Sparse CategoricalCrossentropy (we use this crossentropy loss function since in the output we have two or more class labels to predict.)<br><br>2) Next we define loss function that creates a mask to hide the padded values and do not include it in the computaion of loss metric."
      ]
    },
    {
      "cell_type": "code",
      "metadata": {
        "id": "RpSE_ri8RgxF"
      },
      "source": [
        "#since our outputs from model are real numbers ready to be transformed into probabilities we set from_logits = True.\n",
        "#And reduction none indicates dont sum over all probabilities and calc mean loss as of yet. Since we need to remove the \n",
        "#padding part before summing the loss!\n",
        "\n",
        "loss_object = tf.keras.losses.SparseCategoricalCrossentropy(from_logits=True, reduction=\"none\")\n",
        "\n",
        "def loss_function(target, pred):\n",
        "    mask = tf.math.logical_not(tf.math.equal(target, 0))\n",
        "    loss = loss_object(target, pred)\n",
        "    \n",
        "    mask = tf.cast(mask, dtype=loss.dtype)\n",
        "    loss *= mask\n",
        "    \n",
        "    return tf.reduce_mean(loss)\n",
        "\n",
        "train_loss = tf.keras.metrics.Mean(name=\"training_loss\") #to keep track of training loss!"
      ],
      "execution_count": null,
      "outputs": []
    },
    {
      "cell_type": "markdown",
      "metadata": {
        "id": "Wwv77A7hiwHc"
      },
      "source": [
        "**Now Instead using a fixed pre-set learning rate at all times during the training phase the research paper decides to use a custom learning rate, such that for initial 4000 steps the learning rate is fast (increases linearly) and thereafter it starts decreasing.** "
      ]
    },
    {
      "cell_type": "code",
      "metadata": {
        "id": "w8qJzfgwhMzT"
      },
      "source": [
        "class CustomLearningRate(tf.keras.optimizers.schedules.LearningRateSchedule):\n",
        "\n",
        "    def __init__(self, d_model, start_steps=4000):\n",
        "        super(CustomLearningRate, self).__init__()\n",
        "\n",
        "        self.d_model = tf.cast(d_model, tf.float32)\n",
        "        self.start_steps = start_steps\n",
        "    \n",
        "    def __call__(self, step):\n",
        "        arg1 = tf.math.rsqrt(step)\n",
        "        arg2 = step * (self.start_steps**-1.5)\n",
        "\n",
        "        return tf.math.rsqrt(self.d_model) * tf.math.minimum(arg1, arg2)\n",
        "\n",
        "new_learning_rate = CustomLearningRate(D_MODEL)\n",
        "\n",
        "#we set the paramertes as given in the paper!\n",
        "optimizer = tf.keras.optimizers.Adam(new_learning_rate, beta_1=0.9, beta_2=0.98, epsilon=1e-9)   "
      ],
      "execution_count": null,
      "outputs": []
    },
    {
      "cell_type": "markdown",
      "metadata": {
        "id": "4-HD3Od6OnqZ"
      },
      "source": [
        "**create checkpoints path manager to save checkpoints after every epoch**"
      ]
    },
    {
      "cell_type": "code",
      "metadata": {
        "id": "Zl80zajnOiin",
        "colab": {
          "base_uri": "https://localhost:8080/"
        },
        "outputId": "181272c5-21f2-4ff4-d78c-9076cff773d8"
      },
      "source": [
        "import sys\n",
        "\n",
        "checkpoint_path = \"./checkpoints4/\"\n",
        "\n",
        "ckpt = tf.train.Checkpoint(transformer=transformer, optimizer=optimizer)\n",
        "\n",
        "ckpt_manager = tf.train.CheckpointManager(ckpt, checkpoint_path, max_to_keep=5)\n",
        "\n",
        "if ckpt_manager.latest_checkpoint:\n",
        "  ckpt.restore(ckpt_manager.latest_checkpoint)\n",
        "  print(\"Latest checkpoint restored!!\")"
      ],
      "execution_count": null,
      "outputs": [
        {
          "output_type": "stream",
          "text": [
            "Latest checkpoint restored!!\n"
          ],
          "name": "stdout"
        }
      ]
    },
    {
      "cell_type": "markdown",
      "metadata": {
        "id": "OIZidKKv-IDc"
      },
      "source": [
        "### Training the model"
      ]
    },
    {
      "cell_type": "markdown",
      "metadata": {
        "id": "fo4VuqPQSeJn"
      },
      "source": [
        "**Its time to start training!!!**"
      ]
    },
    {
      "cell_type": "code",
      "metadata": {
        "id": "xwV4yVEKPmOE",
        "colab": {
          "base_uri": "https://localhost:8080/"
        },
        "outputId": "593588bb-a6b4-4fc1-cfe6-56ac7efb5115"
      },
      "source": [
        "EPOCHS = 10\n",
        "for epoch in range(EPOCHS):\n",
        "    print(\"Start of epoch {}\".format(epoch+1))\n",
        "    start = time.time()\n",
        "    train_loss.reset_states()\n",
        "    \n",
        "    for (batch, (enc_inputs, targets)) in enumerate(dataset):\n",
        "        #get everything except last word for input to the decoder\n",
        "        dec_inputs = targets[:, :-1]\n",
        "        #and the output from decoder is the shifted right part.\n",
        "        dec_outputs_real = targets[:, 1:]\n",
        "\n",
        "        \n",
        "\n",
        "        #store everything that happens during training on a tape\n",
        "        with tf.GradientTape() as tape:\n",
        "            #print('hello')\n",
        "            predictions, _ = transformer(enc_inputs, dec_inputs, True)\n",
        "            loss = loss_function(dec_outputs_real, predictions)\n",
        "            \n",
        "        \n",
        "        #Calc gradients dL/dw\n",
        "        gradients = tape.gradient(loss, transformer.trainable_variables)\n",
        "        #update the weights\n",
        "        optimizer.apply_gradients(zip(gradients, transformer.trainable_variables))\n",
        "        \n",
        "        train_loss(loss)\n",
        "\n",
        "        if batch % 50 == 0:\n",
        "            print(\"Epoch {} Batch {} Loss {:.4f}\".format(epoch+1, batch, train_loss.result()))\n",
        "            \n",
        "    ckpt_save_path = ckpt_manager.save()\n",
        "    print(\"Saving checkpoint for epoch {} at {}\".format(epoch+1, ckpt_save_path))\n",
        "\n",
        "    print(\"Time taken for 1 epoch: {} secs\\n\".format(time.time() - start))"
      ],
      "execution_count": null,
      "outputs": [
        {
          "output_type": "stream",
          "text": [
            "Start of epoch 1\n",
            "Epoch 1 Batch 0 Loss 5.6652\n",
            "Epoch 1 Batch 50 Loss 5.7780\n",
            "Epoch 1 Batch 100 Loss 5.7059\n",
            "Epoch 1 Batch 150 Loss 5.6533\n",
            "Epoch 1 Batch 200 Loss 5.5687\n",
            "Epoch 1 Batch 250 Loss 5.4819\n",
            "Epoch 1 Batch 300 Loss 5.3793\n",
            "Epoch 1 Batch 350 Loss 5.2725\n",
            "Epoch 1 Batch 400 Loss 5.1623\n",
            "Epoch 1 Batch 450 Loss 5.0712\n",
            "Epoch 1 Batch 500 Loss 4.9787\n",
            "Epoch 1 Batch 550 Loss 4.8913\n",
            "Epoch 1 Batch 600 Loss 4.8094\n",
            "Epoch 1 Batch 650 Loss 4.7314\n",
            "Epoch 1 Batch 700 Loss 4.6619\n",
            "Epoch 1 Batch 750 Loss 4.5922\n",
            "Epoch 1 Batch 800 Loss 4.5308\n",
            "Epoch 1 Batch 850 Loss 4.4700\n",
            "Epoch 1 Batch 900 Loss 4.4114\n",
            "Epoch 1 Batch 950 Loss 4.3584\n",
            "Epoch 1 Batch 1000 Loss 4.3086\n",
            "Epoch 1 Batch 1050 Loss 4.2606\n",
            "Epoch 1 Batch 1100 Loss 4.2149\n",
            "Epoch 1 Batch 1150 Loss 4.1718\n",
            "Epoch 1 Batch 1200 Loss 4.1299\n",
            "Epoch 1 Batch 1250 Loss 4.0902\n",
            "Epoch 1 Batch 1300 Loss 4.0555\n",
            "Epoch 1 Batch 1350 Loss 4.0225\n",
            "Epoch 1 Batch 1400 Loss 3.9894\n",
            "Epoch 1 Batch 1450 Loss 3.9589\n",
            "Epoch 1 Batch 1500 Loss 3.9281\n",
            "Epoch 1 Batch 1550 Loss 3.8989\n",
            "Epoch 1 Batch 1600 Loss 3.8704\n",
            "Epoch 1 Batch 1650 Loss 3.8454\n",
            "Epoch 1 Batch 1700 Loss 3.8185\n",
            "Epoch 1 Batch 1750 Loss 3.7929\n",
            "Epoch 1 Batch 1800 Loss 3.7692\n",
            "Epoch 1 Batch 1850 Loss 3.7451\n",
            "Epoch 1 Batch 1900 Loss 3.7221\n",
            "Epoch 1 Batch 1950 Loss 3.6993\n",
            "Epoch 1 Batch 2000 Loss 3.6769\n",
            "Epoch 1 Batch 2050 Loss 3.6551\n",
            "Epoch 1 Batch 2100 Loss 3.6341\n",
            "Epoch 1 Batch 2150 Loss 3.6126\n",
            "Epoch 1 Batch 2200 Loss 3.5918\n",
            "Epoch 1 Batch 2250 Loss 3.5702\n",
            "Epoch 1 Batch 2300 Loss 3.5490\n",
            "Epoch 1 Batch 2350 Loss 3.5275\n",
            "Epoch 1 Batch 2400 Loss 3.5069\n",
            "Epoch 1 Batch 2450 Loss 3.4864\n",
            "Epoch 1 Batch 2500 Loss 3.4674\n",
            "Epoch 1 Batch 2550 Loss 3.4480\n",
            "Epoch 1 Batch 2600 Loss 3.4288\n",
            "Epoch 1 Batch 2650 Loss 3.4093\n",
            "Epoch 1 Batch 2700 Loss 3.3894\n",
            "Epoch 1 Batch 2750 Loss 3.3699\n",
            "Epoch 1 Batch 2800 Loss 3.3508\n",
            "Epoch 1 Batch 2850 Loss 3.3317\n",
            "Epoch 1 Batch 2900 Loss 3.3134\n",
            "Epoch 1 Batch 2950 Loss 3.2956\n",
            "Epoch 1 Batch 3000 Loss 3.2781\n",
            "Epoch 1 Batch 3050 Loss 3.2612\n",
            "Epoch 1 Batch 3100 Loss 3.2441\n",
            "Epoch 1 Batch 3150 Loss 3.2270\n",
            "Epoch 1 Batch 3200 Loss 3.2110\n",
            "Epoch 1 Batch 3250 Loss 3.1950\n",
            "Epoch 1 Batch 3300 Loss 3.1793\n",
            "Epoch 1 Batch 3350 Loss 3.1644\n",
            "Epoch 1 Batch 3400 Loss 3.1496\n",
            "Epoch 1 Batch 3450 Loss 3.1356\n",
            "Epoch 1 Batch 3500 Loss 3.1207\n",
            "Epoch 1 Batch 3550 Loss 3.1060\n",
            "Epoch 1 Batch 3600 Loss 3.0921\n",
            "Epoch 1 Batch 3650 Loss 3.0790\n",
            "Epoch 1 Batch 3700 Loss 3.0655\n",
            "Epoch 1 Batch 3750 Loss 3.0519\n",
            "Epoch 1 Batch 3800 Loss 3.0386\n",
            "Epoch 1 Batch 3850 Loss 3.0254\n",
            "Epoch 1 Batch 3900 Loss 3.0125\n",
            "Epoch 1 Batch 3950 Loss 2.9992\n",
            "Epoch 1 Batch 4000 Loss 2.9862\n",
            "Epoch 1 Batch 4050 Loss 2.9741\n",
            "Epoch 1 Batch 4100 Loss 2.9618\n",
            "Epoch 1 Batch 4150 Loss 2.9498\n",
            "Epoch 1 Batch 4200 Loss 2.9372\n",
            "Epoch 1 Batch 4250 Loss 2.9249\n",
            "Epoch 1 Batch 4300 Loss 2.9126\n",
            "Epoch 1 Batch 4350 Loss 2.9004\n",
            "Epoch 1 Batch 4400 Loss 2.8884\n",
            "Epoch 1 Batch 4450 Loss 2.8766\n",
            "Epoch 1 Batch 4500 Loss 2.8648\n",
            "Epoch 1 Batch 4550 Loss 2.8532\n",
            "Epoch 1 Batch 4600 Loss 2.8417\n",
            "Epoch 1 Batch 4650 Loss 2.8308\n",
            "Epoch 1 Batch 4700 Loss 2.8194\n",
            "Epoch 1 Batch 4750 Loss 2.8086\n",
            "Epoch 1 Batch 4800 Loss 2.7970\n",
            "Epoch 1 Batch 4850 Loss 2.7864\n",
            "Epoch 1 Batch 4900 Loss 2.7758\n",
            "Epoch 1 Batch 4950 Loss 2.7654\n",
            "Epoch 1 Batch 5000 Loss 2.7549\n",
            "Epoch 1 Batch 5050 Loss 2.7448\n",
            "Epoch 1 Batch 5100 Loss 2.7343\n",
            "Epoch 1 Batch 5150 Loss 2.7238\n",
            "Epoch 1 Batch 5200 Loss 2.7135\n",
            "Epoch 1 Batch 5250 Loss 2.7032\n",
            "Epoch 1 Batch 5300 Loss 2.6937\n",
            "Epoch 1 Batch 5350 Loss 2.6851\n",
            "Epoch 1 Batch 5400 Loss 2.6769\n",
            "Epoch 1 Batch 5450 Loss 2.6688\n",
            "Epoch 1 Batch 5500 Loss 2.6613\n",
            "Epoch 1 Batch 5550 Loss 2.6541\n",
            "Epoch 1 Batch 5600 Loss 2.6473\n",
            "Epoch 1 Batch 5650 Loss 2.6404\n",
            "Epoch 1 Batch 5700 Loss 2.6340\n",
            "Epoch 1 Batch 5750 Loss 2.6268\n",
            "Epoch 1 Batch 5800 Loss 2.6201\n",
            "Epoch 1 Batch 5850 Loss 2.6137\n",
            "Epoch 1 Batch 5900 Loss 2.6077\n",
            "Epoch 1 Batch 5950 Loss 2.6012\n",
            "Epoch 1 Batch 6000 Loss 2.5948\n",
            "Epoch 1 Batch 6050 Loss 2.5885\n",
            "Epoch 1 Batch 6100 Loss 2.5821\n",
            "Epoch 1 Batch 6150 Loss 2.5758\n",
            "Epoch 1 Batch 6200 Loss 2.5695\n",
            "Epoch 1 Batch 6250 Loss 2.5635\n",
            "Epoch 1 Batch 6300 Loss 2.5576\n",
            "Epoch 1 Batch 6350 Loss 2.5514\n",
            "Epoch 1 Batch 6400 Loss 2.5455\n",
            "Epoch 1 Batch 6450 Loss 2.5394\n",
            "Epoch 1 Batch 6500 Loss 2.5335\n",
            "Epoch 1 Batch 6550 Loss 2.5277\n",
            "Epoch 1 Batch 6600 Loss 2.5217\n",
            "Epoch 1 Batch 6650 Loss 2.5159\n",
            "Epoch 1 Batch 6700 Loss 2.5102\n",
            "Epoch 1 Batch 6750 Loss 2.5045\n",
            "Epoch 1 Batch 6800 Loss 2.4984\n",
            "Epoch 1 Batch 6850 Loss 2.4925\n",
            "Epoch 1 Batch 6900 Loss 2.4866\n",
            "Saving checkpoint for epoch 1 at ./checkpoints4/ckpt-1\n",
            "Time taken for 1 epoch: 1807.2009887695312 secs\n",
            "\n",
            "Start of epoch 2\n",
            "Epoch 2 Batch 0 Loss 1.6474\n",
            "Epoch 2 Batch 50 Loss 1.7442\n",
            "Epoch 2 Batch 100 Loss 1.6911\n",
            "Epoch 2 Batch 150 Loss 1.6788\n",
            "Epoch 2 Batch 200 Loss 1.6664\n",
            "Epoch 2 Batch 250 Loss 1.6539\n",
            "Epoch 2 Batch 300 Loss 1.6495\n",
            "Epoch 2 Batch 350 Loss 1.6450\n",
            "Epoch 2 Batch 400 Loss 1.6384\n",
            "Epoch 2 Batch 450 Loss 1.6334\n",
            "Epoch 2 Batch 500 Loss 1.6301\n",
            "Epoch 2 Batch 550 Loss 1.6260\n",
            "Epoch 2 Batch 600 Loss 1.6196\n",
            "Epoch 2 Batch 650 Loss 1.6148\n",
            "Epoch 2 Batch 700 Loss 1.6111\n",
            "Epoch 2 Batch 750 Loss 1.6069\n",
            "Epoch 2 Batch 800 Loss 1.6048\n",
            "Epoch 2 Batch 850 Loss 1.6019\n",
            "Epoch 2 Batch 900 Loss 1.6006\n",
            "Epoch 2 Batch 950 Loss 1.5994\n",
            "Epoch 2 Batch 1000 Loss 1.5990\n",
            "Epoch 2 Batch 1050 Loss 1.5977\n",
            "Epoch 2 Batch 1100 Loss 1.5977\n",
            "Epoch 2 Batch 1150 Loss 1.5969\n",
            "Epoch 2 Batch 1200 Loss 1.5962\n",
            "Epoch 2 Batch 1250 Loss 1.5930\n",
            "Epoch 2 Batch 1300 Loss 1.5904\n",
            "Epoch 2 Batch 1350 Loss 1.5877\n",
            "Epoch 2 Batch 1400 Loss 1.5840\n",
            "Epoch 2 Batch 1450 Loss 1.5815\n",
            "Epoch 2 Batch 1500 Loss 1.5772\n",
            "Epoch 2 Batch 1550 Loss 1.5734\n",
            "Epoch 2 Batch 1600 Loss 1.5691\n",
            "Epoch 2 Batch 1650 Loss 1.5659\n",
            "Epoch 2 Batch 1700 Loss 1.5618\n",
            "Epoch 2 Batch 1750 Loss 1.5584\n",
            "Epoch 2 Batch 1800 Loss 1.5538\n",
            "Epoch 2 Batch 1850 Loss 1.5496\n",
            "Epoch 2 Batch 1900 Loss 1.5449\n",
            "Epoch 2 Batch 1950 Loss 1.5405\n",
            "Epoch 2 Batch 2000 Loss 1.5361\n",
            "Epoch 2 Batch 2050 Loss 1.5318\n",
            "Epoch 2 Batch 2100 Loss 1.5274\n",
            "Epoch 2 Batch 2150 Loss 1.5229\n",
            "Epoch 2 Batch 2200 Loss 1.5183\n",
            "Epoch 2 Batch 2250 Loss 1.5136\n",
            "Epoch 2 Batch 2300 Loss 1.5094\n",
            "Epoch 2 Batch 2350 Loss 1.5043\n",
            "Epoch 2 Batch 2400 Loss 1.4995\n",
            "Epoch 2 Batch 2450 Loss 1.4949\n",
            "Epoch 2 Batch 2500 Loss 1.4911\n",
            "Epoch 2 Batch 2550 Loss 1.4866\n",
            "Epoch 2 Batch 2600 Loss 1.4823\n",
            "Epoch 2 Batch 2650 Loss 1.4774\n",
            "Epoch 2 Batch 2700 Loss 1.4729\n",
            "Epoch 2 Batch 2750 Loss 1.4681\n",
            "Epoch 2 Batch 2800 Loss 1.4640\n",
            "Epoch 2 Batch 2850 Loss 1.4597\n",
            "Epoch 2 Batch 2900 Loss 1.4553\n",
            "Epoch 2 Batch 2950 Loss 1.4512\n",
            "Epoch 2 Batch 3000 Loss 1.4476\n",
            "Epoch 2 Batch 3050 Loss 1.4440\n",
            "Epoch 2 Batch 3100 Loss 1.4403\n",
            "Epoch 2 Batch 3150 Loss 1.4363\n",
            "Epoch 2 Batch 3200 Loss 1.4330\n",
            "Epoch 2 Batch 3250 Loss 1.4296\n",
            "Epoch 2 Batch 3300 Loss 1.4264\n",
            "Epoch 2 Batch 3350 Loss 1.4233\n",
            "Epoch 2 Batch 3400 Loss 1.4207\n",
            "Epoch 2 Batch 3450 Loss 1.4179\n",
            "Epoch 2 Batch 3500 Loss 1.4152\n",
            "Epoch 2 Batch 3550 Loss 1.4129\n",
            "Epoch 2 Batch 3600 Loss 1.4104\n",
            "Epoch 2 Batch 3650 Loss 1.4081\n",
            "Epoch 2 Batch 3700 Loss 1.4055\n",
            "Epoch 2 Batch 3750 Loss 1.4029\n",
            "Epoch 2 Batch 3800 Loss 1.4003\n",
            "Epoch 2 Batch 3850 Loss 1.3980\n",
            "Epoch 2 Batch 3900 Loss 1.3959\n",
            "Epoch 2 Batch 3950 Loss 1.3937\n",
            "Epoch 2 Batch 4000 Loss 1.3915\n",
            "Epoch 2 Batch 4050 Loss 1.3894\n",
            "Epoch 2 Batch 4100 Loss 1.3874\n",
            "Epoch 2 Batch 4150 Loss 1.3851\n",
            "Epoch 2 Batch 4200 Loss 1.3827\n",
            "Epoch 2 Batch 4250 Loss 1.3803\n",
            "Epoch 2 Batch 4300 Loss 1.3783\n",
            "Epoch 2 Batch 4350 Loss 1.3761\n",
            "Epoch 2 Batch 4400 Loss 1.3744\n",
            "Epoch 2 Batch 4450 Loss 1.3726\n",
            "Epoch 2 Batch 4500 Loss 1.3710\n",
            "Epoch 2 Batch 4550 Loss 1.3690\n",
            "Epoch 2 Batch 4600 Loss 1.3667\n",
            "Epoch 2 Batch 4650 Loss 1.3651\n",
            "Epoch 2 Batch 4700 Loss 1.3630\n",
            "Epoch 2 Batch 4750 Loss 1.3610\n",
            "Epoch 2 Batch 4800 Loss 1.3591\n",
            "Epoch 2 Batch 4850 Loss 1.3572\n",
            "Epoch 2 Batch 4900 Loss 1.3553\n",
            "Epoch 2 Batch 4950 Loss 1.3538\n",
            "Epoch 2 Batch 5000 Loss 1.3519\n",
            "Epoch 2 Batch 5050 Loss 1.3503\n",
            "Epoch 2 Batch 5100 Loss 1.3488\n",
            "Epoch 2 Batch 5150 Loss 1.3470\n",
            "Epoch 2 Batch 5200 Loss 1.3454\n",
            "Epoch 2 Batch 5250 Loss 1.3437\n",
            "Epoch 2 Batch 5300 Loss 1.3423\n",
            "Epoch 2 Batch 5350 Loss 1.3417\n",
            "Epoch 2 Batch 5400 Loss 1.3417\n",
            "Epoch 2 Batch 5450 Loss 1.3419\n",
            "Epoch 2 Batch 5500 Loss 1.3424\n",
            "Epoch 2 Batch 5550 Loss 1.3430\n",
            "Epoch 2 Batch 5600 Loss 1.3443\n",
            "Epoch 2 Batch 5650 Loss 1.3452\n",
            "Epoch 2 Batch 5700 Loss 1.3464\n",
            "Epoch 2 Batch 5750 Loss 1.3472\n",
            "Epoch 2 Batch 5800 Loss 1.3481\n",
            "Epoch 2 Batch 5850 Loss 1.3491\n",
            "Epoch 2 Batch 5900 Loss 1.3498\n",
            "Epoch 2 Batch 5950 Loss 1.3505\n",
            "Epoch 2 Batch 6000 Loss 1.3513\n",
            "Epoch 2 Batch 6050 Loss 1.3521\n",
            "Epoch 2 Batch 6100 Loss 1.3529\n",
            "Epoch 2 Batch 6150 Loss 1.3534\n",
            "Epoch 2 Batch 6200 Loss 1.3546\n",
            "Epoch 2 Batch 6250 Loss 1.3555\n",
            "Epoch 2 Batch 6300 Loss 1.3566\n",
            "Epoch 2 Batch 6350 Loss 1.3575\n",
            "Epoch 2 Batch 6400 Loss 1.3582\n",
            "Epoch 2 Batch 6450 Loss 1.3590\n",
            "Epoch 2 Batch 6500 Loss 1.3596\n",
            "Epoch 2 Batch 6550 Loss 1.3604\n",
            "Epoch 2 Batch 6600 Loss 1.3612\n",
            "Epoch 2 Batch 6650 Loss 1.3616\n",
            "Epoch 2 Batch 6700 Loss 1.3619\n",
            "Epoch 2 Batch 6750 Loss 1.3624\n",
            "Epoch 2 Batch 6800 Loss 1.3629\n",
            "Epoch 2 Batch 6850 Loss 1.3633\n",
            "Epoch 2 Batch 6900 Loss 1.3636\n",
            "Saving checkpoint for epoch 2 at ./checkpoints4/ckpt-2\n",
            "Time taken for 1 epoch: 1761.4430816173553 secs\n",
            "\n",
            "Start of epoch 3\n",
            "Epoch 3 Batch 0 Loss 1.1194\n",
            "Epoch 3 Batch 50 Loss 1.3924\n",
            "Epoch 3 Batch 100 Loss 1.3854\n",
            "Epoch 3 Batch 150 Loss 1.3726\n",
            "Epoch 3 Batch 200 Loss 1.3677\n",
            "Epoch 3 Batch 250 Loss 1.3662\n",
            "Epoch 3 Batch 300 Loss 1.3621\n",
            "Epoch 3 Batch 350 Loss 1.3591\n",
            "Epoch 3 Batch 400 Loss 1.3570\n",
            "Epoch 3 Batch 450 Loss 1.3537\n",
            "Epoch 3 Batch 500 Loss 1.3514\n",
            "Epoch 3 Batch 550 Loss 1.3487\n",
            "Epoch 3 Batch 600 Loss 1.3445\n",
            "Epoch 3 Batch 650 Loss 1.3408\n",
            "Epoch 3 Batch 700 Loss 1.3400\n",
            "Epoch 3 Batch 750 Loss 1.3375\n",
            "Epoch 3 Batch 800 Loss 1.3346\n",
            "Epoch 3 Batch 850 Loss 1.3331\n",
            "Epoch 3 Batch 900 Loss 1.3318\n",
            "Epoch 3 Batch 950 Loss 1.3301\n",
            "Epoch 3 Batch 1000 Loss 1.3314\n",
            "Epoch 3 Batch 1050 Loss 1.3315\n",
            "Epoch 3 Batch 1100 Loss 1.3315\n",
            "Epoch 3 Batch 1150 Loss 1.3314\n",
            "Epoch 3 Batch 1200 Loss 1.3301\n",
            "Epoch 3 Batch 1250 Loss 1.3293\n",
            "Epoch 3 Batch 1300 Loss 1.3281\n",
            "Epoch 3 Batch 1350 Loss 1.3262\n",
            "Epoch 3 Batch 1400 Loss 1.3244\n",
            "Epoch 3 Batch 1450 Loss 1.3221\n",
            "Epoch 3 Batch 1500 Loss 1.3200\n",
            "Epoch 3 Batch 1550 Loss 1.3173\n",
            "Epoch 3 Batch 1600 Loss 1.3146\n",
            "Epoch 3 Batch 1650 Loss 1.3111\n",
            "Epoch 3 Batch 1700 Loss 1.3083\n",
            "Epoch 3 Batch 1750 Loss 1.3051\n",
            "Epoch 3 Batch 1800 Loss 1.3016\n",
            "Epoch 3 Batch 1850 Loss 1.2981\n",
            "Epoch 3 Batch 1900 Loss 1.2936\n",
            "Epoch 3 Batch 1950 Loss 1.2901\n",
            "Epoch 3 Batch 2000 Loss 1.2882\n",
            "Epoch 3 Batch 2050 Loss 1.2846\n",
            "Epoch 3 Batch 2100 Loss 1.2812\n",
            "Epoch 3 Batch 2150 Loss 1.2771\n",
            "Epoch 3 Batch 2200 Loss 1.2744\n",
            "Epoch 3 Batch 2250 Loss 1.2700\n",
            "Epoch 3 Batch 2300 Loss 1.2665\n",
            "Epoch 3 Batch 2350 Loss 1.2628\n",
            "Epoch 3 Batch 2400 Loss 1.2592\n",
            "Epoch 3 Batch 2450 Loss 1.2562\n",
            "Epoch 3 Batch 2500 Loss 1.2532\n",
            "Epoch 3 Batch 2550 Loss 1.2499\n",
            "Epoch 3 Batch 2600 Loss 1.2465\n",
            "Epoch 3 Batch 2650 Loss 1.2431\n",
            "Epoch 3 Batch 2700 Loss 1.2392\n",
            "Epoch 3 Batch 2750 Loss 1.2355\n",
            "Epoch 3 Batch 2800 Loss 1.2313\n",
            "Epoch 3 Batch 2850 Loss 1.2277\n",
            "Epoch 3 Batch 2900 Loss 1.2245\n",
            "Epoch 3 Batch 2950 Loss 1.2213\n",
            "Epoch 3 Batch 3000 Loss 1.2184\n",
            "Epoch 3 Batch 3050 Loss 1.2151\n",
            "Epoch 3 Batch 3100 Loss 1.2122\n",
            "Epoch 3 Batch 3150 Loss 1.2096\n",
            "Epoch 3 Batch 3200 Loss 1.2071\n",
            "Epoch 3 Batch 3250 Loss 1.2045\n",
            "Epoch 3 Batch 3300 Loss 1.2021\n",
            "Epoch 3 Batch 3350 Loss 1.1998\n",
            "Epoch 3 Batch 3400 Loss 1.1975\n",
            "Epoch 3 Batch 3450 Loss 1.1956\n",
            "Epoch 3 Batch 3500 Loss 1.1936\n",
            "Epoch 3 Batch 3550 Loss 1.1917\n",
            "Epoch 3 Batch 3600 Loss 1.1900\n",
            "Epoch 3 Batch 3650 Loss 1.1887\n",
            "Epoch 3 Batch 3700 Loss 1.1871\n",
            "Epoch 3 Batch 3750 Loss 1.1856\n",
            "Epoch 3 Batch 3800 Loss 1.1838\n",
            "Epoch 3 Batch 3850 Loss 1.1826\n",
            "Epoch 3 Batch 3900 Loss 1.1811\n",
            "Epoch 3 Batch 3950 Loss 1.1798\n",
            "Epoch 3 Batch 4000 Loss 1.1786\n",
            "Epoch 3 Batch 4050 Loss 1.1772\n",
            "Epoch 3 Batch 4100 Loss 1.1758\n",
            "Epoch 3 Batch 4150 Loss 1.1744\n",
            "Epoch 3 Batch 4200 Loss 1.1730\n",
            "Epoch 3 Batch 4250 Loss 1.1719\n",
            "Epoch 3 Batch 4300 Loss 1.1703\n",
            "Epoch 3 Batch 4350 Loss 1.1691\n",
            "Epoch 3 Batch 4400 Loss 1.1677\n",
            "Epoch 3 Batch 4450 Loss 1.1664\n",
            "Epoch 3 Batch 4500 Loss 1.1650\n",
            "Epoch 3 Batch 4550 Loss 1.1636\n",
            "Epoch 3 Batch 4600 Loss 1.1621\n",
            "Epoch 3 Batch 4650 Loss 1.1609\n",
            "Epoch 3 Batch 4700 Loss 1.1594\n",
            "Epoch 3 Batch 4750 Loss 1.1583\n",
            "Epoch 3 Batch 4800 Loss 1.1570\n",
            "Epoch 3 Batch 4850 Loss 1.1559\n",
            "Epoch 3 Batch 4900 Loss 1.1549\n",
            "Epoch 3 Batch 4950 Loss 1.1541\n",
            "Epoch 3 Batch 5000 Loss 1.1532\n",
            "Epoch 3 Batch 5050 Loss 1.1523\n",
            "Epoch 3 Batch 5100 Loss 1.1517\n",
            "Epoch 3 Batch 5150 Loss 1.1504\n",
            "Epoch 3 Batch 5200 Loss 1.1492\n",
            "Epoch 3 Batch 5250 Loss 1.1483\n",
            "Epoch 3 Batch 5300 Loss 1.1474\n",
            "Epoch 3 Batch 5350 Loss 1.1473\n",
            "Epoch 3 Batch 5400 Loss 1.1479\n",
            "Epoch 3 Batch 5450 Loss 1.1489\n",
            "Epoch 3 Batch 5500 Loss 1.1501\n",
            "Epoch 3 Batch 5550 Loss 1.1519\n",
            "Epoch 3 Batch 5600 Loss 1.1534\n",
            "Epoch 3 Batch 5650 Loss 1.1548\n",
            "Epoch 3 Batch 5700 Loss 1.1564\n",
            "Epoch 3 Batch 5750 Loss 1.1581\n",
            "Epoch 3 Batch 5800 Loss 1.1597\n",
            "Epoch 3 Batch 5850 Loss 1.1608\n",
            "Epoch 3 Batch 5900 Loss 1.1621\n",
            "Epoch 3 Batch 5950 Loss 1.1635\n",
            "Epoch 3 Batch 6000 Loss 1.1648\n",
            "Epoch 3 Batch 6050 Loss 1.1662\n",
            "Epoch 3 Batch 6100 Loss 1.1676\n",
            "Epoch 3 Batch 6150 Loss 1.1689\n",
            "Epoch 3 Batch 6200 Loss 1.1704\n",
            "Epoch 3 Batch 6250 Loss 1.1717\n",
            "Epoch 3 Batch 6300 Loss 1.1735\n",
            "Epoch 3 Batch 6350 Loss 1.1749\n",
            "Epoch 3 Batch 6400 Loss 1.1760\n",
            "Epoch 3 Batch 6450 Loss 1.1773\n",
            "Epoch 3 Batch 6500 Loss 1.1784\n",
            "Epoch 3 Batch 6550 Loss 1.1794\n",
            "Epoch 3 Batch 6600 Loss 1.1804\n",
            "Epoch 3 Batch 6650 Loss 1.1814\n",
            "Epoch 3 Batch 6700 Loss 1.1823\n",
            "Epoch 3 Batch 6750 Loss 1.1833\n",
            "Epoch 3 Batch 6800 Loss 1.1845\n",
            "Epoch 3 Batch 6850 Loss 1.1854\n",
            "Epoch 3 Batch 6900 Loss 1.1864\n",
            "Saving checkpoint for epoch 3 at ./checkpoints4/ckpt-3\n",
            "Time taken for 1 epoch: 1749.5652010440826 secs\n",
            "\n",
            "Start of epoch 4\n",
            "Epoch 4 Batch 0 Loss 1.2948\n",
            "Epoch 4 Batch 50 Loss 1.2818\n",
            "Epoch 4 Batch 100 Loss 1.2689\n",
            "Epoch 4 Batch 150 Loss 1.2634\n",
            "Epoch 4 Batch 200 Loss 1.2634\n",
            "Epoch 4 Batch 250 Loss 1.2567\n",
            "Epoch 4 Batch 300 Loss 1.2569\n",
            "Epoch 4 Batch 350 Loss 1.2563\n",
            "Epoch 4 Batch 400 Loss 1.2538\n",
            "Epoch 4 Batch 450 Loss 1.2517\n",
            "Epoch 4 Batch 500 Loss 1.2483\n",
            "Epoch 4 Batch 550 Loss 1.2446\n",
            "Epoch 4 Batch 600 Loss 1.2407\n",
            "Epoch 4 Batch 650 Loss 1.2383\n",
            "Epoch 4 Batch 700 Loss 1.2371\n",
            "Epoch 4 Batch 750 Loss 1.2360\n",
            "Epoch 4 Batch 800 Loss 1.2333\n",
            "Epoch 4 Batch 850 Loss 1.2327\n",
            "Epoch 4 Batch 900 Loss 1.2328\n",
            "Epoch 4 Batch 950 Loss 1.2331\n",
            "Epoch 4 Batch 1000 Loss 1.2328\n",
            "Epoch 4 Batch 1050 Loss 1.2330\n",
            "Epoch 4 Batch 1100 Loss 1.2336\n",
            "Epoch 4 Batch 1150 Loss 1.2346\n",
            "Epoch 4 Batch 1200 Loss 1.2339\n",
            "Epoch 4 Batch 1250 Loss 1.2334\n",
            "Epoch 4 Batch 1300 Loss 1.2326\n",
            "Epoch 4 Batch 1350 Loss 1.2315\n",
            "Epoch 4 Batch 1400 Loss 1.2287\n",
            "Epoch 4 Batch 1450 Loss 1.2275\n",
            "Epoch 4 Batch 1500 Loss 1.2249\n",
            "Epoch 4 Batch 1550 Loss 1.2218\n",
            "Epoch 4 Batch 1600 Loss 1.2186\n",
            "Epoch 4 Batch 1650 Loss 1.2153\n",
            "Epoch 4 Batch 1700 Loss 1.2117\n",
            "Epoch 4 Batch 1750 Loss 1.2081\n",
            "Epoch 4 Batch 1800 Loss 1.2041\n",
            "Epoch 4 Batch 1850 Loss 1.2008\n",
            "Epoch 4 Batch 1900 Loss 1.1974\n",
            "Epoch 4 Batch 1950 Loss 1.1943\n",
            "Epoch 4 Batch 2000 Loss 1.1907\n",
            "Epoch 4 Batch 2050 Loss 1.1871\n",
            "Epoch 4 Batch 2100 Loss 1.1834\n",
            "Epoch 4 Batch 2150 Loss 1.1805\n",
            "Epoch 4 Batch 2200 Loss 1.1777\n",
            "Epoch 4 Batch 2250 Loss 1.1742\n",
            "Epoch 4 Batch 2300 Loss 1.1710\n",
            "Epoch 4 Batch 2350 Loss 1.1678\n",
            "Epoch 4 Batch 2400 Loss 1.1648\n",
            "Epoch 4 Batch 2450 Loss 1.1614\n",
            "Epoch 4 Batch 2500 Loss 1.1579\n",
            "Epoch 4 Batch 2550 Loss 1.1548\n",
            "Epoch 4 Batch 2600 Loss 1.1515\n",
            "Epoch 4 Batch 2650 Loss 1.1484\n",
            "Epoch 4 Batch 2700 Loss 1.1449\n",
            "Epoch 4 Batch 2750 Loss 1.1412\n",
            "Epoch 4 Batch 2800 Loss 1.1381\n",
            "Epoch 4 Batch 2850 Loss 1.1348\n",
            "Epoch 4 Batch 2900 Loss 1.1313\n",
            "Epoch 4 Batch 2950 Loss 1.1283\n",
            "Epoch 4 Batch 3000 Loss 1.1253\n",
            "Epoch 4 Batch 3050 Loss 1.1226\n",
            "Epoch 4 Batch 3100 Loss 1.1200\n",
            "Epoch 4 Batch 3150 Loss 1.1176\n",
            "Epoch 4 Batch 3200 Loss 1.1157\n",
            "Epoch 4 Batch 3250 Loss 1.1134\n",
            "Epoch 4 Batch 3300 Loss 1.1116\n",
            "Epoch 4 Batch 3350 Loss 1.1098\n",
            "Epoch 4 Batch 3400 Loss 1.1073\n",
            "Epoch 4 Batch 3450 Loss 1.1057\n",
            "Epoch 4 Batch 3500 Loss 1.1040\n",
            "Epoch 4 Batch 3550 Loss 1.1022\n",
            "Epoch 4 Batch 3600 Loss 1.1008\n",
            "Epoch 4 Batch 3650 Loss 1.0992\n",
            "Epoch 4 Batch 3700 Loss 1.0979\n",
            "Epoch 4 Batch 3750 Loss 1.0966\n",
            "Epoch 4 Batch 3800 Loss 1.0955\n",
            "Epoch 4 Batch 3850 Loss 1.0945\n",
            "Epoch 4 Batch 3900 Loss 1.0930\n",
            "Epoch 4 Batch 3950 Loss 1.0914\n",
            "Epoch 4 Batch 4000 Loss 1.0905\n",
            "Epoch 4 Batch 4050 Loss 1.0892\n",
            "Epoch 4 Batch 4100 Loss 1.0878\n",
            "Epoch 4 Batch 4150 Loss 1.0867\n",
            "Epoch 4 Batch 4200 Loss 1.0851\n",
            "Epoch 4 Batch 4250 Loss 1.0840\n",
            "Epoch 4 Batch 4300 Loss 1.0826\n",
            "Epoch 4 Batch 4350 Loss 1.0814\n",
            "Epoch 4 Batch 4400 Loss 1.0806\n",
            "Epoch 4 Batch 4450 Loss 1.0795\n",
            "Epoch 4 Batch 4500 Loss 1.0784\n",
            "Epoch 4 Batch 4550 Loss 1.0771\n",
            "Epoch 4 Batch 4600 Loss 1.0759\n",
            "Epoch 4 Batch 4650 Loss 1.0748\n",
            "Epoch 4 Batch 4700 Loss 1.0738\n",
            "Epoch 4 Batch 4750 Loss 1.0728\n",
            "Epoch 4 Batch 4800 Loss 1.0718\n",
            "Epoch 4 Batch 4850 Loss 1.0707\n",
            "Epoch 4 Batch 4900 Loss 1.0698\n",
            "Epoch 4 Batch 4950 Loss 1.0690\n",
            "Epoch 4 Batch 5000 Loss 1.0683\n",
            "Epoch 4 Batch 5050 Loss 1.0674\n",
            "Epoch 4 Batch 5100 Loss 1.0665\n",
            "Epoch 4 Batch 5150 Loss 1.0654\n",
            "Epoch 4 Batch 5200 Loss 1.0645\n",
            "Epoch 4 Batch 5250 Loss 1.0638\n",
            "Epoch 4 Batch 5300 Loss 1.0631\n",
            "Epoch 4 Batch 5350 Loss 1.0633\n",
            "Epoch 4 Batch 5400 Loss 1.0639\n",
            "Epoch 4 Batch 5450 Loss 1.0652\n",
            "Epoch 4 Batch 5500 Loss 1.0666\n",
            "Epoch 4 Batch 5550 Loss 1.0681\n",
            "Epoch 4 Batch 5600 Loss 1.0696\n",
            "Epoch 4 Batch 5650 Loss 1.0712\n",
            "Epoch 4 Batch 5700 Loss 1.0729\n",
            "Epoch 4 Batch 5750 Loss 1.0745\n",
            "Epoch 4 Batch 5800 Loss 1.0764\n",
            "Epoch 4 Batch 5850 Loss 1.0781\n",
            "Epoch 4 Batch 5900 Loss 1.0796\n",
            "Epoch 4 Batch 5950 Loss 1.0811\n",
            "Epoch 4 Batch 6000 Loss 1.0825\n",
            "Epoch 4 Batch 6050 Loss 1.0839\n",
            "Epoch 4 Batch 6100 Loss 1.0852\n",
            "Epoch 4 Batch 6150 Loss 1.0867\n",
            "Epoch 4 Batch 6200 Loss 1.0885\n",
            "Epoch 4 Batch 6250 Loss 1.0904\n",
            "Epoch 4 Batch 6300 Loss 1.0921\n",
            "Epoch 4 Batch 6350 Loss 1.0934\n",
            "Epoch 4 Batch 6400 Loss 1.0951\n",
            "Epoch 4 Batch 6450 Loss 1.0968\n",
            "Epoch 4 Batch 6500 Loss 1.0979\n",
            "Epoch 4 Batch 6550 Loss 1.0992\n",
            "Epoch 4 Batch 6600 Loss 1.1007\n",
            "Epoch 4 Batch 6650 Loss 1.1019\n",
            "Epoch 4 Batch 6700 Loss 1.1029\n",
            "Epoch 4 Batch 6750 Loss 1.1039\n",
            "Epoch 4 Batch 6800 Loss 1.1049\n",
            "Epoch 4 Batch 6850 Loss 1.1060\n",
            "Epoch 4 Batch 6900 Loss 1.1071\n",
            "Saving checkpoint for epoch 4 at ./checkpoints4/ckpt-4\n",
            "Time taken for 1 epoch: 1748.7057900428772 secs\n",
            "\n",
            "Start of epoch 5\n",
            "Epoch 5 Batch 0 Loss 1.1377\n",
            "Epoch 5 Batch 50 Loss 1.2290\n",
            "Epoch 5 Batch 100 Loss 1.2241\n",
            "Epoch 5 Batch 150 Loss 1.2154\n",
            "Epoch 5 Batch 200 Loss 1.2009\n",
            "Epoch 5 Batch 250 Loss 1.1984\n",
            "Epoch 5 Batch 300 Loss 1.1910\n",
            "Epoch 5 Batch 350 Loss 1.1894\n",
            "Epoch 5 Batch 400 Loss 1.1862\n",
            "Epoch 5 Batch 450 Loss 1.1873\n",
            "Epoch 5 Batch 500 Loss 1.1834\n",
            "Epoch 5 Batch 550 Loss 1.1814\n",
            "Epoch 5 Batch 600 Loss 1.1802\n",
            "Epoch 5 Batch 650 Loss 1.1773\n",
            "Epoch 5 Batch 700 Loss 1.1762\n",
            "Epoch 5 Batch 750 Loss 1.1754\n",
            "Epoch 5 Batch 800 Loss 1.1745\n",
            "Epoch 5 Batch 850 Loss 1.1732\n",
            "Epoch 5 Batch 900 Loss 1.1724\n",
            "Epoch 5 Batch 950 Loss 1.1739\n",
            "Epoch 5 Batch 1000 Loss 1.1726\n",
            "Epoch 5 Batch 1050 Loss 1.1725\n",
            "Epoch 5 Batch 1100 Loss 1.1726\n",
            "Epoch 5 Batch 1150 Loss 1.1747\n",
            "Epoch 5 Batch 1200 Loss 1.1761\n",
            "Epoch 5 Batch 1250 Loss 1.1767\n",
            "Epoch 5 Batch 1300 Loss 1.1758\n",
            "Epoch 5 Batch 1350 Loss 1.1743\n",
            "Epoch 5 Batch 1400 Loss 1.1724\n",
            "Epoch 5 Batch 1450 Loss 1.1703\n",
            "Epoch 5 Batch 1500 Loss 1.1683\n",
            "Epoch 5 Batch 1550 Loss 1.1645\n",
            "Epoch 5 Batch 1600 Loss 1.1609\n",
            "Epoch 5 Batch 1650 Loss 1.1583\n",
            "Epoch 5 Batch 1700 Loss 1.1552\n",
            "Epoch 5 Batch 1750 Loss 1.1526\n",
            "Epoch 5 Batch 1800 Loss 1.1492\n",
            "Epoch 5 Batch 1850 Loss 1.1457\n",
            "Epoch 5 Batch 1900 Loss 1.1420\n",
            "Epoch 5 Batch 1950 Loss 1.1383\n",
            "Epoch 5 Batch 2000 Loss 1.1348\n",
            "Epoch 5 Batch 2050 Loss 1.1318\n",
            "Epoch 5 Batch 2100 Loss 1.1284\n",
            "Epoch 5 Batch 2150 Loss 1.1248\n",
            "Epoch 5 Batch 2200 Loss 1.1217\n",
            "Epoch 5 Batch 2250 Loss 1.1182\n",
            "Epoch 5 Batch 2300 Loss 1.1143\n",
            "Epoch 5 Batch 2350 Loss 1.1110\n",
            "Epoch 5 Batch 2400 Loss 1.1079\n",
            "Epoch 5 Batch 2450 Loss 1.1045\n",
            "Epoch 5 Batch 2500 Loss 1.1014\n",
            "Epoch 5 Batch 2550 Loss 1.0979\n",
            "Epoch 5 Batch 2600 Loss 1.0948\n",
            "Epoch 5 Batch 2650 Loss 1.0918\n",
            "Epoch 5 Batch 2700 Loss 1.0885\n",
            "Epoch 5 Batch 2750 Loss 1.0846\n",
            "Epoch 5 Batch 2800 Loss 1.0813\n",
            "Epoch 5 Batch 2850 Loss 1.0783\n",
            "Epoch 5 Batch 2900 Loss 1.0753\n",
            "Epoch 5 Batch 2950 Loss 1.0722\n",
            "Epoch 5 Batch 3000 Loss 1.0697\n",
            "Epoch 5 Batch 3050 Loss 1.0667\n",
            "Epoch 5 Batch 3100 Loss 1.0642\n",
            "Epoch 5 Batch 3150 Loss 1.0617\n",
            "Epoch 5 Batch 3200 Loss 1.0597\n",
            "Epoch 5 Batch 3250 Loss 1.0572\n",
            "Epoch 5 Batch 3300 Loss 1.0554\n",
            "Epoch 5 Batch 3350 Loss 1.0535\n",
            "Epoch 5 Batch 3400 Loss 1.0517\n",
            "Epoch 5 Batch 3450 Loss 1.0500\n",
            "Epoch 5 Batch 3500 Loss 1.0487\n",
            "Epoch 5 Batch 3550 Loss 1.0470\n",
            "Epoch 5 Batch 3600 Loss 1.0455\n",
            "Epoch 5 Batch 3650 Loss 1.0445\n",
            "Epoch 5 Batch 3700 Loss 1.0431\n",
            "Epoch 5 Batch 3750 Loss 1.0418\n",
            "Epoch 5 Batch 3800 Loss 1.0405\n",
            "Epoch 5 Batch 3850 Loss 1.0392\n",
            "Epoch 5 Batch 3900 Loss 1.0381\n",
            "Epoch 5 Batch 3950 Loss 1.0372\n",
            "Epoch 5 Batch 4000 Loss 1.0361\n",
            "Epoch 5 Batch 4050 Loss 1.0352\n",
            "Epoch 5 Batch 4100 Loss 1.0339\n",
            "Epoch 5 Batch 4150 Loss 1.0327\n",
            "Epoch 5 Batch 4200 Loss 1.0314\n",
            "Epoch 5 Batch 4250 Loss 1.0303\n",
            "Epoch 5 Batch 4300 Loss 1.0291\n",
            "Epoch 5 Batch 4350 Loss 1.0281\n",
            "Epoch 5 Batch 4400 Loss 1.0271\n",
            "Epoch 5 Batch 4450 Loss 1.0258\n",
            "Epoch 5 Batch 4500 Loss 1.0249\n",
            "Epoch 5 Batch 4550 Loss 1.0241\n",
            "Epoch 5 Batch 4600 Loss 1.0231\n",
            "Epoch 5 Batch 4650 Loss 1.0221\n",
            "Epoch 5 Batch 4700 Loss 1.0215\n",
            "Epoch 5 Batch 4750 Loss 1.0206\n",
            "Epoch 5 Batch 4800 Loss 1.0196\n",
            "Epoch 5 Batch 4850 Loss 1.0186\n",
            "Epoch 5 Batch 4900 Loss 1.0179\n",
            "Epoch 5 Batch 4950 Loss 1.0170\n",
            "Epoch 5 Batch 5000 Loss 1.0163\n",
            "Epoch 5 Batch 5050 Loss 1.0155\n",
            "Epoch 5 Batch 5100 Loss 1.0146\n",
            "Epoch 5 Batch 5150 Loss 1.0136\n",
            "Epoch 5 Batch 5200 Loss 1.0127\n",
            "Epoch 5 Batch 5250 Loss 1.0123\n",
            "Epoch 5 Batch 5300 Loss 1.0115\n",
            "Epoch 5 Batch 5350 Loss 1.0119\n",
            "Epoch 5 Batch 5400 Loss 1.0127\n",
            "Epoch 5 Batch 5450 Loss 1.0138\n",
            "Epoch 5 Batch 5500 Loss 1.0151\n",
            "Epoch 5 Batch 5550 Loss 1.0169\n",
            "Epoch 5 Batch 5600 Loss 1.0185\n",
            "Epoch 5 Batch 5650 Loss 1.0202\n",
            "Epoch 5 Batch 5700 Loss 1.0221\n",
            "Epoch 5 Batch 5750 Loss 1.0239\n",
            "Epoch 5 Batch 5800 Loss 1.0257\n",
            "Epoch 5 Batch 5850 Loss 1.0276\n",
            "Epoch 5 Batch 5900 Loss 1.0289\n",
            "Epoch 5 Batch 5950 Loss 1.0303\n",
            "Epoch 5 Batch 6000 Loss 1.0319\n",
            "Epoch 5 Batch 6050 Loss 1.0331\n",
            "Epoch 5 Batch 6100 Loss 1.0348\n",
            "Epoch 5 Batch 6150 Loss 1.0363\n",
            "Epoch 5 Batch 6200 Loss 1.0381\n",
            "Epoch 5 Batch 6250 Loss 1.0397\n",
            "Epoch 5 Batch 6300 Loss 1.0416\n",
            "Epoch 5 Batch 6350 Loss 1.0432\n",
            "Epoch 5 Batch 6400 Loss 1.0449\n",
            "Epoch 5 Batch 6450 Loss 1.0463\n",
            "Epoch 5 Batch 6500 Loss 1.0476\n",
            "Epoch 5 Batch 6550 Loss 1.0491\n",
            "Epoch 5 Batch 6600 Loss 1.0506\n",
            "Epoch 5 Batch 6650 Loss 1.0519\n",
            "Epoch 5 Batch 6700 Loss 1.0530\n",
            "Epoch 5 Batch 6750 Loss 1.0543\n",
            "Epoch 5 Batch 6800 Loss 1.0553\n",
            "Epoch 5 Batch 6850 Loss 1.0564\n",
            "Epoch 5 Batch 6900 Loss 1.0578\n",
            "Saving checkpoint for epoch 5 at ./checkpoints4/ckpt-5\n",
            "Time taken for 1 epoch: 1741.9085755348206 secs\n",
            "\n",
            "Start of epoch 6\n",
            "Epoch 6 Batch 0 Loss 1.1555\n",
            "Epoch 6 Batch 50 Loss 1.1839\n",
            "Epoch 6 Batch 100 Loss 1.1591\n",
            "Epoch 6 Batch 150 Loss 1.1571\n",
            "Epoch 6 Batch 200 Loss 1.1628\n",
            "Epoch 6 Batch 250 Loss 1.1580\n",
            "Epoch 6 Batch 300 Loss 1.1555\n",
            "Epoch 6 Batch 350 Loss 1.1530\n",
            "Epoch 6 Batch 400 Loss 1.1479\n",
            "Epoch 6 Batch 450 Loss 1.1492\n",
            "Epoch 6 Batch 500 Loss 1.1479\n",
            "Epoch 6 Batch 550 Loss 1.1442\n",
            "Epoch 6 Batch 600 Loss 1.1429\n",
            "Epoch 6 Batch 650 Loss 1.1408\n",
            "Epoch 6 Batch 700 Loss 1.1403\n",
            "Epoch 6 Batch 750 Loss 1.1398\n",
            "Epoch 6 Batch 800 Loss 1.1378\n",
            "Epoch 6 Batch 850 Loss 1.1363\n",
            "Epoch 6 Batch 900 Loss 1.1340\n",
            "Epoch 6 Batch 950 Loss 1.1334\n",
            "Epoch 6 Batch 1000 Loss 1.1338\n",
            "Epoch 6 Batch 1050 Loss 1.1332\n",
            "Epoch 6 Batch 1100 Loss 1.1337\n",
            "Epoch 6 Batch 1150 Loss 1.1350\n",
            "Epoch 6 Batch 1200 Loss 1.1361\n",
            "Epoch 6 Batch 1250 Loss 1.1345\n",
            "Epoch 6 Batch 1300 Loss 1.1328\n",
            "Epoch 6 Batch 1350 Loss 1.1318\n",
            "Epoch 6 Batch 1400 Loss 1.1310\n",
            "Epoch 6 Batch 1450 Loss 1.1303\n",
            "Epoch 6 Batch 1500 Loss 1.1286\n",
            "Epoch 6 Batch 1550 Loss 1.1263\n",
            "Epoch 6 Batch 1600 Loss 1.1227\n",
            "Epoch 6 Batch 1650 Loss 1.1200\n",
            "Epoch 6 Batch 1700 Loss 1.1172\n",
            "Epoch 6 Batch 1750 Loss 1.1135\n",
            "Epoch 6 Batch 1800 Loss 1.1105\n",
            "Epoch 6 Batch 1850 Loss 1.1069\n",
            "Epoch 6 Batch 1900 Loss 1.1035\n",
            "Epoch 6 Batch 1950 Loss 1.1002\n",
            "Epoch 6 Batch 2000 Loss 1.0971\n",
            "Epoch 6 Batch 2050 Loss 1.0937\n",
            "Epoch 6 Batch 2100 Loss 1.0908\n",
            "Epoch 6 Batch 2150 Loss 1.0879\n",
            "Epoch 6 Batch 2200 Loss 1.0850\n",
            "Epoch 6 Batch 2250 Loss 1.0814\n",
            "Epoch 6 Batch 2300 Loss 1.0781\n",
            "Epoch 6 Batch 2350 Loss 1.0748\n",
            "Epoch 6 Batch 2400 Loss 1.0712\n",
            "Epoch 6 Batch 2450 Loss 1.0680\n",
            "Epoch 6 Batch 2500 Loss 1.0650\n",
            "Epoch 6 Batch 2550 Loss 1.0617\n",
            "Epoch 6 Batch 2600 Loss 1.0588\n",
            "Epoch 6 Batch 2650 Loss 1.0556\n",
            "Epoch 6 Batch 2700 Loss 1.0522\n",
            "Epoch 6 Batch 2750 Loss 1.0489\n",
            "Epoch 6 Batch 2800 Loss 1.0457\n",
            "Epoch 6 Batch 2850 Loss 1.0426\n",
            "Epoch 6 Batch 2900 Loss 1.0398\n",
            "Epoch 6 Batch 2950 Loss 1.0369\n",
            "Epoch 6 Batch 3000 Loss 1.0345\n",
            "Epoch 6 Batch 3050 Loss 1.0315\n",
            "Epoch 6 Batch 3100 Loss 1.0289\n",
            "Epoch 6 Batch 3150 Loss 1.0264\n",
            "Epoch 6 Batch 3200 Loss 1.0239\n",
            "Epoch 6 Batch 3250 Loss 1.0217\n",
            "Epoch 6 Batch 3300 Loss 1.0196\n",
            "Epoch 6 Batch 3350 Loss 1.0173\n",
            "Epoch 6 Batch 3400 Loss 1.0154\n",
            "Epoch 6 Batch 3450 Loss 1.0139\n",
            "Epoch 6 Batch 3500 Loss 1.0123\n",
            "Epoch 6 Batch 3550 Loss 1.0108\n",
            "Epoch 6 Batch 3600 Loss 1.0098\n",
            "Epoch 6 Batch 3650 Loss 1.0086\n",
            "Epoch 6 Batch 3700 Loss 1.0073\n",
            "Epoch 6 Batch 3750 Loss 1.0062\n",
            "Epoch 6 Batch 3800 Loss 1.0049\n",
            "Epoch 6 Batch 3850 Loss 1.0038\n",
            "Epoch 6 Batch 3900 Loss 1.0031\n",
            "Epoch 6 Batch 3950 Loss 1.0021\n",
            "Epoch 6 Batch 4000 Loss 1.0008\n",
            "Epoch 6 Batch 4050 Loss 0.9995\n",
            "Epoch 6 Batch 4100 Loss 0.9983\n",
            "Epoch 6 Batch 4150 Loss 0.9970\n",
            "Epoch 6 Batch 4200 Loss 0.9960\n",
            "Epoch 6 Batch 4250 Loss 0.9951\n",
            "Epoch 6 Batch 4300 Loss 0.9938\n",
            "Epoch 6 Batch 4350 Loss 0.9929\n",
            "Epoch 6 Batch 4400 Loss 0.9920\n",
            "Epoch 6 Batch 4450 Loss 0.9912\n",
            "Epoch 6 Batch 4500 Loss 0.9902\n",
            "Epoch 6 Batch 4550 Loss 0.9894\n",
            "Epoch 6 Batch 4600 Loss 0.9885\n",
            "Epoch 6 Batch 4650 Loss 0.9875\n",
            "Epoch 6 Batch 4700 Loss 0.9868\n",
            "Epoch 6 Batch 4750 Loss 0.9859\n",
            "Epoch 6 Batch 4800 Loss 0.9852\n",
            "Epoch 6 Batch 4850 Loss 0.9843\n",
            "Epoch 6 Batch 4900 Loss 0.9833\n",
            "Epoch 6 Batch 4950 Loss 0.9824\n",
            "Epoch 6 Batch 5000 Loss 0.9817\n",
            "Epoch 6 Batch 5050 Loss 0.9810\n",
            "Epoch 6 Batch 5100 Loss 0.9802\n",
            "Epoch 6 Batch 5150 Loss 0.9793\n",
            "Epoch 6 Batch 5200 Loss 0.9787\n",
            "Epoch 6 Batch 5250 Loss 0.9783\n",
            "Epoch 6 Batch 5300 Loss 0.9778\n",
            "Epoch 6 Batch 5350 Loss 0.9782\n",
            "Epoch 6 Batch 5400 Loss 0.9792\n",
            "Epoch 6 Batch 5450 Loss 0.9802\n",
            "Epoch 6 Batch 5500 Loss 0.9816\n",
            "Epoch 6 Batch 5550 Loss 0.9831\n",
            "Epoch 6 Batch 5600 Loss 0.9847\n",
            "Epoch 6 Batch 5650 Loss 0.9866\n",
            "Epoch 6 Batch 5700 Loss 0.9884\n",
            "Epoch 6 Batch 5750 Loss 0.9904\n",
            "Epoch 6 Batch 5800 Loss 0.9921\n",
            "Epoch 6 Batch 5850 Loss 0.9935\n",
            "Epoch 6 Batch 5900 Loss 0.9954\n",
            "Epoch 6 Batch 5950 Loss 0.9968\n",
            "Epoch 6 Batch 6000 Loss 0.9982\n",
            "Epoch 6 Batch 6050 Loss 0.9995\n",
            "Epoch 6 Batch 6100 Loss 1.0010\n",
            "Epoch 6 Batch 6150 Loss 1.0025\n",
            "Epoch 6 Batch 6200 Loss 1.0042\n",
            "Epoch 6 Batch 6250 Loss 1.0059\n",
            "Epoch 6 Batch 6300 Loss 1.0077\n",
            "Epoch 6 Batch 6350 Loss 1.0094\n",
            "Epoch 6 Batch 6400 Loss 1.0113\n",
            "Epoch 6 Batch 6450 Loss 1.0129\n",
            "Epoch 6 Batch 6500 Loss 1.0146\n",
            "Epoch 6 Batch 6550 Loss 1.0159\n",
            "Epoch 6 Batch 6600 Loss 1.0175\n",
            "Epoch 6 Batch 6650 Loss 1.0187\n",
            "Epoch 6 Batch 6700 Loss 1.0201\n",
            "Epoch 6 Batch 6750 Loss 1.0211\n",
            "Epoch 6 Batch 6800 Loss 1.0223\n",
            "Epoch 6 Batch 6850 Loss 1.0234\n",
            "Epoch 6 Batch 6900 Loss 1.0245\n",
            "Saving checkpoint for epoch 6 at ./checkpoints4/ckpt-6\n",
            "Time taken for 1 epoch: 1736.1079981327057 secs\n",
            "\n",
            "Start of epoch 7\n",
            "Epoch 7 Batch 0 Loss 1.1973\n",
            "Epoch 7 Batch 50 Loss 1.1222\n",
            "Epoch 7 Batch 100 Loss 1.1263\n",
            "Epoch 7 Batch 150 Loss 1.1262\n",
            "Epoch 7 Batch 200 Loss 1.1256\n",
            "Epoch 7 Batch 250 Loss 1.1255\n",
            "Epoch 7 Batch 300 Loss 1.1254\n",
            "Epoch 7 Batch 350 Loss 1.1233\n",
            "Epoch 7 Batch 400 Loss 1.1245\n",
            "Epoch 7 Batch 450 Loss 1.1247\n",
            "Epoch 7 Batch 500 Loss 1.1226\n",
            "Epoch 7 Batch 550 Loss 1.1210\n",
            "Epoch 7 Batch 600 Loss 1.1175\n",
            "Epoch 7 Batch 650 Loss 1.1147\n",
            "Epoch 7 Batch 700 Loss 1.1140\n",
            "Epoch 7 Batch 750 Loss 1.1115\n",
            "Epoch 7 Batch 800 Loss 1.1091\n",
            "Epoch 7 Batch 850 Loss 1.1085\n",
            "Epoch 7 Batch 900 Loss 1.1087\n",
            "Epoch 7 Batch 950 Loss 1.1072\n",
            "Epoch 7 Batch 1000 Loss 1.1072\n",
            "Epoch 7 Batch 1050 Loss 1.1065\n",
            "Epoch 7 Batch 1100 Loss 1.1077\n",
            "Epoch 7 Batch 1150 Loss 1.1092\n",
            "Epoch 7 Batch 1200 Loss 1.1106\n",
            "Epoch 7 Batch 1250 Loss 1.1096\n",
            "Epoch 7 Batch 1300 Loss 1.1084\n",
            "Epoch 7 Batch 1350 Loss 1.1070\n",
            "Epoch 7 Batch 1400 Loss 1.1051\n",
            "Epoch 7 Batch 1450 Loss 1.1036\n",
            "Epoch 7 Batch 1500 Loss 1.1014\n",
            "Epoch 7 Batch 1550 Loss 1.0994\n",
            "Epoch 7 Batch 1600 Loss 1.0960\n",
            "Epoch 7 Batch 1650 Loss 1.0926\n",
            "Epoch 7 Batch 1700 Loss 1.0889\n",
            "Epoch 7 Batch 1750 Loss 1.0863\n",
            "Epoch 7 Batch 1800 Loss 1.0824\n",
            "Epoch 7 Batch 1850 Loss 1.0791\n",
            "Epoch 7 Batch 1900 Loss 1.0752\n",
            "Epoch 7 Batch 1950 Loss 1.0715\n",
            "Epoch 7 Batch 2000 Loss 1.0682\n",
            "Epoch 7 Batch 2050 Loss 1.0654\n",
            "Epoch 7 Batch 2100 Loss 1.0632\n",
            "Epoch 7 Batch 2150 Loss 1.0605\n",
            "Epoch 7 Batch 2200 Loss 1.0577\n",
            "Epoch 7 Batch 2250 Loss 1.0542\n",
            "Epoch 7 Batch 2300 Loss 1.0507\n",
            "Epoch 7 Batch 2350 Loss 1.0473\n",
            "Epoch 7 Batch 2400 Loss 1.0441\n",
            "Epoch 7 Batch 2450 Loss 1.0410\n",
            "Epoch 7 Batch 2500 Loss 1.0377\n",
            "Epoch 7 Batch 2550 Loss 1.0349\n",
            "Epoch 7 Batch 2600 Loss 1.0317\n",
            "Epoch 7 Batch 2650 Loss 1.0282\n",
            "Epoch 7 Batch 2700 Loss 1.0249\n",
            "Epoch 7 Batch 2750 Loss 1.0219\n",
            "Epoch 7 Batch 2800 Loss 1.0181\n",
            "Epoch 7 Batch 2850 Loss 1.0147\n",
            "Epoch 7 Batch 2900 Loss 1.0115\n",
            "Epoch 7 Batch 2950 Loss 1.0091\n",
            "Epoch 7 Batch 3000 Loss 1.0069\n",
            "Epoch 7 Batch 3050 Loss 1.0042\n",
            "Epoch 7 Batch 3100 Loss 1.0017\n",
            "Epoch 7 Batch 3150 Loss 0.9996\n",
            "Epoch 7 Batch 3200 Loss 0.9974\n",
            "Epoch 7 Batch 3250 Loss 0.9955\n",
            "Epoch 7 Batch 3300 Loss 0.9933\n",
            "Epoch 7 Batch 3350 Loss 0.9912\n",
            "Epoch 7 Batch 3400 Loss 0.9897\n",
            "Epoch 7 Batch 3450 Loss 0.9880\n",
            "Epoch 7 Batch 3500 Loss 0.9866\n",
            "Epoch 7 Batch 3550 Loss 0.9851\n",
            "Epoch 7 Batch 3600 Loss 0.9838\n",
            "Epoch 7 Batch 3650 Loss 0.9823\n",
            "Epoch 7 Batch 3700 Loss 0.9812\n",
            "Epoch 7 Batch 3750 Loss 0.9800\n",
            "Epoch 7 Batch 3800 Loss 0.9786\n",
            "Epoch 7 Batch 3850 Loss 0.9777\n",
            "Epoch 7 Batch 3900 Loss 0.9764\n",
            "Epoch 7 Batch 3950 Loss 0.9757\n",
            "Epoch 7 Batch 4000 Loss 0.9745\n",
            "Epoch 7 Batch 4050 Loss 0.9732\n",
            "Epoch 7 Batch 4100 Loss 0.9717\n",
            "Epoch 7 Batch 4150 Loss 0.9704\n",
            "Epoch 7 Batch 4200 Loss 0.9691\n",
            "Epoch 7 Batch 4250 Loss 0.9684\n",
            "Epoch 7 Batch 4300 Loss 0.9676\n",
            "Epoch 7 Batch 4350 Loss 0.9666\n",
            "Epoch 7 Batch 4400 Loss 0.9656\n",
            "Epoch 7 Batch 4450 Loss 0.9649\n",
            "Epoch 7 Batch 4500 Loss 0.9641\n",
            "Epoch 7 Batch 4550 Loss 0.9632\n",
            "Epoch 7 Batch 4600 Loss 0.9623\n",
            "Epoch 7 Batch 4650 Loss 0.9613\n",
            "Epoch 7 Batch 4700 Loss 0.9606\n",
            "Epoch 7 Batch 4750 Loss 0.9596\n",
            "Epoch 7 Batch 4800 Loss 0.9586\n",
            "Epoch 7 Batch 4850 Loss 0.9576\n",
            "Epoch 7 Batch 4900 Loss 0.9569\n",
            "Epoch 7 Batch 4950 Loss 0.9564\n",
            "Epoch 7 Batch 5000 Loss 0.9556\n",
            "Epoch 7 Batch 5050 Loss 0.9550\n",
            "Epoch 7 Batch 5100 Loss 0.9545\n",
            "Epoch 7 Batch 5150 Loss 0.9536\n",
            "Epoch 7 Batch 5200 Loss 0.9529\n",
            "Epoch 7 Batch 5250 Loss 0.9522\n",
            "Epoch 7 Batch 5300 Loss 0.9518\n",
            "Epoch 7 Batch 5350 Loss 0.9523\n",
            "Epoch 7 Batch 5400 Loss 0.9530\n",
            "Epoch 7 Batch 5450 Loss 0.9542\n",
            "Epoch 7 Batch 5500 Loss 0.9556\n",
            "Epoch 7 Batch 5550 Loss 0.9572\n",
            "Epoch 7 Batch 5600 Loss 0.9589\n",
            "Epoch 7 Batch 5650 Loss 0.9606\n",
            "Epoch 7 Batch 5700 Loss 0.9624\n",
            "Epoch 7 Batch 5750 Loss 0.9643\n",
            "Epoch 7 Batch 5800 Loss 0.9659\n",
            "Epoch 7 Batch 5850 Loss 0.9677\n",
            "Epoch 7 Batch 5900 Loss 0.9692\n",
            "Epoch 7 Batch 5950 Loss 0.9708\n",
            "Epoch 7 Batch 6000 Loss 0.9724\n",
            "Epoch 7 Batch 6050 Loss 0.9740\n",
            "Epoch 7 Batch 6100 Loss 0.9756\n",
            "Epoch 7 Batch 6150 Loss 0.9772\n",
            "Epoch 7 Batch 6200 Loss 0.9790\n",
            "Epoch 7 Batch 6250 Loss 0.9808\n",
            "Epoch 7 Batch 6300 Loss 0.9825\n",
            "Epoch 7 Batch 6350 Loss 0.9842\n",
            "Epoch 7 Batch 6400 Loss 0.9859\n",
            "Epoch 7 Batch 6450 Loss 0.9876\n",
            "Epoch 7 Batch 6500 Loss 0.9891\n",
            "Epoch 7 Batch 6550 Loss 0.9905\n",
            "Epoch 7 Batch 6600 Loss 0.9919\n",
            "Epoch 7 Batch 6650 Loss 0.9932\n",
            "Epoch 7 Batch 6700 Loss 0.9945\n",
            "Epoch 7 Batch 6750 Loss 0.9957\n",
            "Epoch 7 Batch 6800 Loss 0.9968\n",
            "Epoch 7 Batch 6850 Loss 0.9980\n",
            "Epoch 7 Batch 6900 Loss 0.9992\n",
            "Saving checkpoint for epoch 7 at ./checkpoints4/ckpt-7\n",
            "Time taken for 1 epoch: 1736.6631264686584 secs\n",
            "\n",
            "Start of epoch 8\n",
            "Epoch 8 Batch 0 Loss 1.2783\n",
            "Epoch 8 Batch 50 Loss 1.1285\n",
            "Epoch 8 Batch 100 Loss 1.1136\n",
            "Epoch 8 Batch 150 Loss 1.1126\n",
            "Epoch 8 Batch 200 Loss 1.1127\n",
            "Epoch 8 Batch 250 Loss 1.1105\n",
            "Epoch 8 Batch 300 Loss 1.1100\n",
            "Epoch 8 Batch 350 Loss 1.1063\n",
            "Epoch 8 Batch 400 Loss 1.1022\n",
            "Epoch 8 Batch 450 Loss 1.1024\n",
            "Epoch 8 Batch 500 Loss 1.0982\n",
            "Epoch 8 Batch 550 Loss 1.0956\n",
            "Epoch 8 Batch 600 Loss 1.0916\n",
            "Epoch 8 Batch 650 Loss 1.0901\n",
            "Epoch 8 Batch 700 Loss 1.0894\n",
            "Epoch 8 Batch 750 Loss 1.0879\n",
            "Epoch 8 Batch 800 Loss 1.0876\n",
            "Epoch 8 Batch 850 Loss 1.0856\n",
            "Epoch 8 Batch 900 Loss 1.0857\n",
            "Epoch 8 Batch 950 Loss 1.0855\n",
            "Epoch 8 Batch 1000 Loss 1.0856\n",
            "Epoch 8 Batch 1050 Loss 1.0873\n",
            "Epoch 8 Batch 1100 Loss 1.0881\n",
            "Epoch 8 Batch 1150 Loss 1.0884\n",
            "Epoch 8 Batch 1200 Loss 1.0873\n",
            "Epoch 8 Batch 1250 Loss 1.0861\n",
            "Epoch 8 Batch 1300 Loss 1.0868\n",
            "Epoch 8 Batch 1350 Loss 1.0848\n",
            "Epoch 8 Batch 1400 Loss 1.0834\n",
            "Epoch 8 Batch 1450 Loss 1.0819\n",
            "Epoch 8 Batch 1500 Loss 1.0800\n",
            "Epoch 8 Batch 1550 Loss 1.0773\n",
            "Epoch 8 Batch 1600 Loss 1.0748\n",
            "Epoch 8 Batch 1650 Loss 1.0709\n",
            "Epoch 8 Batch 1700 Loss 1.0676\n",
            "Epoch 8 Batch 1750 Loss 1.0642\n",
            "Epoch 8 Batch 1800 Loss 1.0617\n",
            "Epoch 8 Batch 1850 Loss 1.0581\n",
            "Epoch 8 Batch 1900 Loss 1.0544\n",
            "Epoch 8 Batch 1950 Loss 1.0509\n",
            "Epoch 8 Batch 2000 Loss 1.0478\n",
            "Epoch 8 Batch 2050 Loss 1.0447\n",
            "Epoch 8 Batch 2100 Loss 1.0414\n",
            "Epoch 8 Batch 2150 Loss 1.0382\n",
            "Epoch 8 Batch 2200 Loss 1.0351\n",
            "Epoch 8 Batch 2250 Loss 1.0319\n",
            "Epoch 8 Batch 2300 Loss 1.0286\n",
            "Epoch 8 Batch 2350 Loss 1.0253\n",
            "Epoch 8 Batch 2400 Loss 1.0220\n",
            "Epoch 8 Batch 2450 Loss 1.0188\n",
            "Epoch 8 Batch 2500 Loss 1.0157\n",
            "Epoch 8 Batch 2550 Loss 1.0128\n",
            "Epoch 8 Batch 2600 Loss 1.0097\n",
            "Epoch 8 Batch 2650 Loss 1.0070\n",
            "Epoch 8 Batch 2700 Loss 1.0039\n",
            "Epoch 8 Batch 2750 Loss 1.0005\n",
            "Epoch 8 Batch 2800 Loss 0.9971\n",
            "Epoch 8 Batch 2850 Loss 0.9943\n",
            "Epoch 8 Batch 2900 Loss 0.9911\n",
            "Epoch 8 Batch 2950 Loss 0.9885\n",
            "Epoch 8 Batch 3000 Loss 0.9857\n",
            "Epoch 8 Batch 3050 Loss 0.9828\n",
            "Epoch 8 Batch 3100 Loss 0.9806\n",
            "Epoch 8 Batch 3150 Loss 0.9786\n",
            "Epoch 8 Batch 3200 Loss 0.9762\n",
            "Epoch 8 Batch 3250 Loss 0.9742\n",
            "Epoch 8 Batch 3300 Loss 0.9720\n",
            "Epoch 8 Batch 3350 Loss 0.9702\n",
            "Epoch 8 Batch 3400 Loss 0.9686\n",
            "Epoch 8 Batch 3450 Loss 0.9669\n",
            "Epoch 8 Batch 3500 Loss 0.9656\n",
            "Epoch 8 Batch 3550 Loss 0.9641\n",
            "Epoch 8 Batch 3600 Loss 0.9632\n",
            "Epoch 8 Batch 3650 Loss 0.9619\n",
            "Epoch 8 Batch 3700 Loss 0.9609\n",
            "Epoch 8 Batch 3750 Loss 0.9597\n",
            "Epoch 8 Batch 3800 Loss 0.9582\n",
            "Epoch 8 Batch 3850 Loss 0.9571\n",
            "Epoch 8 Batch 3900 Loss 0.9562\n",
            "Epoch 8 Batch 3950 Loss 0.9551\n",
            "Epoch 8 Batch 4000 Loss 0.9541\n",
            "Epoch 8 Batch 4050 Loss 0.9532\n",
            "Epoch 8 Batch 4100 Loss 0.9519\n",
            "Epoch 8 Batch 4150 Loss 0.9509\n",
            "Epoch 8 Batch 4200 Loss 0.9494\n",
            "Epoch 8 Batch 4250 Loss 0.9484\n",
            "Epoch 8 Batch 4300 Loss 0.9473\n",
            "Epoch 8 Batch 4350 Loss 0.9463\n",
            "Epoch 8 Batch 4400 Loss 0.9454\n",
            "Epoch 8 Batch 4450 Loss 0.9446\n",
            "Epoch 8 Batch 4500 Loss 0.9436\n",
            "Epoch 8 Batch 4550 Loss 0.9428\n",
            "Epoch 8 Batch 4600 Loss 0.9417\n",
            "Epoch 8 Batch 4650 Loss 0.9409\n",
            "Epoch 8 Batch 4700 Loss 0.9399\n",
            "Epoch 8 Batch 4750 Loss 0.9390\n",
            "Epoch 8 Batch 4800 Loss 0.9382\n",
            "Epoch 8 Batch 4850 Loss 0.9375\n",
            "Epoch 8 Batch 4900 Loss 0.9367\n",
            "Epoch 8 Batch 4950 Loss 0.9359\n",
            "Epoch 8 Batch 5000 Loss 0.9352\n",
            "Epoch 8 Batch 5050 Loss 0.9344\n",
            "Epoch 8 Batch 5100 Loss 0.9338\n",
            "Epoch 8 Batch 5150 Loss 0.9332\n",
            "Epoch 8 Batch 5200 Loss 0.9324\n",
            "Epoch 8 Batch 5250 Loss 0.9320\n",
            "Epoch 8 Batch 5300 Loss 0.9316\n",
            "Epoch 8 Batch 5350 Loss 0.9319\n",
            "Epoch 8 Batch 5400 Loss 0.9324\n",
            "Epoch 8 Batch 5450 Loss 0.9336\n",
            "Epoch 8 Batch 5500 Loss 0.9350\n",
            "Epoch 8 Batch 5550 Loss 0.9368\n",
            "Epoch 8 Batch 5600 Loss 0.9388\n",
            "Epoch 8 Batch 5650 Loss 0.9406\n",
            "Epoch 8 Batch 5700 Loss 0.9424\n",
            "Epoch 8 Batch 5750 Loss 0.9441\n",
            "Epoch 8 Batch 5800 Loss 0.9458\n",
            "Epoch 8 Batch 5850 Loss 0.9472\n",
            "Epoch 8 Batch 5900 Loss 0.9489\n",
            "Epoch 8 Batch 5950 Loss 0.9504\n",
            "Epoch 8 Batch 6000 Loss 0.9520\n",
            "Epoch 8 Batch 6050 Loss 0.9536\n",
            "Epoch 8 Batch 6100 Loss 0.9551\n",
            "Epoch 8 Batch 6150 Loss 0.9567\n",
            "Epoch 8 Batch 6200 Loss 0.9585\n",
            "Epoch 8 Batch 6250 Loss 0.9602\n",
            "Epoch 8 Batch 6300 Loss 0.9621\n",
            "Epoch 8 Batch 6350 Loss 0.9639\n",
            "Epoch 8 Batch 6400 Loss 0.9655\n",
            "Epoch 8 Batch 6450 Loss 0.9673\n",
            "Epoch 8 Batch 6500 Loss 0.9688\n",
            "Epoch 8 Batch 6550 Loss 0.9704\n",
            "Epoch 8 Batch 6600 Loss 0.9719\n",
            "Epoch 8 Batch 6650 Loss 0.9732\n",
            "Epoch 8 Batch 6700 Loss 0.9745\n",
            "Epoch 8 Batch 6750 Loss 0.9757\n",
            "Epoch 8 Batch 6800 Loss 0.9770\n",
            "Epoch 8 Batch 6850 Loss 0.9780\n",
            "Epoch 8 Batch 6900 Loss 0.9791\n",
            "Saving checkpoint for epoch 8 at ./checkpoints4/ckpt-8\n",
            "Time taken for 1 epoch: 1734.0925741195679 secs\n",
            "\n",
            "Start of epoch 9\n",
            "Epoch 9 Batch 0 Loss 1.1821\n",
            "Epoch 9 Batch 50 Loss 1.1007\n",
            "Epoch 9 Batch 100 Loss 1.0978\n",
            "Epoch 9 Batch 150 Loss 1.0994\n",
            "Epoch 9 Batch 200 Loss 1.0896\n",
            "Epoch 9 Batch 250 Loss 1.0901\n",
            "Epoch 9 Batch 300 Loss 1.0884\n",
            "Epoch 9 Batch 350 Loss 1.0830\n",
            "Epoch 9 Batch 400 Loss 1.0828\n",
            "Epoch 9 Batch 450 Loss 1.0825\n",
            "Epoch 9 Batch 500 Loss 1.0821\n",
            "Epoch 9 Batch 550 Loss 1.0811\n",
            "Epoch 9 Batch 600 Loss 1.0779\n",
            "Epoch 9 Batch 650 Loss 1.0775\n",
            "Epoch 9 Batch 700 Loss 1.0758\n",
            "Epoch 9 Batch 750 Loss 1.0732\n",
            "Epoch 9 Batch 800 Loss 1.0719\n",
            "Epoch 9 Batch 850 Loss 1.0698\n",
            "Epoch 9 Batch 900 Loss 1.0687\n",
            "Epoch 9 Batch 950 Loss 1.0681\n",
            "Epoch 9 Batch 1000 Loss 1.0679\n",
            "Epoch 9 Batch 1050 Loss 1.0691\n",
            "Epoch 9 Batch 1100 Loss 1.0698\n",
            "Epoch 9 Batch 1150 Loss 1.0698\n",
            "Epoch 9 Batch 1200 Loss 1.0686\n",
            "Epoch 9 Batch 1250 Loss 1.0682\n",
            "Epoch 9 Batch 1300 Loss 1.0683\n",
            "Epoch 9 Batch 1350 Loss 1.0681\n",
            "Epoch 9 Batch 1400 Loss 1.0671\n",
            "Epoch 9 Batch 1450 Loss 1.0651\n",
            "Epoch 9 Batch 1500 Loss 1.0629\n",
            "Epoch 9 Batch 1550 Loss 1.0597\n",
            "Epoch 9 Batch 1600 Loss 1.0570\n",
            "Epoch 9 Batch 1650 Loss 1.0541\n",
            "Epoch 9 Batch 1700 Loss 1.0506\n",
            "Epoch 9 Batch 1750 Loss 1.0469\n",
            "Epoch 9 Batch 1800 Loss 1.0433\n",
            "Epoch 9 Batch 1850 Loss 1.0398\n",
            "Epoch 9 Batch 1900 Loss 1.0365\n",
            "Epoch 9 Batch 1950 Loss 1.0330\n",
            "Epoch 9 Batch 2000 Loss 1.0295\n",
            "Epoch 9 Batch 2050 Loss 1.0261\n",
            "Epoch 9 Batch 2100 Loss 1.0229\n",
            "Epoch 9 Batch 2150 Loss 1.0197\n",
            "Epoch 9 Batch 2200 Loss 1.0163\n",
            "Epoch 9 Batch 2250 Loss 1.0135\n",
            "Epoch 9 Batch 2300 Loss 1.0102\n",
            "Epoch 9 Batch 2350 Loss 1.0065\n",
            "Epoch 9 Batch 2400 Loss 1.0030\n",
            "Epoch 9 Batch 2450 Loss 0.9999\n",
            "Epoch 9 Batch 2500 Loss 0.9972\n",
            "Epoch 9 Batch 2550 Loss 0.9941\n",
            "Epoch 9 Batch 2600 Loss 0.9913\n",
            "Epoch 9 Batch 2650 Loss 0.9887\n",
            "Epoch 9 Batch 2700 Loss 0.9854\n",
            "Epoch 9 Batch 2750 Loss 0.9821\n",
            "Epoch 9 Batch 2800 Loss 0.9790\n",
            "Epoch 9 Batch 2850 Loss 0.9755\n",
            "Epoch 9 Batch 2900 Loss 0.9725\n",
            "Epoch 9 Batch 2950 Loss 0.9699\n",
            "Epoch 9 Batch 3000 Loss 0.9674\n",
            "Epoch 9 Batch 3050 Loss 0.9648\n",
            "Epoch 9 Batch 3100 Loss 0.9628\n",
            "Epoch 9 Batch 3150 Loss 0.9609\n",
            "Epoch 9 Batch 3200 Loss 0.9588\n",
            "Epoch 9 Batch 3250 Loss 0.9568\n",
            "Epoch 9 Batch 3300 Loss 0.9546\n",
            "Epoch 9 Batch 3350 Loss 0.9527\n",
            "Epoch 9 Batch 3400 Loss 0.9511\n",
            "Epoch 9 Batch 3450 Loss 0.9492\n",
            "Epoch 9 Batch 3500 Loss 0.9479\n",
            "Epoch 9 Batch 3550 Loss 0.9464\n",
            "Epoch 9 Batch 3600 Loss 0.9453\n",
            "Epoch 9 Batch 3650 Loss 0.9441\n",
            "Epoch 9 Batch 3700 Loss 0.9427\n",
            "Epoch 9 Batch 3750 Loss 0.9415\n",
            "Epoch 9 Batch 3800 Loss 0.9404\n",
            "Epoch 9 Batch 3850 Loss 0.9393\n",
            "Epoch 9 Batch 3900 Loss 0.9383\n",
            "Epoch 9 Batch 3950 Loss 0.9373\n",
            "Epoch 9 Batch 4000 Loss 0.9361\n",
            "Epoch 9 Batch 4050 Loss 0.9351\n",
            "Epoch 9 Batch 4100 Loss 0.9339\n",
            "Epoch 9 Batch 4150 Loss 0.9331\n",
            "Epoch 9 Batch 4200 Loss 0.9319\n",
            "Epoch 9 Batch 4250 Loss 0.9308\n",
            "Epoch 9 Batch 4300 Loss 0.9299\n",
            "Epoch 9 Batch 4350 Loss 0.9287\n",
            "Epoch 9 Batch 4400 Loss 0.9278\n",
            "Epoch 9 Batch 4450 Loss 0.9272\n",
            "Epoch 9 Batch 4500 Loss 0.9266\n",
            "Epoch 9 Batch 4550 Loss 0.9259\n",
            "Epoch 9 Batch 4600 Loss 0.9251\n",
            "Epoch 9 Batch 4650 Loss 0.9242\n",
            "Epoch 9 Batch 4700 Loss 0.9233\n",
            "Epoch 9 Batch 4750 Loss 0.9224\n",
            "Epoch 9 Batch 4800 Loss 0.9215\n",
            "Epoch 9 Batch 4850 Loss 0.9206\n",
            "Epoch 9 Batch 4900 Loss 0.9196\n",
            "Epoch 9 Batch 4950 Loss 0.9189\n",
            "Epoch 9 Batch 5000 Loss 0.9181\n",
            "Epoch 9 Batch 5050 Loss 0.9175\n",
            "Epoch 9 Batch 5100 Loss 0.9168\n",
            "Epoch 9 Batch 5150 Loss 0.9160\n",
            "Epoch 9 Batch 5200 Loss 0.9155\n",
            "Epoch 9 Batch 5250 Loss 0.9150\n",
            "Epoch 9 Batch 5300 Loss 0.9147\n",
            "Epoch 9 Batch 5350 Loss 0.9152\n",
            "Epoch 9 Batch 5400 Loss 0.9159\n",
            "Epoch 9 Batch 5450 Loss 0.9171\n",
            "Epoch 9 Batch 5500 Loss 0.9184\n",
            "Epoch 9 Batch 5550 Loss 0.9201\n",
            "Epoch 9 Batch 5600 Loss 0.9216\n",
            "Epoch 9 Batch 5650 Loss 0.9236\n",
            "Epoch 9 Batch 5700 Loss 0.9254\n",
            "Epoch 9 Batch 5750 Loss 0.9272\n",
            "Epoch 9 Batch 5800 Loss 0.9289\n",
            "Epoch 9 Batch 5850 Loss 0.9306\n",
            "Epoch 9 Batch 5900 Loss 0.9323\n",
            "Epoch 9 Batch 5950 Loss 0.9339\n",
            "Epoch 9 Batch 6000 Loss 0.9355\n",
            "Epoch 9 Batch 6050 Loss 0.9371\n",
            "Epoch 9 Batch 6100 Loss 0.9388\n",
            "Epoch 9 Batch 6150 Loss 0.9406\n",
            "Epoch 9 Batch 6200 Loss 0.9423\n",
            "Epoch 9 Batch 6250 Loss 0.9440\n",
            "Epoch 9 Batch 6300 Loss 0.9456\n",
            "Epoch 9 Batch 6350 Loss 0.9472\n",
            "Epoch 9 Batch 6400 Loss 0.9490\n",
            "Epoch 9 Batch 6450 Loss 0.9508\n",
            "Epoch 9 Batch 6500 Loss 0.9523\n",
            "Epoch 9 Batch 6550 Loss 0.9538\n",
            "Epoch 9 Batch 6600 Loss 0.9552\n",
            "Epoch 9 Batch 6650 Loss 0.9567\n",
            "Epoch 9 Batch 6700 Loss 0.9581\n",
            "Epoch 9 Batch 6750 Loss 0.9595\n",
            "Epoch 9 Batch 6800 Loss 0.9608\n",
            "Epoch 9 Batch 6850 Loss 0.9619\n",
            "Epoch 9 Batch 6900 Loss 0.9628\n",
            "Saving checkpoint for epoch 9 at ./checkpoints4/ckpt-9\n",
            "Time taken for 1 epoch: 1739.2846291065216 secs\n",
            "\n",
            "Start of epoch 10\n",
            "Epoch 10 Batch 0 Loss 1.1634\n",
            "Epoch 10 Batch 50 Loss 1.0632\n",
            "Epoch 10 Batch 100 Loss 1.0772\n",
            "Epoch 10 Batch 150 Loss 1.0807\n",
            "Epoch 10 Batch 200 Loss 1.0814\n",
            "Epoch 10 Batch 250 Loss 1.0796\n",
            "Epoch 10 Batch 300 Loss 1.0736\n",
            "Epoch 10 Batch 350 Loss 1.0725\n",
            "Epoch 10 Batch 400 Loss 1.0716\n",
            "Epoch 10 Batch 450 Loss 1.0705\n",
            "Epoch 10 Batch 500 Loss 1.0686\n",
            "Epoch 10 Batch 550 Loss 1.0643\n",
            "Epoch 10 Batch 600 Loss 1.0635\n",
            "Epoch 10 Batch 650 Loss 1.0591\n",
            "Epoch 10 Batch 700 Loss 1.0586\n",
            "Epoch 10 Batch 750 Loss 1.0563\n",
            "Epoch 10 Batch 800 Loss 1.0550\n",
            "Epoch 10 Batch 850 Loss 1.0542\n",
            "Epoch 10 Batch 900 Loss 1.0540\n",
            "Epoch 10 Batch 950 Loss 1.0544\n",
            "Epoch 10 Batch 1000 Loss 1.0541\n",
            "Epoch 10 Batch 1050 Loss 1.0538\n",
            "Epoch 10 Batch 1100 Loss 1.0532\n",
            "Epoch 10 Batch 1150 Loss 1.0538\n",
            "Epoch 10 Batch 1200 Loss 1.0543\n",
            "Epoch 10 Batch 1250 Loss 1.0539\n",
            "Epoch 10 Batch 1300 Loss 1.0530\n",
            "Epoch 10 Batch 1350 Loss 1.0523\n",
            "Epoch 10 Batch 1400 Loss 1.0506\n",
            "Epoch 10 Batch 1450 Loss 1.0481\n",
            "Epoch 10 Batch 1500 Loss 1.0458\n",
            "Epoch 10 Batch 1550 Loss 1.0432\n",
            "Epoch 10 Batch 1600 Loss 1.0400\n",
            "Epoch 10 Batch 1650 Loss 1.0369\n",
            "Epoch 10 Batch 1700 Loss 1.0342\n",
            "Epoch 10 Batch 1750 Loss 1.0303\n",
            "Epoch 10 Batch 1800 Loss 1.0269\n",
            "Epoch 10 Batch 1850 Loss 1.0236\n",
            "Epoch 10 Batch 1900 Loss 1.0203\n",
            "Epoch 10 Batch 1950 Loss 1.0173\n",
            "Epoch 10 Batch 2000 Loss 1.0141\n",
            "Epoch 10 Batch 2050 Loss 1.0109\n",
            "Epoch 10 Batch 2100 Loss 1.0081\n",
            "Epoch 10 Batch 2150 Loss 1.0051\n",
            "Epoch 10 Batch 2200 Loss 1.0019\n",
            "Epoch 10 Batch 2250 Loss 0.9987\n",
            "Epoch 10 Batch 2300 Loss 0.9954\n",
            "Epoch 10 Batch 2350 Loss 0.9926\n",
            "Epoch 10 Batch 2400 Loss 0.9892\n",
            "Epoch 10 Batch 2450 Loss 0.9861\n",
            "Epoch 10 Batch 2500 Loss 0.9832\n",
            "Epoch 10 Batch 2550 Loss 0.9807\n",
            "Epoch 10 Batch 2600 Loss 0.9779\n",
            "Epoch 10 Batch 2650 Loss 0.9748\n",
            "Epoch 10 Batch 2700 Loss 0.9714\n",
            "Epoch 10 Batch 2750 Loss 0.9683\n",
            "Epoch 10 Batch 2800 Loss 0.9650\n",
            "Epoch 10 Batch 2850 Loss 0.9618\n",
            "Epoch 10 Batch 2900 Loss 0.9588\n",
            "Epoch 10 Batch 2950 Loss 0.9561\n",
            "Epoch 10 Batch 3000 Loss 0.9537\n",
            "Epoch 10 Batch 3050 Loss 0.9511\n",
            "Epoch 10 Batch 3100 Loss 0.9490\n",
            "Epoch 10 Batch 3150 Loss 0.9471\n",
            "Epoch 10 Batch 3200 Loss 0.9451\n",
            "Epoch 10 Batch 3250 Loss 0.9429\n",
            "Epoch 10 Batch 3300 Loss 0.9406\n",
            "Epoch 10 Batch 3350 Loss 0.9384\n",
            "Epoch 10 Batch 3400 Loss 0.9367\n",
            "Epoch 10 Batch 3450 Loss 0.9350\n",
            "Epoch 10 Batch 3500 Loss 0.9332\n",
            "Epoch 10 Batch 3550 Loss 0.9316\n",
            "Epoch 10 Batch 3600 Loss 0.9302\n",
            "Epoch 10 Batch 3650 Loss 0.9289\n",
            "Epoch 10 Batch 3700 Loss 0.9279\n",
            "Epoch 10 Batch 3750 Loss 0.9268\n",
            "Epoch 10 Batch 3800 Loss 0.9258\n",
            "Epoch 10 Batch 3850 Loss 0.9248\n",
            "Epoch 10 Batch 3900 Loss 0.9236\n",
            "Epoch 10 Batch 3950 Loss 0.9227\n",
            "Epoch 10 Batch 4000 Loss 0.9216\n",
            "Epoch 10 Batch 4050 Loss 0.9206\n",
            "Epoch 10 Batch 4100 Loss 0.9192\n",
            "Epoch 10 Batch 4150 Loss 0.9179\n",
            "Epoch 10 Batch 4200 Loss 0.9172\n",
            "Epoch 10 Batch 4250 Loss 0.9162\n",
            "Epoch 10 Batch 4300 Loss 0.9152\n",
            "Epoch 10 Batch 4350 Loss 0.9144\n",
            "Epoch 10 Batch 4400 Loss 0.9134\n",
            "Epoch 10 Batch 4450 Loss 0.9124\n",
            "Epoch 10 Batch 4500 Loss 0.9117\n",
            "Epoch 10 Batch 4550 Loss 0.9109\n",
            "Epoch 10 Batch 4600 Loss 0.9099\n",
            "Epoch 10 Batch 4650 Loss 0.9089\n",
            "Epoch 10 Batch 4700 Loss 0.9079\n",
            "Epoch 10 Batch 4750 Loss 0.9072\n",
            "Epoch 10 Batch 4800 Loss 0.9065\n",
            "Epoch 10 Batch 4850 Loss 0.9058\n",
            "Epoch 10 Batch 4900 Loss 0.9056\n",
            "Epoch 10 Batch 4950 Loss 0.9050\n",
            "Epoch 10 Batch 5000 Loss 0.9044\n",
            "Epoch 10 Batch 5050 Loss 0.9038\n",
            "Epoch 10 Batch 5100 Loss 0.9030\n",
            "Epoch 10 Batch 5150 Loss 0.9023\n",
            "Epoch 10 Batch 5200 Loss 0.9018\n",
            "Epoch 10 Batch 5250 Loss 0.9011\n",
            "Epoch 10 Batch 5300 Loss 0.9009\n",
            "Epoch 10 Batch 5350 Loss 0.9011\n",
            "Epoch 10 Batch 5400 Loss 0.9019\n",
            "Epoch 10 Batch 5450 Loss 0.9030\n",
            "Epoch 10 Batch 5500 Loss 0.9045\n",
            "Epoch 10 Batch 5550 Loss 0.9061\n",
            "Epoch 10 Batch 5600 Loss 0.9078\n",
            "Epoch 10 Batch 5650 Loss 0.9097\n",
            "Epoch 10 Batch 5700 Loss 0.9113\n",
            "Epoch 10 Batch 5750 Loss 0.9131\n",
            "Epoch 10 Batch 5800 Loss 0.9150\n",
            "Epoch 10 Batch 5850 Loss 0.9167\n",
            "Epoch 10 Batch 5900 Loss 0.9184\n",
            "Epoch 10 Batch 5950 Loss 0.9199\n",
            "Epoch 10 Batch 6000 Loss 0.9215\n",
            "Epoch 10 Batch 6050 Loss 0.9229\n",
            "Epoch 10 Batch 6100 Loss 0.9247\n",
            "Epoch 10 Batch 6150 Loss 0.9265\n",
            "Epoch 10 Batch 6200 Loss 0.9283\n",
            "Epoch 10 Batch 6250 Loss 0.9298\n",
            "Epoch 10 Batch 6300 Loss 0.9317\n",
            "Epoch 10 Batch 6350 Loss 0.9337\n",
            "Epoch 10 Batch 6400 Loss 0.9353\n",
            "Epoch 10 Batch 6450 Loss 0.9370\n",
            "Epoch 10 Batch 6500 Loss 0.9384\n",
            "Epoch 10 Batch 6550 Loss 0.9399\n",
            "Epoch 10 Batch 6600 Loss 0.9413\n",
            "Epoch 10 Batch 6650 Loss 0.9427\n",
            "Epoch 10 Batch 6700 Loss 0.9440\n",
            "Epoch 10 Batch 6750 Loss 0.9453\n",
            "Epoch 10 Batch 6800 Loss 0.9465\n",
            "Epoch 10 Batch 6850 Loss 0.9477\n",
            "Epoch 10 Batch 6900 Loss 0.9488\n",
            "Saving checkpoint for epoch 10 at ./checkpoints4/ckpt-10\n",
            "Time taken for 1 epoch: 1748.6333093643188 secs\n",
            "\n"
          ],
          "name": "stdout"
        }
      ]
    },
    {
      "cell_type": "markdown",
      "metadata": {
        "id": "VlYEAUjgxGVS"
      },
      "source": [
        "**Evaluate Model Performance**"
      ]
    },
    {
      "cell_type": "code",
      "metadata": {
        "id": "fXAuSzwzxFO9"
      },
      "source": [
        "def evaluate(inp_sentence):\n",
        "    inp_sentence = [VOCAB_SIZE_EN-2] + tokenizer_en.encode(inp_sentence) + [VOCAB_SIZE_EN-1]\n",
        "    enc_input = tf.expand_dims(inp_sentence, axis=0)\n",
        "    \n",
        "    output = tf.expand_dims([VOCAB_SIZE_SV-2], axis=0)\n",
        "    \n",
        "    for _ in range(MAX_LENGTH):\n",
        "        predictions, weights = transformer(enc_input, output, False)\n",
        "        \n",
        "        prediction = predictions[:, -1:, :]\n",
        "        \n",
        "        predicted_id = tf.cast(tf.argmax(prediction, axis=-1), tf.int32)\n",
        "        \n",
        "        if predicted_id == VOCAB_SIZE_SV-1:\n",
        "            return tf.squeeze(output, axis=0), weights\n",
        "        \n",
        "        output = tf.concat([output, predicted_id], axis=-1)\n",
        "        \n",
        "    return tf.squeeze(output, axis=0), weights"
      ],
      "execution_count": null,
      "outputs": []
    },
    {
      "cell_type": "code",
      "metadata": {
        "id": "l2l5dUKBxjuA"
      },
      "source": [
        "def translate(sentence):\n",
        "    output, weights = evaluate(sentence)\n",
        "    \n",
        "    output = output.numpy()\n",
        "    predicted_sentence = tokenizer_sv.decode([i for i in output if i < VOCAB_SIZE_SV-2])\n",
        "    \n",
        "    #print(\"Input: {}\".format(sentence))\n",
        "    #print(\"Predicted translation: {}\".format(predicted_sentence))\n",
        "\n",
        "    return predicted_sentence, weights"
      ],
      "execution_count": null,
      "outputs": []
    },
    {
      "cell_type": "code",
      "metadata": {
        "colab": {
          "base_uri": "https://localhost:8080/"
        },
        "id": "Hj2ZVqal6gpE",
        "outputId": "fe0f8303-04ef-451c-dbd0-3c713b21a7ca"
      },
      "source": [
        "result, a = translate(\"I congratulate him on his excellent report.\")\n",
        "print('Input sentence: I congratulate him on his excellent report.')\n",
        "print('predicted translation: ', result)\n",
        "print('Ground truth: Jag gratulerar honom till hans utmärkta rapport.')"
      ],
      "execution_count": null,
      "outputs": [
        {
          "output_type": "stream",
          "text": [
            "Input sentence: I congratulate him on his excellent report.\n",
            "predicted translation:  Jag gratulerar honom till hans utmärkta betänkande.\n",
            "Ground truth: Jag gratulerar honom till hans utmärkta rapport.\n"
          ],
          "name": "stdout"
        }
      ]
    },
    {
      "cell_type": "code",
      "metadata": {
        "colab": {
          "base_uri": "https://localhost:8080/"
        },
        "id": "ZYf_Y6_WqGvj",
        "outputId": "1acf87b6-c0e1-428e-8642-337eaa3589a2"
      },
      "source": [
        "result, a = translate(\"I congratulate him on his excellent report.\")\n",
        "print('predicted translation: ', result)"
      ],
      "execution_count": null,
      "outputs": [
        {
          "output_type": "stream",
          "text": [
            "predicted translation:  Jag gratulerar honom till hans utmärkta betänkande.\n"
          ],
          "name": "stdout"
        }
      ]
    },
    {
      "cell_type": "markdown",
      "metadata": {
        "id": "zLrH-sFD62AQ"
      },
      "source": [
        "### Bleu score"
      ]
    },
    {
      "cell_type": "code",
      "metadata": {
        "id": "p7VBfs67y1cx",
        "colab": {
          "base_uri": "https://localhost:8080/"
        },
        "outputId": "c9451c88-9a2a-4549-b5b0-f4d249ab700e"
      },
      "source": [
        "!pip install sacrebleu"
      ],
      "execution_count": null,
      "outputs": [
        {
          "output_type": "stream",
          "text": [
            "Collecting sacrebleu\n",
            "\u001b[?25l  Downloading https://files.pythonhosted.org/packages/7e/57/0c7ca4e31a126189dab99c19951910bd081dea5bbd25f24b77107750eae7/sacrebleu-1.5.1-py3-none-any.whl (54kB)\n",
            "\r\u001b[K     |██████                          | 10kB 23.5MB/s eta 0:00:01\r\u001b[K     |████████████                    | 20kB 14.6MB/s eta 0:00:01\r\u001b[K     |██████████████████              | 30kB 13.0MB/s eta 0:00:01\r\u001b[K     |████████████████████████        | 40kB 12.2MB/s eta 0:00:01\r\u001b[K     |██████████████████████████████  | 51kB 7.5MB/s eta 0:00:01\r\u001b[K     |████████████████████████████████| 61kB 4.9MB/s \n",
            "\u001b[?25hCollecting portalocker==2.0.0\n",
            "  Downloading https://files.pythonhosted.org/packages/89/a6/3814b7107e0788040870e8825eebf214d72166adf656ba7d4bf14759a06a/portalocker-2.0.0-py2.py3-none-any.whl\n",
            "Installing collected packages: portalocker, sacrebleu\n",
            "Successfully installed portalocker-2.0.0 sacrebleu-1.5.1\n"
          ],
          "name": "stdout"
        }
      ]
    },
    {
      "cell_type": "code",
      "metadata": {
        "id": "dooB2rtEy-J_"
      },
      "source": [
        "import sacrebleu\n",
        "avg = 0\n",
        "total = 0\n",
        "\n",
        "for j in range(len(valid_src)):\n",
        "  src = tokenizer_en.decode([i for i in valid_src[j] if i < VOCAB_SIZE_EN-2])\n",
        "  ref = tokenizer_sv.decode([i for i in valid_ref[j] if i < VOCAB_SIZE_SV-2])\n",
        "  if len(src.split()) < 1 or len(ref.split()) < 1:\n",
        "    continue\n",
        "  total += 1\n",
        "  translated, _ = translate(src)\n",
        "  avg += sacrebleu.raw_corpus_bleu(translated, ref, 0.01).score"
      ],
      "execution_count": null,
      "outputs": []
    },
    {
      "cell_type": "markdown",
      "metadata": {
        "id": "GXUXw42Eo_zV"
      },
      "source": [
        "**We obtain an impressive BLEU score of 23.95 on the validation dataset!**"
      ]
    },
    {
      "cell_type": "code",
      "metadata": {
        "colab": {
          "base_uri": "https://localhost:8080/"
        },
        "id": "5-MJ5mVweps0",
        "outputId": "fb798719-1e3f-4296-d2d3-b15b77afc6bc"
      },
      "source": [
        "print('BLEU SCORE: ', round(avg/total, 2))"
      ],
      "execution_count": null,
      "outputs": [
        {
          "output_type": "stream",
          "text": [
            "BLEU SCORE:  23.95\n"
          ],
          "name": "stdout"
        }
      ]
    },
    {
      "cell_type": "markdown",
      "metadata": {
        "id": "0J8tdnyX682T"
      },
      "source": [
        "### Attention Plots"
      ]
    },
    {
      "cell_type": "code",
      "metadata": {
        "id": "HR-eEtAesRyP"
      },
      "source": [
        "import matplotlib.pyplot as plt\n",
        "import numpy as np\n",
        "\n",
        "%config InlineBackend.figure_format = 'svg'\n",
        "\n",
        "plt.style.use('seaborn')\n",
        "\n",
        "def plot_attention(sentence):\n",
        "  \n",
        "    translation, attention = translate(sentence)\n",
        "\n",
        "    attention = tf.squeeze(attention, 0)\n",
        "    attention = attention[0]\n",
        "\n",
        "    fig, ax = plt.subplots()\n",
        "    heatmap = ax.pcolor(attention, cmap='GnBu_r')\n",
        "\n",
        "    ax.set_xticklabels(sentence.split(), minor=False, rotation='vertical')\n",
        "    ax.set_yticklabels(translation.split(), minor=False)\n",
        "\n",
        "    ax.xaxis.tick_top()\n",
        "    ax.set_xticks(np.arange(attention.shape[1]) + 0.5, minor=False)\n",
        "    ax.set_yticks(np.arange(attention.shape[0]) + 0.5, minor=False)\n",
        "    ax.invert_yaxis()\n",
        "\n",
        "    plt.colorbar(heatmap)"
      ],
      "execution_count": null,
      "outputs": []
    },
    {
      "cell_type": "code",
      "metadata": {
        "id": "pPIv_3c-xVIo"
      },
      "source": [
        "import matplotlib.pyplot as plt\n",
        "import numpy as np\n",
        "\n",
        "%config InlineBackend.figure_format = 'svg'\n",
        "\n",
        "plt.style.use('seaborn')\n",
        "\n",
        "def plot_attention(sentence):\n",
        "  \n",
        "    translation, attention = translate(sentence)\n",
        "\n",
        "    attention = tf.squeeze(attention, 0)\n",
        "    attention = attention[0]\n",
        "\n",
        "    fig, ax = plt.subplots()\n",
        "    heatmap = ax.pcolor(attention, cmap='GnBu_r')\n",
        "\n",
        "    L = ['<start>']\n",
        "    ax.set_xticklabels(L+translation.split(), minor=False, rotation='vertical')\n",
        "    ax.set_yticklabels(L+sentence.split(), minor=False)\n",
        "\n",
        "    ax.xaxis.tick_top()\n",
        "    ax.set_xticks(np.arange(attention.shape[1]) + 0.5, minor=False)\n",
        "    ax.set_yticks(np.arange(attention.shape[0]) + 0.5, minor=False)\n",
        "    ax.invert_yaxis()\n",
        "\n",
        "    plt.colorbar(heatmap)"
      ],
      "execution_count": null,
      "outputs": []
    },
    {
      "cell_type": "code",
      "metadata": {
        "id": "0_UDub_RAeYj",
        "colab": {
          "base_uri": "https://localhost:8080/",
          "height": 521
        },
        "outputId": "dca09994-fa6e-4a6c-94e1-c71e04f8eb8a"
      },
      "source": [
        "sentence = 'Are there any comments?'\n",
        "plot_attention(sentence)"
      ],
      "execution_count": null,
      "outputs": [
        {
          "output_type": "display_data",
          "data": {
            "text/plain": [
              "<Figure size 576x396 with 2 Axes>"
            ],
            "image/svg+xml": "<?xml version=\"1.0\" encoding=\"utf-8\" standalone=\"no\"?>\n<!DOCTYPE svg PUBLIC \"-//W3C//DTD SVG 1.1//EN\"\n  \"http://www.w3.org/Graphics/SVG/1.1/DTD/svg11.dtd\">\n<!-- Created with matplotlib (https://matplotlib.org/) -->\n<svg height=\"374.853437pt\" version=\"1.1\" viewBox=\"0 0 488.37025 374.853437\" width=\"488.37025pt\" xmlns=\"http://www.w3.org/2000/svg\" xmlns:xlink=\"http://www.w3.org/1999/xlink\">\n <defs>\n  <style type=\"text/css\">\n*{stroke-linecap:butt;stroke-linejoin:round;}\n  </style>\n </defs>\n <g id=\"figure_1\">\n  <g id=\"patch_1\">\n   <path d=\"M 0 374.853437 \nL 488.37025 374.853437 \nL 488.37025 0 \nL 0 0 \nz\n\" style=\"fill:#ffffff;\"/>\n  </g>\n  <g id=\"axes_1\">\n   <g id=\"patch_2\">\n    <path d=\"M 65.88125 367.653437 \nL 423.00125 367.653437 \nL 423.00125 68.673437 \nL 65.88125 68.673437 \nz\n\" style=\"fill:#eaeaf2;\"/>\n   </g>\n   <g id=\"matplotlib.axis_1\">\n    <g id=\"xtick_1\">\n     <g id=\"line2d_1\"/>\n     <g id=\"text_1\">\n      <!-- &lt;start&gt; -->\n      <defs>\n       <path d=\"M 4.9375 27.875 \nL 4.9375 37.890625 \nL 53.515625 58.296875 \nL 53.515625 50.78125 \nL 11.625 32.90625 \nL 53.515625 14.984375 \nL 53.515625 7.515625 \nz\n\" id=\"LiberationSans-60\"/>\n       <path d=\"M 46.390625 14.59375 \nQ 46.390625 10.890625 44.9375 7.984375 \nQ 43.5 5.078125 40.765625 3.09375 \nQ 38.03125 1.125 34.046875 0.0625 \nQ 30.078125 -0.984375 24.953125 -0.984375 \nQ 20.359375 -0.984375 16.671875 -0.265625 \nQ 12.984375 0.4375 10.203125 2 \nQ 7.421875 3.5625 5.53125 6.125 \nQ 3.65625 8.6875 2.78125 12.40625 \nL 10.546875 13.921875 \nQ 11.671875 9.671875 15.1875 7.6875 \nQ 18.703125 5.71875 24.953125 5.71875 \nQ 27.78125 5.71875 30.140625 6.109375 \nQ 32.515625 6.5 34.21875 7.453125 \nQ 35.9375 8.40625 36.890625 9.984375 \nQ 37.84375 11.578125 37.84375 13.921875 \nQ 37.84375 16.3125 36.71875 17.84375 \nQ 35.59375 19.390625 33.59375 20.40625 \nQ 31.59375 21.4375 28.734375 22.1875 \nQ 25.875 22.953125 22.46875 23.875 \nQ 19.28125 24.703125 16.15625 25.734375 \nQ 13.03125 26.765625 10.515625 28.4375 \nQ 8.015625 30.125 6.453125 32.609375 \nQ 4.890625 35.109375 4.890625 38.875 \nQ 4.890625 46.09375 10.03125 49.875 \nQ 15.1875 53.65625 25.046875 53.65625 \nQ 33.796875 53.65625 38.9375 50.578125 \nQ 44.09375 47.515625 45.453125 40.71875 \nL 37.546875 39.75 \nQ 37.109375 41.796875 35.9375 43.1875 \nQ 34.765625 44.578125 33.109375 45.4375 \nQ 31.453125 46.296875 29.375 46.65625 \nQ 27.296875 47.015625 25.046875 47.015625 \nQ 19.09375 47.015625 16.25 45.203125 \nQ 13.421875 43.40625 13.421875 39.75 \nQ 13.421875 37.59375 14.46875 36.203125 \nQ 15.53125 34.8125 17.40625 33.859375 \nQ 19.28125 32.90625 21.921875 32.203125 \nQ 24.5625 31.5 27.734375 30.71875 \nQ 29.828125 30.171875 32.03125 29.5625 \nQ 34.234375 28.953125 36.296875 28.09375 \nQ 38.375 27.25 40.203125 26.09375 \nQ 42.046875 24.953125 43.40625 23.34375 \nQ 44.78125 21.734375 45.578125 19.578125 \nQ 46.390625 17.4375 46.390625 14.59375 \nz\n\" id=\"LiberationSans-115\"/>\n       <path d=\"M 27.046875 0.390625 \nQ 25.046875 -0.140625 22.96875 -0.453125 \nQ 20.90625 -0.78125 18.171875 -0.78125 \nQ 7.625 -0.78125 7.625 11.1875 \nL 7.625 46.4375 \nL 1.515625 46.4375 \nL 1.515625 52.828125 \nL 7.953125 52.828125 \nL 10.546875 64.65625 \nL 16.40625 64.65625 \nL 16.40625 52.828125 \nL 26.171875 52.828125 \nL 26.171875 46.4375 \nL 16.40625 46.4375 \nL 16.40625 13.09375 \nQ 16.40625 9.28125 17.640625 7.734375 \nQ 18.890625 6.203125 21.96875 6.203125 \nQ 23.25 6.203125 24.4375 6.390625 \nQ 25.640625 6.59375 27.046875 6.890625 \nz\n\" id=\"LiberationSans-116\"/>\n       <path d=\"M 20.21875 -0.984375 \nQ 12.25 -0.984375 8.25 3.21875 \nQ 4.25 7.421875 4.25 14.75 \nQ 4.25 19.96875 6.21875 23.3125 \nQ 8.203125 26.65625 11.390625 28.5625 \nQ 14.59375 30.46875 18.6875 31.203125 \nQ 22.796875 31.9375 27.046875 32.03125 \nL 38.921875 32.234375 \nL 38.921875 35.109375 \nQ 38.921875 38.375 38.234375 40.671875 \nQ 37.546875 42.96875 36.125 44.375 \nQ 34.71875 45.796875 32.59375 46.453125 \nQ 30.46875 47.125 27.59375 47.125 \nQ 25.046875 47.125 23 46.75 \nQ 20.953125 46.390625 19.4375 45.4375 \nQ 17.921875 44.484375 16.984375 42.84375 \nQ 16.0625 41.21875 15.765625 38.71875 \nL 6.59375 39.546875 \nQ 7.078125 42.671875 8.4375 45.28125 \nQ 9.8125 47.90625 12.328125 49.796875 \nQ 14.84375 51.703125 18.625 52.75 \nQ 22.40625 53.8125 27.78125 53.8125 \nQ 37.75 53.8125 42.765625 49.234375 \nQ 47.796875 44.671875 47.796875 36.03125 \nL 47.796875 13.28125 \nQ 47.796875 9.375 48.828125 7.390625 \nQ 49.859375 5.421875 52.734375 5.421875 \nQ 53.46875 5.421875 54.203125 5.515625 \nQ 54.9375 5.609375 55.609375 5.765625 \nL 55.609375 0.296875 \nQ 53.953125 -0.09375 52.3125 -0.28125 \nQ 50.6875 -0.484375 48.828125 -0.484375 \nQ 46.34375 -0.484375 44.5625 0.171875 \nQ 42.78125 0.828125 41.65625 2.171875 \nQ 40.53125 3.515625 39.9375 5.484375 \nQ 39.359375 7.46875 39.203125 10.109375 \nL 38.921875 10.109375 \nQ 37.5 7.5625 35.8125 5.515625 \nQ 34.125 3.46875 31.875 2.03125 \nQ 29.640625 0.59375 26.78125 -0.1875 \nQ 23.921875 -0.984375 20.21875 -0.984375 \nz\nM 22.21875 5.609375 \nQ 26.421875 5.609375 29.5625 7.140625 \nQ 32.71875 8.6875 34.78125 11.078125 \nQ 36.859375 13.484375 37.890625 16.3125 \nQ 38.921875 19.140625 38.921875 21.734375 \nL 38.921875 26.078125 \nL 29.296875 25.875 \nQ 26.078125 25.828125 23.171875 25.40625 \nQ 20.265625 25 18.0625 23.78125 \nQ 15.875 22.5625 14.578125 20.359375 \nQ 13.28125 18.171875 13.28125 14.59375 \nQ 13.28125 10.296875 15.59375 7.953125 \nQ 17.921875 5.609375 22.21875 5.609375 \nz\n\" id=\"LiberationSans-97\"/>\n       <path d=\"M 6.9375 0 \nL 6.9375 40.53125 \nQ 6.9375 42.1875 6.90625 43.921875 \nQ 6.890625 45.65625 6.828125 47.265625 \nQ 6.78125 48.875 6.734375 50.28125 \nQ 6.6875 51.703125 6.640625 52.828125 \nL 14.9375 52.828125 \nQ 14.984375 51.703125 15.0625 50.265625 \nQ 15.140625 48.828125 15.203125 47.3125 \nQ 15.28125 45.796875 15.296875 44.40625 \nQ 15.328125 43.015625 15.328125 42.046875 \nL 15.53125 42.046875 \nQ 16.453125 45.0625 17.5 47.28125 \nQ 18.5625 49.515625 19.96875 50.953125 \nQ 21.390625 52.390625 23.34375 53.09375 \nQ 25.296875 53.8125 28.078125 53.8125 \nQ 29.15625 53.8125 30.125 53.640625 \nQ 31.109375 53.46875 31.640625 53.328125 \nL 31.640625 45.265625 \nQ 30.765625 45.515625 29.59375 45.625 \nQ 28.421875 45.75 26.953125 45.75 \nQ 23.921875 45.75 21.796875 44.375 \nQ 19.671875 43.015625 18.328125 40.59375 \nQ 17 38.1875 16.359375 34.84375 \nQ 15.71875 31.5 15.71875 27.546875 \nL 15.71875 0 \nz\n\" id=\"LiberationSans-114\"/>\n       <path d=\"M 4.9375 7.515625 \nL 4.9375 14.984375 \nL 46.828125 32.90625 \nL 4.9375 50.78125 \nL 4.9375 58.296875 \nL 53.515625 37.890625 \nL 53.515625 27.875 \nz\n\" id=\"LiberationSans-62\"/>\n      </defs>\n      <g style=\"fill:#262626;\" transform=\"translate(93.975759 61.673437)rotate(-90)scale(0.1 -0.1)\">\n       <use xlink:href=\"#LiberationSans-60\"/>\n       <use x=\"58.398438\" xlink:href=\"#LiberationSans-115\"/>\n       <use x=\"108.398438\" xlink:href=\"#LiberationSans-116\"/>\n       <use x=\"136.181641\" xlink:href=\"#LiberationSans-97\"/>\n       <use x=\"191.796875\" xlink:href=\"#LiberationSans-114\"/>\n       <use x=\"225.097656\" xlink:href=\"#LiberationSans-116\"/>\n       <use x=\"252.880859\" xlink:href=\"#LiberationSans-62\"/>\n      </g>\n     </g>\n    </g>\n    <g id=\"xtick_2\">\n     <g id=\"line2d_2\"/>\n     <g id=\"text_2\">\n      <!-- Finns -->\n      <defs>\n       <path d=\"M 17.53125 61.1875 \nL 17.53125 35.59375 \nL 55.90625 35.59375 \nL 55.90625 27.875 \nL 17.53125 27.875 \nL 17.53125 0 \nL 8.203125 0 \nL 8.203125 68.796875 \nL 57.078125 68.796875 \nL 57.078125 61.1875 \nz\n\" id=\"LiberationSans-70\"/>\n       <path d=\"M 6.6875 64.0625 \nL 6.6875 72.46875 \nL 15.484375 72.46875 \nL 15.484375 64.0625 \nz\nM 6.6875 0 \nL 6.6875 52.828125 \nL 15.484375 52.828125 \nL 15.484375 0 \nz\n\" id=\"LiberationSans-105\"/>\n       <path d=\"M 40.28125 0 \nL 40.28125 33.5 \nQ 40.28125 37.359375 39.71875 39.9375 \nQ 39.15625 42.53125 37.890625 44.109375 \nQ 36.625 45.703125 34.546875 46.359375 \nQ 32.46875 47.015625 29.390625 47.015625 \nQ 26.265625 47.015625 23.75 45.921875 \nQ 21.234375 44.828125 19.453125 42.75 \nQ 17.671875 40.671875 16.6875 37.625 \nQ 15.71875 34.578125 15.71875 30.609375 \nL 15.71875 0 \nL 6.9375 0 \nL 6.9375 41.546875 \nQ 6.9375 43.21875 6.90625 45.046875 \nQ 6.890625 46.875 6.828125 48.5 \nQ 6.78125 50.140625 6.734375 51.3125 \nQ 6.6875 52.484375 6.640625 52.828125 \nL 14.9375 52.828125 \nQ 14.984375 52.59375 15.03125 51.515625 \nQ 15.09375 50.4375 15.15625 49.046875 \nQ 15.234375 47.65625 15.28125 46.21875 \nQ 15.328125 44.78125 15.328125 43.796875 \nL 15.484375 43.796875 \nQ 16.75 46.09375 18.265625 47.953125 \nQ 19.78125 49.8125 21.78125 51.09375 \nQ 23.78125 52.390625 26.359375 53.09375 \nQ 28.953125 53.8125 32.375 53.8125 \nQ 36.765625 53.8125 39.9375 52.734375 \nQ 43.109375 51.65625 45.15625 49.40625 \nQ 47.21875 47.171875 48.171875 43.625 \nQ 49.125 40.09375 49.125 35.203125 \nL 49.125 0 \nz\n\" id=\"LiberationSans-110\"/>\n      </defs>\n      <g style=\"fill:#262626;\" transform=\"translate(144.992902 61.673437)rotate(-90)scale(0.1 -0.1)\">\n       <use xlink:href=\"#LiberationSans-70\"/>\n       <use x=\"61.083984\" xlink:href=\"#LiberationSans-105\"/>\n       <use x=\"83.300781\" xlink:href=\"#LiberationSans-110\"/>\n       <use x=\"138.916016\" xlink:href=\"#LiberationSans-110\"/>\n       <use x=\"194.53125\" xlink:href=\"#LiberationSans-115\"/>\n      </g>\n     </g>\n    </g>\n    <g id=\"xtick_3\">\n     <g id=\"line2d_3\"/>\n     <g id=\"text_3\">\n      <!-- det -->\n      <defs>\n       <path d=\"M 40.09375 8.5 \nQ 37.640625 3.421875 33.609375 1.21875 \nQ 29.59375 -0.984375 23.640625 -0.984375 \nQ 13.625 -0.984375 8.90625 5.75 \nQ 4.203125 12.5 4.203125 26.171875 \nQ 4.203125 53.8125 23.640625 53.8125 \nQ 29.640625 53.8125 33.640625 51.609375 \nQ 37.640625 49.421875 40.09375 44.625 \nL 40.1875 44.625 \nQ 40.1875 45.125 40.15625 46.171875 \nQ 40.140625 47.21875 40.109375 48.359375 \nQ 40.09375 49.515625 40.09375 50.53125 \nQ 40.09375 51.5625 40.09375 52 \nL 40.09375 72.46875 \nL 48.875 72.46875 \nL 48.875 10.890625 \nQ 48.875 8.984375 48.890625 7.21875 \nQ 48.921875 5.46875 48.96875 4 \nQ 49.03125 2.546875 49.078125 1.484375 \nQ 49.125 0.4375 49.171875 0 \nL 40.765625 0 \nQ 40.671875 0.484375 40.59375 1.390625 \nQ 40.53125 2.296875 40.453125 3.46875 \nQ 40.375 4.640625 40.328125 5.9375 \nQ 40.28125 7.234375 40.28125 8.5 \nz\nM 13.421875 26.46875 \nQ 13.421875 21 14.109375 17.09375 \nQ 14.796875 13.1875 16.3125 10.671875 \nQ 17.828125 8.15625 20.171875 6.984375 \nQ 22.515625 5.8125 25.875 5.8125 \nQ 29.34375 5.8125 32 6.9375 \nQ 34.671875 8.0625 36.453125 10.578125 \nQ 38.234375 13.09375 39.15625 17.140625 \nQ 40.09375 21.1875 40.09375 27.046875 \nQ 40.09375 32.671875 39.15625 36.546875 \nQ 38.234375 40.4375 36.421875 42.828125 \nQ 34.625 45.21875 32 46.265625 \nQ 29.390625 47.3125 25.984375 47.3125 \nQ 22.75 47.3125 20.40625 46.1875 \nQ 18.0625 45.0625 16.5 42.578125 \nQ 14.9375 40.09375 14.171875 36.109375 \nQ 13.421875 32.125 13.421875 26.46875 \nz\n\" id=\"LiberationSans-100\"/>\n       <path d=\"M 13.484375 24.5625 \nQ 13.484375 20.40625 14.328125 16.90625 \nQ 15.1875 13.421875 16.96875 10.90625 \nQ 18.75 8.40625 21.53125 7 \nQ 24.3125 5.609375 28.21875 5.609375 \nQ 33.9375 5.609375 37.375 7.90625 \nQ 40.828125 10.203125 42.046875 13.71875 \nL 49.75 11.53125 \nQ 48.921875 9.328125 47.4375 7.109375 \nQ 45.953125 4.890625 43.453125 3.09375 \nQ 40.96875 1.3125 37.234375 0.15625 \nQ 33.5 -0.984375 28.21875 -0.984375 \nQ 16.5 -0.984375 10.375 6 \nQ 4.25 12.984375 4.25 26.765625 \nQ 4.25 34.1875 6.09375 39.328125 \nQ 7.953125 44.484375 11.171875 47.703125 \nQ 14.40625 50.921875 18.703125 52.359375 \nQ 23 53.8125 27.875 53.8125 \nQ 34.515625 53.8125 38.984375 51.65625 \nQ 43.453125 49.515625 46.15625 45.71875 \nQ 48.875 41.9375 50.015625 36.8125 \nQ 51.171875 31.6875 51.171875 25.734375 \nL 51.171875 24.5625 \nz\nM 42.09375 31.296875 \nQ 41.359375 39.65625 37.84375 43.484375 \nQ 34.328125 47.3125 27.734375 47.3125 \nQ 25.53125 47.3125 23.109375 46.609375 \nQ 20.703125 45.90625 18.65625 44.09375 \nQ 16.609375 42.28125 15.1875 39.171875 \nQ 13.765625 36.078125 13.578125 31.296875 \nz\n\" id=\"LiberationSans-101\"/>\n      </defs>\n      <g style=\"fill:#262626;\" transform=\"translate(196.010045 61.673437)rotate(-90)scale(0.1 -0.1)\">\n       <use xlink:href=\"#LiberationSans-100\"/>\n       <use x=\"55.615234\" xlink:href=\"#LiberationSans-101\"/>\n       <use x=\"111.230469\" xlink:href=\"#LiberationSans-116\"/>\n      </g>\n     </g>\n    </g>\n    <g id=\"xtick_4\">\n     <g id=\"line2d_4\"/>\n     <g id=\"text_4\">\n      <!-- några -->\n      <defs>\n       <path d=\"M 20.21875 -0.984375 \nQ 12.25 -0.984375 8.25 3.21875 \nQ 4.25 7.421875 4.25 14.75 \nQ 4.25 19.96875 6.21875 23.3125 \nQ 8.203125 26.65625 11.390625 28.5625 \nQ 14.59375 30.46875 18.6875 31.203125 \nQ 22.796875 31.9375 27.046875 32.03125 \nL 38.921875 32.234375 \nL 38.921875 35.109375 \nQ 38.921875 38.375 38.234375 40.671875 \nQ 37.546875 42.96875 36.125 44.375 \nQ 34.71875 45.796875 32.59375 46.453125 \nQ 30.46875 47.125 27.59375 47.125 \nQ 25.046875 47.125 23 46.75 \nQ 20.953125 46.390625 19.4375 45.4375 \nQ 17.921875 44.484375 16.984375 42.84375 \nQ 16.0625 41.21875 15.765625 38.71875 \nL 6.59375 39.546875 \nQ 7.078125 42.671875 8.4375 45.28125 \nQ 9.8125 47.90625 12.328125 49.796875 \nQ 14.84375 51.703125 18.625 52.75 \nQ 22.40625 53.8125 27.78125 53.8125 \nQ 37.75 53.8125 42.765625 49.234375 \nQ 47.796875 44.671875 47.796875 36.03125 \nL 47.796875 13.28125 \nQ 47.796875 9.375 48.828125 7.390625 \nQ 49.859375 5.421875 52.734375 5.421875 \nQ 53.46875 5.421875 54.203125 5.515625 \nQ 54.9375 5.609375 55.609375 5.765625 \nL 55.609375 0.296875 \nQ 53.953125 -0.09375 52.3125 -0.28125 \nQ 50.6875 -0.484375 48.828125 -0.484375 \nQ 46.34375 -0.484375 44.5625 0.171875 \nQ 42.78125 0.828125 41.65625 2.171875 \nQ 40.53125 3.515625 39.9375 5.484375 \nQ 39.359375 7.46875 39.203125 10.109375 \nL 38.921875 10.109375 \nQ 37.5 7.5625 35.8125 5.515625 \nQ 34.125 3.46875 31.875 2.03125 \nQ 29.640625 0.59375 26.78125 -0.1875 \nQ 23.921875 -0.984375 20.21875 -0.984375 \nz\nM 22.21875 5.609375 \nQ 26.421875 5.609375 29.5625 7.140625 \nQ 32.71875 8.6875 34.78125 11.078125 \nQ 36.859375 13.484375 37.890625 16.3125 \nQ 38.921875 19.140625 38.921875 21.734375 \nL 38.921875 26.078125 \nL 29.296875 25.875 \nQ 26.078125 25.828125 23.171875 25.40625 \nQ 20.265625 25 18.0625 23.78125 \nQ 15.875 22.5625 14.578125 20.359375 \nQ 13.28125 18.171875 13.28125 14.59375 \nQ 13.28125 10.296875 15.59375 7.953125 \nQ 17.921875 5.609375 22.21875 5.609375 \nz\nM 39 68.84375 \nQ 39 66.40625 38.0625 64.25 \nQ 37.140625 62.109375 35.53125 60.5 \nQ 33.921875 58.890625 31.765625 57.953125 \nQ 29.625 57.03125 27.1875 57.03125 \nQ 24.734375 57.03125 22.578125 57.953125 \nQ 20.4375 58.890625 18.828125 60.5 \nQ 17.21875 62.109375 16.28125 64.25 \nQ 15.359375 66.40625 15.359375 68.84375 \nQ 15.359375 71.296875 16.28125 73.4375 \nQ 17.21875 75.59375 18.828125 77.171875 \nQ 20.4375 78.765625 22.578125 79.6875 \nQ 24.734375 80.609375 27.1875 80.609375 \nQ 29.625 80.609375 31.765625 79.6875 \nQ 33.921875 78.765625 35.53125 77.171875 \nQ 37.140625 75.59375 38.0625 73.4375 \nQ 39 71.296875 39 68.84375 \nz\nM 33.71875 68.84375 \nQ 33.71875 70.21875 33.203125 71.40625 \nQ 32.703125 72.609375 31.8125 73.484375 \nQ 30.9375 74.359375 29.734375 74.875 \nQ 28.546875 75.390625 27.1875 75.390625 \nQ 25.765625 75.390625 24.5625 74.875 \nQ 23.375 74.359375 22.484375 73.484375 \nQ 21.609375 72.609375 21.09375 71.40625 \nQ 20.59375 70.21875 20.59375 68.84375 \nQ 20.59375 67.4375 21.09375 66.234375 \nQ 21.609375 65.046875 22.484375 64.109375 \nQ 23.375 63.1875 24.5625 62.671875 \nQ 25.765625 62.15625 27.1875 62.15625 \nQ 28.546875 62.15625 29.734375 62.671875 \nQ 30.9375 63.1875 31.8125 64.109375 \nQ 32.703125 65.046875 33.203125 66.234375 \nQ 33.71875 67.4375 33.71875 68.84375 \nz\n\" id=\"LiberationSans-229\"/>\n       <path d=\"M 26.765625 -20.75 \nQ 22.21875 -20.75 18.703125 -19.8125 \nQ 15.1875 -18.890625 12.6875 -17.15625 \nQ 10.203125 -15.4375 8.640625 -13.03125 \nQ 7.078125 -10.640625 6.390625 -7.71875 \nL 15.234375 -6.453125 \nQ 16.109375 -10.109375 19.109375 -12.078125 \nQ 22.125 -14.0625 27 -14.0625 \nQ 29.984375 -14.0625 32.421875 -13.234375 \nQ 34.859375 -12.40625 36.5625 -10.5625 \nQ 38.28125 -8.734375 39.203125 -5.796875 \nQ 40.140625 -2.875 40.140625 1.3125 \nL 40.140625 9.8125 \nL 40.046875 9.8125 \nQ 39.0625 7.8125 37.625 5.984375 \nQ 36.1875 4.15625 34.109375 2.734375 \nQ 32.03125 1.3125 29.296875 0.453125 \nQ 26.5625 -0.390625 23.046875 -0.390625 \nQ 18.015625 -0.390625 14.421875 1.296875 \nQ 10.84375 2.984375 8.5625 6.34375 \nQ 6.296875 9.71875 5.25 14.71875 \nQ 4.203125 19.734375 4.203125 26.3125 \nQ 4.203125 32.671875 5.25 37.75 \nQ 6.296875 42.828125 8.65625 46.359375 \nQ 11.03125 49.90625 14.8125 51.78125 \nQ 18.609375 53.65625 24.03125 53.65625 \nQ 29.640625 53.65625 33.765625 51.09375 \nQ 37.890625 48.53125 40.140625 43.796875 \nL 40.234375 43.796875 \nQ 40.234375 45.015625 40.296875 46.53125 \nQ 40.375 48.046875 40.453125 49.390625 \nQ 40.53125 50.734375 40.625 51.703125 \nQ 40.71875 52.6875 40.828125 52.828125 \nL 49.171875 52.828125 \nQ 49.125 52.390625 49.078125 51.34375 \nQ 49.03125 50.296875 48.96875 48.828125 \nQ 48.921875 47.359375 48.890625 45.578125 \nQ 48.875 43.796875 48.875 41.890625 \nL 48.875 1.515625 \nQ 48.875 -9.578125 43.421875 -15.15625 \nQ 37.984375 -20.75 26.765625 -20.75 \nz\nM 40.140625 26.421875 \nQ 40.140625 31.9375 38.9375 35.859375 \nQ 37.75 39.796875 35.796875 42.28125 \nQ 33.84375 44.78125 31.328125 45.953125 \nQ 28.8125 47.125 26.171875 47.125 \nQ 22.796875 47.125 20.375 45.953125 \nQ 17.96875 44.78125 16.375 42.265625 \nQ 14.796875 39.75 14.03125 35.8125 \nQ 13.28125 31.890625 13.28125 26.421875 \nQ 13.28125 20.703125 14.03125 16.8125 \nQ 14.796875 12.9375 16.359375 10.546875 \nQ 17.921875 8.15625 20.3125 7.125 \nQ 22.703125 6.109375 26.03125 6.109375 \nQ 28.65625 6.109375 31.171875 7.21875 \nQ 33.6875 8.34375 35.6875 10.78125 \nQ 37.703125 13.234375 38.921875 17.09375 \nQ 40.140625 20.953125 40.140625 26.421875 \nz\n\" id=\"LiberationSans-103\"/>\n      </defs>\n      <g style=\"fill:#262626;\" transform=\"translate(247.434219 61.673437)rotate(-90)scale(0.1 -0.1)\">\n       <use xlink:href=\"#LiberationSans-110\"/>\n       <use x=\"55.615234\" xlink:href=\"#LiberationSans-229\"/>\n       <use x=\"111.230469\" xlink:href=\"#LiberationSans-103\"/>\n       <use x=\"166.845703\" xlink:href=\"#LiberationSans-114\"/>\n       <use x=\"200.146484\" xlink:href=\"#LiberationSans-97\"/>\n      </g>\n     </g>\n    </g>\n    <g id=\"xtick_5\">\n     <g id=\"line2d_5\"/>\n     <g id=\"text_5\">\n      <!-- synpunkter? -->\n      <defs>\n       <path d=\"M 29.5 0 \nQ 27.640625 -4.78125 25.703125 -8.609375 \nQ 23.78125 -12.453125 21.390625 -15.15625 \nQ 19 -17.875 16.0625 -19.3125 \nQ 13.140625 -20.75 9.328125 -20.75 \nQ 7.671875 -20.75 6.25 -20.65625 \nQ 4.828125 -20.5625 3.265625 -20.21875 \nL 3.265625 -13.625 \nQ 4.203125 -13.765625 5.375 -13.84375 \nQ 6.546875 -13.921875 7.375 -13.921875 \nQ 11.234375 -13.921875 14.546875 -11.03125 \nQ 17.875 -8.15625 20.359375 -1.859375 \nL 21.1875 0.25 \nL 0.25 52.828125 \nL 9.625 52.828125 \nL 20.75 23.640625 \nQ 21.234375 22.3125 21.984375 20.109375 \nQ 22.75 17.921875 23.5 15.71875 \nQ 24.265625 13.53125 24.84375 11.765625 \nQ 25.4375 10.015625 25.53125 9.578125 \nQ 25.6875 10.109375 26.25 11.6875 \nQ 26.8125 13.28125 27.515625 15.234375 \nQ 28.21875 17.1875 28.953125 19.1875 \nQ 29.6875 21.1875 30.171875 22.65625 \nL 40.53125 52.828125 \nL 49.8125 52.828125 \nz\n\" id=\"LiberationSans-121\"/>\n       <path d=\"M 51.421875 26.65625 \nQ 51.421875 20.65625 50.4375 15.578125 \nQ 49.46875 10.5 47.1875 6.828125 \nQ 44.921875 3.171875 41.1875 1.09375 \nQ 37.453125 -0.984375 31.984375 -0.984375 \nQ 26.3125 -0.984375 22.0625 1.171875 \nQ 17.828125 3.328125 15.578125 8.203125 \nL 15.328125 8.203125 \nQ 15.375 8.109375 15.40625 7.328125 \nQ 15.4375 6.546875 15.453125 5.375 \nQ 15.484375 4.203125 15.5 2.75 \nQ 15.53125 1.3125 15.53125 -0.09375 \nL 15.53125 -20.75 \nL 6.734375 -20.75 \nL 6.734375 42.046875 \nQ 6.734375 43.953125 6.703125 45.703125 \nQ 6.6875 47.46875 6.640625 48.90625 \nQ 6.59375 50.34375 6.546875 51.359375 \nQ 6.5 52.390625 6.453125 52.828125 \nL 14.9375 52.828125 \nQ 14.984375 52.6875 15.0625 51.796875 \nQ 15.140625 50.921875 15.203125 49.671875 \nQ 15.28125 48.4375 15.359375 47.015625 \nQ 15.4375 45.609375 15.4375 44.34375 \nL 15.625 44.34375 \nQ 16.84375 46.875 18.40625 48.65625 \nQ 19.96875 50.4375 21.96875 51.578125 \nQ 23.96875 52.734375 26.4375 53.25 \nQ 28.90625 53.765625 31.984375 53.765625 \nQ 37.453125 53.765625 41.1875 51.8125 \nQ 44.921875 49.859375 47.1875 46.3125 \nQ 49.46875 42.78125 50.4375 37.765625 \nQ 51.421875 32.765625 51.421875 26.65625 \nz\nM 42.1875 26.46875 \nQ 42.1875 31.34375 41.59375 35.15625 \nQ 41.015625 38.96875 39.578125 41.59375 \nQ 38.140625 44.234375 35.734375 45.59375 \nQ 33.34375 46.96875 29.734375 46.96875 \nQ 26.8125 46.96875 24.21875 46.140625 \nQ 21.625 45.3125 19.703125 42.96875 \nQ 17.78125 40.625 16.65625 36.5 \nQ 15.53125 32.375 15.53125 25.78125 \nQ 15.53125 20.171875 16.453125 16.28125 \nQ 17.390625 12.40625 19.171875 10.015625 \nQ 20.953125 7.625 23.578125 6.5625 \nQ 26.21875 5.515625 29.640625 5.515625 \nQ 33.296875 5.515625 35.71875 6.921875 \nQ 38.140625 8.34375 39.578125 11.03125 \nQ 41.015625 13.71875 41.59375 17.59375 \nQ 42.1875 21.484375 42.1875 26.46875 \nz\n\" id=\"LiberationSans-112\"/>\n       <path d=\"M 15.328125 52.828125 \nL 15.328125 19.34375 \nQ 15.328125 15.484375 15.890625 12.890625 \nQ 16.453125 10.296875 17.71875 8.703125 \nQ 19 7.125 21.0625 6.46875 \nQ 23.140625 5.8125 26.21875 5.8125 \nQ 29.34375 5.8125 31.859375 6.90625 \nQ 34.375 8.015625 36.15625 10.078125 \nQ 37.9375 12.15625 38.90625 15.203125 \nQ 39.890625 18.265625 39.890625 22.21875 \nL 39.890625 52.828125 \nL 48.6875 52.828125 \nL 48.6875 11.28125 \nQ 48.6875 9.625 48.703125 7.78125 \nQ 48.734375 5.953125 48.78125 4.3125 \nQ 48.828125 2.6875 48.875 1.515625 \nQ 48.921875 0.34375 48.96875 0 \nL 40.671875 0 \nQ 40.625 0.25 40.578125 1.3125 \nQ 40.53125 2.390625 40.453125 3.78125 \nQ 40.375 5.171875 40.328125 6.609375 \nQ 40.28125 8.0625 40.28125 9.03125 \nL 40.140625 9.03125 \nQ 38.875 6.734375 37.359375 4.875 \nQ 35.84375 3.03125 33.84375 1.734375 \nQ 31.84375 0.4375 29.25 -0.265625 \nQ 26.65625 -0.984375 23.25 -0.984375 \nQ 18.84375 -0.984375 15.671875 0.09375 \nQ 12.5 1.171875 10.453125 3.421875 \nQ 8.40625 5.671875 7.453125 9.1875 \nQ 6.5 12.703125 6.5 17.625 \nL 6.5 52.828125 \nz\n\" id=\"LiberationSans-117\"/>\n       <path d=\"M 39.84375 0 \nL 21.96875 24.125 \nL 15.53125 18.796875 \nL 15.53125 0 \nL 6.734375 0 \nL 6.734375 72.46875 \nL 15.53125 72.46875 \nL 15.53125 27.203125 \nL 38.71875 52.828125 \nL 49.03125 52.828125 \nL 27.59375 30.125 \nL 50.140625 0 \nz\n\" id=\"LiberationSans-107\"/>\n       <path d=\"M 51.90625 50.390625 \nQ 51.90625 46.921875 51 44.28125 \nQ 50.09375 41.65625 48.578125 39.578125 \nQ 47.078125 37.5 45.140625 35.859375 \nQ 43.21875 34.234375 41.203125 32.765625 \nQ 39.203125 31.296875 37.28125 29.875 \nQ 35.359375 28.46875 33.8125 26.796875 \nQ 32.28125 25.140625 31.328125 23.109375 \nQ 30.375 21.09375 30.328125 18.40625 \nL 21.78125 18.40625 \nQ 21.875 21.78125 22.828125 24.3125 \nQ 23.78125 26.859375 25.296875 28.8125 \nQ 26.8125 30.765625 28.703125 32.296875 \nQ 30.609375 33.84375 32.5625 35.234375 \nQ 34.515625 36.625 36.390625 38.015625 \nQ 38.28125 39.40625 39.75 41.109375 \nQ 41.21875 42.828125 42.109375 44.96875 \nQ 43.015625 47.125 43.015625 50 \nQ 43.015625 52.875 41.984375 55.125 \nQ 40.96875 57.375 39.078125 58.90625 \nQ 37.203125 60.453125 34.546875 61.234375 \nQ 31.890625 62.015625 28.609375 62.015625 \nQ 21.78125 62.015625 17.765625 58.59375 \nQ 13.765625 55.171875 13.09375 49.21875 \nL 4.109375 49.8125 \nQ 4.640625 53.90625 6.265625 57.546875 \nQ 7.90625 61.1875 10.859375 63.921875 \nQ 13.8125 66.65625 18.1875 68.234375 \nQ 22.5625 69.828125 28.515625 69.828125 \nQ 34.078125 69.828125 38.421875 68.453125 \nQ 42.78125 67.09375 45.78125 64.578125 \nQ 48.78125 62.0625 50.34375 58.4375 \nQ 51.90625 54.828125 51.90625 50.390625 \nz\nM 21.390625 0 \nL 21.390625 9.8125 \nL 30.90625 9.8125 \nL 30.90625 0 \nz\n\" id=\"LiberationSans-63\"/>\n      </defs>\n      <g style=\"fill:#262626;\" transform=\"translate(298.04433 61.673437)rotate(-90)scale(0.1 -0.1)\">\n       <use xlink:href=\"#LiberationSans-115\"/>\n       <use x=\"50\" xlink:href=\"#LiberationSans-121\"/>\n       <use x=\"100\" xlink:href=\"#LiberationSans-110\"/>\n       <use x=\"155.615234\" xlink:href=\"#LiberationSans-112\"/>\n       <use x=\"211.230469\" xlink:href=\"#LiberationSans-117\"/>\n       <use x=\"266.845703\" xlink:href=\"#LiberationSans-110\"/>\n       <use x=\"322.460938\" xlink:href=\"#LiberationSans-107\"/>\n       <use x=\"372.460938\" xlink:href=\"#LiberationSans-116\"/>\n       <use x=\"400.244141\" xlink:href=\"#LiberationSans-101\"/>\n       <use x=\"455.859375\" xlink:href=\"#LiberationSans-114\"/>\n       <use x=\"489.160156\" xlink:href=\"#LiberationSans-63\"/>\n      </g>\n     </g>\n    </g>\n    <g id=\"xtick_6\">\n     <g id=\"line2d_6\"/>\n    </g>\n    <g id=\"xtick_7\">\n     <g id=\"line2d_7\"/>\n    </g>\n   </g>\n   <g id=\"matplotlib.axis_2\">\n    <g id=\"ytick_1\">\n     <g id=\"line2d_8\"/>\n     <g id=\"text_6\">\n      <!-- &lt;start&gt; -->\n      <g style=\"fill:#262626;\" transform=\"translate(27.753125 90.983125)scale(0.1 -0.1)\">\n       <use xlink:href=\"#LiberationSans-60\"/>\n       <use x=\"58.398438\" xlink:href=\"#LiberationSans-115\"/>\n       <use x=\"108.398438\" xlink:href=\"#LiberationSans-116\"/>\n       <use x=\"136.181641\" xlink:href=\"#LiberationSans-97\"/>\n       <use x=\"191.796875\" xlink:href=\"#LiberationSans-114\"/>\n       <use x=\"225.097656\" xlink:href=\"#LiberationSans-116\"/>\n       <use x=\"252.880859\" xlink:href=\"#LiberationSans-62\"/>\n      </g>\n     </g>\n    </g>\n    <g id=\"ytick_2\">\n     <g id=\"line2d_9\"/>\n     <g id=\"text_7\">\n      <!-- Are -->\n      <defs>\n       <path d=\"M 56.984375 0 \nL 49.125 20.125 \nL 17.78125 20.125 \nL 9.859375 0 \nL 0.203125 0 \nL 28.265625 68.796875 \nL 38.875 68.796875 \nL 66.5 0 \nz\nM 37.5 50.09375 \nQ 36.71875 52.046875 36 54.046875 \nQ 35.296875 56.0625 34.765625 57.6875 \nQ 34.234375 59.328125 33.859375 60.421875 \nQ 33.5 61.53125 33.453125 61.765625 \nQ 33.34375 61.53125 33 60.40625 \nQ 32.671875 59.28125 32.109375 57.609375 \nQ 31.546875 55.953125 30.828125 53.953125 \nQ 30.125 51.953125 29.390625 50 \nL 20.609375 27.390625 \nL 46.34375 27.390625 \nz\n\" id=\"LiberationSans-65\"/>\n      </defs>\n      <g style=\"fill:#262626;\" transform=\"translate(43.320313 128.355625)scale(0.1 -0.1)\">\n       <use xlink:href=\"#LiberationSans-65\"/>\n       <use x=\"66.699219\" xlink:href=\"#LiberationSans-114\"/>\n       <use x=\"100\" xlink:href=\"#LiberationSans-101\"/>\n      </g>\n     </g>\n    </g>\n    <g id=\"ytick_3\">\n     <g id=\"line2d_10\"/>\n     <g id=\"text_8\">\n      <!-- there -->\n      <defs>\n       <path d=\"M 15.484375 43.796875 \nQ 16.9375 46.484375 18.640625 48.359375 \nQ 20.359375 50.25 22.40625 51.46875 \nQ 24.46875 52.6875 26.90625 53.25 \nQ 29.34375 53.8125 32.375 53.8125 \nQ 37.453125 53.8125 40.703125 52.4375 \nQ 43.953125 51.078125 45.828125 48.609375 \nQ 47.703125 46.140625 48.40625 42.71875 \nQ 49.125 39.3125 49.125 35.203125 \nL 49.125 0 \nL 40.28125 0 \nL 40.28125 33.5 \nQ 40.28125 36.859375 39.859375 39.390625 \nQ 39.453125 41.9375 38.28125 43.625 \nQ 37.109375 45.3125 34.953125 46.15625 \nQ 32.8125 47.015625 29.390625 47.015625 \nQ 26.265625 47.015625 23.75 45.890625 \nQ 21.234375 44.78125 19.453125 42.71875 \nQ 17.671875 40.671875 16.6875 37.734375 \nQ 15.71875 34.8125 15.71875 31.15625 \nL 15.71875 0 \nL 6.9375 0 \nL 6.9375 72.46875 \nL 15.71875 72.46875 \nL 15.71875 53.609375 \nQ 15.71875 52 15.671875 50.390625 \nQ 15.625 48.78125 15.546875 47.40625 \nQ 15.484375 46.046875 15.421875 45.09375 \nQ 15.375 44.140625 15.328125 43.796875 \nz\n\" id=\"LiberationSans-104\"/>\n      </defs>\n      <g style=\"fill:#262626;\" transform=\"translate(36.090625 165.728125)scale(0.1 -0.1)\">\n       <use xlink:href=\"#LiberationSans-116\"/>\n       <use x=\"27.783203\" xlink:href=\"#LiberationSans-104\"/>\n       <use x=\"83.398438\" xlink:href=\"#LiberationSans-101\"/>\n       <use x=\"139.013672\" xlink:href=\"#LiberationSans-114\"/>\n       <use x=\"172.314453\" xlink:href=\"#LiberationSans-101\"/>\n      </g>\n     </g>\n    </g>\n    <g id=\"ytick_4\">\n     <g id=\"line2d_11\"/>\n     <g id=\"text_9\">\n      <!-- any -->\n      <g style=\"fill:#262626;\" transform=\"translate(42.759375 203.100625)scale(0.1 -0.1)\">\n       <use xlink:href=\"#LiberationSans-97\"/>\n       <use x=\"55.615234\" xlink:href=\"#LiberationSans-110\"/>\n       <use x=\"111.230469\" xlink:href=\"#LiberationSans-121\"/>\n      </g>\n     </g>\n    </g>\n    <g id=\"ytick_5\">\n     <g id=\"line2d_12\"/>\n     <g id=\"text_10\">\n      <!-- comments? -->\n      <defs>\n       <path d=\"M 13.421875 26.65625 \nQ 13.421875 22.125 14.078125 18.3125 \nQ 14.75 14.5 16.3125 11.734375 \nQ 17.875 8.984375 20.4375 7.46875 \nQ 23 5.953125 26.765625 5.953125 \nQ 31.453125 5.953125 34.59375 8.484375 \nQ 37.75 11.03125 38.484375 16.3125 \nL 47.359375 15.71875 \nQ 46.921875 12.453125 45.453125 9.421875 \nQ 44 6.390625 41.484375 4.09375 \nQ 38.96875 1.8125 35.34375 0.40625 \nQ 31.734375 -0.984375 27 -0.984375 \nQ 20.796875 -0.984375 16.453125 1.109375 \nQ 12.109375 3.21875 9.390625 6.90625 \nQ 6.6875 10.59375 5.46875 15.59375 \nQ 4.25 20.609375 4.25 26.46875 \nQ 4.25 31.78125 5.125 35.859375 \nQ 6 39.9375 7.59375 42.984375 \nQ 9.1875 46.046875 11.328125 48.125 \nQ 13.484375 50.203125 15.984375 51.4375 \nQ 18.5 52.6875 21.28125 53.25 \nQ 24.078125 53.8125 26.90625 53.8125 \nQ 31.34375 53.8125 34.8125 52.59375 \nQ 38.28125 51.375 40.796875 49.25 \nQ 43.3125 47.125 44.875 44.234375 \nQ 46.4375 41.359375 47.078125 38.03125 \nL 38.03125 37.359375 \nQ 37.359375 41.75 34.5625 44.328125 \nQ 31.78125 46.921875 26.65625 46.921875 \nQ 22.90625 46.921875 20.390625 45.671875 \nQ 17.875 44.4375 16.3125 41.921875 \nQ 14.75 39.40625 14.078125 35.59375 \nQ 13.421875 31.78125 13.421875 26.65625 \nz\n\" id=\"LiberationSans-99\"/>\n       <path d=\"M 51.421875 26.46875 \nQ 51.421875 12.59375 45.3125 5.796875 \nQ 39.203125 -0.984375 27.59375 -0.984375 \nQ 22.078125 -0.984375 17.71875 0.671875 \nQ 13.375 2.34375 10.375 5.765625 \nQ 7.375 9.1875 5.78125 14.328125 \nQ 4.203125 19.484375 4.203125 26.46875 \nQ 4.203125 53.8125 27.875 53.8125 \nQ 34.03125 53.8125 38.5 52.09375 \nQ 42.96875 50.390625 45.828125 46.96875 \nQ 48.6875 43.5625 50.046875 38.421875 \nQ 51.421875 33.296875 51.421875 26.46875 \nz\nM 42.1875 26.46875 \nQ 42.1875 32.625 41.234375 36.625 \nQ 40.28125 40.625 38.453125 43.015625 \nQ 36.625 45.40625 33.984375 46.359375 \nQ 31.34375 47.3125 28.03125 47.3125 \nQ 24.65625 47.3125 21.9375 46.3125 \nQ 19.234375 45.3125 17.328125 42.890625 \nQ 15.4375 40.484375 14.421875 36.46875 \nQ 13.421875 32.46875 13.421875 26.46875 \nQ 13.421875 20.3125 14.5 16.28125 \nQ 15.578125 12.25 17.453125 9.859375 \nQ 19.34375 7.46875 21.90625 6.484375 \nQ 24.46875 5.515625 27.484375 5.515625 \nQ 30.859375 5.515625 33.59375 6.46875 \nQ 36.328125 7.421875 38.234375 9.8125 \nQ 40.140625 12.203125 41.15625 16.25 \nQ 42.1875 20.3125 42.1875 26.46875 \nz\n\" id=\"LiberationSans-111\"/>\n       <path d=\"M 37.5 0 \nL 37.5 33.5 \nQ 37.5 37.359375 37.015625 39.9375 \nQ 36.53125 42.53125 35.375 44.109375 \nQ 34.234375 45.703125 32.375 46.359375 \nQ 30.515625 47.015625 27.828125 47.015625 \nQ 25.046875 47.015625 22.796875 45.921875 \nQ 20.5625 44.828125 18.96875 42.75 \nQ 17.390625 40.671875 16.53125 37.625 \nQ 15.671875 34.578125 15.671875 30.609375 \nL 15.671875 0 \nL 6.9375 0 \nL 6.9375 41.546875 \nQ 6.9375 43.21875 6.90625 45.046875 \nQ 6.890625 46.875 6.828125 48.5 \nQ 6.78125 50.140625 6.734375 51.3125 \nQ 6.6875 52.484375 6.640625 52.828125 \nL 14.9375 52.828125 \nQ 14.984375 52.59375 15.03125 51.515625 \nQ 15.09375 50.4375 15.15625 49.046875 \nQ 15.234375 47.65625 15.28125 46.21875 \nQ 15.328125 44.78125 15.328125 43.796875 \nL 15.484375 43.796875 \nQ 16.65625 46.09375 18.015625 47.953125 \nQ 19.390625 49.8125 21.21875 51.09375 \nQ 23.046875 52.390625 25.40625 53.09375 \nQ 27.78125 53.8125 30.90625 53.8125 \nQ 36.921875 53.8125 40.40625 51.421875 \nQ 43.890625 49.03125 45.265625 43.796875 \nL 45.40625 43.796875 \nQ 46.578125 46.09375 48.046875 47.953125 \nQ 49.515625 49.8125 51.46875 51.09375 \nQ 53.421875 52.390625 55.859375 53.09375 \nQ 58.296875 53.8125 61.421875 53.8125 \nQ 65.4375 53.8125 68.328125 52.734375 \nQ 71.234375 51.65625 73.09375 49.40625 \nQ 74.953125 47.171875 75.828125 43.625 \nQ 76.703125 40.09375 76.703125 35.203125 \nL 76.703125 0 \nL 68.015625 0 \nL 68.015625 33.5 \nQ 68.015625 37.359375 67.53125 39.9375 \nQ 67.046875 42.53125 65.890625 44.109375 \nQ 64.75 45.703125 62.890625 46.359375 \nQ 61.03125 47.015625 58.34375 47.015625 \nQ 55.5625 47.015625 53.3125 45.96875 \nQ 51.078125 44.921875 49.484375 42.875 \nQ 47.90625 40.828125 47.046875 37.75 \nQ 46.1875 34.671875 46.1875 30.609375 \nL 46.1875 0 \nz\n\" id=\"LiberationSans-109\"/>\n      </defs>\n      <g style=\"fill:#262626;\" transform=\"translate(7.2 240.473125)scale(0.1 -0.1)\">\n       <use xlink:href=\"#LiberationSans-99\"/>\n       <use x=\"50\" xlink:href=\"#LiberationSans-111\"/>\n       <use x=\"105.615234\" xlink:href=\"#LiberationSans-109\"/>\n       <use x=\"188.916016\" xlink:href=\"#LiberationSans-109\"/>\n       <use x=\"272.216797\" xlink:href=\"#LiberationSans-101\"/>\n       <use x=\"327.832031\" xlink:href=\"#LiberationSans-110\"/>\n       <use x=\"383.447266\" xlink:href=\"#LiberationSans-116\"/>\n       <use x=\"411.230469\" xlink:href=\"#LiberationSans-115\"/>\n       <use x=\"461.230469\" xlink:href=\"#LiberationSans-63\"/>\n      </g>\n     </g>\n    </g>\n    <g id=\"ytick_6\">\n     <g id=\"line2d_13\"/>\n    </g>\n    <g id=\"ytick_7\">\n     <g id=\"line2d_14\"/>\n    </g>\n    <g id=\"ytick_8\">\n     <g id=\"line2d_15\"/>\n    </g>\n   </g>\n   <g id=\"PolyCollection_1\">\n    <path clip-path=\"url(#pbce56cb561)\" d=\"M 65.88125 68.673437 \nL 65.88125 106.045937 \nL 116.898393 106.045937 \nL 116.898393 68.673437 \nL 65.88125 68.673437 \nz\n\" style=\"fill:#08498a;\"/>\n    <path clip-path=\"url(#pbce56cb561)\" d=\"M 116.898393 68.673437 \nL 116.898393 106.045937 \nL 167.915536 106.045937 \nL 167.915536 68.673437 \nL 116.898393 68.673437 \nz\n\" style=\"fill:#2283ba;\"/>\n    <path clip-path=\"url(#pbce56cb561)\" d=\"M 167.915536 68.673437 \nL 167.915536 106.045937 \nL 218.932679 106.045937 \nL 218.932679 68.673437 \nL 167.915536 68.673437 \nz\n\" style=\"fill:#afe0b8;\"/>\n    <path clip-path=\"url(#pbce56cb561)\" d=\"M 218.932679 68.673437 \nL 218.932679 106.045937 \nL 269.949821 106.045937 \nL 269.949821 68.673437 \nL 218.932679 68.673437 \nz\n\" style=\"fill:#084d8e;\"/>\n    <path clip-path=\"url(#pbce56cb561)\" d=\"M 269.949821 68.673437 \nL 269.949821 106.045937 \nL 320.966964 106.045937 \nL 320.966964 68.673437 \nL 269.949821 68.673437 \nz\n\" style=\"fill:#0866a9;\"/>\n    <path clip-path=\"url(#pbce56cb561)\" d=\"M 320.966964 68.673437 \nL 320.966964 106.045937 \nL 371.984107 106.045937 \nL 371.984107 68.673437 \nL 320.966964 68.673437 \nz\n\" style=\"fill:#08498a;\"/>\n    <path clip-path=\"url(#pbce56cb561)\" d=\"M 371.984107 68.673437 \nL 371.984107 106.045937 \nL 423.00125 106.045937 \nL 423.00125 68.673437 \nL 371.984107 68.673437 \nz\n\" style=\"fill:#084889;\"/>\n    <path clip-path=\"url(#pbce56cb561)\" d=\"M 65.88125 106.045937 \nL 65.88125 143.418437 \nL 116.898393 143.418437 \nL 116.898393 106.045937 \nL 65.88125 106.045937 \nz\n\" style=\"fill:#2484ba;\"/>\n    <path clip-path=\"url(#pbce56cb561)\" d=\"M 116.898393 106.045937 \nL 116.898393 143.418437 \nL 167.915536 143.418437 \nL 167.915536 106.045937 \nL 116.898393 106.045937 \nz\n\" style=\"fill:#87d1c0;\"/>\n    <path clip-path=\"url(#pbce56cb561)\" d=\"M 167.915536 106.045937 \nL 167.915536 143.418437 \nL 218.932679 143.418437 \nL 218.932679 106.045937 \nL 167.915536 106.045937 \nz\n\" style=\"fill:#0866a9;\"/>\n    <path clip-path=\"url(#pbce56cb561)\" d=\"M 218.932679 106.045937 \nL 218.932679 143.418437 \nL 269.949821 143.418437 \nL 269.949821 106.045937 \nL 218.932679 106.045937 \nz\n\" style=\"fill:#085497;\"/>\n    <path clip-path=\"url(#pbce56cb561)\" d=\"M 269.949821 106.045937 \nL 269.949821 143.418437 \nL 320.966964 143.418437 \nL 320.966964 106.045937 \nL 269.949821 106.045937 \nz\n\" style=\"fill:#0868ac;\"/>\n    <path clip-path=\"url(#pbce56cb561)\" d=\"M 320.966964 106.045937 \nL 320.966964 143.418437 \nL 371.984107 143.418437 \nL 371.984107 106.045937 \nL 320.966964 106.045937 \nz\n\" style=\"fill:#084586;\"/>\n    <path clip-path=\"url(#pbce56cb561)\" d=\"M 371.984107 106.045937 \nL 371.984107 143.418437 \nL 423.00125 143.418437 \nL 423.00125 106.045937 \nL 371.984107 106.045937 \nz\n\" style=\"fill:#084889;\"/>\n    <path clip-path=\"url(#pbce56cb561)\" d=\"M 65.88125 143.418437 \nL 65.88125 180.790937 \nL 116.898393 180.790937 \nL 116.898393 143.418437 \nL 65.88125 143.418437 \nz\n\" style=\"fill:#0a6aad;\"/>\n    <path clip-path=\"url(#pbce56cb561)\" d=\"M 116.898393 143.418437 \nL 116.898393 180.790937 \nL 167.915536 180.790937 \nL 167.915536 143.418437 \nL 116.898393 143.418437 \nz\n\" style=\"fill:#085c9f;\"/>\n    <path clip-path=\"url(#pbce56cb561)\" d=\"M 167.915536 143.418437 \nL 167.915536 180.790937 \nL 218.932679 180.790937 \nL 218.932679 143.418437 \nL 167.915536 143.418437 \nz\n\" style=\"fill:#0969ad;\"/>\n    <path clip-path=\"url(#pbce56cb561)\" d=\"M 218.932679 143.418437 \nL 218.932679 180.790937 \nL 269.949821 180.790937 \nL 269.949821 143.418437 \nL 218.932679 143.418437 \nz\n\" style=\"fill:#3192c1;\"/>\n    <path clip-path=\"url(#pbce56cb561)\" d=\"M 269.949821 143.418437 \nL 269.949821 180.790937 \nL 320.966964 180.790937 \nL 320.966964 143.418437 \nL 269.949821 143.418437 \nz\n\" style=\"fill:#50b4d2;\"/>\n    <path clip-path=\"url(#pbce56cb561)\" d=\"M 320.966964 143.418437 \nL 320.966964 180.790937 \nL 371.984107 180.790937 \nL 371.984107 143.418437 \nL 320.966964 143.418437 \nz\n\" style=\"fill:#084384;\"/>\n    <path clip-path=\"url(#pbce56cb561)\" d=\"M 371.984107 143.418437 \nL 371.984107 180.790937 \nL 423.00125 180.790937 \nL 423.00125 143.418437 \nL 371.984107 143.418437 \nz\n\" style=\"fill:#0861a4;\"/>\n    <path clip-path=\"url(#pbce56cb561)\" d=\"M 65.88125 180.790937 \nL 65.88125 218.163437 \nL 116.898393 218.163437 \nL 116.898393 180.790937 \nL 65.88125 180.790937 \nz\n\" style=\"fill:#085ea1;\"/>\n    <path clip-path=\"url(#pbce56cb561)\" d=\"M 116.898393 180.790937 \nL 116.898393 218.163437 \nL 167.915536 218.163437 \nL 167.915536 180.790937 \nL 116.898393 180.790937 \nz\n\" style=\"fill:#084889;\"/>\n    <path clip-path=\"url(#pbce56cb561)\" d=\"M 167.915536 180.790937 \nL 167.915536 218.163437 \nL 218.932679 218.163437 \nL 218.932679 180.790937 \nL 167.915536 180.790937 \nz\n\" style=\"fill:#084e90;\"/>\n    <path clip-path=\"url(#pbce56cb561)\" d=\"M 218.932679 180.790937 \nL 218.932679 218.163437 \nL 269.949821 218.163437 \nL 269.949821 180.790937 \nL 218.932679 180.790937 \nz\n\" style=\"fill:#1070b0;\"/>\n    <path clip-path=\"url(#pbce56cb561)\" d=\"M 269.949821 180.790937 \nL 269.949821 218.163437 \nL 320.966964 218.163437 \nL 320.966964 180.790937 \nL 269.949821 180.790937 \nz\n\" style=\"fill:#ccebc6;\"/>\n    <path clip-path=\"url(#pbce56cb561)\" d=\"M 320.966964 180.790937 \nL 320.966964 218.163437 \nL 371.984107 218.163437 \nL 371.984107 180.790937 \nL 320.966964 180.790937 \nz\n\" style=\"fill:#084081;\"/>\n    <path clip-path=\"url(#pbce56cb561)\" d=\"M 371.984107 180.790937 \nL 371.984107 218.163437 \nL 423.00125 218.163437 \nL 423.00125 180.790937 \nL 371.984107 180.790937 \nz\n\" style=\"fill:#084d8e;\"/>\n    <path clip-path=\"url(#pbce56cb561)\" d=\"M 65.88125 218.163437 \nL 65.88125 255.535937 \nL 116.898393 255.535937 \nL 116.898393 218.163437 \nL 65.88125 218.163437 \nz\n\" style=\"fill:#085093;\"/>\n    <path clip-path=\"url(#pbce56cb561)\" d=\"M 116.898393 218.163437 \nL 116.898393 255.535937 \nL 167.915536 255.535937 \nL 167.915536 218.163437 \nL 116.898393 218.163437 \nz\n\" style=\"fill:#084182;\"/>\n    <path clip-path=\"url(#pbce56cb561)\" d=\"M 167.915536 218.163437 \nL 167.915536 255.535937 \nL 218.932679 255.535937 \nL 218.932679 218.163437 \nL 167.915536 218.163437 \nz\n\" style=\"fill:#084384;\"/>\n    <path clip-path=\"url(#pbce56cb561)\" d=\"M 218.932679 218.163437 \nL 218.932679 255.535937 \nL 269.949821 255.535937 \nL 269.949821 218.163437 \nL 218.932679 218.163437 \nz\n\" style=\"fill:#084688;\"/>\n    <path clip-path=\"url(#pbce56cb561)\" d=\"M 269.949821 218.163437 \nL 269.949821 255.535937 \nL 320.966964 255.535937 \nL 320.966964 218.163437 \nL 269.949821 218.163437 \nz\n\" style=\"fill:#f7fcf0;\"/>\n    <path clip-path=\"url(#pbce56cb561)\" d=\"M 320.966964 218.163437 \nL 320.966964 255.535937 \nL 371.984107 255.535937 \nL 371.984107 218.163437 \nL 320.966964 218.163437 \nz\n\" style=\"fill:#084081;\"/>\n    <path clip-path=\"url(#pbce56cb561)\" d=\"M 371.984107 218.163437 \nL 371.984107 255.535937 \nL 423.00125 255.535937 \nL 423.00125 218.163437 \nL 371.984107 218.163437 \nz\n\" style=\"fill:#084586;\"/>\n    <path clip-path=\"url(#pbce56cb561)\" d=\"M 65.88125 255.535937 \nL 65.88125 292.908437 \nL 116.898393 292.908437 \nL 116.898393 255.535937 \nL 65.88125 255.535937 \nz\n\" style=\"fill:#c7e9c3;\"/>\n    <path clip-path=\"url(#pbce56cb561)\" d=\"M 116.898393 255.535937 \nL 116.898393 292.908437 \nL 167.915536 292.908437 \nL 167.915536 255.535937 \nL 116.898393 255.535937 \nz\n\" style=\"fill:#085093;\"/>\n    <path clip-path=\"url(#pbce56cb561)\" d=\"M 167.915536 255.535937 \nL 167.915536 292.908437 \nL 218.932679 292.908437 \nL 218.932679 255.535937 \nL 167.915536 255.535937 \nz\n\" style=\"fill:#084889;\"/>\n    <path clip-path=\"url(#pbce56cb561)\" d=\"M 218.932679 255.535937 \nL 218.932679 292.908437 \nL 269.949821 292.908437 \nL 269.949821 255.535937 \nL 218.932679 255.535937 \nz\n\" style=\"fill:#084f91;\"/>\n    <path clip-path=\"url(#pbce56cb561)\" d=\"M 269.949821 255.535937 \nL 269.949821 292.908437 \nL 320.966964 292.908437 \nL 320.966964 255.535937 \nL 269.949821 255.535937 \nz\n\" style=\"fill:#085ea1;\"/>\n    <path clip-path=\"url(#pbce56cb561)\" d=\"M 320.966964 255.535937 \nL 320.966964 292.908437 \nL 371.984107 292.908437 \nL 371.984107 255.535937 \nL 320.966964 255.535937 \nz\n\" style=\"fill:#084f91;\"/>\n    <path clip-path=\"url(#pbce56cb561)\" d=\"M 371.984107 255.535937 \nL 371.984107 292.908437 \nL 423.00125 292.908437 \nL 423.00125 255.535937 \nL 371.984107 255.535937 \nz\n\" style=\"fill:#0862a5;\"/>\n    <path clip-path=\"url(#pbce56cb561)\" d=\"M 65.88125 292.908437 \nL 65.88125 330.280937 \nL 116.898393 330.280937 \nL 116.898393 292.908437 \nL 65.88125 292.908437 \nz\n\" style=\"fill:#d0ecc9;\"/>\n    <path clip-path=\"url(#pbce56cb561)\" d=\"M 116.898393 292.908437 \nL 116.898393 330.280937 \nL 167.915536 330.280937 \nL 167.915536 292.908437 \nL 116.898393 292.908437 \nz\n\" style=\"fill:#084384;\"/>\n    <path clip-path=\"url(#pbce56cb561)\" d=\"M 167.915536 292.908437 \nL 167.915536 330.280937 \nL 218.932679 330.280937 \nL 218.932679 292.908437 \nL 167.915536 292.908437 \nz\n\" style=\"fill:#084182;\"/>\n    <path clip-path=\"url(#pbce56cb561)\" d=\"M 218.932679 292.908437 \nL 218.932679 330.280937 \nL 269.949821 330.280937 \nL 269.949821 292.908437 \nL 218.932679 292.908437 \nz\n\" style=\"fill:#08498a;\"/>\n    <path clip-path=\"url(#pbce56cb561)\" d=\"M 269.949821 292.908437 \nL 269.949821 330.280937 \nL 320.966964 330.280937 \nL 320.966964 292.908437 \nL 269.949821 292.908437 \nz\n\" style=\"fill:#084485;\"/>\n    <path clip-path=\"url(#pbce56cb561)\" d=\"M 320.966964 292.908437 \nL 320.966964 330.280937 \nL 371.984107 330.280937 \nL 371.984107 292.908437 \nL 320.966964 292.908437 \nz\n\" style=\"fill:#1e7fb7;\"/>\n    <path clip-path=\"url(#pbce56cb561)\" d=\"M 371.984107 292.908437 \nL 371.984107 330.280937 \nL 423.00125 330.280937 \nL 423.00125 292.908437 \nL 371.984107 292.908437 \nz\n\" style=\"fill:#085799;\"/>\n    <path clip-path=\"url(#pbce56cb561)\" d=\"M 65.88125 330.280937 \nL 65.88125 367.653437 \nL 116.898393 367.653437 \nL 116.898393 330.280937 \nL 65.88125 330.280937 \nz\n\" style=\"fill:#d7efd1;\"/>\n    <path clip-path=\"url(#pbce56cb561)\" d=\"M 116.898393 330.280937 \nL 116.898393 367.653437 \nL 167.915536 367.653437 \nL 167.915536 330.280937 \nL 116.898393 330.280937 \nz\n\" style=\"fill:#0864a8;\"/>\n    <path clip-path=\"url(#pbce56cb561)\" d=\"M 167.915536 330.280937 \nL 167.915536 367.653437 \nL 218.932679 367.653437 \nL 218.932679 330.280937 \nL 167.915536 330.280937 \nz\n\" style=\"fill:#08498a;\"/>\n    <path clip-path=\"url(#pbce56cb561)\" d=\"M 218.932679 330.280937 \nL 218.932679 367.653437 \nL 269.949821 367.653437 \nL 269.949821 330.280937 \nL 218.932679 330.280937 \nz\n\" style=\"fill:#084182;\"/>\n    <path clip-path=\"url(#pbce56cb561)\" d=\"M 269.949821 330.280937 \nL 269.949821 367.653437 \nL 320.966964 367.653437 \nL 320.966964 330.280937 \nL 269.949821 330.280937 \nz\n\" style=\"fill:#084081;\"/>\n    <path clip-path=\"url(#pbce56cb561)\" d=\"M 320.966964 330.280937 \nL 320.966964 367.653437 \nL 371.984107 367.653437 \nL 371.984107 330.280937 \nL 320.966964 330.280937 \nz\n\" style=\"fill:#085ea1;\"/>\n    <path clip-path=\"url(#pbce56cb561)\" d=\"M 371.984107 330.280937 \nL 371.984107 367.653437 \nL 423.00125 367.653437 \nL 423.00125 330.280937 \nL 371.984107 330.280937 \nz\n\" style=\"fill:#084e90;\"/>\n   </g>\n   <g id=\"patch_3\">\n    <path d=\"M 65.88125 367.653437 \nL 65.88125 68.673437 \n\" style=\"fill:none;\"/>\n   </g>\n   <g id=\"patch_4\">\n    <path d=\"M 423.00125 367.653437 \nL 423.00125 68.673437 \n\" style=\"fill:none;\"/>\n   </g>\n   <g id=\"patch_5\">\n    <path d=\"M 65.88125 367.653437 \nL 423.00125 367.653437 \n\" style=\"fill:none;\"/>\n   </g>\n   <g id=\"patch_6\">\n    <path d=\"M 65.88125 68.673437 \nL 423.00125 68.673437 \n\" style=\"fill:none;\"/>\n   </g>\n  </g>\n  <g id=\"axes_2\">\n   <g id=\"patch_7\">\n    <path clip-path=\"url(#pee1bccfb99)\" d=\"M 445.32125 367.653437 \nL 445.32125 366.485547 \nL 445.32125 69.841328 \nL 445.32125 68.673437 \nL 460.27025 68.673437 \nL 460.27025 69.841328 \nL 460.27025 366.485547 \nL 460.27025 367.653437 \nz\n\" style=\"fill:#eaeaf2;stroke:#eaeaf2;stroke-linejoin:miter;stroke-width:0.01;\"/>\n   </g>\n   <g id=\"matplotlib.axis_3\"/>\n   <g id=\"matplotlib.axis_4\">\n    <g id=\"ytick_9\">\n     <g id=\"line2d_16\"/>\n     <g id=\"text_11\">\n      <!-- 0.1 -->\n      <defs>\n       <path d=\"M 51.703125 34.421875 \nQ 51.703125 24.515625 49.828125 17.75 \nQ 47.953125 10.984375 44.703125 6.8125 \nQ 41.453125 2.640625 37.0625 0.828125 \nQ 32.671875 -0.984375 27.6875 -0.984375 \nQ 22.65625 -0.984375 18.3125 0.828125 \nQ 13.96875 2.640625 10.765625 6.78125 \nQ 7.5625 10.9375 5.734375 17.703125 \nQ 3.90625 24.46875 3.90625 34.421875 \nQ 3.90625 44.828125 5.734375 51.640625 \nQ 7.5625 58.453125 10.78125 62.5 \nQ 14.015625 66.546875 18.40625 68.1875 \nQ 22.796875 69.828125 27.984375 69.828125 \nQ 32.90625 69.828125 37.21875 68.1875 \nQ 41.546875 66.546875 44.765625 62.5 \nQ 48 58.453125 49.84375 51.640625 \nQ 51.703125 44.828125 51.703125 34.421875 \nz\nM 42.78125 34.421875 \nQ 42.78125 42.625 41.796875 48.0625 \nQ 40.828125 53.515625 38.921875 56.765625 \nQ 37.015625 60.015625 34.25 61.359375 \nQ 31.5 62.703125 27.984375 62.703125 \nQ 24.265625 62.703125 21.4375 61.328125 \nQ 18.609375 59.96875 16.671875 56.71875 \nQ 14.75 53.46875 13.765625 48.015625 \nQ 12.796875 42.578125 12.796875 34.421875 \nQ 12.796875 26.515625 13.796875 21.09375 \nQ 14.796875 15.671875 16.71875 12.375 \nQ 18.65625 9.078125 21.4375 7.640625 \nQ 24.21875 6.203125 27.78125 6.203125 \nQ 31.25 6.203125 34.03125 7.640625 \nQ 36.8125 9.078125 38.734375 12.375 \nQ 40.671875 15.671875 41.71875 21.09375 \nQ 42.78125 26.515625 42.78125 34.421875 \nz\n\" id=\"LiberationSans-48\"/>\n       <path d=\"M 9.125 0 \nL 9.125 10.6875 \nL 18.65625 10.6875 \nL 18.65625 0 \nz\n\" id=\"LiberationSans-46\"/>\n       <path d=\"M 7.625 0 \nL 7.625 7.46875 \nL 25.140625 7.46875 \nL 25.140625 60.40625 \nL 9.625 49.3125 \nL 9.625 57.625 \nL 25.875 68.796875 \nL 33.984375 68.796875 \nL 33.984375 7.46875 \nL 50.734375 7.46875 \nL 50.734375 0 \nz\n\" id=\"LiberationSans-49\"/>\n      </defs>\n      <g style=\"fill:#262626;\" transform=\"translate(467.27025 338.071868)scale(0.1 -0.1)\">\n       <use xlink:href=\"#LiberationSans-48\"/>\n       <use x=\"55.615234\" xlink:href=\"#LiberationSans-46\"/>\n       <use x=\"83.398438\" xlink:href=\"#LiberationSans-49\"/>\n      </g>\n     </g>\n    </g>\n    <g id=\"ytick_10\">\n     <g id=\"line2d_17\"/>\n     <g id=\"text_12\">\n      <!-- 0.2 -->\n      <defs>\n       <path d=\"M 5.03125 0 \nL 5.03125 6.203125 \nQ 7.515625 11.921875 11.109375 16.28125 \nQ 14.703125 20.65625 18.65625 24.1875 \nQ 22.609375 27.734375 26.484375 30.765625 \nQ 30.375 33.796875 33.5 36.8125 \nQ 36.625 39.84375 38.546875 43.15625 \nQ 40.484375 46.484375 40.484375 50.6875 \nQ 40.484375 53.609375 39.59375 55.828125 \nQ 38.71875 58.0625 37.0625 59.5625 \nQ 35.40625 61.078125 33.078125 61.828125 \nQ 30.765625 62.59375 27.9375 62.59375 \nQ 25.296875 62.59375 22.96875 61.859375 \nQ 20.65625 61.140625 18.84375 59.671875 \nQ 17.046875 58.203125 15.890625 56.03125 \nQ 14.75 53.859375 14.40625 50.984375 \nL 5.421875 51.8125 \nQ 5.859375 55.515625 7.46875 58.78125 \nQ 9.078125 62.0625 11.90625 64.53125 \nQ 14.75 67 18.71875 68.40625 \nQ 22.703125 69.828125 27.9375 69.828125 \nQ 33.0625 69.828125 37.0625 68.609375 \nQ 41.0625 67.390625 43.8125 64.984375 \nQ 46.578125 62.59375 48.046875 59.078125 \nQ 49.515625 55.5625 49.515625 50.984375 \nQ 49.515625 47.515625 48.265625 44.390625 \nQ 47.015625 41.265625 44.9375 38.421875 \nQ 42.875 35.59375 40.140625 32.953125 \nQ 37.40625 30.328125 34.421875 27.8125 \nQ 31.453125 25.296875 28.421875 22.828125 \nQ 25.390625 20.359375 22.71875 17.859375 \nQ 20.0625 15.375 17.96875 12.8125 \nQ 15.875 10.25 14.703125 7.46875 \nL 50.59375 7.46875 \nL 50.59375 0 \nz\n\" id=\"LiberationSans-50\"/>\n      </defs>\n      <g style=\"fill:#262626;\" transform=\"translate(467.27025 304.596339)scale(0.1 -0.1)\">\n       <use xlink:href=\"#LiberationSans-48\"/>\n       <use x=\"55.615234\" xlink:href=\"#LiberationSans-46\"/>\n       <use x=\"83.398438\" xlink:href=\"#LiberationSans-50\"/>\n      </g>\n     </g>\n    </g>\n    <g id=\"ytick_11\">\n     <g id=\"line2d_18\"/>\n     <g id=\"text_13\">\n      <!-- 0.3 -->\n      <defs>\n       <path d=\"M 51.21875 19 \nQ 51.21875 14.265625 49.671875 10.546875 \nQ 48.140625 6.84375 45.1875 4.265625 \nQ 42.234375 1.703125 37.859375 0.359375 \nQ 33.5 -0.984375 27.875 -0.984375 \nQ 21.484375 -0.984375 17.109375 0.609375 \nQ 12.75 2.203125 9.90625 4.8125 \nQ 7.078125 7.421875 5.65625 10.765625 \nQ 4.25 14.109375 3.8125 17.671875 \nL 12.890625 18.5 \nQ 13.28125 15.765625 14.328125 13.515625 \nQ 15.375 11.28125 17.1875 9.671875 \nQ 19 8.0625 21.625 7.171875 \nQ 24.265625 6.296875 27.875 6.296875 \nQ 34.515625 6.296875 38.296875 9.5625 \nQ 42.09375 12.84375 42.09375 19.28125 \nQ 42.09375 23.09375 40.40625 25.40625 \nQ 38.71875 27.734375 36.203125 29.03125 \nQ 33.6875 30.328125 30.734375 30.765625 \nQ 27.78125 31.203125 25.296875 31.203125 \nL 20.3125 31.203125 \nL 20.3125 38.8125 \nL 25.09375 38.8125 \nQ 27.59375 38.8125 30.265625 39.328125 \nQ 32.953125 39.84375 35.171875 41.1875 \nQ 37.40625 42.53125 38.84375 44.828125 \nQ 40.28125 47.125 40.28125 50.6875 \nQ 40.28125 56.203125 37.03125 59.390625 \nQ 33.796875 62.59375 27.390625 62.59375 \nQ 21.578125 62.59375 17.984375 59.609375 \nQ 14.40625 56.640625 13.8125 51.21875 \nL 4.984375 51.90625 \nQ 5.515625 56.453125 7.46875 59.8125 \nQ 9.421875 63.1875 12.421875 65.40625 \nQ 15.4375 67.625 19.28125 68.71875 \nQ 23.140625 69.828125 27.484375 69.828125 \nQ 33.25 69.828125 37.390625 68.375 \nQ 41.546875 66.9375 44.1875 64.46875 \nQ 46.828125 62.015625 48.0625 58.6875 \nQ 49.3125 55.375 49.3125 51.609375 \nQ 49.3125 48.578125 48.484375 45.9375 \nQ 47.65625 43.3125 45.890625 41.203125 \nQ 44.140625 39.109375 41.421875 37.59375 \nQ 38.71875 36.078125 34.90625 35.296875 \nL 34.90625 35.109375 \nQ 39.0625 34.671875 42.140625 33.21875 \nQ 45.21875 31.78125 47.21875 29.625 \nQ 49.21875 27.484375 50.21875 24.75 \nQ 51.21875 22.015625 51.21875 19 \nz\n\" id=\"LiberationSans-51\"/>\n      </defs>\n      <g style=\"fill:#262626;\" transform=\"translate(467.27025 271.120809)scale(0.1 -0.1)\">\n       <use xlink:href=\"#LiberationSans-48\"/>\n       <use x=\"55.615234\" xlink:href=\"#LiberationSans-46\"/>\n       <use x=\"83.398438\" xlink:href=\"#LiberationSans-51\"/>\n      </g>\n     </g>\n    </g>\n    <g id=\"ytick_12\">\n     <g id=\"line2d_19\"/>\n     <g id=\"text_14\">\n      <!-- 0.4 -->\n      <defs>\n       <path d=\"M 43.015625 15.578125 \nL 43.015625 0 \nL 34.71875 0 \nL 34.71875 15.578125 \nL 2.296875 15.578125 \nL 2.296875 22.40625 \nL 33.796875 68.796875 \nL 43.015625 68.796875 \nL 43.015625 22.515625 \nL 52.6875 22.515625 \nL 52.6875 15.578125 \nz\nM 34.71875 58.890625 \nQ 34.625 58.640625 34.234375 57.9375 \nQ 33.84375 57.234375 33.34375 56.34375 \nQ 32.859375 55.46875 32.34375 54.5625 \nQ 31.84375 53.65625 31.453125 53.078125 \nL 13.8125 27.09375 \nQ 13.578125 26.703125 13.109375 26.0625 \nQ 12.640625 25.4375 12.15625 24.78125 \nQ 11.671875 24.125 11.171875 23.484375 \nQ 10.6875 22.859375 10.40625 22.515625 \nL 34.71875 22.515625 \nz\n\" id=\"LiberationSans-52\"/>\n      </defs>\n      <g style=\"fill:#262626;\" transform=\"translate(467.27025 237.645279)scale(0.1 -0.1)\">\n       <use xlink:href=\"#LiberationSans-48\"/>\n       <use x=\"55.615234\" xlink:href=\"#LiberationSans-46\"/>\n       <use x=\"83.398438\" xlink:href=\"#LiberationSans-52\"/>\n      </g>\n     </g>\n    </g>\n    <g id=\"ytick_13\">\n     <g id=\"line2d_20\"/>\n     <g id=\"text_15\">\n      <!-- 0.5 -->\n      <defs>\n       <path d=\"M 51.421875 22.40625 \nQ 51.421875 17.234375 49.859375 12.9375 \nQ 48.296875 8.640625 45.21875 5.53125 \nQ 42.140625 2.4375 37.578125 0.71875 \nQ 33.015625 -0.984375 27 -0.984375 \nQ 21.578125 -0.984375 17.546875 0.28125 \nQ 13.53125 1.5625 10.734375 3.78125 \nQ 7.953125 6 6.3125 8.984375 \nQ 4.6875 11.96875 4 15.375 \nL 12.890625 16.40625 \nQ 13.421875 14.453125 14.390625 12.625 \nQ 15.375 10.796875 17.0625 9.34375 \nQ 18.75 7.90625 21.21875 7.046875 \nQ 23.6875 6.203125 27.203125 6.203125 \nQ 30.609375 6.203125 33.390625 7.25 \nQ 36.1875 8.296875 38.15625 10.34375 \nQ 40.140625 12.40625 41.203125 15.375 \nQ 42.28125 18.359375 42.28125 22.21875 \nQ 42.28125 25.390625 41.25 28.046875 \nQ 40.234375 30.71875 38.328125 32.640625 \nQ 36.421875 34.578125 33.65625 35.640625 \nQ 30.90625 36.71875 27.390625 36.71875 \nQ 25.203125 36.71875 23.34375 36.328125 \nQ 21.484375 35.9375 19.890625 35.25 \nQ 18.3125 34.578125 17.015625 33.671875 \nQ 15.71875 32.765625 14.59375 31.78125 \nL 6 31.78125 \nL 8.296875 68.796875 \nL 47.40625 68.796875 \nL 47.40625 61.328125 \nL 16.3125 61.328125 \nL 14.984375 39.5 \nQ 17.328125 41.3125 20.84375 42.59375 \nQ 24.359375 43.890625 29.203125 43.890625 \nQ 34.328125 43.890625 38.421875 42.328125 \nQ 42.53125 40.765625 45.40625 37.90625 \nQ 48.296875 35.0625 49.859375 31.109375 \nQ 51.421875 27.15625 51.421875 22.40625 \nz\n\" id=\"LiberationSans-53\"/>\n      </defs>\n      <g style=\"fill:#262626;\" transform=\"translate(467.27025 204.169749)scale(0.1 -0.1)\">\n       <use xlink:href=\"#LiberationSans-48\"/>\n       <use x=\"55.615234\" xlink:href=\"#LiberationSans-46\"/>\n       <use x=\"83.398438\" xlink:href=\"#LiberationSans-53\"/>\n      </g>\n     </g>\n    </g>\n    <g id=\"ytick_14\">\n     <g id=\"line2d_21\"/>\n     <g id=\"text_16\">\n      <!-- 0.6 -->\n      <defs>\n       <path d=\"M 51.21875 22.515625 \nQ 51.21875 17.328125 49.78125 13 \nQ 48.34375 8.6875 45.53125 5.578125 \nQ 42.71875 2.484375 38.5625 0.75 \nQ 34.421875 -0.984375 29 -0.984375 \nQ 23 -0.984375 18.5 1.3125 \nQ 14.015625 3.609375 11.03125 7.921875 \nQ 8.0625 12.25 6.5625 18.53125 \nQ 5.078125 24.8125 5.078125 32.8125 \nQ 5.078125 42 6.765625 48.921875 \nQ 8.453125 55.859375 11.625 60.5 \nQ 14.796875 65.140625 19.359375 67.484375 \nQ 23.921875 69.828125 29.6875 69.828125 \nQ 33.203125 69.828125 36.28125 69.09375 \nQ 39.359375 68.359375 41.875 66.71875 \nQ 44.390625 65.09375 46.28125 62.40625 \nQ 48.1875 59.71875 49.3125 55.8125 \nL 40.921875 54.296875 \nQ 39.546875 58.734375 36.546875 60.71875 \nQ 33.546875 62.703125 29.59375 62.703125 \nQ 25.984375 62.703125 23.046875 60.984375 \nQ 20.125 59.28125 18.0625 55.875 \nQ 16.015625 52.484375 14.90625 47.359375 \nQ 13.8125 42.234375 13.8125 35.40625 \nQ 16.21875 39.84375 20.5625 42.15625 \nQ 24.90625 44.484375 30.515625 44.484375 \nQ 35.203125 44.484375 39.015625 42.96875 \nQ 42.828125 41.453125 45.53125 38.59375 \nQ 48.25 35.75 49.734375 31.671875 \nQ 51.21875 27.59375 51.21875 22.515625 \nz\nM 42.28125 22.125 \nQ 42.28125 25.6875 41.40625 28.5625 \nQ 40.53125 31.453125 38.765625 33.46875 \nQ 37.015625 35.5 34.421875 36.59375 \nQ 31.84375 37.703125 28.421875 37.703125 \nQ 26.03125 37.703125 23.578125 36.984375 \nQ 21.140625 36.28125 19.15625 34.6875 \nQ 17.1875 33.109375 15.9375 30.515625 \nQ 14.703125 27.9375 14.703125 24.21875 \nQ 14.703125 20.40625 15.671875 17.109375 \nQ 16.65625 13.8125 18.484375 11.375 \nQ 20.3125 8.9375 22.890625 7.515625 \nQ 25.484375 6.109375 28.71875 6.109375 \nQ 31.890625 6.109375 34.40625 7.203125 \nQ 36.921875 8.296875 38.671875 10.375 \nQ 40.4375 12.453125 41.359375 15.421875 \nQ 42.28125 18.40625 42.28125 22.125 \nz\n\" id=\"LiberationSans-54\"/>\n      </defs>\n      <g style=\"fill:#262626;\" transform=\"translate(467.27025 170.694219)scale(0.1 -0.1)\">\n       <use xlink:href=\"#LiberationSans-48\"/>\n       <use x=\"55.615234\" xlink:href=\"#LiberationSans-46\"/>\n       <use x=\"83.398438\" xlink:href=\"#LiberationSans-54\"/>\n      </g>\n     </g>\n    </g>\n    <g id=\"ytick_15\">\n     <g id=\"line2d_22\"/>\n     <g id=\"text_17\">\n      <!-- 0.7 -->\n      <defs>\n       <path d=\"M 50.59375 61.671875 \nQ 45.40625 53.765625 41.0625 46.453125 \nQ 36.71875 39.15625 33.59375 31.75 \nQ 30.46875 24.359375 28.734375 16.578125 \nQ 27 8.796875 27 0 \nL 17.828125 0 \nQ 17.828125 8.25 19.78125 16.1875 \nQ 21.734375 24.125 25.046875 31.765625 \nQ 28.375 39.40625 32.765625 46.78125 \nQ 37.15625 54.15625 42.09375 61.328125 \nL 5.125 61.328125 \nL 5.125 68.796875 \nL 50.59375 68.796875 \nz\n\" id=\"LiberationSans-55\"/>\n      </defs>\n      <g style=\"fill:#262626;\" transform=\"translate(467.27025 137.21869)scale(0.1 -0.1)\">\n       <use xlink:href=\"#LiberationSans-48\"/>\n       <use x=\"55.615234\" xlink:href=\"#LiberationSans-46\"/>\n       <use x=\"83.398438\" xlink:href=\"#LiberationSans-55\"/>\n      </g>\n     </g>\n    </g>\n    <g id=\"ytick_16\">\n     <g id=\"line2d_23\"/>\n     <g id=\"text_18\">\n      <!-- 0.8 -->\n      <defs>\n       <path d=\"M 51.265625 19.1875 \nQ 51.265625 14.796875 49.875 11.109375 \nQ 48.484375 7.421875 45.625 4.734375 \nQ 42.78125 2.046875 38.328125 0.53125 \nQ 33.890625 -0.984375 27.828125 -0.984375 \nQ 21.78125 -0.984375 17.359375 0.53125 \nQ 12.9375 2.046875 10.03125 4.703125 \nQ 7.125 7.375 5.734375 11.0625 \nQ 4.34375 14.75 4.34375 19.09375 \nQ 4.34375 22.859375 5.484375 25.78125 \nQ 6.640625 28.71875 8.5625 30.828125 \nQ 10.5 32.953125 12.96875 34.25 \nQ 15.4375 35.546875 18.0625 35.984375 \nL 18.0625 36.1875 \nQ 15.1875 36.859375 12.90625 38.375 \nQ 10.640625 39.890625 9.09375 42.015625 \nQ 7.5625 44.140625 6.75 46.71875 \nQ 5.953125 49.3125 5.953125 52.203125 \nQ 5.953125 55.8125 7.34375 59 \nQ 8.734375 62.203125 11.46875 64.625 \nQ 14.203125 67.046875 18.25 68.4375 \nQ 22.3125 69.828125 27.640625 69.828125 \nQ 33.25 69.828125 37.375 68.40625 \nQ 41.5 67 44.203125 64.578125 \nQ 46.921875 62.15625 48.234375 58.9375 \nQ 49.5625 55.71875 49.5625 52.09375 \nQ 49.5625 49.265625 48.75 46.671875 \nQ 47.953125 44.09375 46.40625 41.96875 \nQ 44.875 39.84375 42.59375 38.34375 \nQ 40.328125 36.859375 37.359375 36.28125 \nL 37.359375 36.078125 \nQ 40.328125 35.59375 42.859375 34.296875 \nQ 45.40625 33.015625 47.265625 30.890625 \nQ 49.125 28.765625 50.1875 25.828125 \nQ 51.265625 22.90625 51.265625 19.1875 \nz\nM 40.4375 51.609375 \nQ 40.4375 54.203125 39.765625 56.34375 \nQ 39.109375 58.5 37.59375 60.03125 \nQ 36.078125 61.578125 33.640625 62.421875 \nQ 31.203125 63.28125 27.640625 63.28125 \nQ 24.171875 63.28125 21.78125 62.421875 \nQ 19.390625 61.578125 17.84375 60.03125 \nQ 16.3125 58.5 15.625 56.34375 \nQ 14.9375 54.203125 14.9375 51.609375 \nQ 14.9375 49.5625 15.46875 47.40625 \nQ 16.015625 45.265625 17.421875 43.5 \nQ 18.84375 41.75 21.328125 40.625 \nQ 23.828125 39.5 27.734375 39.5 \nQ 31.890625 39.5 34.40625 40.625 \nQ 36.921875 41.75 38.25 43.5 \nQ 39.59375 45.265625 40.015625 47.40625 \nQ 40.4375 49.5625 40.4375 51.609375 \nz\nM 42.140625 20.015625 \nQ 42.140625 22.515625 41.453125 24.828125 \nQ 40.765625 27.15625 39.109375 28.9375 \nQ 37.453125 30.71875 34.640625 31.8125 \nQ 31.84375 32.90625 27.640625 32.90625 \nQ 23.78125 32.90625 21.0625 31.8125 \nQ 18.359375 30.71875 16.671875 28.90625 \nQ 14.984375 27.09375 14.203125 24.71875 \nQ 13.421875 22.359375 13.421875 19.828125 \nQ 13.421875 16.65625 14.203125 14.03125 \nQ 14.984375 11.421875 16.6875 9.546875 \nQ 18.40625 7.671875 21.1875 6.640625 \nQ 23.96875 5.609375 27.9375 5.609375 \nQ 31.9375 5.609375 34.671875 6.640625 \nQ 37.40625 7.671875 39.0625 9.546875 \nQ 40.71875 11.421875 41.421875 14.078125 \nQ 42.140625 16.75 42.140625 20.015625 \nz\n\" id=\"LiberationSans-56\"/>\n      </defs>\n      <g style=\"fill:#262626;\" transform=\"translate(467.27025 103.74316)scale(0.1 -0.1)\">\n       <use xlink:href=\"#LiberationSans-48\"/>\n       <use x=\"55.615234\" xlink:href=\"#LiberationSans-46\"/>\n       <use x=\"83.398438\" xlink:href=\"#LiberationSans-56\"/>\n      </g>\n     </g>\n    </g>\n   </g>\n   <image height=\"299\" id=\"image1d5bff5f66\" transform=\"scale(1 -1)translate(0 -299)\" width=\"15\" x=\"445\" xlink:href=\"data:image/png;base64,\niVBORw0KGgoAAAANSUhEUgAAAA8AAAErCAYAAAABnNneAAAABHNCSVQICAgIfAhkiAAAAYNJREFUeJztmjESAyEMAw1DkWfla3l5UuQFeIsdje96jcCyhQJZr/fnW83v1FpdbJ3aG4ARMwD31/xnJnve0p7hslmTZErlVTuySahUUoepTSJZrynVM1VX3zNVt+DFwG0slGqRagOsWDDKbMUKcc9g4aLOW5QqtLcJM3ES0QBTpdJ8W/tdlToYT6y4BFumH+qeMw1Q6zAvAcLeBsyw2vOkymzPobEiU6rIDhOlgrcV7bcuHGgIc58Yn1VWwTKrjZjV31WgYGTdkFm8cJCWfVZlepgmlWcGmdU+G3RYrIfNc084VQTMchhhfpLBLZgwZ1ZbzNuZThLKLEol9raVDMx3DAIe6GG5sYJcpoUyV+RD7gbLpoEmkVlNgOS6tk+cOs/iWZVpQ/Q+bN5UDWROjRWFqt2Gmss2DZBUm/1zvA3lTRJpgNqeoVSsSbypinztF91TK5hnQ8w9tVhhnlWWhwFs6rJTpco8bsRHkMw9h87zyFiROc+qAVrMWhoSqx2aAAcmgx/UQiYy385K1QAAAABJRU5ErkJggg==\" y=\"-68\"/>\n   <g id=\"patch_8\">\n    <path d=\"M 445.32125 367.653437 \nL 445.32125 366.485547 \nL 445.32125 69.841328 \nL 445.32125 68.673437 \nL 460.27025 68.673437 \nL 460.27025 69.841328 \nL 460.27025 366.485547 \nL 460.27025 367.653437 \nz\n\" style=\"fill:none;\"/>\n   </g>\n  </g>\n </g>\n <defs>\n  <clipPath id=\"pbce56cb561\">\n   <rect height=\"298.98\" width=\"357.12\" x=\"65.88125\" y=\"68.673437\"/>\n  </clipPath>\n  <clipPath id=\"pee1bccfb99\">\n   <rect height=\"298.98\" width=\"14.949\" x=\"445.32125\" y=\"68.673437\"/>\n  </clipPath>\n </defs>\n</svg>\n"
          },
          "metadata": {
            "tags": []
          }
        }
      ]
    },
    {
      "cell_type": "code",
      "metadata": {
        "id": "6y42cJlPt1ss",
        "colab": {
          "base_uri": "https://localhost:8080/",
          "height": 606
        },
        "outputId": "d788a910-3592-4c40-c9cc-9efde2118ebf"
      },
      "source": [
        "sentence = 'Safety advisers for the transport of dangerous goods'\n",
        "plot_attention(sentence)"
      ],
      "execution_count": null,
      "outputs": [
        {
          "output_type": "display_data",
          "data": {
            "text/plain": [
              "<Figure size 576x396 with 2 Axes>"
            ],
            "image/svg+xml": "<?xml version=\"1.0\" encoding=\"utf-8\" standalone=\"no\"?>\n<!DOCTYPE svg PUBLIC \"-//W3C//DTD SVG 1.1//EN\"\n  \"http://www.w3.org/Graphics/SVG/1.1/DTD/svg11.dtd\">\n<!-- Created with matplotlib (https://matplotlib.org/) -->\n<svg height=\"438.200312pt\" version=\"1.1\" viewBox=\"0 0 483.94525 438.200312\" width=\"483.94525pt\" xmlns=\"http://www.w3.org/2000/svg\" xmlns:xlink=\"http://www.w3.org/1999/xlink\">\n <defs>\n  <style type=\"text/css\">\n*{stroke-linecap:butt;stroke-linejoin:round;}\n  </style>\n </defs>\n <g id=\"figure_1\">\n  <g id=\"patch_1\">\n   <path d=\"M 0 438.200312 \nL 483.94525 438.200312 \nL 483.94525 0 \nL 0 0 \nz\n\" style=\"fill:#ffffff;\"/>\n  </g>\n  <g id=\"axes_1\">\n   <g id=\"patch_2\">\n    <path d=\"M 61.45625 431.000313 \nL 418.57625 431.000313 \nL 418.57625 132.020312 \nL 61.45625 132.020312 \nz\n\" style=\"fill:#eaeaf2;\"/>\n   </g>\n   <g id=\"matplotlib.axis_1\">\n    <g id=\"xtick_1\">\n     <g id=\"line2d_1\"/>\n     <g id=\"text_1\">\n      <!-- &lt;start&gt; -->\n      <defs>\n       <path d=\"M 4.9375 27.875 \nL 4.9375 37.890625 \nL 53.515625 58.296875 \nL 53.515625 50.78125 \nL 11.625 32.90625 \nL 53.515625 14.984375 \nL 53.515625 7.515625 \nz\n\" id=\"LiberationSans-60\"/>\n       <path d=\"M 46.390625 14.59375 \nQ 46.390625 10.890625 44.9375 7.984375 \nQ 43.5 5.078125 40.765625 3.09375 \nQ 38.03125 1.125 34.046875 0.0625 \nQ 30.078125 -0.984375 24.953125 -0.984375 \nQ 20.359375 -0.984375 16.671875 -0.265625 \nQ 12.984375 0.4375 10.203125 2 \nQ 7.421875 3.5625 5.53125 6.125 \nQ 3.65625 8.6875 2.78125 12.40625 \nL 10.546875 13.921875 \nQ 11.671875 9.671875 15.1875 7.6875 \nQ 18.703125 5.71875 24.953125 5.71875 \nQ 27.78125 5.71875 30.140625 6.109375 \nQ 32.515625 6.5 34.21875 7.453125 \nQ 35.9375 8.40625 36.890625 9.984375 \nQ 37.84375 11.578125 37.84375 13.921875 \nQ 37.84375 16.3125 36.71875 17.84375 \nQ 35.59375 19.390625 33.59375 20.40625 \nQ 31.59375 21.4375 28.734375 22.1875 \nQ 25.875 22.953125 22.46875 23.875 \nQ 19.28125 24.703125 16.15625 25.734375 \nQ 13.03125 26.765625 10.515625 28.4375 \nQ 8.015625 30.125 6.453125 32.609375 \nQ 4.890625 35.109375 4.890625 38.875 \nQ 4.890625 46.09375 10.03125 49.875 \nQ 15.1875 53.65625 25.046875 53.65625 \nQ 33.796875 53.65625 38.9375 50.578125 \nQ 44.09375 47.515625 45.453125 40.71875 \nL 37.546875 39.75 \nQ 37.109375 41.796875 35.9375 43.1875 \nQ 34.765625 44.578125 33.109375 45.4375 \nQ 31.453125 46.296875 29.375 46.65625 \nQ 27.296875 47.015625 25.046875 47.015625 \nQ 19.09375 47.015625 16.25 45.203125 \nQ 13.421875 43.40625 13.421875 39.75 \nQ 13.421875 37.59375 14.46875 36.203125 \nQ 15.53125 34.8125 17.40625 33.859375 \nQ 19.28125 32.90625 21.921875 32.203125 \nQ 24.5625 31.5 27.734375 30.71875 \nQ 29.828125 30.171875 32.03125 29.5625 \nQ 34.234375 28.953125 36.296875 28.09375 \nQ 38.375 27.25 40.203125 26.09375 \nQ 42.046875 24.953125 43.40625 23.34375 \nQ 44.78125 21.734375 45.578125 19.578125 \nQ 46.390625 17.4375 46.390625 14.59375 \nz\n\" id=\"LiberationSans-115\"/>\n       <path d=\"M 27.046875 0.390625 \nQ 25.046875 -0.140625 22.96875 -0.453125 \nQ 20.90625 -0.78125 18.171875 -0.78125 \nQ 7.625 -0.78125 7.625 11.1875 \nL 7.625 46.4375 \nL 1.515625 46.4375 \nL 1.515625 52.828125 \nL 7.953125 52.828125 \nL 10.546875 64.65625 \nL 16.40625 64.65625 \nL 16.40625 52.828125 \nL 26.171875 52.828125 \nL 26.171875 46.4375 \nL 16.40625 46.4375 \nL 16.40625 13.09375 \nQ 16.40625 9.28125 17.640625 7.734375 \nQ 18.890625 6.203125 21.96875 6.203125 \nQ 23.25 6.203125 24.4375 6.390625 \nQ 25.640625 6.59375 27.046875 6.890625 \nz\n\" id=\"LiberationSans-116\"/>\n       <path d=\"M 20.21875 -0.984375 \nQ 12.25 -0.984375 8.25 3.21875 \nQ 4.25 7.421875 4.25 14.75 \nQ 4.25 19.96875 6.21875 23.3125 \nQ 8.203125 26.65625 11.390625 28.5625 \nQ 14.59375 30.46875 18.6875 31.203125 \nQ 22.796875 31.9375 27.046875 32.03125 \nL 38.921875 32.234375 \nL 38.921875 35.109375 \nQ 38.921875 38.375 38.234375 40.671875 \nQ 37.546875 42.96875 36.125 44.375 \nQ 34.71875 45.796875 32.59375 46.453125 \nQ 30.46875 47.125 27.59375 47.125 \nQ 25.046875 47.125 23 46.75 \nQ 20.953125 46.390625 19.4375 45.4375 \nQ 17.921875 44.484375 16.984375 42.84375 \nQ 16.0625 41.21875 15.765625 38.71875 \nL 6.59375 39.546875 \nQ 7.078125 42.671875 8.4375 45.28125 \nQ 9.8125 47.90625 12.328125 49.796875 \nQ 14.84375 51.703125 18.625 52.75 \nQ 22.40625 53.8125 27.78125 53.8125 \nQ 37.75 53.8125 42.765625 49.234375 \nQ 47.796875 44.671875 47.796875 36.03125 \nL 47.796875 13.28125 \nQ 47.796875 9.375 48.828125 7.390625 \nQ 49.859375 5.421875 52.734375 5.421875 \nQ 53.46875 5.421875 54.203125 5.515625 \nQ 54.9375 5.609375 55.609375 5.765625 \nL 55.609375 0.296875 \nQ 53.953125 -0.09375 52.3125 -0.28125 \nQ 50.6875 -0.484375 48.828125 -0.484375 \nQ 46.34375 -0.484375 44.5625 0.171875 \nQ 42.78125 0.828125 41.65625 2.171875 \nQ 40.53125 3.515625 39.9375 5.484375 \nQ 39.359375 7.46875 39.203125 10.109375 \nL 38.921875 10.109375 \nQ 37.5 7.5625 35.8125 5.515625 \nQ 34.125 3.46875 31.875 2.03125 \nQ 29.640625 0.59375 26.78125 -0.1875 \nQ 23.921875 -0.984375 20.21875 -0.984375 \nz\nM 22.21875 5.609375 \nQ 26.421875 5.609375 29.5625 7.140625 \nQ 32.71875 8.6875 34.78125 11.078125 \nQ 36.859375 13.484375 37.890625 16.3125 \nQ 38.921875 19.140625 38.921875 21.734375 \nL 38.921875 26.078125 \nL 29.296875 25.875 \nQ 26.078125 25.828125 23.171875 25.40625 \nQ 20.265625 25 18.0625 23.78125 \nQ 15.875 22.5625 14.578125 20.359375 \nQ 13.28125 18.171875 13.28125 14.59375 \nQ 13.28125 10.296875 15.59375 7.953125 \nQ 17.921875 5.609375 22.21875 5.609375 \nz\n\" id=\"LiberationSans-97\"/>\n       <path d=\"M 6.9375 0 \nL 6.9375 40.53125 \nQ 6.9375 42.1875 6.90625 43.921875 \nQ 6.890625 45.65625 6.828125 47.265625 \nQ 6.78125 48.875 6.734375 50.28125 \nQ 6.6875 51.703125 6.640625 52.828125 \nL 14.9375 52.828125 \nQ 14.984375 51.703125 15.0625 50.265625 \nQ 15.140625 48.828125 15.203125 47.3125 \nQ 15.28125 45.796875 15.296875 44.40625 \nQ 15.328125 43.015625 15.328125 42.046875 \nL 15.53125 42.046875 \nQ 16.453125 45.0625 17.5 47.28125 \nQ 18.5625 49.515625 19.96875 50.953125 \nQ 21.390625 52.390625 23.34375 53.09375 \nQ 25.296875 53.8125 28.078125 53.8125 \nQ 29.15625 53.8125 30.125 53.640625 \nQ 31.109375 53.46875 31.640625 53.328125 \nL 31.640625 45.265625 \nQ 30.765625 45.515625 29.59375 45.625 \nQ 28.421875 45.75 26.953125 45.75 \nQ 23.921875 45.75 21.796875 44.375 \nQ 19.671875 43.015625 18.328125 40.59375 \nQ 17 38.1875 16.359375 34.84375 \nQ 15.71875 31.5 15.71875 27.546875 \nL 15.71875 0 \nz\n\" id=\"LiberationSans-114\"/>\n       <path d=\"M 4.9375 7.515625 \nL 4.9375 14.984375 \nL 46.828125 32.90625 \nL 4.9375 50.78125 \nL 4.9375 58.296875 \nL 53.515625 37.890625 \nL 53.515625 27.875 \nz\n\" id=\"LiberationSans-62\"/>\n      </defs>\n      <g style=\"fill:#262626;\" transform=\"translate(80.274915 125.020312)rotate(-90)scale(0.1 -0.1)\">\n       <use xlink:href=\"#LiberationSans-60\"/>\n       <use x=\"58.398438\" xlink:href=\"#LiberationSans-115\"/>\n       <use x=\"108.398438\" xlink:href=\"#LiberationSans-116\"/>\n       <use x=\"136.181641\" xlink:href=\"#LiberationSans-97\"/>\n       <use x=\"191.796875\" xlink:href=\"#LiberationSans-114\"/>\n       <use x=\"225.097656\" xlink:href=\"#LiberationSans-116\"/>\n       <use x=\"252.880859\" xlink:href=\"#LiberationSans-62\"/>\n      </g>\n     </g>\n    </g>\n    <g id=\"xtick_2\">\n     <g id=\"line2d_2\"/>\n     <g id=\"text_2\">\n      <!-- Säkerhetskommissionerna -->\n      <defs>\n       <path d=\"M 62.109375 19 \nQ 62.109375 14.65625 60.421875 10.984375 \nQ 58.734375 7.328125 55.21875 4.65625 \nQ 51.703125 2 46.359375 0.5 \nQ 41.015625 -0.984375 33.6875 -0.984375 \nQ 20.84375 -0.984375 13.671875 3.515625 \nQ 6.5 8.015625 4.546875 16.5 \nL 13.578125 18.3125 \nQ 14.265625 15.625 15.671875 13.421875 \nQ 17.09375 11.234375 19.5 9.640625 \nQ 21.921875 8.0625 25.484375 7.171875 \nQ 29.046875 6.296875 34.03125 6.296875 \nQ 38.1875 6.296875 41.65625 7 \nQ 45.125 7.71875 47.609375 9.171875 \nQ 50.09375 10.640625 51.484375 12.953125 \nQ 52.875 15.28125 52.875 18.5 \nQ 52.875 21.875 51.34375 23.96875 \nQ 49.8125 26.078125 47.015625 27.4375 \nQ 44.234375 28.8125 40.375 29.734375 \nQ 36.53125 30.671875 31.84375 31.734375 \nQ 28.953125 32.375 26.046875 33.125 \nQ 23.140625 33.890625 20.484375 34.9375 \nQ 17.828125 35.984375 15.484375 37.390625 \nQ 13.140625 38.8125 11.421875 40.796875 \nQ 9.71875 42.78125 8.734375 45.390625 \nQ 7.765625 48 7.765625 51.421875 \nQ 7.765625 56.296875 9.734375 59.78125 \nQ 11.71875 63.28125 15.234375 65.53125 \nQ 18.75 67.78125 23.53125 68.796875 \nQ 28.328125 69.828125 33.890625 69.828125 \nQ 40.28125 69.828125 44.8125 68.828125 \nQ 49.359375 67.828125 52.484375 65.8125 \nQ 55.609375 63.8125 57.484375 60.859375 \nQ 59.375 57.90625 60.5 54 \nL 51.3125 52.390625 \nQ 50.640625 54.890625 49.34375 56.84375 \nQ 48.046875 58.796875 45.9375 60.109375 \nQ 43.84375 61.421875 40.84375 62.109375 \nQ 37.84375 62.796875 33.796875 62.796875 \nQ 29 62.796875 25.75 61.9375 \nQ 22.515625 61.078125 20.53125 59.609375 \nQ 18.5625 58.15625 17.703125 56.171875 \nQ 16.84375 54.203125 16.84375 51.90625 \nQ 16.84375 48.828125 18.375 46.84375 \nQ 19.921875 44.875 22.5625 43.546875 \nQ 25.203125 42.234375 28.65625 41.359375 \nQ 32.125 40.484375 36.03125 39.59375 \nQ 39.203125 38.875 42.359375 38.109375 \nQ 45.515625 37.359375 48.390625 36.296875 \nQ 51.265625 35.25 53.78125 33.828125 \nQ 56.296875 32.421875 58.15625 30.375 \nQ 60.015625 28.328125 61.0625 25.53125 \nQ 62.109375 22.75 62.109375 19 \nz\n\" id=\"LiberationSans-83\"/>\n       <path d=\"M 20.21875 -0.984375 \nQ 12.25 -0.984375 8.25 3.21875 \nQ 4.25 7.421875 4.25 14.75 \nQ 4.25 19.96875 6.21875 23.3125 \nQ 8.203125 26.65625 11.390625 28.5625 \nQ 14.59375 30.46875 18.6875 31.203125 \nQ 22.796875 31.9375 27.046875 32.03125 \nL 38.921875 32.234375 \nL 38.921875 35.109375 \nQ 38.921875 38.375 38.234375 40.671875 \nQ 37.546875 42.96875 36.125 44.375 \nQ 34.71875 45.796875 32.59375 46.453125 \nQ 30.46875 47.125 27.59375 47.125 \nQ 25.046875 47.125 23 46.75 \nQ 20.953125 46.390625 19.4375 45.4375 \nQ 17.921875 44.484375 16.984375 42.84375 \nQ 16.0625 41.21875 15.765625 38.71875 \nL 6.59375 39.546875 \nQ 7.078125 42.671875 8.4375 45.28125 \nQ 9.8125 47.90625 12.328125 49.796875 \nQ 14.84375 51.703125 18.625 52.75 \nQ 22.40625 53.8125 27.78125 53.8125 \nQ 37.75 53.8125 42.765625 49.234375 \nQ 47.796875 44.671875 47.796875 36.03125 \nL 47.796875 13.28125 \nQ 47.796875 9.375 48.828125 7.390625 \nQ 49.859375 5.421875 52.734375 5.421875 \nQ 53.46875 5.421875 54.203125 5.515625 \nQ 54.9375 5.609375 55.609375 5.765625 \nL 55.609375 0.296875 \nQ 53.953125 -0.09375 52.3125 -0.28125 \nQ 50.6875 -0.484375 48.828125 -0.484375 \nQ 46.34375 -0.484375 44.5625 0.171875 \nQ 42.78125 0.828125 41.65625 2.171875 \nQ 40.53125 3.515625 39.9375 5.484375 \nQ 39.359375 7.46875 39.203125 10.109375 \nL 38.921875 10.109375 \nQ 37.5 7.5625 35.8125 5.515625 \nQ 34.125 3.46875 31.875 2.03125 \nQ 29.640625 0.59375 26.78125 -0.1875 \nQ 23.921875 -0.984375 20.21875 -0.984375 \nz\nM 22.21875 5.609375 \nQ 26.421875 5.609375 29.5625 7.140625 \nQ 32.71875 8.6875 34.78125 11.078125 \nQ 36.859375 13.484375 37.890625 16.3125 \nQ 38.921875 19.140625 38.921875 21.734375 \nL 38.921875 26.078125 \nL 29.296875 25.875 \nQ 26.078125 25.828125 23.171875 25.40625 \nQ 20.265625 25 18.0625 23.78125 \nQ 15.875 22.5625 14.578125 20.359375 \nQ 13.28125 18.171875 13.28125 14.59375 \nQ 13.28125 10.296875 15.59375 7.953125 \nQ 17.921875 5.609375 22.21875 5.609375 \nz\nM 32.9375 59.515625 \nL 32.9375 68.5 \nL 40.890625 68.5 \nL 40.890625 59.515625 \nz\nM 13.703125 59.515625 \nL 13.703125 68.5 \nL 21.75 68.5 \nL 21.75 59.515625 \nz\n\" id=\"LiberationSans-228\"/>\n       <path d=\"M 39.84375 0 \nL 21.96875 24.125 \nL 15.53125 18.796875 \nL 15.53125 0 \nL 6.734375 0 \nL 6.734375 72.46875 \nL 15.53125 72.46875 \nL 15.53125 27.203125 \nL 38.71875 52.828125 \nL 49.03125 52.828125 \nL 27.59375 30.125 \nL 50.140625 0 \nz\n\" id=\"LiberationSans-107\"/>\n       <path d=\"M 13.484375 24.5625 \nQ 13.484375 20.40625 14.328125 16.90625 \nQ 15.1875 13.421875 16.96875 10.90625 \nQ 18.75 8.40625 21.53125 7 \nQ 24.3125 5.609375 28.21875 5.609375 \nQ 33.9375 5.609375 37.375 7.90625 \nQ 40.828125 10.203125 42.046875 13.71875 \nL 49.75 11.53125 \nQ 48.921875 9.328125 47.4375 7.109375 \nQ 45.953125 4.890625 43.453125 3.09375 \nQ 40.96875 1.3125 37.234375 0.15625 \nQ 33.5 -0.984375 28.21875 -0.984375 \nQ 16.5 -0.984375 10.375 6 \nQ 4.25 12.984375 4.25 26.765625 \nQ 4.25 34.1875 6.09375 39.328125 \nQ 7.953125 44.484375 11.171875 47.703125 \nQ 14.40625 50.921875 18.703125 52.359375 \nQ 23 53.8125 27.875 53.8125 \nQ 34.515625 53.8125 38.984375 51.65625 \nQ 43.453125 49.515625 46.15625 45.71875 \nQ 48.875 41.9375 50.015625 36.8125 \nQ 51.171875 31.6875 51.171875 25.734375 \nL 51.171875 24.5625 \nz\nM 42.09375 31.296875 \nQ 41.359375 39.65625 37.84375 43.484375 \nQ 34.328125 47.3125 27.734375 47.3125 \nQ 25.53125 47.3125 23.109375 46.609375 \nQ 20.703125 45.90625 18.65625 44.09375 \nQ 16.609375 42.28125 15.1875 39.171875 \nQ 13.765625 36.078125 13.578125 31.296875 \nz\n\" id=\"LiberationSans-101\"/>\n       <path d=\"M 15.484375 43.796875 \nQ 16.9375 46.484375 18.640625 48.359375 \nQ 20.359375 50.25 22.40625 51.46875 \nQ 24.46875 52.6875 26.90625 53.25 \nQ 29.34375 53.8125 32.375 53.8125 \nQ 37.453125 53.8125 40.703125 52.4375 \nQ 43.953125 51.078125 45.828125 48.609375 \nQ 47.703125 46.140625 48.40625 42.71875 \nQ 49.125 39.3125 49.125 35.203125 \nL 49.125 0 \nL 40.28125 0 \nL 40.28125 33.5 \nQ 40.28125 36.859375 39.859375 39.390625 \nQ 39.453125 41.9375 38.28125 43.625 \nQ 37.109375 45.3125 34.953125 46.15625 \nQ 32.8125 47.015625 29.390625 47.015625 \nQ 26.265625 47.015625 23.75 45.890625 \nQ 21.234375 44.78125 19.453125 42.71875 \nQ 17.671875 40.671875 16.6875 37.734375 \nQ 15.71875 34.8125 15.71875 31.15625 \nL 15.71875 0 \nL 6.9375 0 \nL 6.9375 72.46875 \nL 15.71875 72.46875 \nL 15.71875 53.609375 \nQ 15.71875 52 15.671875 50.390625 \nQ 15.625 48.78125 15.546875 47.40625 \nQ 15.484375 46.046875 15.421875 45.09375 \nQ 15.375 44.140625 15.328125 43.796875 \nz\n\" id=\"LiberationSans-104\"/>\n       <path d=\"M 51.421875 26.46875 \nQ 51.421875 12.59375 45.3125 5.796875 \nQ 39.203125 -0.984375 27.59375 -0.984375 \nQ 22.078125 -0.984375 17.71875 0.671875 \nQ 13.375 2.34375 10.375 5.765625 \nQ 7.375 9.1875 5.78125 14.328125 \nQ 4.203125 19.484375 4.203125 26.46875 \nQ 4.203125 53.8125 27.875 53.8125 \nQ 34.03125 53.8125 38.5 52.09375 \nQ 42.96875 50.390625 45.828125 46.96875 \nQ 48.6875 43.5625 50.046875 38.421875 \nQ 51.421875 33.296875 51.421875 26.46875 \nz\nM 42.1875 26.46875 \nQ 42.1875 32.625 41.234375 36.625 \nQ 40.28125 40.625 38.453125 43.015625 \nQ 36.625 45.40625 33.984375 46.359375 \nQ 31.34375 47.3125 28.03125 47.3125 \nQ 24.65625 47.3125 21.9375 46.3125 \nQ 19.234375 45.3125 17.328125 42.890625 \nQ 15.4375 40.484375 14.421875 36.46875 \nQ 13.421875 32.46875 13.421875 26.46875 \nQ 13.421875 20.3125 14.5 16.28125 \nQ 15.578125 12.25 17.453125 9.859375 \nQ 19.34375 7.46875 21.90625 6.484375 \nQ 24.46875 5.515625 27.484375 5.515625 \nQ 30.859375 5.515625 33.59375 6.46875 \nQ 36.328125 7.421875 38.234375 9.8125 \nQ 40.140625 12.203125 41.15625 16.25 \nQ 42.1875 20.3125 42.1875 26.46875 \nz\n\" id=\"LiberationSans-111\"/>\n       <path d=\"M 37.5 0 \nL 37.5 33.5 \nQ 37.5 37.359375 37.015625 39.9375 \nQ 36.53125 42.53125 35.375 44.109375 \nQ 34.234375 45.703125 32.375 46.359375 \nQ 30.515625 47.015625 27.828125 47.015625 \nQ 25.046875 47.015625 22.796875 45.921875 \nQ 20.5625 44.828125 18.96875 42.75 \nQ 17.390625 40.671875 16.53125 37.625 \nQ 15.671875 34.578125 15.671875 30.609375 \nL 15.671875 0 \nL 6.9375 0 \nL 6.9375 41.546875 \nQ 6.9375 43.21875 6.90625 45.046875 \nQ 6.890625 46.875 6.828125 48.5 \nQ 6.78125 50.140625 6.734375 51.3125 \nQ 6.6875 52.484375 6.640625 52.828125 \nL 14.9375 52.828125 \nQ 14.984375 52.59375 15.03125 51.515625 \nQ 15.09375 50.4375 15.15625 49.046875 \nQ 15.234375 47.65625 15.28125 46.21875 \nQ 15.328125 44.78125 15.328125 43.796875 \nL 15.484375 43.796875 \nQ 16.65625 46.09375 18.015625 47.953125 \nQ 19.390625 49.8125 21.21875 51.09375 \nQ 23.046875 52.390625 25.40625 53.09375 \nQ 27.78125 53.8125 30.90625 53.8125 \nQ 36.921875 53.8125 40.40625 51.421875 \nQ 43.890625 49.03125 45.265625 43.796875 \nL 45.40625 43.796875 \nQ 46.578125 46.09375 48.046875 47.953125 \nQ 49.515625 49.8125 51.46875 51.09375 \nQ 53.421875 52.390625 55.859375 53.09375 \nQ 58.296875 53.8125 61.421875 53.8125 \nQ 65.4375 53.8125 68.328125 52.734375 \nQ 71.234375 51.65625 73.09375 49.40625 \nQ 74.953125 47.171875 75.828125 43.625 \nQ 76.703125 40.09375 76.703125 35.203125 \nL 76.703125 0 \nL 68.015625 0 \nL 68.015625 33.5 \nQ 68.015625 37.359375 67.53125 39.9375 \nQ 67.046875 42.53125 65.890625 44.109375 \nQ 64.75 45.703125 62.890625 46.359375 \nQ 61.03125 47.015625 58.34375 47.015625 \nQ 55.5625 47.015625 53.3125 45.96875 \nQ 51.078125 44.921875 49.484375 42.875 \nQ 47.90625 40.828125 47.046875 37.75 \nQ 46.1875 34.671875 46.1875 30.609375 \nL 46.1875 0 \nz\n\" id=\"LiberationSans-109\"/>\n       <path d=\"M 6.6875 64.0625 \nL 6.6875 72.46875 \nL 15.484375 72.46875 \nL 15.484375 64.0625 \nz\nM 6.6875 0 \nL 6.6875 52.828125 \nL 15.484375 52.828125 \nL 15.484375 0 \nz\n\" id=\"LiberationSans-105\"/>\n       <path d=\"M 40.28125 0 \nL 40.28125 33.5 \nQ 40.28125 37.359375 39.71875 39.9375 \nQ 39.15625 42.53125 37.890625 44.109375 \nQ 36.625 45.703125 34.546875 46.359375 \nQ 32.46875 47.015625 29.390625 47.015625 \nQ 26.265625 47.015625 23.75 45.921875 \nQ 21.234375 44.828125 19.453125 42.75 \nQ 17.671875 40.671875 16.6875 37.625 \nQ 15.71875 34.578125 15.71875 30.609375 \nL 15.71875 0 \nL 6.9375 0 \nL 6.9375 41.546875 \nQ 6.9375 43.21875 6.90625 45.046875 \nQ 6.890625 46.875 6.828125 48.5 \nQ 6.78125 50.140625 6.734375 51.3125 \nQ 6.6875 52.484375 6.640625 52.828125 \nL 14.9375 52.828125 \nQ 14.984375 52.59375 15.03125 51.515625 \nQ 15.09375 50.4375 15.15625 49.046875 \nQ 15.234375 47.65625 15.28125 46.21875 \nQ 15.328125 44.78125 15.328125 43.796875 \nL 15.484375 43.796875 \nQ 16.75 46.09375 18.265625 47.953125 \nQ 19.78125 49.8125 21.78125 51.09375 \nQ 23.78125 52.390625 26.359375 53.09375 \nQ 28.953125 53.8125 32.375 53.8125 \nQ 36.765625 53.8125 39.9375 52.734375 \nQ 43.109375 51.65625 45.15625 49.40625 \nQ 47.21875 47.171875 48.171875 43.625 \nQ 49.125 40.09375 49.125 35.203125 \nL 49.125 0 \nz\n\" id=\"LiberationSans-110\"/>\n      </defs>\n      <g style=\"fill:#262626;\" transform=\"translate(112.740369 125.020312)rotate(-90)scale(0.1 -0.1)\">\n       <use xlink:href=\"#LiberationSans-83\"/>\n       <use x=\"66.699219\" xlink:href=\"#LiberationSans-228\"/>\n       <use x=\"122.314453\" xlink:href=\"#LiberationSans-107\"/>\n       <use x=\"172.314453\" xlink:href=\"#LiberationSans-101\"/>\n       <use x=\"227.929688\" xlink:href=\"#LiberationSans-114\"/>\n       <use x=\"261.230469\" xlink:href=\"#LiberationSans-104\"/>\n       <use x=\"316.845703\" xlink:href=\"#LiberationSans-101\"/>\n       <use x=\"372.460938\" xlink:href=\"#LiberationSans-116\"/>\n       <use x=\"400.244141\" xlink:href=\"#LiberationSans-115\"/>\n       <use x=\"450.244141\" xlink:href=\"#LiberationSans-107\"/>\n       <use x=\"500.244141\" xlink:href=\"#LiberationSans-111\"/>\n       <use x=\"555.859375\" xlink:href=\"#LiberationSans-109\"/>\n       <use x=\"639.160156\" xlink:href=\"#LiberationSans-109\"/>\n       <use x=\"722.460938\" xlink:href=\"#LiberationSans-105\"/>\n       <use x=\"744.677734\" xlink:href=\"#LiberationSans-115\"/>\n       <use x=\"794.677734\" xlink:href=\"#LiberationSans-115\"/>\n       <use x=\"844.677734\" xlink:href=\"#LiberationSans-105\"/>\n       <use x=\"866.894531\" xlink:href=\"#LiberationSans-111\"/>\n       <use x=\"922.509766\" xlink:href=\"#LiberationSans-110\"/>\n       <use x=\"978.125\" xlink:href=\"#LiberationSans-101\"/>\n       <use x=\"1033.740234\" xlink:href=\"#LiberationSans-114\"/>\n       <use x=\"1067.041016\" xlink:href=\"#LiberationSans-110\"/>\n       <use x=\"1122.65625\" xlink:href=\"#LiberationSans-97\"/>\n      </g>\n     </g>\n    </g>\n    <g id=\"xtick_3\">\n     <g id=\"line2d_3\"/>\n     <g id=\"text_3\">\n      <!-- för -->\n      <defs>\n       <path d=\"M 17.625 46.4375 \nL 17.625 0 \nL 8.84375 0 \nL 8.84375 46.4375 \nL 1.421875 46.4375 \nL 1.421875 52.828125 \nL 8.84375 52.828125 \nL 8.84375 58.796875 \nQ 8.84375 61.671875 9.375 64.140625 \nQ 9.90625 66.609375 11.34375 68.4375 \nQ 12.796875 70.265625 15.28125 71.3125 \nQ 17.78125 72.359375 21.734375 72.359375 \nQ 23.296875 72.359375 24.96875 72.21875 \nQ 26.65625 72.078125 27.9375 71.78125 \nL 27.9375 65.09375 \nQ 27.09375 65.234375 26 65.359375 \nQ 24.90625 65.484375 24.03125 65.484375 \nQ 22.078125 65.484375 20.828125 64.9375 \nQ 19.578125 64.40625 18.875 63.40625 \nQ 18.171875 62.40625 17.890625 60.9375 \nQ 17.625 59.46875 17.625 57.5625 \nL 17.625 52.828125 \nL 27.9375 52.828125 \nL 27.9375 46.4375 \nz\n\" id=\"LiberationSans-102\"/>\n       <path d=\"M 51.421875 26.46875 \nQ 51.421875 12.59375 45.3125 5.796875 \nQ 39.203125 -0.984375 27.59375 -0.984375 \nQ 22.078125 -0.984375 17.71875 0.671875 \nQ 13.375 2.34375 10.375 5.765625 \nQ 7.375 9.1875 5.78125 14.328125 \nQ 4.203125 19.484375 4.203125 26.46875 \nQ 4.203125 53.8125 27.875 53.8125 \nQ 34.03125 53.8125 38.5 52.09375 \nQ 42.96875 50.390625 45.828125 46.96875 \nQ 48.6875 43.5625 50.046875 38.421875 \nQ 51.421875 33.296875 51.421875 26.46875 \nz\nM 42.1875 26.46875 \nQ 42.1875 32.625 41.234375 36.625 \nQ 40.28125 40.625 38.453125 43.015625 \nQ 36.625 45.40625 33.984375 46.359375 \nQ 31.34375 47.3125 28.03125 47.3125 \nQ 24.65625 47.3125 21.9375 46.3125 \nQ 19.234375 45.3125 17.328125 42.890625 \nQ 15.4375 40.484375 14.421875 36.46875 \nQ 13.421875 32.46875 13.421875 26.46875 \nQ 13.421875 20.3125 14.5 16.28125 \nQ 15.578125 12.25 17.453125 9.859375 \nQ 19.34375 7.46875 21.90625 6.484375 \nQ 24.46875 5.515625 27.484375 5.515625 \nQ 30.859375 5.515625 33.59375 6.46875 \nQ 36.328125 7.421875 38.234375 9.8125 \nQ 40.140625 12.203125 41.15625 16.25 \nQ 42.1875 20.3125 42.1875 26.46875 \nz\nM 33.6875 59.515625 \nL 33.6875 68.5 \nL 41.640625 68.5 \nL 41.640625 59.515625 \nz\nM 14.453125 59.515625 \nL 14.453125 68.5 \nL 22.5 68.5 \nL 22.5 59.515625 \nz\n\" id=\"LiberationSans-246\"/>\n      </defs>\n      <g style=\"fill:#262626;\" transform=\"translate(145.205824 125.020312)rotate(-90)scale(0.1 -0.1)\">\n       <use xlink:href=\"#LiberationSans-102\"/>\n       <use x=\"27.783203\" xlink:href=\"#LiberationSans-246\"/>\n       <use x=\"83.398438\" xlink:href=\"#LiberationSans-114\"/>\n      </g>\n     </g>\n    </g>\n    <g id=\"xtick_4\">\n     <g id=\"line2d_4\"/>\n     <g id=\"text_4\">\n      <!-- transporterna -->\n      <defs>\n       <path d=\"M 51.421875 26.65625 \nQ 51.421875 20.65625 50.4375 15.578125 \nQ 49.46875 10.5 47.1875 6.828125 \nQ 44.921875 3.171875 41.1875 1.09375 \nQ 37.453125 -0.984375 31.984375 -0.984375 \nQ 26.3125 -0.984375 22.0625 1.171875 \nQ 17.828125 3.328125 15.578125 8.203125 \nL 15.328125 8.203125 \nQ 15.375 8.109375 15.40625 7.328125 \nQ 15.4375 6.546875 15.453125 5.375 \nQ 15.484375 4.203125 15.5 2.75 \nQ 15.53125 1.3125 15.53125 -0.09375 \nL 15.53125 -20.75 \nL 6.734375 -20.75 \nL 6.734375 42.046875 \nQ 6.734375 43.953125 6.703125 45.703125 \nQ 6.6875 47.46875 6.640625 48.90625 \nQ 6.59375 50.34375 6.546875 51.359375 \nQ 6.5 52.390625 6.453125 52.828125 \nL 14.9375 52.828125 \nQ 14.984375 52.6875 15.0625 51.796875 \nQ 15.140625 50.921875 15.203125 49.671875 \nQ 15.28125 48.4375 15.359375 47.015625 \nQ 15.4375 45.609375 15.4375 44.34375 \nL 15.625 44.34375 \nQ 16.84375 46.875 18.40625 48.65625 \nQ 19.96875 50.4375 21.96875 51.578125 \nQ 23.96875 52.734375 26.4375 53.25 \nQ 28.90625 53.765625 31.984375 53.765625 \nQ 37.453125 53.765625 41.1875 51.8125 \nQ 44.921875 49.859375 47.1875 46.3125 \nQ 49.46875 42.78125 50.4375 37.765625 \nQ 51.421875 32.765625 51.421875 26.65625 \nz\nM 42.1875 26.46875 \nQ 42.1875 31.34375 41.59375 35.15625 \nQ 41.015625 38.96875 39.578125 41.59375 \nQ 38.140625 44.234375 35.734375 45.59375 \nQ 33.34375 46.96875 29.734375 46.96875 \nQ 26.8125 46.96875 24.21875 46.140625 \nQ 21.625 45.3125 19.703125 42.96875 \nQ 17.78125 40.625 16.65625 36.5 \nQ 15.53125 32.375 15.53125 25.78125 \nQ 15.53125 20.171875 16.453125 16.28125 \nQ 17.390625 12.40625 19.171875 10.015625 \nQ 20.953125 7.625 23.578125 6.5625 \nQ 26.21875 5.515625 29.640625 5.515625 \nQ 33.296875 5.515625 35.71875 6.921875 \nQ 38.140625 8.34375 39.578125 11.03125 \nQ 41.015625 13.71875 41.59375 17.59375 \nQ 42.1875 21.484375 42.1875 26.46875 \nz\n\" id=\"LiberationSans-112\"/>\n      </defs>\n      <g style=\"fill:#262626;\" transform=\"translate(177.671278 125.020312)rotate(-90)scale(0.1 -0.1)\">\n       <use xlink:href=\"#LiberationSans-116\"/>\n       <use x=\"27.783203\" xlink:href=\"#LiberationSans-114\"/>\n       <use x=\"61.083984\" xlink:href=\"#LiberationSans-97\"/>\n       <use x=\"116.699219\" xlink:href=\"#LiberationSans-110\"/>\n       <use x=\"172.314453\" xlink:href=\"#LiberationSans-115\"/>\n       <use x=\"222.314453\" xlink:href=\"#LiberationSans-112\"/>\n       <use x=\"277.929688\" xlink:href=\"#LiberationSans-111\"/>\n       <use x=\"333.544922\" xlink:href=\"#LiberationSans-114\"/>\n       <use x=\"366.845703\" xlink:href=\"#LiberationSans-116\"/>\n       <use x=\"394.628906\" xlink:href=\"#LiberationSans-101\"/>\n       <use x=\"450.244141\" xlink:href=\"#LiberationSans-114\"/>\n       <use x=\"483.544922\" xlink:href=\"#LiberationSans-110\"/>\n       <use x=\"539.160156\" xlink:href=\"#LiberationSans-97\"/>\n      </g>\n     </g>\n    </g>\n    <g id=\"xtick_5\">\n     <g id=\"line2d_5\"/>\n     <g id=\"text_5\">\n      <!-- av -->\n      <defs>\n       <path d=\"M 29.9375 0 \nL 19.53125 0 \nL 0.34375 52.828125 \nL 9.71875 52.828125 \nL 21.34375 18.453125 \nQ 21.6875 17.390625 22.140625 15.84375 \nQ 22.609375 14.3125 23.09375 12.640625 \nQ 23.578125 10.984375 24 9.4375 \nQ 24.421875 7.90625 24.703125 6.890625 \nQ 25 7.90625 25.453125 9.4375 \nQ 25.921875 10.984375 26.40625 12.59375 \nQ 26.90625 14.203125 27.421875 15.734375 \nQ 27.9375 17.28125 28.328125 18.359375 \nL 40.328125 52.828125 \nL 49.65625 52.828125 \nz\n\" id=\"LiberationSans-118\"/>\n      </defs>\n      <g style=\"fill:#262626;\" transform=\"translate(210.136733 125.020312)rotate(-90)scale(0.1 -0.1)\">\n       <use xlink:href=\"#LiberationSans-97\"/>\n       <use x=\"55.615234\" xlink:href=\"#LiberationSans-118\"/>\n      </g>\n     </g>\n    </g>\n    <g id=\"xtick_6\">\n     <g id=\"line2d_6\"/>\n     <g id=\"text_6\">\n      <!-- farligt -->\n      <defs>\n       <path d=\"M 6.734375 0 \nL 6.734375 72.46875 \nL 15.53125 72.46875 \nL 15.53125 0 \nz\n\" id=\"LiberationSans-108\"/>\n       <path d=\"M 26.765625 -20.75 \nQ 22.21875 -20.75 18.703125 -19.8125 \nQ 15.1875 -18.890625 12.6875 -17.15625 \nQ 10.203125 -15.4375 8.640625 -13.03125 \nQ 7.078125 -10.640625 6.390625 -7.71875 \nL 15.234375 -6.453125 \nQ 16.109375 -10.109375 19.109375 -12.078125 \nQ 22.125 -14.0625 27 -14.0625 \nQ 29.984375 -14.0625 32.421875 -13.234375 \nQ 34.859375 -12.40625 36.5625 -10.5625 \nQ 38.28125 -8.734375 39.203125 -5.796875 \nQ 40.140625 -2.875 40.140625 1.3125 \nL 40.140625 9.8125 \nL 40.046875 9.8125 \nQ 39.0625 7.8125 37.625 5.984375 \nQ 36.1875 4.15625 34.109375 2.734375 \nQ 32.03125 1.3125 29.296875 0.453125 \nQ 26.5625 -0.390625 23.046875 -0.390625 \nQ 18.015625 -0.390625 14.421875 1.296875 \nQ 10.84375 2.984375 8.5625 6.34375 \nQ 6.296875 9.71875 5.25 14.71875 \nQ 4.203125 19.734375 4.203125 26.3125 \nQ 4.203125 32.671875 5.25 37.75 \nQ 6.296875 42.828125 8.65625 46.359375 \nQ 11.03125 49.90625 14.8125 51.78125 \nQ 18.609375 53.65625 24.03125 53.65625 \nQ 29.640625 53.65625 33.765625 51.09375 \nQ 37.890625 48.53125 40.140625 43.796875 \nL 40.234375 43.796875 \nQ 40.234375 45.015625 40.296875 46.53125 \nQ 40.375 48.046875 40.453125 49.390625 \nQ 40.53125 50.734375 40.625 51.703125 \nQ 40.71875 52.6875 40.828125 52.828125 \nL 49.171875 52.828125 \nQ 49.125 52.390625 49.078125 51.34375 \nQ 49.03125 50.296875 48.96875 48.828125 \nQ 48.921875 47.359375 48.890625 45.578125 \nQ 48.875 43.796875 48.875 41.890625 \nL 48.875 1.515625 \nQ 48.875 -9.578125 43.421875 -15.15625 \nQ 37.984375 -20.75 26.765625 -20.75 \nz\nM 40.140625 26.421875 \nQ 40.140625 31.9375 38.9375 35.859375 \nQ 37.75 39.796875 35.796875 42.28125 \nQ 33.84375 44.78125 31.328125 45.953125 \nQ 28.8125 47.125 26.171875 47.125 \nQ 22.796875 47.125 20.375 45.953125 \nQ 17.96875 44.78125 16.375 42.265625 \nQ 14.796875 39.75 14.03125 35.8125 \nQ 13.28125 31.890625 13.28125 26.421875 \nQ 13.28125 20.703125 14.03125 16.8125 \nQ 14.796875 12.9375 16.359375 10.546875 \nQ 17.921875 8.15625 20.3125 7.125 \nQ 22.703125 6.109375 26.03125 6.109375 \nQ 28.65625 6.109375 31.171875 7.21875 \nQ 33.6875 8.34375 35.6875 10.78125 \nQ 37.703125 13.234375 38.921875 17.09375 \nQ 40.140625 20.953125 40.140625 26.421875 \nz\n\" id=\"LiberationSans-103\"/>\n      </defs>\n      <g style=\"fill:#262626;\" transform=\"translate(242.602188 125.020312)rotate(-90)scale(0.1 -0.1)\">\n       <use xlink:href=\"#LiberationSans-102\"/>\n       <use x=\"27.783203\" xlink:href=\"#LiberationSans-97\"/>\n       <use x=\"83.398438\" xlink:href=\"#LiberationSans-114\"/>\n       <use x=\"116.699219\" xlink:href=\"#LiberationSans-108\"/>\n       <use x=\"138.916016\" xlink:href=\"#LiberationSans-105\"/>\n       <use x=\"161.132812\" xlink:href=\"#LiberationSans-103\"/>\n       <use x=\"216.748047\" xlink:href=\"#LiberationSans-116\"/>\n      </g>\n     </g>\n    </g>\n    <g id=\"xtick_7\">\n     <g id=\"line2d_7\"/>\n     <g id=\"text_7\">\n      <!-- gods -->\n      <defs>\n       <path d=\"M 40.09375 8.5 \nQ 37.640625 3.421875 33.609375 1.21875 \nQ 29.59375 -0.984375 23.640625 -0.984375 \nQ 13.625 -0.984375 8.90625 5.75 \nQ 4.203125 12.5 4.203125 26.171875 \nQ 4.203125 53.8125 23.640625 53.8125 \nQ 29.640625 53.8125 33.640625 51.609375 \nQ 37.640625 49.421875 40.09375 44.625 \nL 40.1875 44.625 \nQ 40.1875 45.125 40.15625 46.171875 \nQ 40.140625 47.21875 40.109375 48.359375 \nQ 40.09375 49.515625 40.09375 50.53125 \nQ 40.09375 51.5625 40.09375 52 \nL 40.09375 72.46875 \nL 48.875 72.46875 \nL 48.875 10.890625 \nQ 48.875 8.984375 48.890625 7.21875 \nQ 48.921875 5.46875 48.96875 4 \nQ 49.03125 2.546875 49.078125 1.484375 \nQ 49.125 0.4375 49.171875 0 \nL 40.765625 0 \nQ 40.671875 0.484375 40.59375 1.390625 \nQ 40.53125 2.296875 40.453125 3.46875 \nQ 40.375 4.640625 40.328125 5.9375 \nQ 40.28125 7.234375 40.28125 8.5 \nz\nM 13.421875 26.46875 \nQ 13.421875 21 14.109375 17.09375 \nQ 14.796875 13.1875 16.3125 10.671875 \nQ 17.828125 8.15625 20.171875 6.984375 \nQ 22.515625 5.8125 25.875 5.8125 \nQ 29.34375 5.8125 32 6.9375 \nQ 34.671875 8.0625 36.453125 10.578125 \nQ 38.234375 13.09375 39.15625 17.140625 \nQ 40.09375 21.1875 40.09375 27.046875 \nQ 40.09375 32.671875 39.15625 36.546875 \nQ 38.234375 40.4375 36.421875 42.828125 \nQ 34.625 45.21875 32 46.265625 \nQ 29.390625 47.3125 25.984375 47.3125 \nQ 22.75 47.3125 20.40625 46.1875 \nQ 18.0625 45.0625 16.5 42.578125 \nQ 14.9375 40.09375 14.171875 36.109375 \nQ 13.421875 32.125 13.421875 26.46875 \nz\n\" id=\"LiberationSans-100\"/>\n      </defs>\n      <g style=\"fill:#262626;\" transform=\"translate(275.067642 125.020312)rotate(-90)scale(0.1 -0.1)\">\n       <use xlink:href=\"#LiberationSans-103\"/>\n       <use x=\"55.615234\" xlink:href=\"#LiberationSans-111\"/>\n       <use x=\"111.230469\" xlink:href=\"#LiberationSans-100\"/>\n       <use x=\"166.845703\" xlink:href=\"#LiberationSans-115\"/>\n      </g>\n     </g>\n    </g>\n    <g id=\"xtick_8\">\n     <g id=\"line2d_8\"/>\n    </g>\n    <g id=\"xtick_9\">\n     <g id=\"line2d_9\"/>\n    </g>\n    <g id=\"xtick_10\">\n     <g id=\"line2d_10\"/>\n    </g>\n    <g id=\"xtick_11\">\n     <g id=\"line2d_11\"/>\n    </g>\n   </g>\n   <g id=\"matplotlib.axis_2\">\n    <g id=\"ytick_1\">\n     <g id=\"line2d_12\"/>\n     <g id=\"text_8\">\n      <!-- &lt;start&gt; -->\n      <g style=\"fill:#262626;\" transform=\"translate(23.328125 147.142981)scale(0.1 -0.1)\">\n       <use xlink:href=\"#LiberationSans-60\"/>\n       <use x=\"58.398438\" xlink:href=\"#LiberationSans-115\"/>\n       <use x=\"108.398438\" xlink:href=\"#LiberationSans-116\"/>\n       <use x=\"136.181641\" xlink:href=\"#LiberationSans-97\"/>\n       <use x=\"191.796875\" xlink:href=\"#LiberationSans-114\"/>\n       <use x=\"225.097656\" xlink:href=\"#LiberationSans-116\"/>\n       <use x=\"252.880859\" xlink:href=\"#LiberationSans-62\"/>\n      </g>\n     </g>\n    </g>\n    <g id=\"ytick_2\">\n     <g id=\"line2d_13\"/>\n     <g id=\"text_9\">\n      <!-- Safety -->\n      <defs>\n       <path d=\"M 29.5 0 \nQ 27.640625 -4.78125 25.703125 -8.609375 \nQ 23.78125 -12.453125 21.390625 -15.15625 \nQ 19 -17.875 16.0625 -19.3125 \nQ 13.140625 -20.75 9.328125 -20.75 \nQ 7.671875 -20.75 6.25 -20.65625 \nQ 4.828125 -20.5625 3.265625 -20.21875 \nL 3.265625 -13.625 \nQ 4.203125 -13.765625 5.375 -13.84375 \nQ 6.546875 -13.921875 7.375 -13.921875 \nQ 11.234375 -13.921875 14.546875 -11.03125 \nQ 17.875 -8.15625 20.359375 -1.859375 \nL 21.1875 0.25 \nL 0.25 52.828125 \nL 9.625 52.828125 \nL 20.75 23.640625 \nQ 21.234375 22.3125 21.984375 20.109375 \nQ 22.75 17.921875 23.5 15.71875 \nQ 24.265625 13.53125 24.84375 11.765625 \nQ 25.4375 10.015625 25.53125 9.578125 \nQ 25.6875 10.109375 26.25 11.6875 \nQ 26.8125 13.28125 27.515625 15.234375 \nQ 28.21875 17.1875 28.953125 19.1875 \nQ 29.6875 21.1875 30.171875 22.65625 \nL 40.53125 52.828125 \nL 49.8125 52.828125 \nz\n\" id=\"LiberationSans-121\"/>\n      </defs>\n      <g style=\"fill:#262626;\" transform=\"translate(26.107813 170.141442)scale(0.1 -0.1)\">\n       <use xlink:href=\"#LiberationSans-83\"/>\n       <use x=\"66.699219\" xlink:href=\"#LiberationSans-97\"/>\n       <use x=\"122.314453\" xlink:href=\"#LiberationSans-102\"/>\n       <use x=\"150.097656\" xlink:href=\"#LiberationSans-101\"/>\n       <use x=\"205.712891\" xlink:href=\"#LiberationSans-116\"/>\n       <use x=\"233.496094\" xlink:href=\"#LiberationSans-121\"/>\n      </g>\n     </g>\n    </g>\n    <g id=\"ytick_3\">\n     <g id=\"line2d_14\"/>\n     <g id=\"text_10\">\n      <!-- advisers -->\n      <g style=\"fill:#262626;\" transform=\"translate(17.221875 193.139904)scale(0.1 -0.1)\">\n       <use xlink:href=\"#LiberationSans-97\"/>\n       <use x=\"55.615234\" xlink:href=\"#LiberationSans-100\"/>\n       <use x=\"111.230469\" xlink:href=\"#LiberationSans-118\"/>\n       <use x=\"161.230469\" xlink:href=\"#LiberationSans-105\"/>\n       <use x=\"183.447266\" xlink:href=\"#LiberationSans-115\"/>\n       <use x=\"233.447266\" xlink:href=\"#LiberationSans-101\"/>\n       <use x=\"289.0625\" xlink:href=\"#LiberationSans-114\"/>\n       <use x=\"322.363281\" xlink:href=\"#LiberationSans-115\"/>\n      </g>\n     </g>\n    </g>\n    <g id=\"ytick_4\">\n     <g id=\"line2d_15\"/>\n     <g id=\"text_11\">\n      <!-- for -->\n      <g style=\"fill:#262626;\" transform=\"translate(42.7875 216.138365)scale(0.1 -0.1)\">\n       <use xlink:href=\"#LiberationSans-102\"/>\n       <use x=\"27.783203\" xlink:href=\"#LiberationSans-111\"/>\n       <use x=\"83.398438\" xlink:href=\"#LiberationSans-114\"/>\n      </g>\n     </g>\n    </g>\n    <g id=\"ytick_5\">\n     <g id=\"line2d_16\"/>\n     <g id=\"text_12\">\n      <!-- the -->\n      <g style=\"fill:#262626;\" transform=\"translate(40.55625 239.136827)scale(0.1 -0.1)\">\n       <use xlink:href=\"#LiberationSans-116\"/>\n       <use x=\"27.783203\" xlink:href=\"#LiberationSans-104\"/>\n       <use x=\"83.398438\" xlink:href=\"#LiberationSans-101\"/>\n      </g>\n     </g>\n    </g>\n    <g id=\"ytick_6\">\n     <g id=\"line2d_17\"/>\n     <g id=\"text_13\">\n      <!-- transport -->\n      <g style=\"fill:#262626;\" transform=\"translate(14.996875 262.135288)scale(0.1 -0.1)\">\n       <use xlink:href=\"#LiberationSans-116\"/>\n       <use x=\"27.783203\" xlink:href=\"#LiberationSans-114\"/>\n       <use x=\"61.083984\" xlink:href=\"#LiberationSans-97\"/>\n       <use x=\"116.699219\" xlink:href=\"#LiberationSans-110\"/>\n       <use x=\"172.314453\" xlink:href=\"#LiberationSans-115\"/>\n       <use x=\"222.314453\" xlink:href=\"#LiberationSans-112\"/>\n       <use x=\"277.929688\" xlink:href=\"#LiberationSans-111\"/>\n       <use x=\"333.544922\" xlink:href=\"#LiberationSans-114\"/>\n       <use x=\"366.845703\" xlink:href=\"#LiberationSans-116\"/>\n      </g>\n     </g>\n    </g>\n    <g id=\"ytick_7\">\n     <g id=\"line2d_18\"/>\n     <g id=\"text_14\">\n      <!-- of -->\n      <g style=\"fill:#262626;\" transform=\"translate(46.117188 285.13375)scale(0.1 -0.1)\">\n       <use xlink:href=\"#LiberationSans-111\"/>\n       <use x=\"55.615234\" xlink:href=\"#LiberationSans-102\"/>\n      </g>\n     </g>\n    </g>\n    <g id=\"ytick_8\">\n     <g id=\"line2d_19\"/>\n     <g id=\"text_15\">\n      <!-- dangerous -->\n      <defs>\n       <path d=\"M 15.328125 52.828125 \nL 15.328125 19.34375 \nQ 15.328125 15.484375 15.890625 12.890625 \nQ 16.453125 10.296875 17.71875 8.703125 \nQ 19 7.125 21.0625 6.46875 \nQ 23.140625 5.8125 26.21875 5.8125 \nQ 29.34375 5.8125 31.859375 6.90625 \nQ 34.375 8.015625 36.15625 10.078125 \nQ 37.9375 12.15625 38.90625 15.203125 \nQ 39.890625 18.265625 39.890625 22.21875 \nL 39.890625 52.828125 \nL 48.6875 52.828125 \nL 48.6875 11.28125 \nQ 48.6875 9.625 48.703125 7.78125 \nQ 48.734375 5.953125 48.78125 4.3125 \nQ 48.828125 2.6875 48.875 1.515625 \nQ 48.921875 0.34375 48.96875 0 \nL 40.671875 0 \nQ 40.625 0.25 40.578125 1.3125 \nQ 40.53125 2.390625 40.453125 3.78125 \nQ 40.375 5.171875 40.328125 6.609375 \nQ 40.28125 8.0625 40.28125 9.03125 \nL 40.140625 9.03125 \nQ 38.875 6.734375 37.359375 4.875 \nQ 35.84375 3.03125 33.84375 1.734375 \nQ 31.84375 0.4375 29.25 -0.265625 \nQ 26.65625 -0.984375 23.25 -0.984375 \nQ 18.84375 -0.984375 15.671875 0.09375 \nQ 12.5 1.171875 10.453125 3.421875 \nQ 8.40625 5.671875 7.453125 9.1875 \nQ 6.5 12.703125 6.5 17.625 \nL 6.5 52.828125 \nz\n\" id=\"LiberationSans-117\"/>\n      </defs>\n      <g style=\"fill:#262626;\" transform=\"translate(7.2 308.132212)scale(0.1 -0.1)\">\n       <use xlink:href=\"#LiberationSans-100\"/>\n       <use x=\"55.615234\" xlink:href=\"#LiberationSans-97\"/>\n       <use x=\"111.230469\" xlink:href=\"#LiberationSans-110\"/>\n       <use x=\"166.845703\" xlink:href=\"#LiberationSans-103\"/>\n       <use x=\"222.460938\" xlink:href=\"#LiberationSans-101\"/>\n       <use x=\"278.076172\" xlink:href=\"#LiberationSans-114\"/>\n       <use x=\"311.376953\" xlink:href=\"#LiberationSans-111\"/>\n       <use x=\"366.992188\" xlink:href=\"#LiberationSans-117\"/>\n       <use x=\"422.607422\" xlink:href=\"#LiberationSans-115\"/>\n      </g>\n     </g>\n    </g>\n    <g id=\"ytick_9\">\n     <g id=\"line2d_20\"/>\n     <g id=\"text_16\">\n      <!-- goods -->\n      <g style=\"fill:#262626;\" transform=\"translate(27.2125 331.130673)scale(0.1 -0.1)\">\n       <use xlink:href=\"#LiberationSans-103\"/>\n       <use x=\"55.615234\" xlink:href=\"#LiberationSans-111\"/>\n       <use x=\"111.230469\" xlink:href=\"#LiberationSans-111\"/>\n       <use x=\"166.845703\" xlink:href=\"#LiberationSans-100\"/>\n       <use x=\"222.460938\" xlink:href=\"#LiberationSans-115\"/>\n      </g>\n     </g>\n    </g>\n    <g id=\"ytick_10\">\n     <g id=\"line2d_21\"/>\n    </g>\n    <g id=\"ytick_11\">\n     <g id=\"line2d_22\"/>\n    </g>\n    <g id=\"ytick_12\">\n     <g id=\"line2d_23\"/>\n    </g>\n    <g id=\"ytick_13\">\n     <g id=\"line2d_24\"/>\n    </g>\n   </g>\n   <g id=\"PolyCollection_1\">\n    <path clip-path=\"url(#p995047240e)\" d=\"M 61.45625 132.020312 \nL 61.45625 155.018774 \nL 93.921705 155.018774 \nL 93.921705 132.020312 \nL 61.45625 132.020312 \nz\n\" style=\"fill:#084081;\"/>\n    <path clip-path=\"url(#p995047240e)\" d=\"M 93.921705 132.020312 \nL 93.921705 155.018774 \nL 126.387159 155.018774 \nL 126.387159 132.020312 \nL 93.921705 132.020312 \nz\n\" style=\"fill:#a3dbb7;\"/>\n    <path clip-path=\"url(#p995047240e)\" d=\"M 126.387159 132.020312 \nL 126.387159 155.018774 \nL 158.852614 155.018774 \nL 158.852614 132.020312 \nL 126.387159 132.020312 \nz\n\" style=\"fill:#65c0cb;\"/>\n    <path clip-path=\"url(#p995047240e)\" d=\"M 158.852614 132.020312 \nL 158.852614 155.018774 \nL 191.318068 155.018774 \nL 191.318068 132.020312 \nL 158.852614 132.020312 \nz\n\" style=\"fill:#084688;\"/>\n    <path clip-path=\"url(#p995047240e)\" d=\"M 191.318068 132.020312 \nL 191.318068 155.018774 \nL 223.783523 155.018774 \nL 223.783523 132.020312 \nL 191.318068 132.020312 \nz\n\" style=\"fill:#084081;\"/>\n    <path clip-path=\"url(#p995047240e)\" d=\"M 223.783523 132.020312 \nL 223.783523 155.018774 \nL 256.248977 155.018774 \nL 256.248977 132.020312 \nL 223.783523 132.020312 \nz\n\" style=\"fill:#084081;\"/>\n    <path clip-path=\"url(#p995047240e)\" d=\"M 256.248977 132.020312 \nL 256.248977 155.018774 \nL 288.714432 155.018774 \nL 288.714432 132.020312 \nL 256.248977 132.020312 \nz\n\" style=\"fill:#084182;\"/>\n    <path clip-path=\"url(#p995047240e)\" d=\"M 288.714432 132.020312 \nL 288.714432 155.018774 \nL 321.179886 155.018774 \nL 321.179886 132.020312 \nL 288.714432 132.020312 \nz\n\" style=\"fill:#084081;\"/>\n    <path clip-path=\"url(#p995047240e)\" d=\"M 321.179886 132.020312 \nL 321.179886 155.018774 \nL 353.645341 155.018774 \nL 353.645341 132.020312 \nL 321.179886 132.020312 \nz\n\" style=\"fill:#084081;\"/>\n    <path clip-path=\"url(#p995047240e)\" d=\"M 353.645341 132.020312 \nL 353.645341 155.018774 \nL 386.110795 155.018774 \nL 386.110795 132.020312 \nL 353.645341 132.020312 \nz\n\" style=\"fill:#084081;\"/>\n    <path clip-path=\"url(#p995047240e)\" d=\"M 386.110795 132.020312 \nL 386.110795 155.018774 \nL 418.57625 155.018774 \nL 418.57625 132.020312 \nL 386.110795 132.020312 \nz\n\" style=\"fill:#084081;\"/>\n    <path clip-path=\"url(#p995047240e)\" d=\"M 61.45625 155.018774 \nL 61.45625 178.017236 \nL 93.921705 178.017236 \nL 93.921705 155.018774 \nL 61.45625 155.018774 \nz\n\" style=\"fill:#084182;\"/>\n    <path clip-path=\"url(#p995047240e)\" d=\"M 93.921705 155.018774 \nL 93.921705 178.017236 \nL 126.387159 178.017236 \nL 126.387159 155.018774 \nL 93.921705 155.018774 \nz\n\" style=\"fill:#d5eece;\"/>\n    <path clip-path=\"url(#p995047240e)\" d=\"M 126.387159 155.018774 \nL 126.387159 178.017236 \nL 158.852614 178.017236 \nL 158.852614 155.018774 \nL 126.387159 155.018774 \nz\n\" style=\"fill:#3091c1;\"/>\n    <path clip-path=\"url(#p995047240e)\" d=\"M 158.852614 155.018774 \nL 158.852614 178.017236 \nL 191.318068 178.017236 \nL 191.318068 155.018774 \nL 158.852614 155.018774 \nz\n\" style=\"fill:#084081;\"/>\n    <path clip-path=\"url(#p995047240e)\" d=\"M 191.318068 155.018774 \nL 191.318068 178.017236 \nL 223.783523 178.017236 \nL 223.783523 155.018774 \nL 191.318068 155.018774 \nz\n\" style=\"fill:#084081;\"/>\n    <path clip-path=\"url(#p995047240e)\" d=\"M 223.783523 155.018774 \nL 223.783523 178.017236 \nL 256.248977 178.017236 \nL 256.248977 155.018774 \nL 223.783523 155.018774 \nz\n\" style=\"fill:#084081;\"/>\n    <path clip-path=\"url(#p995047240e)\" d=\"M 256.248977 155.018774 \nL 256.248977 178.017236 \nL 288.714432 178.017236 \nL 288.714432 155.018774 \nL 256.248977 155.018774 \nz\n\" style=\"fill:#084081;\"/>\n    <path clip-path=\"url(#p995047240e)\" d=\"M 288.714432 155.018774 \nL 288.714432 178.017236 \nL 321.179886 178.017236 \nL 321.179886 155.018774 \nL 288.714432 155.018774 \nz\n\" style=\"fill:#084081;\"/>\n    <path clip-path=\"url(#p995047240e)\" d=\"M 321.179886 155.018774 \nL 321.179886 178.017236 \nL 353.645341 178.017236 \nL 353.645341 155.018774 \nL 321.179886 155.018774 \nz\n\" style=\"fill:#084182;\"/>\n    <path clip-path=\"url(#p995047240e)\" d=\"M 353.645341 155.018774 \nL 353.645341 178.017236 \nL 386.110795 178.017236 \nL 386.110795 155.018774 \nL 353.645341 155.018774 \nz\n\" style=\"fill:#084081;\"/>\n    <path clip-path=\"url(#p995047240e)\" d=\"M 386.110795 155.018774 \nL 386.110795 178.017236 \nL 418.57625 178.017236 \nL 418.57625 155.018774 \nL 386.110795 155.018774 \nz\n\" style=\"fill:#084081;\"/>\n    <path clip-path=\"url(#p995047240e)\" d=\"M 61.45625 178.017236 \nL 61.45625 201.015697 \nL 93.921705 201.015697 \nL 93.921705 178.017236 \nL 61.45625 178.017236 \nz\n\" style=\"fill:#084b8d;\"/>\n    <path clip-path=\"url(#p995047240e)\" d=\"M 93.921705 178.017236 \nL 93.921705 201.015697 \nL 126.387159 201.015697 \nL 126.387159 178.017236 \nL 93.921705 178.017236 \nz\n\" style=\"fill:#08589b;\"/>\n    <path clip-path=\"url(#p995047240e)\" d=\"M 126.387159 178.017236 \nL 126.387159 201.015697 \nL 158.852614 201.015697 \nL 158.852614 178.017236 \nL 126.387159 178.017236 \nz\n\" style=\"fill:#9bd8b9;\"/>\n    <path clip-path=\"url(#p995047240e)\" d=\"M 158.852614 178.017236 \nL 158.852614 201.015697 \nL 191.318068 201.015697 \nL 191.318068 178.017236 \nL 158.852614 178.017236 \nz\n\" style=\"fill:#3c9fc8;\"/>\n    <path clip-path=\"url(#p995047240e)\" d=\"M 191.318068 178.017236 \nL 191.318068 201.015697 \nL 223.783523 201.015697 \nL 223.783523 178.017236 \nL 191.318068 178.017236 \nz\n\" style=\"fill:#084182;\"/>\n    <path clip-path=\"url(#p995047240e)\" d=\"M 223.783523 178.017236 \nL 223.783523 201.015697 \nL 256.248977 201.015697 \nL 256.248977 178.017236 \nL 223.783523 178.017236 \nz\n\" style=\"fill:#084182;\"/>\n    <path clip-path=\"url(#p995047240e)\" d=\"M 256.248977 178.017236 \nL 256.248977 201.015697 \nL 288.714432 201.015697 \nL 288.714432 178.017236 \nL 256.248977 178.017236 \nz\n\" style=\"fill:#084384;\"/>\n    <path clip-path=\"url(#p995047240e)\" d=\"M 288.714432 178.017236 \nL 288.714432 201.015697 \nL 321.179886 201.015697 \nL 321.179886 178.017236 \nL 288.714432 178.017236 \nz\n\" style=\"fill:#084081;\"/>\n    <path clip-path=\"url(#p995047240e)\" d=\"M 321.179886 178.017236 \nL 321.179886 201.015697 \nL 353.645341 201.015697 \nL 353.645341 178.017236 \nL 321.179886 178.017236 \nz\n\" style=\"fill:#084081;\"/>\n    <path clip-path=\"url(#p995047240e)\" d=\"M 353.645341 178.017236 \nL 353.645341 201.015697 \nL 386.110795 201.015697 \nL 386.110795 178.017236 \nL 353.645341 178.017236 \nz\n\" style=\"fill:#084b8d;\"/>\n    <path clip-path=\"url(#p995047240e)\" d=\"M 386.110795 178.017236 \nL 386.110795 201.015697 \nL 418.57625 201.015697 \nL 418.57625 178.017236 \nL 386.110795 178.017236 \nz\n\" style=\"fill:#084182;\"/>\n    <path clip-path=\"url(#p995047240e)\" d=\"M 61.45625 201.015697 \nL 61.45625 224.014159 \nL 93.921705 224.014159 \nL 93.921705 201.015697 \nL 61.45625 201.015697 \nz\n\" style=\"fill:#084182;\"/>\n    <path clip-path=\"url(#p995047240e)\" d=\"M 93.921705 201.015697 \nL 93.921705 224.014159 \nL 126.387159 224.014159 \nL 126.387159 201.015697 \nL 93.921705 201.015697 \nz\n\" style=\"fill:#e4f5df;\"/>\n    <path clip-path=\"url(#p995047240e)\" d=\"M 126.387159 201.015697 \nL 126.387159 224.014159 \nL 158.852614 224.014159 \nL 158.852614 201.015697 \nL 126.387159 201.015697 \nz\n\" style=\"fill:#0969ad;\"/>\n    <path clip-path=\"url(#p995047240e)\" d=\"M 158.852614 201.015697 \nL 158.852614 224.014159 \nL 191.318068 224.014159 \nL 191.318068 201.015697 \nL 158.852614 201.015697 \nz\n\" style=\"fill:#084688;\"/>\n    <path clip-path=\"url(#p995047240e)\" d=\"M 191.318068 201.015697 \nL 191.318068 224.014159 \nL 223.783523 224.014159 \nL 223.783523 201.015697 \nL 191.318068 201.015697 \nz\n\" style=\"fill:#084081;\"/>\n    <path clip-path=\"url(#p995047240e)\" d=\"M 223.783523 201.015697 \nL 223.783523 224.014159 \nL 256.248977 224.014159 \nL 256.248977 201.015697 \nL 223.783523 201.015697 \nz\n\" style=\"fill:#084081;\"/>\n    <path clip-path=\"url(#p995047240e)\" d=\"M 256.248977 201.015697 \nL 256.248977 224.014159 \nL 288.714432 224.014159 \nL 288.714432 201.015697 \nL 256.248977 201.015697 \nz\n\" style=\"fill:#084688;\"/>\n    <path clip-path=\"url(#p995047240e)\" d=\"M 288.714432 201.015697 \nL 288.714432 224.014159 \nL 321.179886 224.014159 \nL 321.179886 201.015697 \nL 288.714432 201.015697 \nz\n\" style=\"fill:#084081;\"/>\n    <path clip-path=\"url(#p995047240e)\" d=\"M 321.179886 201.015697 \nL 321.179886 224.014159 \nL 353.645341 224.014159 \nL 353.645341 201.015697 \nL 321.179886 201.015697 \nz\n\" style=\"fill:#084081;\"/>\n    <path clip-path=\"url(#p995047240e)\" d=\"M 353.645341 201.015697 \nL 353.645341 224.014159 \nL 386.110795 224.014159 \nL 386.110795 201.015697 \nL 353.645341 201.015697 \nz\n\" style=\"fill:#084081;\"/>\n    <path clip-path=\"url(#p995047240e)\" d=\"M 386.110795 201.015697 \nL 386.110795 224.014159 \nL 418.57625 224.014159 \nL 418.57625 201.015697 \nL 386.110795 201.015697 \nz\n\" style=\"fill:#084081;\"/>\n    <path clip-path=\"url(#p995047240e)\" d=\"M 61.45625 224.014159 \nL 61.45625 247.01262 \nL 93.921705 247.01262 \nL 93.921705 224.014159 \nL 61.45625 224.014159 \nz\n\" style=\"fill:#1070b0;\"/>\n    <path clip-path=\"url(#p995047240e)\" d=\"M 93.921705 224.014159 \nL 93.921705 247.01262 \nL 126.387159 247.01262 \nL 126.387159 224.014159 \nL 93.921705 224.014159 \nz\n\" style=\"fill:#085497;\"/>\n    <path clip-path=\"url(#p995047240e)\" d=\"M 126.387159 224.014159 \nL 126.387159 247.01262 \nL 158.852614 247.01262 \nL 158.852614 224.014159 \nL 126.387159 224.014159 \nz\n\" style=\"fill:#8bd2bf;\"/>\n    <path clip-path=\"url(#p995047240e)\" d=\"M 158.852614 224.014159 \nL 158.852614 247.01262 \nL 191.318068 247.01262 \nL 191.318068 224.014159 \nL 158.852614 224.014159 \nz\n\" style=\"fill:#3699c5;\"/>\n    <path clip-path=\"url(#p995047240e)\" d=\"M 191.318068 224.014159 \nL 191.318068 247.01262 \nL 223.783523 247.01262 \nL 223.783523 224.014159 \nL 191.318068 224.014159 \nz\n\" style=\"fill:#084081;\"/>\n    <path clip-path=\"url(#p995047240e)\" d=\"M 223.783523 224.014159 \nL 223.783523 247.01262 \nL 256.248977 247.01262 \nL 256.248977 224.014159 \nL 223.783523 224.014159 \nz\n\" style=\"fill:#084081;\"/>\n    <path clip-path=\"url(#p995047240e)\" d=\"M 256.248977 224.014159 \nL 256.248977 247.01262 \nL 288.714432 247.01262 \nL 288.714432 224.014159 \nL 256.248977 224.014159 \nz\n\" style=\"fill:#084384;\"/>\n    <path clip-path=\"url(#p995047240e)\" d=\"M 288.714432 224.014159 \nL 288.714432 247.01262 \nL 321.179886 247.01262 \nL 321.179886 224.014159 \nL 288.714432 224.014159 \nz\n\" style=\"fill:#084081;\"/>\n    <path clip-path=\"url(#p995047240e)\" d=\"M 321.179886 224.014159 \nL 321.179886 247.01262 \nL 353.645341 247.01262 \nL 353.645341 224.014159 \nL 321.179886 224.014159 \nz\n\" style=\"fill:#084081;\"/>\n    <path clip-path=\"url(#p995047240e)\" d=\"M 353.645341 224.014159 \nL 353.645341 247.01262 \nL 386.110795 247.01262 \nL 386.110795 224.014159 \nL 353.645341 224.014159 \nz\n\" style=\"fill:#084384;\"/>\n    <path clip-path=\"url(#p995047240e)\" d=\"M 386.110795 224.014159 \nL 386.110795 247.01262 \nL 418.57625 247.01262 \nL 418.57625 224.014159 \nL 386.110795 224.014159 \nz\n\" style=\"fill:#084081;\"/>\n    <path clip-path=\"url(#p995047240e)\" d=\"M 61.45625 247.01262 \nL 61.45625 270.011082 \nL 93.921705 270.011082 \nL 93.921705 247.01262 \nL 61.45625 247.01262 \nz\n\" style=\"fill:#d9f0d3;\"/>\n    <path clip-path=\"url(#p995047240e)\" d=\"M 93.921705 247.01262 \nL 93.921705 270.011082 \nL 126.387159 270.011082 \nL 126.387159 247.01262 \nL 93.921705 247.01262 \nz\n\" style=\"fill:#084081;\"/>\n    <path clip-path=\"url(#p995047240e)\" d=\"M 126.387159 247.01262 \nL 126.387159 270.011082 \nL 158.852614 270.011082 \nL 158.852614 247.01262 \nL 126.387159 247.01262 \nz\n\" style=\"fill:#084384;\"/>\n    <path clip-path=\"url(#p995047240e)\" d=\"M 158.852614 247.01262 \nL 158.852614 270.011082 \nL 191.318068 270.011082 \nL 191.318068 247.01262 \nL 158.852614 247.01262 \nz\n\" style=\"fill:#0f6faf;\"/>\n    <path clip-path=\"url(#p995047240e)\" d=\"M 191.318068 247.01262 \nL 191.318068 270.011082 \nL 223.783523 270.011082 \nL 223.783523 247.01262 \nL 191.318068 247.01262 \nz\n\" style=\"fill:#084384;\"/>\n    <path clip-path=\"url(#p995047240e)\" d=\"M 223.783523 247.01262 \nL 223.783523 270.011082 \nL 256.248977 270.011082 \nL 256.248977 247.01262 \nL 223.783523 247.01262 \nz\n\" style=\"fill:#084688;\"/>\n    <path clip-path=\"url(#p995047240e)\" d=\"M 256.248977 247.01262 \nL 256.248977 270.011082 \nL 288.714432 270.011082 \nL 288.714432 247.01262 \nL 256.248977 247.01262 \nz\n\" style=\"fill:#084081;\"/>\n    <path clip-path=\"url(#p995047240e)\" d=\"M 288.714432 247.01262 \nL 288.714432 270.011082 \nL 321.179886 270.011082 \nL 321.179886 247.01262 \nL 288.714432 247.01262 \nz\n\" style=\"fill:#084182;\"/>\n    <path clip-path=\"url(#p995047240e)\" d=\"M 321.179886 247.01262 \nL 321.179886 270.011082 \nL 353.645341 270.011082 \nL 353.645341 247.01262 \nL 321.179886 247.01262 \nz\n\" style=\"fill:#084081;\"/>\n    <path clip-path=\"url(#p995047240e)\" d=\"M 353.645341 247.01262 \nL 353.645341 270.011082 \nL 386.110795 270.011082 \nL 386.110795 247.01262 \nL 353.645341 247.01262 \nz\n\" style=\"fill:#084081;\"/>\n    <path clip-path=\"url(#p995047240e)\" d=\"M 386.110795 247.01262 \nL 386.110795 270.011082 \nL 418.57625 270.011082 \nL 418.57625 247.01262 \nL 386.110795 247.01262 \nz\n\" style=\"fill:#085093;\"/>\n    <path clip-path=\"url(#p995047240e)\" d=\"M 61.45625 270.011082 \nL 61.45625 293.009543 \nL 93.921705 293.009543 \nL 93.921705 270.011082 \nL 61.45625 270.011082 \nz\n\" style=\"fill:#08498a;\"/>\n    <path clip-path=\"url(#p995047240e)\" d=\"M 93.921705 270.011082 \nL 93.921705 293.009543 \nL 126.387159 293.009543 \nL 126.387159 270.011082 \nL 93.921705 270.011082 \nz\n\" style=\"fill:#084081;\"/>\n    <path clip-path=\"url(#p995047240e)\" d=\"M 126.387159 270.011082 \nL 126.387159 293.009543 \nL 158.852614 293.009543 \nL 158.852614 270.011082 \nL 126.387159 270.011082 \nz\n\" style=\"fill:#084485;\"/>\n    <path clip-path=\"url(#p995047240e)\" d=\"M 158.852614 270.011082 \nL 158.852614 293.009543 \nL 191.318068 293.009543 \nL 191.318068 270.011082 \nL 158.852614 270.011082 \nz\n\" style=\"fill:#084889;\"/>\n    <path clip-path=\"url(#p995047240e)\" d=\"M 191.318068 270.011082 \nL 191.318068 293.009543 \nL 223.783523 293.009543 \nL 223.783523 270.011082 \nL 191.318068 270.011082 \nz\n\" style=\"fill:#e7f6e2;\"/>\n    <path clip-path=\"url(#p995047240e)\" d=\"M 223.783523 270.011082 \nL 223.783523 293.009543 \nL 256.248977 293.009543 \nL 256.248977 270.011082 \nL 223.783523 270.011082 \nz\n\" style=\"fill:#084e90;\"/>\n    <path clip-path=\"url(#p995047240e)\" d=\"M 256.248977 270.011082 \nL 256.248977 293.009543 \nL 288.714432 293.009543 \nL 288.714432 270.011082 \nL 256.248977 270.011082 \nz\n\" style=\"fill:#084384;\"/>\n    <path clip-path=\"url(#p995047240e)\" d=\"M 288.714432 270.011082 \nL 288.714432 293.009543 \nL 321.179886 293.009543 \nL 321.179886 270.011082 \nL 288.714432 270.011082 \nz\n\" style=\"fill:#08498a;\"/>\n    <path clip-path=\"url(#p995047240e)\" d=\"M 321.179886 270.011082 \nL 321.179886 293.009543 \nL 353.645341 293.009543 \nL 353.645341 270.011082 \nL 321.179886 270.011082 \nz\n\" style=\"fill:#084081;\"/>\n    <path clip-path=\"url(#p995047240e)\" d=\"M 353.645341 270.011082 \nL 353.645341 293.009543 \nL 386.110795 293.009543 \nL 386.110795 270.011082 \nL 353.645341 270.011082 \nz\n\" style=\"fill:#084081;\"/>\n    <path clip-path=\"url(#p995047240e)\" d=\"M 386.110795 270.011082 \nL 386.110795 293.009543 \nL 418.57625 293.009543 \nL 418.57625 270.011082 \nL 386.110795 270.011082 \nz\n\" style=\"fill:#084384;\"/>\n    <path clip-path=\"url(#p995047240e)\" d=\"M 61.45625 293.009543 \nL 61.45625 316.008005 \nL 93.921705 316.008005 \nL 93.921705 293.009543 \nL 61.45625 293.009543 \nz\n\" style=\"fill:#084081;\"/>\n    <path clip-path=\"url(#p995047240e)\" d=\"M 93.921705 293.009543 \nL 93.921705 316.008005 \nL 126.387159 316.008005 \nL 126.387159 293.009543 \nL 93.921705 293.009543 \nz\n\" style=\"fill:#084485;\"/>\n    <path clip-path=\"url(#p995047240e)\" d=\"M 126.387159 293.009543 \nL 126.387159 316.008005 \nL 158.852614 316.008005 \nL 158.852614 293.009543 \nL 126.387159 293.009543 \nz\n\" style=\"fill:#084586;\"/>\n    <path clip-path=\"url(#p995047240e)\" d=\"M 158.852614 293.009543 \nL 158.852614 316.008005 \nL 191.318068 316.008005 \nL 191.318068 293.009543 \nL 158.852614 293.009543 \nz\n\" style=\"fill:#084081;\"/>\n    <path clip-path=\"url(#p995047240e)\" d=\"M 191.318068 293.009543 \nL 191.318068 316.008005 \nL 223.783523 316.008005 \nL 223.783523 293.009543 \nL 191.318068 293.009543 \nz\n\" style=\"fill:#084081;\"/>\n    <path clip-path=\"url(#p995047240e)\" d=\"M 223.783523 293.009543 \nL 223.783523 316.008005 \nL 256.248977 316.008005 \nL 256.248977 293.009543 \nL 223.783523 293.009543 \nz\n\" style=\"fill:#084081;\"/>\n    <path clip-path=\"url(#p995047240e)\" d=\"M 256.248977 293.009543 \nL 256.248977 316.008005 \nL 288.714432 316.008005 \nL 288.714432 293.009543 \nL 256.248977 293.009543 \nz\n\" style=\"fill:#f7fcf0;\"/>\n    <path clip-path=\"url(#p995047240e)\" d=\"M 288.714432 293.009543 \nL 288.714432 316.008005 \nL 321.179886 316.008005 \nL 321.179886 293.009543 \nL 288.714432 293.009543 \nz\n\" style=\"fill:#084081;\"/>\n    <path clip-path=\"url(#p995047240e)\" d=\"M 321.179886 293.009543 \nL 321.179886 316.008005 \nL 353.645341 316.008005 \nL 353.645341 293.009543 \nL 321.179886 293.009543 \nz\n\" style=\"fill:#084a8c;\"/>\n    <path clip-path=\"url(#p995047240e)\" d=\"M 353.645341 293.009543 \nL 353.645341 316.008005 \nL 386.110795 316.008005 \nL 386.110795 293.009543 \nL 353.645341 293.009543 \nz\n\" style=\"fill:#084485;\"/>\n    <path clip-path=\"url(#p995047240e)\" d=\"M 386.110795 293.009543 \nL 386.110795 316.008005 \nL 418.57625 316.008005 \nL 418.57625 293.009543 \nL 386.110795 293.009543 \nz\n\" style=\"fill:#084081;\"/>\n    <path clip-path=\"url(#p995047240e)\" d=\"M 61.45625 316.008005 \nL 61.45625 339.006466 \nL 93.921705 339.006466 \nL 93.921705 316.008005 \nL 61.45625 316.008005 \nz\n\" style=\"fill:#aedfb8;\"/>\n    <path clip-path=\"url(#p995047240e)\" d=\"M 93.921705 316.008005 \nL 93.921705 339.006466 \nL 126.387159 339.006466 \nL 126.387159 316.008005 \nL 93.921705 316.008005 \nz\n\" style=\"fill:#084081;\"/>\n    <path clip-path=\"url(#p995047240e)\" d=\"M 126.387159 316.008005 \nL 126.387159 339.006466 \nL 158.852614 339.006466 \nL 158.852614 316.008005 \nL 126.387159 316.008005 \nz\n\" style=\"fill:#084081;\"/>\n    <path clip-path=\"url(#p995047240e)\" d=\"M 158.852614 316.008005 \nL 158.852614 339.006466 \nL 191.318068 339.006466 \nL 191.318068 316.008005 \nL 158.852614 316.008005 \nz\n\" style=\"fill:#084a8c;\"/>\n    <path clip-path=\"url(#p995047240e)\" d=\"M 191.318068 316.008005 \nL 191.318068 339.006466 \nL 223.783523 339.006466 \nL 223.783523 316.008005 \nL 191.318068 316.008005 \nz\n\" style=\"fill:#084485;\"/>\n    <path clip-path=\"url(#p995047240e)\" d=\"M 223.783523 316.008005 \nL 223.783523 339.006466 \nL 256.248977 339.006466 \nL 256.248977 316.008005 \nL 223.783523 316.008005 \nz\n\" style=\"fill:#085497;\"/>\n    <path clip-path=\"url(#p995047240e)\" d=\"M 256.248977 316.008005 \nL 256.248977 339.006466 \nL 288.714432 339.006466 \nL 288.714432 316.008005 \nL 256.248977 316.008005 \nz\n\" style=\"fill:#084384;\"/>\n    <path clip-path=\"url(#p995047240e)\" d=\"M 288.714432 316.008005 \nL 288.714432 339.006466 \nL 321.179886 339.006466 \nL 321.179886 316.008005 \nL 288.714432 316.008005 \nz\n\" style=\"fill:#1070b0;\"/>\n    <path clip-path=\"url(#p995047240e)\" d=\"M 321.179886 316.008005 \nL 321.179886 339.006466 \nL 353.645341 339.006466 \nL 353.645341 316.008005 \nL 321.179886 316.008005 \nz\n\" style=\"fill:#084182;\"/>\n    <path clip-path=\"url(#p995047240e)\" d=\"M 353.645341 316.008005 \nL 353.645341 339.006466 \nL 386.110795 339.006466 \nL 386.110795 316.008005 \nL 353.645341 316.008005 \nz\n\" style=\"fill:#084485;\"/>\n    <path clip-path=\"url(#p995047240e)\" d=\"M 386.110795 316.008005 \nL 386.110795 339.006466 \nL 418.57625 339.006466 \nL 418.57625 316.008005 \nL 386.110795 316.008005 \nz\n\" style=\"fill:#0d6dae;\"/>\n    <path clip-path=\"url(#p995047240e)\" d=\"M 61.45625 339.006466 \nL 61.45625 362.004928 \nL 93.921705 362.004928 \nL 93.921705 339.006466 \nL 61.45625 339.006466 \nz\n\" style=\"fill:#084b8d;\"/>\n    <path clip-path=\"url(#p995047240e)\" d=\"M 93.921705 339.006466 \nL 93.921705 362.004928 \nL 126.387159 362.004928 \nL 126.387159 339.006466 \nL 93.921705 339.006466 \nz\n\" style=\"fill:#084081;\"/>\n    <path clip-path=\"url(#p995047240e)\" d=\"M 126.387159 339.006466 \nL 126.387159 362.004928 \nL 158.852614 362.004928 \nL 158.852614 339.006466 \nL 126.387159 339.006466 \nz\n\" style=\"fill:#084081;\"/>\n    <path clip-path=\"url(#p995047240e)\" d=\"M 158.852614 339.006466 \nL 158.852614 362.004928 \nL 191.318068 362.004928 \nL 191.318068 339.006466 \nL 158.852614 339.006466 \nz\n\" style=\"fill:#084081;\"/>\n    <path clip-path=\"url(#p995047240e)\" d=\"M 191.318068 339.006466 \nL 191.318068 362.004928 \nL 223.783523 362.004928 \nL 223.783523 339.006466 \nL 191.318068 339.006466 \nz\n\" style=\"fill:#085093;\"/>\n    <path clip-path=\"url(#p995047240e)\" d=\"M 223.783523 339.006466 \nL 223.783523 362.004928 \nL 256.248977 362.004928 \nL 256.248977 339.006466 \nL 223.783523 339.006466 \nz\n\" style=\"fill:#08498a;\"/>\n    <path clip-path=\"url(#p995047240e)\" d=\"M 256.248977 339.006466 \nL 256.248977 362.004928 \nL 288.714432 362.004928 \nL 288.714432 339.006466 \nL 256.248977 339.006466 \nz\n\" style=\"fill:#084f91;\"/>\n    <path clip-path=\"url(#p995047240e)\" d=\"M 288.714432 339.006466 \nL 288.714432 362.004928 \nL 321.179886 362.004928 \nL 321.179886 339.006466 \nL 288.714432 339.006466 \nz\n\" style=\"fill:#8dd3be;\"/>\n    <path clip-path=\"url(#p995047240e)\" d=\"M 321.179886 339.006466 \nL 321.179886 362.004928 \nL 353.645341 362.004928 \nL 353.645341 339.006466 \nL 321.179886 339.006466 \nz\n\" style=\"fill:#1c7cb6;\"/>\n    <path clip-path=\"url(#p995047240e)\" d=\"M 353.645341 339.006466 \nL 353.645341 362.004928 \nL 386.110795 362.004928 \nL 386.110795 339.006466 \nL 353.645341 339.006466 \nz\n\" style=\"fill:#0a6aad;\"/>\n    <path clip-path=\"url(#p995047240e)\" d=\"M 386.110795 339.006466 \nL 386.110795 362.004928 \nL 418.57625 362.004928 \nL 418.57625 339.006466 \nL 386.110795 339.006466 \nz\n\" style=\"fill:#084a8c;\"/>\n    <path clip-path=\"url(#p995047240e)\" d=\"M 61.45625 362.004928 \nL 61.45625 385.003389 \nL 93.921705 385.003389 \nL 93.921705 362.004928 \nL 61.45625 362.004928 \nz\n\" style=\"fill:#084384;\"/>\n    <path clip-path=\"url(#p995047240e)\" d=\"M 93.921705 362.004928 \nL 93.921705 385.003389 \nL 126.387159 385.003389 \nL 126.387159 362.004928 \nL 93.921705 362.004928 \nz\n\" style=\"fill:#085497;\"/>\n    <path clip-path=\"url(#p995047240e)\" d=\"M 126.387159 362.004928 \nL 126.387159 385.003389 \nL 158.852614 385.003389 \nL 158.852614 362.004928 \nL 126.387159 362.004928 \nz\n\" style=\"fill:#084384;\"/>\n    <path clip-path=\"url(#p995047240e)\" d=\"M 158.852614 362.004928 \nL 158.852614 385.003389 \nL 191.318068 385.003389 \nL 191.318068 362.004928 \nL 158.852614 362.004928 \nz\n\" style=\"fill:#084081;\"/>\n    <path clip-path=\"url(#p995047240e)\" d=\"M 191.318068 362.004928 \nL 191.318068 385.003389 \nL 223.783523 385.003389 \nL 223.783523 362.004928 \nL 191.318068 362.004928 \nz\n\" style=\"fill:#084081;\"/>\n    <path clip-path=\"url(#p995047240e)\" d=\"M 223.783523 362.004928 \nL 223.783523 385.003389 \nL 256.248977 385.003389 \nL 256.248977 362.004928 \nL 223.783523 362.004928 \nz\n\" style=\"fill:#084081;\"/>\n    <path clip-path=\"url(#p995047240e)\" d=\"M 256.248977 362.004928 \nL 256.248977 385.003389 \nL 288.714432 385.003389 \nL 288.714432 362.004928 \nL 256.248977 362.004928 \nz\n\" style=\"fill:#085da0;\"/>\n    <path clip-path=\"url(#p995047240e)\" d=\"M 288.714432 362.004928 \nL 288.714432 385.003389 \nL 321.179886 385.003389 \nL 321.179886 362.004928 \nL 288.714432 362.004928 \nz\n\" style=\"fill:#084081;\"/>\n    <path clip-path=\"url(#p995047240e)\" d=\"M 321.179886 362.004928 \nL 321.179886 385.003389 \nL 353.645341 385.003389 \nL 353.645341 362.004928 \nL 321.179886 362.004928 \nz\n\" style=\"fill:#daf1d5;\"/>\n    <path clip-path=\"url(#p995047240e)\" d=\"M 353.645341 362.004928 \nL 353.645341 385.003389 \nL 386.110795 385.003389 \nL 386.110795 362.004928 \nL 353.645341 362.004928 \nz\n\" style=\"fill:#085497;\"/>\n    <path clip-path=\"url(#p995047240e)\" d=\"M 386.110795 362.004928 \nL 386.110795 385.003389 \nL 418.57625 385.003389 \nL 418.57625 362.004928 \nL 386.110795 362.004928 \nz\n\" style=\"fill:#084081;\"/>\n    <path clip-path=\"url(#p995047240e)\" d=\"M 61.45625 385.003389 \nL 61.45625 408.001851 \nL 93.921705 408.001851 \nL 93.921705 385.003389 \nL 61.45625 385.003389 \nz\n\" style=\"fill:#084384;\"/>\n    <path clip-path=\"url(#p995047240e)\" d=\"M 93.921705 385.003389 \nL 93.921705 408.001851 \nL 126.387159 408.001851 \nL 126.387159 385.003389 \nL 93.921705 385.003389 \nz\n\" style=\"fill:#084384;\"/>\n    <path clip-path=\"url(#p995047240e)\" d=\"M 126.387159 385.003389 \nL 126.387159 408.001851 \nL 158.852614 408.001851 \nL 158.852614 385.003389 \nL 126.387159 385.003389 \nz\n\" style=\"fill:#084182;\"/>\n    <path clip-path=\"url(#p995047240e)\" d=\"M 158.852614 385.003389 \nL 158.852614 408.001851 \nL 191.318068 408.001851 \nL 191.318068 385.003389 \nL 158.852614 385.003389 \nz\n\" style=\"fill:#084081;\"/>\n    <path clip-path=\"url(#p995047240e)\" d=\"M 191.318068 385.003389 \nL 191.318068 408.001851 \nL 223.783523 408.001851 \nL 223.783523 385.003389 \nL 191.318068 385.003389 \nz\n\" style=\"fill:#084081;\"/>\n    <path clip-path=\"url(#p995047240e)\" d=\"M 223.783523 385.003389 \nL 223.783523 408.001851 \nL 256.248977 408.001851 \nL 256.248977 385.003389 \nL 223.783523 385.003389 \nz\n\" style=\"fill:#084081;\"/>\n    <path clip-path=\"url(#p995047240e)\" d=\"M 256.248977 385.003389 \nL 256.248977 408.001851 \nL 288.714432 408.001851 \nL 288.714432 385.003389 \nL 256.248977 385.003389 \nz\n\" style=\"fill:#084f91;\"/>\n    <path clip-path=\"url(#p995047240e)\" d=\"M 288.714432 385.003389 \nL 288.714432 408.001851 \nL 321.179886 408.001851 \nL 321.179886 385.003389 \nL 288.714432 385.003389 \nz\n\" style=\"fill:#084182;\"/>\n    <path clip-path=\"url(#p995047240e)\" d=\"M 321.179886 385.003389 \nL 321.179886 408.001851 \nL 353.645341 408.001851 \nL 353.645341 385.003389 \nL 321.179886 385.003389 \nz\n\" style=\"fill:#084b8d;\"/>\n    <path clip-path=\"url(#p995047240e)\" d=\"M 353.645341 385.003389 \nL 353.645341 408.001851 \nL 386.110795 408.001851 \nL 386.110795 385.003389 \nL 353.645341 385.003389 \nz\n\" style=\"fill:#f1f9ea;\"/>\n    <path clip-path=\"url(#p995047240e)\" d=\"M 386.110795 385.003389 \nL 386.110795 408.001851 \nL 418.57625 408.001851 \nL 418.57625 385.003389 \nL 386.110795 385.003389 \nz\n\" style=\"fill:#084081;\"/>\n    <path clip-path=\"url(#p995047240e)\" d=\"M 61.45625 408.001851 \nL 61.45625 431.000313 \nL 93.921705 431.000313 \nL 93.921705 408.001851 \nL 61.45625 408.001851 \nz\n\" style=\"fill:#0a6aad;\"/>\n    <path clip-path=\"url(#p995047240e)\" d=\"M 93.921705 408.001851 \nL 93.921705 431.000313 \nL 126.387159 431.000313 \nL 126.387159 408.001851 \nL 93.921705 408.001851 \nz\n\" style=\"fill:#084081;\"/>\n    <path clip-path=\"url(#p995047240e)\" d=\"M 126.387159 408.001851 \nL 126.387159 431.000313 \nL 158.852614 431.000313 \nL 158.852614 408.001851 \nL 126.387159 408.001851 \nz\n\" style=\"fill:#084081;\"/>\n    <path clip-path=\"url(#p995047240e)\" d=\"M 158.852614 408.001851 \nL 158.852614 431.000313 \nL 191.318068 431.000313 \nL 191.318068 408.001851 \nL 158.852614 408.001851 \nz\n\" style=\"fill:#084384;\"/>\n    <path clip-path=\"url(#p995047240e)\" d=\"M 191.318068 408.001851 \nL 191.318068 431.000313 \nL 223.783523 431.000313 \nL 223.783523 408.001851 \nL 191.318068 408.001851 \nz\n\" style=\"fill:#084384;\"/>\n    <path clip-path=\"url(#p995047240e)\" d=\"M 223.783523 408.001851 \nL 223.783523 431.000313 \nL 256.248977 431.000313 \nL 256.248977 408.001851 \nL 223.783523 408.001851 \nz\n\" style=\"fill:#084d8e;\"/>\n    <path clip-path=\"url(#p995047240e)\" d=\"M 256.248977 408.001851 \nL 256.248977 431.000313 \nL 288.714432 431.000313 \nL 288.714432 408.001851 \nL 256.248977 408.001851 \nz\n\" style=\"fill:#084f91;\"/>\n    <path clip-path=\"url(#p995047240e)\" d=\"M 288.714432 408.001851 \nL 288.714432 431.000313 \nL 321.179886 431.000313 \nL 321.179886 408.001851 \nL 288.714432 408.001851 \nz\n\" style=\"fill:#2a8bbe;\"/>\n    <path clip-path=\"url(#p995047240e)\" d=\"M 321.179886 408.001851 \nL 321.179886 431.000313 \nL 353.645341 431.000313 \nL 353.645341 408.001851 \nL 321.179886 408.001851 \nz\n\" style=\"fill:#084485;\"/>\n    <path clip-path=\"url(#p995047240e)\" d=\"M 353.645341 408.001851 \nL 353.645341 431.000313 \nL 386.110795 431.000313 \nL 386.110795 408.001851 \nL 353.645341 408.001851 \nz\n\" style=\"fill:#8bd2bf;\"/>\n    <path clip-path=\"url(#p995047240e)\" d=\"M 386.110795 408.001851 \nL 386.110795 431.000313 \nL 418.57625 431.000313 \nL 418.57625 408.001851 \nL 386.110795 408.001851 \nz\n\" style=\"fill:#084a8c;\"/>\n   </g>\n   <g id=\"patch_3\">\n    <path d=\"M 61.45625 431.000313 \nL 61.45625 132.020312 \n\" style=\"fill:none;\"/>\n   </g>\n   <g id=\"patch_4\">\n    <path d=\"M 418.57625 431.000313 \nL 418.57625 132.020312 \n\" style=\"fill:none;\"/>\n   </g>\n   <g id=\"patch_5\">\n    <path d=\"M 61.45625 431.000313 \nL 418.57625 431.000313 \n\" style=\"fill:none;\"/>\n   </g>\n   <g id=\"patch_6\">\n    <path d=\"M 61.45625 132.020312 \nL 418.57625 132.020312 \n\" style=\"fill:none;\"/>\n   </g>\n  </g>\n  <g id=\"axes_2\">\n   <g id=\"patch_7\">\n    <path clip-path=\"url(#p49bea58701)\" d=\"M 440.89625 431.000312 \nL 440.89625 429.832422 \nL 440.89625 133.188203 \nL 440.89625 132.020312 \nL 455.84525 132.020312 \nL 455.84525 133.188203 \nL 455.84525 429.832422 \nL 455.84525 431.000312 \nz\n\" style=\"fill:#eaeaf2;stroke:#eaeaf2;stroke-linejoin:miter;stroke-width:0.01;\"/>\n   </g>\n   <g id=\"matplotlib.axis_3\"/>\n   <g id=\"matplotlib.axis_4\">\n    <g id=\"ytick_14\">\n     <g id=\"line2d_25\"/>\n     <g id=\"text_17\">\n      <!-- 0.2 -->\n      <defs>\n       <path d=\"M 51.703125 34.421875 \nQ 51.703125 24.515625 49.828125 17.75 \nQ 47.953125 10.984375 44.703125 6.8125 \nQ 41.453125 2.640625 37.0625 0.828125 \nQ 32.671875 -0.984375 27.6875 -0.984375 \nQ 22.65625 -0.984375 18.3125 0.828125 \nQ 13.96875 2.640625 10.765625 6.78125 \nQ 7.5625 10.9375 5.734375 17.703125 \nQ 3.90625 24.46875 3.90625 34.421875 \nQ 3.90625 44.828125 5.734375 51.640625 \nQ 7.5625 58.453125 10.78125 62.5 \nQ 14.015625 66.546875 18.40625 68.1875 \nQ 22.796875 69.828125 27.984375 69.828125 \nQ 32.90625 69.828125 37.21875 68.1875 \nQ 41.546875 66.546875 44.765625 62.5 \nQ 48 58.453125 49.84375 51.640625 \nQ 51.703125 44.828125 51.703125 34.421875 \nz\nM 42.78125 34.421875 \nQ 42.78125 42.625 41.796875 48.0625 \nQ 40.828125 53.515625 38.921875 56.765625 \nQ 37.015625 60.015625 34.25 61.359375 \nQ 31.5 62.703125 27.984375 62.703125 \nQ 24.265625 62.703125 21.4375 61.328125 \nQ 18.609375 59.96875 16.671875 56.71875 \nQ 14.75 53.46875 13.765625 48.015625 \nQ 12.796875 42.578125 12.796875 34.421875 \nQ 12.796875 26.515625 13.796875 21.09375 \nQ 14.796875 15.671875 16.71875 12.375 \nQ 18.65625 9.078125 21.4375 7.640625 \nQ 24.21875 6.203125 27.78125 6.203125 \nQ 31.25 6.203125 34.03125 7.640625 \nQ 36.8125 9.078125 38.734375 12.375 \nQ 40.671875 15.671875 41.71875 21.09375 \nQ 42.78125 26.515625 42.78125 34.421875 \nz\n\" id=\"LiberationSans-48\"/>\n       <path d=\"M 9.125 0 \nL 9.125 10.6875 \nL 18.65625 10.6875 \nL 18.65625 0 \nz\n\" id=\"LiberationSans-46\"/>\n       <path d=\"M 5.03125 0 \nL 5.03125 6.203125 \nQ 7.515625 11.921875 11.109375 16.28125 \nQ 14.703125 20.65625 18.65625 24.1875 \nQ 22.609375 27.734375 26.484375 30.765625 \nQ 30.375 33.796875 33.5 36.8125 \nQ 36.625 39.84375 38.546875 43.15625 \nQ 40.484375 46.484375 40.484375 50.6875 \nQ 40.484375 53.609375 39.59375 55.828125 \nQ 38.71875 58.0625 37.0625 59.5625 \nQ 35.40625 61.078125 33.078125 61.828125 \nQ 30.765625 62.59375 27.9375 62.59375 \nQ 25.296875 62.59375 22.96875 61.859375 \nQ 20.65625 61.140625 18.84375 59.671875 \nQ 17.046875 58.203125 15.890625 56.03125 \nQ 14.75 53.859375 14.40625 50.984375 \nL 5.421875 51.8125 \nQ 5.859375 55.515625 7.46875 58.78125 \nQ 9.078125 62.0625 11.90625 64.53125 \nQ 14.75 67 18.71875 68.40625 \nQ 22.703125 69.828125 27.9375 69.828125 \nQ 33.0625 69.828125 37.0625 68.609375 \nQ 41.0625 67.390625 43.8125 64.984375 \nQ 46.578125 62.59375 48.046875 59.078125 \nQ 49.515625 55.5625 49.515625 50.984375 \nQ 49.515625 47.515625 48.265625 44.390625 \nQ 47.015625 41.265625 44.9375 38.421875 \nQ 42.875 35.59375 40.140625 32.953125 \nQ 37.40625 30.328125 34.421875 27.8125 \nQ 31.453125 25.296875 28.421875 22.828125 \nQ 25.390625 20.359375 22.71875 17.859375 \nQ 20.0625 15.375 17.96875 12.8125 \nQ 15.875 10.25 14.703125 7.46875 \nL 50.59375 7.46875 \nL 50.59375 0 \nz\n\" id=\"LiberationSans-50\"/>\n      </defs>\n      <g style=\"fill:#262626;\" transform=\"translate(462.84525 369.742879)scale(0.1 -0.1)\">\n       <use xlink:href=\"#LiberationSans-48\"/>\n       <use x=\"55.615234\" xlink:href=\"#LiberationSans-46\"/>\n       <use x=\"83.398438\" xlink:href=\"#LiberationSans-50\"/>\n      </g>\n     </g>\n    </g>\n    <g id=\"ytick_15\">\n     <g id=\"line2d_26\"/>\n     <g id=\"text_18\">\n      <!-- 0.4 -->\n      <defs>\n       <path d=\"M 43.015625 15.578125 \nL 43.015625 0 \nL 34.71875 0 \nL 34.71875 15.578125 \nL 2.296875 15.578125 \nL 2.296875 22.40625 \nL 33.796875 68.796875 \nL 43.015625 68.796875 \nL 43.015625 22.515625 \nL 52.6875 22.515625 \nL 52.6875 15.578125 \nz\nM 34.71875 58.890625 \nQ 34.625 58.640625 34.234375 57.9375 \nQ 33.84375 57.234375 33.34375 56.34375 \nQ 32.859375 55.46875 32.34375 54.5625 \nQ 31.84375 53.65625 31.453125 53.078125 \nL 13.8125 27.09375 \nQ 13.578125 26.703125 13.109375 26.0625 \nQ 12.640625 25.4375 12.15625 24.78125 \nQ 11.671875 24.125 11.171875 23.484375 \nQ 10.6875 22.859375 10.40625 22.515625 \nL 34.71875 22.515625 \nz\n\" id=\"LiberationSans-52\"/>\n      </defs>\n      <g style=\"fill:#262626;\" transform=\"translate(462.84525 304.840136)scale(0.1 -0.1)\">\n       <use xlink:href=\"#LiberationSans-48\"/>\n       <use x=\"55.615234\" xlink:href=\"#LiberationSans-46\"/>\n       <use x=\"83.398438\" xlink:href=\"#LiberationSans-52\"/>\n      </g>\n     </g>\n    </g>\n    <g id=\"ytick_16\">\n     <g id=\"line2d_27\"/>\n     <g id=\"text_19\">\n      <!-- 0.6 -->\n      <defs>\n       <path d=\"M 51.21875 22.515625 \nQ 51.21875 17.328125 49.78125 13 \nQ 48.34375 8.6875 45.53125 5.578125 \nQ 42.71875 2.484375 38.5625 0.75 \nQ 34.421875 -0.984375 29 -0.984375 \nQ 23 -0.984375 18.5 1.3125 \nQ 14.015625 3.609375 11.03125 7.921875 \nQ 8.0625 12.25 6.5625 18.53125 \nQ 5.078125 24.8125 5.078125 32.8125 \nQ 5.078125 42 6.765625 48.921875 \nQ 8.453125 55.859375 11.625 60.5 \nQ 14.796875 65.140625 19.359375 67.484375 \nQ 23.921875 69.828125 29.6875 69.828125 \nQ 33.203125 69.828125 36.28125 69.09375 \nQ 39.359375 68.359375 41.875 66.71875 \nQ 44.390625 65.09375 46.28125 62.40625 \nQ 48.1875 59.71875 49.3125 55.8125 \nL 40.921875 54.296875 \nQ 39.546875 58.734375 36.546875 60.71875 \nQ 33.546875 62.703125 29.59375 62.703125 \nQ 25.984375 62.703125 23.046875 60.984375 \nQ 20.125 59.28125 18.0625 55.875 \nQ 16.015625 52.484375 14.90625 47.359375 \nQ 13.8125 42.234375 13.8125 35.40625 \nQ 16.21875 39.84375 20.5625 42.15625 \nQ 24.90625 44.484375 30.515625 44.484375 \nQ 35.203125 44.484375 39.015625 42.96875 \nQ 42.828125 41.453125 45.53125 38.59375 \nQ 48.25 35.75 49.734375 31.671875 \nQ 51.21875 27.59375 51.21875 22.515625 \nz\nM 42.28125 22.125 \nQ 42.28125 25.6875 41.40625 28.5625 \nQ 40.53125 31.453125 38.765625 33.46875 \nQ 37.015625 35.5 34.421875 36.59375 \nQ 31.84375 37.703125 28.421875 37.703125 \nQ 26.03125 37.703125 23.578125 36.984375 \nQ 21.140625 36.28125 19.15625 34.6875 \nQ 17.1875 33.109375 15.9375 30.515625 \nQ 14.703125 27.9375 14.703125 24.21875 \nQ 14.703125 20.40625 15.671875 17.109375 \nQ 16.65625 13.8125 18.484375 11.375 \nQ 20.3125 8.9375 22.890625 7.515625 \nQ 25.484375 6.109375 28.71875 6.109375 \nQ 31.890625 6.109375 34.40625 7.203125 \nQ 36.921875 8.296875 38.671875 10.375 \nQ 40.4375 12.453125 41.359375 15.421875 \nQ 42.28125 18.40625 42.28125 22.125 \nz\n\" id=\"LiberationSans-54\"/>\n      </defs>\n      <g style=\"fill:#262626;\" transform=\"translate(462.84525 239.937394)scale(0.1 -0.1)\">\n       <use xlink:href=\"#LiberationSans-48\"/>\n       <use x=\"55.615234\" xlink:href=\"#LiberationSans-46\"/>\n       <use x=\"83.398438\" xlink:href=\"#LiberationSans-54\"/>\n      </g>\n     </g>\n    </g>\n    <g id=\"ytick_17\">\n     <g id=\"line2d_28\"/>\n     <g id=\"text_20\">\n      <!-- 0.8 -->\n      <defs>\n       <path d=\"M 51.265625 19.1875 \nQ 51.265625 14.796875 49.875 11.109375 \nQ 48.484375 7.421875 45.625 4.734375 \nQ 42.78125 2.046875 38.328125 0.53125 \nQ 33.890625 -0.984375 27.828125 -0.984375 \nQ 21.78125 -0.984375 17.359375 0.53125 \nQ 12.9375 2.046875 10.03125 4.703125 \nQ 7.125 7.375 5.734375 11.0625 \nQ 4.34375 14.75 4.34375 19.09375 \nQ 4.34375 22.859375 5.484375 25.78125 \nQ 6.640625 28.71875 8.5625 30.828125 \nQ 10.5 32.953125 12.96875 34.25 \nQ 15.4375 35.546875 18.0625 35.984375 \nL 18.0625 36.1875 \nQ 15.1875 36.859375 12.90625 38.375 \nQ 10.640625 39.890625 9.09375 42.015625 \nQ 7.5625 44.140625 6.75 46.71875 \nQ 5.953125 49.3125 5.953125 52.203125 \nQ 5.953125 55.8125 7.34375 59 \nQ 8.734375 62.203125 11.46875 64.625 \nQ 14.203125 67.046875 18.25 68.4375 \nQ 22.3125 69.828125 27.640625 69.828125 \nQ 33.25 69.828125 37.375 68.40625 \nQ 41.5 67 44.203125 64.578125 \nQ 46.921875 62.15625 48.234375 58.9375 \nQ 49.5625 55.71875 49.5625 52.09375 \nQ 49.5625 49.265625 48.75 46.671875 \nQ 47.953125 44.09375 46.40625 41.96875 \nQ 44.875 39.84375 42.59375 38.34375 \nQ 40.328125 36.859375 37.359375 36.28125 \nL 37.359375 36.078125 \nQ 40.328125 35.59375 42.859375 34.296875 \nQ 45.40625 33.015625 47.265625 30.890625 \nQ 49.125 28.765625 50.1875 25.828125 \nQ 51.265625 22.90625 51.265625 19.1875 \nz\nM 40.4375 51.609375 \nQ 40.4375 54.203125 39.765625 56.34375 \nQ 39.109375 58.5 37.59375 60.03125 \nQ 36.078125 61.578125 33.640625 62.421875 \nQ 31.203125 63.28125 27.640625 63.28125 \nQ 24.171875 63.28125 21.78125 62.421875 \nQ 19.390625 61.578125 17.84375 60.03125 \nQ 16.3125 58.5 15.625 56.34375 \nQ 14.9375 54.203125 14.9375 51.609375 \nQ 14.9375 49.5625 15.46875 47.40625 \nQ 16.015625 45.265625 17.421875 43.5 \nQ 18.84375 41.75 21.328125 40.625 \nQ 23.828125 39.5 27.734375 39.5 \nQ 31.890625 39.5 34.40625 40.625 \nQ 36.921875 41.75 38.25 43.5 \nQ 39.59375 45.265625 40.015625 47.40625 \nQ 40.4375 49.5625 40.4375 51.609375 \nz\nM 42.140625 20.015625 \nQ 42.140625 22.515625 41.453125 24.828125 \nQ 40.765625 27.15625 39.109375 28.9375 \nQ 37.453125 30.71875 34.640625 31.8125 \nQ 31.84375 32.90625 27.640625 32.90625 \nQ 23.78125 32.90625 21.0625 31.8125 \nQ 18.359375 30.71875 16.671875 28.90625 \nQ 14.984375 27.09375 14.203125 24.71875 \nQ 13.421875 22.359375 13.421875 19.828125 \nQ 13.421875 16.65625 14.203125 14.03125 \nQ 14.984375 11.421875 16.6875 9.546875 \nQ 18.40625 7.671875 21.1875 6.640625 \nQ 23.96875 5.609375 27.9375 5.609375 \nQ 31.9375 5.609375 34.671875 6.640625 \nQ 37.40625 7.671875 39.0625 9.546875 \nQ 40.71875 11.421875 41.421875 14.078125 \nQ 42.140625 16.75 42.140625 20.015625 \nz\n\" id=\"LiberationSans-56\"/>\n      </defs>\n      <g style=\"fill:#262626;\" transform=\"translate(462.84525 175.034651)scale(0.1 -0.1)\">\n       <use xlink:href=\"#LiberationSans-48\"/>\n       <use x=\"55.615234\" xlink:href=\"#LiberationSans-46\"/>\n       <use x=\"83.398438\" xlink:href=\"#LiberationSans-56\"/>\n      </g>\n     </g>\n    </g>\n   </g>\n   <image height=\"299\" id=\"imagefad9801277\" transform=\"scale(1 -1)translate(0 -299)\" width=\"15\" x=\"441\" xlink:href=\"data:image/png;base64,\niVBORw0KGgoAAAANSUhEUgAAAA8AAAErCAYAAAABnNneAAAABHNCSVQICAgIfAhkiAAAAYNJREFUeJztmjESAyEMAw1DkWfla3l5UuQFeIsdje96jcCyhQJZr/fnW83v1FpdbJ3aG4ARMwD31/xnJnve0p7hslmTZErlVTuySahUUoepTSJZrynVM1VX3zNVt+DFwG0slGqRagOsWDDKbMUKcc9g4aLOW5QqtLcJM3ES0QBTpdJ8W/tdlToYT6y4BFumH+qeMw1Q6zAvAcLeBsyw2vOkymzPobEiU6rIDhOlgrcV7bcuHGgIc58Yn1VWwTKrjZjV31WgYGTdkFm8cJCWfVZlepgmlWcGmdU+G3RYrIfNc084VQTMchhhfpLBLZgwZ1ZbzNuZThLKLEol9raVDMx3DAIe6GG5sYJcpoUyV+RD7gbLpoEmkVlNgOS6tk+cOs/iWZVpQ/Q+bN5UDWROjRWFqt2Gmss2DZBUm/1zvA3lTRJpgNqeoVSsSbypinztF91TK5hnQ8w9tVhhnlWWhwFs6rJTpco8bsRHkMw9h87zyFiROc+qAVrMWhoSqx2aAAcmgx/UQiYy385K1QAAAABJRU5ErkJggg==\" y=\"-132\"/>\n   <g id=\"patch_8\">\n    <path d=\"M 440.89625 431.000312 \nL 440.89625 429.832422 \nL 440.89625 133.188203 \nL 440.89625 132.020312 \nL 455.84525 132.020312 \nL 455.84525 133.188203 \nL 455.84525 429.832422 \nL 455.84525 431.000312 \nz\n\" style=\"fill:none;\"/>\n   </g>\n  </g>\n </g>\n <defs>\n  <clipPath id=\"p995047240e\">\n   <rect height=\"298.98\" width=\"357.12\" x=\"61.45625\" y=\"132.020312\"/>\n  </clipPath>\n  <clipPath id=\"p49bea58701\">\n   <rect height=\"298.98\" width=\"14.949\" x=\"440.89625\" y=\"132.020312\"/>\n  </clipPath>\n </defs>\n</svg>\n"
          },
          "metadata": {
            "tags": []
          }
        }
      ]
    },
    {
      "cell_type": "code",
      "metadata": {
        "colab": {
          "base_uri": "https://localhost:8080/",
          "height": 510
        },
        "id": "uGo9XgN87OA0",
        "outputId": "75e588da-3512-4a76-faa7-21aed63c9ac5"
      },
      "source": [
        "sentence = 'I welcome these suggestions with open arms.'\n",
        "plot_attention(sentence)"
      ],
      "execution_count": null,
      "outputs": [
        {
          "output_type": "display_data",
          "data": {
            "text/plain": [
              "<Figure size 576x396 with 2 Axes>"
            ],
            "image/svg+xml": "<?xml version=\"1.0\" encoding=\"utf-8\" standalone=\"no\"?>\n<!DOCTYPE svg PUBLIC \"-//W3C//DTD SVG 1.1//EN\"\n  \"http://www.w3.org/Graphics/SVG/1.1/DTD/svg11.dtd\">\n<!-- Created with matplotlib (https://matplotlib.org/) -->\n<svg height=\"366.505pt\" version=\"1.1\" viewBox=\"0 0 490.054625 366.505\" width=\"490.054625pt\" xmlns=\"http://www.w3.org/2000/svg\" xmlns:xlink=\"http://www.w3.org/1999/xlink\">\n <defs>\n  <style type=\"text/css\">\n*{stroke-linecap:butt;stroke-linejoin:round;}\n  </style>\n </defs>\n <g id=\"figure_1\">\n  <g id=\"patch_1\">\n   <path d=\"M 0 366.505 \nL 490.054625 366.505 \nL 490.054625 0 \nL 0 0 \nz\n\" style=\"fill:#ffffff;\"/>\n  </g>\n  <g id=\"axes_1\">\n   <g id=\"patch_2\">\n    <path d=\"M 67.565625 359.305 \nL 424.685625 359.305 \nL 424.685625 60.325 \nL 67.565625 60.325 \nz\n\" style=\"fill:#eaeaf2;\"/>\n   </g>\n   <g id=\"matplotlib.axis_1\">\n    <g id=\"xtick_1\">\n     <g id=\"line2d_1\"/>\n     <g id=\"text_1\">\n      <!-- &lt;start&gt; -->\n      <defs>\n       <path d=\"M 4.9375 27.875 \nL 4.9375 37.890625 \nL 53.515625 58.296875 \nL 53.515625 50.78125 \nL 11.625 32.90625 \nL 53.515625 14.984375 \nL 53.515625 7.515625 \nz\n\" id=\"LiberationSans-60\"/>\n       <path d=\"M 46.390625 14.59375 \nQ 46.390625 10.890625 44.9375 7.984375 \nQ 43.5 5.078125 40.765625 3.09375 \nQ 38.03125 1.125 34.046875 0.0625 \nQ 30.078125 -0.984375 24.953125 -0.984375 \nQ 20.359375 -0.984375 16.671875 -0.265625 \nQ 12.984375 0.4375 10.203125 2 \nQ 7.421875 3.5625 5.53125 6.125 \nQ 3.65625 8.6875 2.78125 12.40625 \nL 10.546875 13.921875 \nQ 11.671875 9.671875 15.1875 7.6875 \nQ 18.703125 5.71875 24.953125 5.71875 \nQ 27.78125 5.71875 30.140625 6.109375 \nQ 32.515625 6.5 34.21875 7.453125 \nQ 35.9375 8.40625 36.890625 9.984375 \nQ 37.84375 11.578125 37.84375 13.921875 \nQ 37.84375 16.3125 36.71875 17.84375 \nQ 35.59375 19.390625 33.59375 20.40625 \nQ 31.59375 21.4375 28.734375 22.1875 \nQ 25.875 22.953125 22.46875 23.875 \nQ 19.28125 24.703125 16.15625 25.734375 \nQ 13.03125 26.765625 10.515625 28.4375 \nQ 8.015625 30.125 6.453125 32.609375 \nQ 4.890625 35.109375 4.890625 38.875 \nQ 4.890625 46.09375 10.03125 49.875 \nQ 15.1875 53.65625 25.046875 53.65625 \nQ 33.796875 53.65625 38.9375 50.578125 \nQ 44.09375 47.515625 45.453125 40.71875 \nL 37.546875 39.75 \nQ 37.109375 41.796875 35.9375 43.1875 \nQ 34.765625 44.578125 33.109375 45.4375 \nQ 31.453125 46.296875 29.375 46.65625 \nQ 27.296875 47.015625 25.046875 47.015625 \nQ 19.09375 47.015625 16.25 45.203125 \nQ 13.421875 43.40625 13.421875 39.75 \nQ 13.421875 37.59375 14.46875 36.203125 \nQ 15.53125 34.8125 17.40625 33.859375 \nQ 19.28125 32.90625 21.921875 32.203125 \nQ 24.5625 31.5 27.734375 30.71875 \nQ 29.828125 30.171875 32.03125 29.5625 \nQ 34.234375 28.953125 36.296875 28.09375 \nQ 38.375 27.25 40.203125 26.09375 \nQ 42.046875 24.953125 43.40625 23.34375 \nQ 44.78125 21.734375 45.578125 19.578125 \nQ 46.390625 17.4375 46.390625 14.59375 \nz\n\" id=\"LiberationSans-115\"/>\n       <path d=\"M 27.046875 0.390625 \nQ 25.046875 -0.140625 22.96875 -0.453125 \nQ 20.90625 -0.78125 18.171875 -0.78125 \nQ 7.625 -0.78125 7.625 11.1875 \nL 7.625 46.4375 \nL 1.515625 46.4375 \nL 1.515625 52.828125 \nL 7.953125 52.828125 \nL 10.546875 64.65625 \nL 16.40625 64.65625 \nL 16.40625 52.828125 \nL 26.171875 52.828125 \nL 26.171875 46.4375 \nL 16.40625 46.4375 \nL 16.40625 13.09375 \nQ 16.40625 9.28125 17.640625 7.734375 \nQ 18.890625 6.203125 21.96875 6.203125 \nQ 23.25 6.203125 24.4375 6.390625 \nQ 25.640625 6.59375 27.046875 6.890625 \nz\n\" id=\"LiberationSans-116\"/>\n       <path d=\"M 20.21875 -0.984375 \nQ 12.25 -0.984375 8.25 3.21875 \nQ 4.25 7.421875 4.25 14.75 \nQ 4.25 19.96875 6.21875 23.3125 \nQ 8.203125 26.65625 11.390625 28.5625 \nQ 14.59375 30.46875 18.6875 31.203125 \nQ 22.796875 31.9375 27.046875 32.03125 \nL 38.921875 32.234375 \nL 38.921875 35.109375 \nQ 38.921875 38.375 38.234375 40.671875 \nQ 37.546875 42.96875 36.125 44.375 \nQ 34.71875 45.796875 32.59375 46.453125 \nQ 30.46875 47.125 27.59375 47.125 \nQ 25.046875 47.125 23 46.75 \nQ 20.953125 46.390625 19.4375 45.4375 \nQ 17.921875 44.484375 16.984375 42.84375 \nQ 16.0625 41.21875 15.765625 38.71875 \nL 6.59375 39.546875 \nQ 7.078125 42.671875 8.4375 45.28125 \nQ 9.8125 47.90625 12.328125 49.796875 \nQ 14.84375 51.703125 18.625 52.75 \nQ 22.40625 53.8125 27.78125 53.8125 \nQ 37.75 53.8125 42.765625 49.234375 \nQ 47.796875 44.671875 47.796875 36.03125 \nL 47.796875 13.28125 \nQ 47.796875 9.375 48.828125 7.390625 \nQ 49.859375 5.421875 52.734375 5.421875 \nQ 53.46875 5.421875 54.203125 5.515625 \nQ 54.9375 5.609375 55.609375 5.765625 \nL 55.609375 0.296875 \nQ 53.953125 -0.09375 52.3125 -0.28125 \nQ 50.6875 -0.484375 48.828125 -0.484375 \nQ 46.34375 -0.484375 44.5625 0.171875 \nQ 42.78125 0.828125 41.65625 2.171875 \nQ 40.53125 3.515625 39.9375 5.484375 \nQ 39.359375 7.46875 39.203125 10.109375 \nL 38.921875 10.109375 \nQ 37.5 7.5625 35.8125 5.515625 \nQ 34.125 3.46875 31.875 2.03125 \nQ 29.640625 0.59375 26.78125 -0.1875 \nQ 23.921875 -0.984375 20.21875 -0.984375 \nz\nM 22.21875 5.609375 \nQ 26.421875 5.609375 29.5625 7.140625 \nQ 32.71875 8.6875 34.78125 11.078125 \nQ 36.859375 13.484375 37.890625 16.3125 \nQ 38.921875 19.140625 38.921875 21.734375 \nL 38.921875 26.078125 \nL 29.296875 25.875 \nQ 26.078125 25.828125 23.171875 25.40625 \nQ 20.265625 25 18.0625 23.78125 \nQ 15.875 22.5625 14.578125 20.359375 \nQ 13.28125 18.171875 13.28125 14.59375 \nQ 13.28125 10.296875 15.59375 7.953125 \nQ 17.921875 5.609375 22.21875 5.609375 \nz\n\" id=\"LiberationSans-97\"/>\n       <path d=\"M 6.9375 0 \nL 6.9375 40.53125 \nQ 6.9375 42.1875 6.90625 43.921875 \nQ 6.890625 45.65625 6.828125 47.265625 \nQ 6.78125 48.875 6.734375 50.28125 \nQ 6.6875 51.703125 6.640625 52.828125 \nL 14.9375 52.828125 \nQ 14.984375 51.703125 15.0625 50.265625 \nQ 15.140625 48.828125 15.203125 47.3125 \nQ 15.28125 45.796875 15.296875 44.40625 \nQ 15.328125 43.015625 15.328125 42.046875 \nL 15.53125 42.046875 \nQ 16.453125 45.0625 17.5 47.28125 \nQ 18.5625 49.515625 19.96875 50.953125 \nQ 21.390625 52.390625 23.34375 53.09375 \nQ 25.296875 53.8125 28.078125 53.8125 \nQ 29.15625 53.8125 30.125 53.640625 \nQ 31.109375 53.46875 31.640625 53.328125 \nL 31.640625 45.265625 \nQ 30.765625 45.515625 29.59375 45.625 \nQ 28.421875 45.75 26.953125 45.75 \nQ 23.921875 45.75 21.796875 44.375 \nQ 19.671875 43.015625 18.328125 40.59375 \nQ 17 38.1875 16.359375 34.84375 \nQ 15.71875 31.5 15.71875 27.546875 \nL 15.71875 0 \nz\n\" id=\"LiberationSans-114\"/>\n       <path d=\"M 4.9375 7.515625 \nL 4.9375 14.984375 \nL 46.828125 32.90625 \nL 4.9375 50.78125 \nL 4.9375 58.296875 \nL 53.515625 37.890625 \nL 53.515625 27.875 \nz\n\" id=\"LiberationSans-62\"/>\n      </defs>\n      <g style=\"fill:#262626;\" transform=\"translate(86.38429 53.325)rotate(-90)scale(0.1 -0.1)\">\n       <use xlink:href=\"#LiberationSans-60\"/>\n       <use x=\"58.398438\" xlink:href=\"#LiberationSans-115\"/>\n       <use x=\"108.398438\" xlink:href=\"#LiberationSans-116\"/>\n       <use x=\"136.181641\" xlink:href=\"#LiberationSans-97\"/>\n       <use x=\"191.796875\" xlink:href=\"#LiberationSans-114\"/>\n       <use x=\"225.097656\" xlink:href=\"#LiberationSans-116\"/>\n       <use x=\"252.880859\" xlink:href=\"#LiberationSans-62\"/>\n      </g>\n     </g>\n    </g>\n    <g id=\"xtick_2\">\n     <g id=\"line2d_2\"/>\n     <g id=\"text_2\">\n      <!-- Jag -->\n      <defs>\n       <path d=\"M 22.3125 -0.984375 \nQ 13.96875 -0.984375 8.609375 3.359375 \nQ 3.265625 7.71875 1.5625 17.09375 \nL 10.6875 18.609375 \nQ 11.1875 15.4375 12.296875 13.15625 \nQ 13.421875 10.890625 14.984375 9.421875 \nQ 16.546875 7.953125 18.453125 7.265625 \nQ 20.359375 6.59375 22.359375 6.59375 \nQ 27.4375 6.59375 30.359375 10.078125 \nQ 33.296875 13.578125 33.296875 20.3125 \nL 33.296875 61.1875 \nL 20.0625 61.1875 \nL 20.0625 68.796875 \nL 42.578125 68.796875 \nL 42.578125 20.515625 \nQ 42.578125 15.578125 41.203125 11.625 \nQ 39.84375 7.671875 37.234375 4.859375 \nQ 34.625 2.046875 30.859375 0.53125 \nQ 27.09375 -0.984375 22.3125 -0.984375 \nz\n\" id=\"LiberationSans-74\"/>\n       <path d=\"M 26.765625 -20.75 \nQ 22.21875 -20.75 18.703125 -19.8125 \nQ 15.1875 -18.890625 12.6875 -17.15625 \nQ 10.203125 -15.4375 8.640625 -13.03125 \nQ 7.078125 -10.640625 6.390625 -7.71875 \nL 15.234375 -6.453125 \nQ 16.109375 -10.109375 19.109375 -12.078125 \nQ 22.125 -14.0625 27 -14.0625 \nQ 29.984375 -14.0625 32.421875 -13.234375 \nQ 34.859375 -12.40625 36.5625 -10.5625 \nQ 38.28125 -8.734375 39.203125 -5.796875 \nQ 40.140625 -2.875 40.140625 1.3125 \nL 40.140625 9.8125 \nL 40.046875 9.8125 \nQ 39.0625 7.8125 37.625 5.984375 \nQ 36.1875 4.15625 34.109375 2.734375 \nQ 32.03125 1.3125 29.296875 0.453125 \nQ 26.5625 -0.390625 23.046875 -0.390625 \nQ 18.015625 -0.390625 14.421875 1.296875 \nQ 10.84375 2.984375 8.5625 6.34375 \nQ 6.296875 9.71875 5.25 14.71875 \nQ 4.203125 19.734375 4.203125 26.3125 \nQ 4.203125 32.671875 5.25 37.75 \nQ 6.296875 42.828125 8.65625 46.359375 \nQ 11.03125 49.90625 14.8125 51.78125 \nQ 18.609375 53.65625 24.03125 53.65625 \nQ 29.640625 53.65625 33.765625 51.09375 \nQ 37.890625 48.53125 40.140625 43.796875 \nL 40.234375 43.796875 \nQ 40.234375 45.015625 40.296875 46.53125 \nQ 40.375 48.046875 40.453125 49.390625 \nQ 40.53125 50.734375 40.625 51.703125 \nQ 40.71875 52.6875 40.828125 52.828125 \nL 49.171875 52.828125 \nQ 49.125 52.390625 49.078125 51.34375 \nQ 49.03125 50.296875 48.96875 48.828125 \nQ 48.921875 47.359375 48.890625 45.578125 \nQ 48.875 43.796875 48.875 41.890625 \nL 48.875 1.515625 \nQ 48.875 -9.578125 43.421875 -15.15625 \nQ 37.984375 -20.75 26.765625 -20.75 \nz\nM 40.140625 26.421875 \nQ 40.140625 31.9375 38.9375 35.859375 \nQ 37.75 39.796875 35.796875 42.28125 \nQ 33.84375 44.78125 31.328125 45.953125 \nQ 28.8125 47.125 26.171875 47.125 \nQ 22.796875 47.125 20.375 45.953125 \nQ 17.96875 44.78125 16.375 42.265625 \nQ 14.796875 39.75 14.03125 35.8125 \nQ 13.28125 31.890625 13.28125 26.421875 \nQ 13.28125 20.703125 14.03125 16.8125 \nQ 14.796875 12.9375 16.359375 10.546875 \nQ 17.921875 8.15625 20.3125 7.125 \nQ 22.703125 6.109375 26.03125 6.109375 \nQ 28.65625 6.109375 31.171875 7.21875 \nQ 33.6875 8.34375 35.6875 10.78125 \nQ 37.703125 13.234375 38.921875 17.09375 \nQ 40.140625 20.953125 40.140625 26.421875 \nz\n\" id=\"LiberationSans-103\"/>\n      </defs>\n      <g style=\"fill:#262626;\" transform=\"translate(118.849744 53.325)rotate(-90)scale(0.1 -0.1)\">\n       <use xlink:href=\"#LiberationSans-74\"/>\n       <use x=\"50\" xlink:href=\"#LiberationSans-97\"/>\n       <use x=\"105.615234\" xlink:href=\"#LiberationSans-103\"/>\n      </g>\n     </g>\n    </g>\n    <g id=\"xtick_3\">\n     <g id=\"line2d_3\"/>\n     <g id=\"text_3\">\n      <!-- välkomnar -->\n      <defs>\n       <path d=\"M 29.9375 0 \nL 19.53125 0 \nL 0.34375 52.828125 \nL 9.71875 52.828125 \nL 21.34375 18.453125 \nQ 21.6875 17.390625 22.140625 15.84375 \nQ 22.609375 14.3125 23.09375 12.640625 \nQ 23.578125 10.984375 24 9.4375 \nQ 24.421875 7.90625 24.703125 6.890625 \nQ 25 7.90625 25.453125 9.4375 \nQ 25.921875 10.984375 26.40625 12.59375 \nQ 26.90625 14.203125 27.421875 15.734375 \nQ 27.9375 17.28125 28.328125 18.359375 \nL 40.328125 52.828125 \nL 49.65625 52.828125 \nz\n\" id=\"LiberationSans-118\"/>\n       <path d=\"M 20.21875 -0.984375 \nQ 12.25 -0.984375 8.25 3.21875 \nQ 4.25 7.421875 4.25 14.75 \nQ 4.25 19.96875 6.21875 23.3125 \nQ 8.203125 26.65625 11.390625 28.5625 \nQ 14.59375 30.46875 18.6875 31.203125 \nQ 22.796875 31.9375 27.046875 32.03125 \nL 38.921875 32.234375 \nL 38.921875 35.109375 \nQ 38.921875 38.375 38.234375 40.671875 \nQ 37.546875 42.96875 36.125 44.375 \nQ 34.71875 45.796875 32.59375 46.453125 \nQ 30.46875 47.125 27.59375 47.125 \nQ 25.046875 47.125 23 46.75 \nQ 20.953125 46.390625 19.4375 45.4375 \nQ 17.921875 44.484375 16.984375 42.84375 \nQ 16.0625 41.21875 15.765625 38.71875 \nL 6.59375 39.546875 \nQ 7.078125 42.671875 8.4375 45.28125 \nQ 9.8125 47.90625 12.328125 49.796875 \nQ 14.84375 51.703125 18.625 52.75 \nQ 22.40625 53.8125 27.78125 53.8125 \nQ 37.75 53.8125 42.765625 49.234375 \nQ 47.796875 44.671875 47.796875 36.03125 \nL 47.796875 13.28125 \nQ 47.796875 9.375 48.828125 7.390625 \nQ 49.859375 5.421875 52.734375 5.421875 \nQ 53.46875 5.421875 54.203125 5.515625 \nQ 54.9375 5.609375 55.609375 5.765625 \nL 55.609375 0.296875 \nQ 53.953125 -0.09375 52.3125 -0.28125 \nQ 50.6875 -0.484375 48.828125 -0.484375 \nQ 46.34375 -0.484375 44.5625 0.171875 \nQ 42.78125 0.828125 41.65625 2.171875 \nQ 40.53125 3.515625 39.9375 5.484375 \nQ 39.359375 7.46875 39.203125 10.109375 \nL 38.921875 10.109375 \nQ 37.5 7.5625 35.8125 5.515625 \nQ 34.125 3.46875 31.875 2.03125 \nQ 29.640625 0.59375 26.78125 -0.1875 \nQ 23.921875 -0.984375 20.21875 -0.984375 \nz\nM 22.21875 5.609375 \nQ 26.421875 5.609375 29.5625 7.140625 \nQ 32.71875 8.6875 34.78125 11.078125 \nQ 36.859375 13.484375 37.890625 16.3125 \nQ 38.921875 19.140625 38.921875 21.734375 \nL 38.921875 26.078125 \nL 29.296875 25.875 \nQ 26.078125 25.828125 23.171875 25.40625 \nQ 20.265625 25 18.0625 23.78125 \nQ 15.875 22.5625 14.578125 20.359375 \nQ 13.28125 18.171875 13.28125 14.59375 \nQ 13.28125 10.296875 15.59375 7.953125 \nQ 17.921875 5.609375 22.21875 5.609375 \nz\nM 32.9375 59.515625 \nL 32.9375 68.5 \nL 40.890625 68.5 \nL 40.890625 59.515625 \nz\nM 13.703125 59.515625 \nL 13.703125 68.5 \nL 21.75 68.5 \nL 21.75 59.515625 \nz\n\" id=\"LiberationSans-228\"/>\n       <path d=\"M 6.734375 0 \nL 6.734375 72.46875 \nL 15.53125 72.46875 \nL 15.53125 0 \nz\n\" id=\"LiberationSans-108\"/>\n       <path d=\"M 39.84375 0 \nL 21.96875 24.125 \nL 15.53125 18.796875 \nL 15.53125 0 \nL 6.734375 0 \nL 6.734375 72.46875 \nL 15.53125 72.46875 \nL 15.53125 27.203125 \nL 38.71875 52.828125 \nL 49.03125 52.828125 \nL 27.59375 30.125 \nL 50.140625 0 \nz\n\" id=\"LiberationSans-107\"/>\n       <path d=\"M 51.421875 26.46875 \nQ 51.421875 12.59375 45.3125 5.796875 \nQ 39.203125 -0.984375 27.59375 -0.984375 \nQ 22.078125 -0.984375 17.71875 0.671875 \nQ 13.375 2.34375 10.375 5.765625 \nQ 7.375 9.1875 5.78125 14.328125 \nQ 4.203125 19.484375 4.203125 26.46875 \nQ 4.203125 53.8125 27.875 53.8125 \nQ 34.03125 53.8125 38.5 52.09375 \nQ 42.96875 50.390625 45.828125 46.96875 \nQ 48.6875 43.5625 50.046875 38.421875 \nQ 51.421875 33.296875 51.421875 26.46875 \nz\nM 42.1875 26.46875 \nQ 42.1875 32.625 41.234375 36.625 \nQ 40.28125 40.625 38.453125 43.015625 \nQ 36.625 45.40625 33.984375 46.359375 \nQ 31.34375 47.3125 28.03125 47.3125 \nQ 24.65625 47.3125 21.9375 46.3125 \nQ 19.234375 45.3125 17.328125 42.890625 \nQ 15.4375 40.484375 14.421875 36.46875 \nQ 13.421875 32.46875 13.421875 26.46875 \nQ 13.421875 20.3125 14.5 16.28125 \nQ 15.578125 12.25 17.453125 9.859375 \nQ 19.34375 7.46875 21.90625 6.484375 \nQ 24.46875 5.515625 27.484375 5.515625 \nQ 30.859375 5.515625 33.59375 6.46875 \nQ 36.328125 7.421875 38.234375 9.8125 \nQ 40.140625 12.203125 41.15625 16.25 \nQ 42.1875 20.3125 42.1875 26.46875 \nz\n\" id=\"LiberationSans-111\"/>\n       <path d=\"M 37.5 0 \nL 37.5 33.5 \nQ 37.5 37.359375 37.015625 39.9375 \nQ 36.53125 42.53125 35.375 44.109375 \nQ 34.234375 45.703125 32.375 46.359375 \nQ 30.515625 47.015625 27.828125 47.015625 \nQ 25.046875 47.015625 22.796875 45.921875 \nQ 20.5625 44.828125 18.96875 42.75 \nQ 17.390625 40.671875 16.53125 37.625 \nQ 15.671875 34.578125 15.671875 30.609375 \nL 15.671875 0 \nL 6.9375 0 \nL 6.9375 41.546875 \nQ 6.9375 43.21875 6.90625 45.046875 \nQ 6.890625 46.875 6.828125 48.5 \nQ 6.78125 50.140625 6.734375 51.3125 \nQ 6.6875 52.484375 6.640625 52.828125 \nL 14.9375 52.828125 \nQ 14.984375 52.59375 15.03125 51.515625 \nQ 15.09375 50.4375 15.15625 49.046875 \nQ 15.234375 47.65625 15.28125 46.21875 \nQ 15.328125 44.78125 15.328125 43.796875 \nL 15.484375 43.796875 \nQ 16.65625 46.09375 18.015625 47.953125 \nQ 19.390625 49.8125 21.21875 51.09375 \nQ 23.046875 52.390625 25.40625 53.09375 \nQ 27.78125 53.8125 30.90625 53.8125 \nQ 36.921875 53.8125 40.40625 51.421875 \nQ 43.890625 49.03125 45.265625 43.796875 \nL 45.40625 43.796875 \nQ 46.578125 46.09375 48.046875 47.953125 \nQ 49.515625 49.8125 51.46875 51.09375 \nQ 53.421875 52.390625 55.859375 53.09375 \nQ 58.296875 53.8125 61.421875 53.8125 \nQ 65.4375 53.8125 68.328125 52.734375 \nQ 71.234375 51.65625 73.09375 49.40625 \nQ 74.953125 47.171875 75.828125 43.625 \nQ 76.703125 40.09375 76.703125 35.203125 \nL 76.703125 0 \nL 68.015625 0 \nL 68.015625 33.5 \nQ 68.015625 37.359375 67.53125 39.9375 \nQ 67.046875 42.53125 65.890625 44.109375 \nQ 64.75 45.703125 62.890625 46.359375 \nQ 61.03125 47.015625 58.34375 47.015625 \nQ 55.5625 47.015625 53.3125 45.96875 \nQ 51.078125 44.921875 49.484375 42.875 \nQ 47.90625 40.828125 47.046875 37.75 \nQ 46.1875 34.671875 46.1875 30.609375 \nL 46.1875 0 \nz\n\" id=\"LiberationSans-109\"/>\n       <path d=\"M 40.28125 0 \nL 40.28125 33.5 \nQ 40.28125 37.359375 39.71875 39.9375 \nQ 39.15625 42.53125 37.890625 44.109375 \nQ 36.625 45.703125 34.546875 46.359375 \nQ 32.46875 47.015625 29.390625 47.015625 \nQ 26.265625 47.015625 23.75 45.921875 \nQ 21.234375 44.828125 19.453125 42.75 \nQ 17.671875 40.671875 16.6875 37.625 \nQ 15.71875 34.578125 15.71875 30.609375 \nL 15.71875 0 \nL 6.9375 0 \nL 6.9375 41.546875 \nQ 6.9375 43.21875 6.90625 45.046875 \nQ 6.890625 46.875 6.828125 48.5 \nQ 6.78125 50.140625 6.734375 51.3125 \nQ 6.6875 52.484375 6.640625 52.828125 \nL 14.9375 52.828125 \nQ 14.984375 52.59375 15.03125 51.515625 \nQ 15.09375 50.4375 15.15625 49.046875 \nQ 15.234375 47.65625 15.28125 46.21875 \nQ 15.328125 44.78125 15.328125 43.796875 \nL 15.484375 43.796875 \nQ 16.75 46.09375 18.265625 47.953125 \nQ 19.78125 49.8125 21.78125 51.09375 \nQ 23.78125 52.390625 26.359375 53.09375 \nQ 28.953125 53.8125 32.375 53.8125 \nQ 36.765625 53.8125 39.9375 52.734375 \nQ 43.109375 51.65625 45.15625 49.40625 \nQ 47.21875 47.171875 48.171875 43.625 \nQ 49.125 40.09375 49.125 35.203125 \nL 49.125 0 \nz\n\" id=\"LiberationSans-110\"/>\n      </defs>\n      <g style=\"fill:#262626;\" transform=\"translate(151.315199 53.325)rotate(-90)scale(0.1 -0.1)\">\n       <use xlink:href=\"#LiberationSans-118\"/>\n       <use x=\"50\" xlink:href=\"#LiberationSans-228\"/>\n       <use x=\"105.615234\" xlink:href=\"#LiberationSans-108\"/>\n       <use x=\"127.832031\" xlink:href=\"#LiberationSans-107\"/>\n       <use x=\"177.832031\" xlink:href=\"#LiberationSans-111\"/>\n       <use x=\"233.447266\" xlink:href=\"#LiberationSans-109\"/>\n       <use x=\"316.748047\" xlink:href=\"#LiberationSans-110\"/>\n       <use x=\"372.363281\" xlink:href=\"#LiberationSans-97\"/>\n       <use x=\"427.978516\" xlink:href=\"#LiberationSans-114\"/>\n      </g>\n     </g>\n    </g>\n    <g id=\"xtick_4\">\n     <g id=\"line2d_4\"/>\n     <g id=\"text_4\">\n      <!-- dessa -->\n      <defs>\n       <path d=\"M 40.09375 8.5 \nQ 37.640625 3.421875 33.609375 1.21875 \nQ 29.59375 -0.984375 23.640625 -0.984375 \nQ 13.625 -0.984375 8.90625 5.75 \nQ 4.203125 12.5 4.203125 26.171875 \nQ 4.203125 53.8125 23.640625 53.8125 \nQ 29.640625 53.8125 33.640625 51.609375 \nQ 37.640625 49.421875 40.09375 44.625 \nL 40.1875 44.625 \nQ 40.1875 45.125 40.15625 46.171875 \nQ 40.140625 47.21875 40.109375 48.359375 \nQ 40.09375 49.515625 40.09375 50.53125 \nQ 40.09375 51.5625 40.09375 52 \nL 40.09375 72.46875 \nL 48.875 72.46875 \nL 48.875 10.890625 \nQ 48.875 8.984375 48.890625 7.21875 \nQ 48.921875 5.46875 48.96875 4 \nQ 49.03125 2.546875 49.078125 1.484375 \nQ 49.125 0.4375 49.171875 0 \nL 40.765625 0 \nQ 40.671875 0.484375 40.59375 1.390625 \nQ 40.53125 2.296875 40.453125 3.46875 \nQ 40.375 4.640625 40.328125 5.9375 \nQ 40.28125 7.234375 40.28125 8.5 \nz\nM 13.421875 26.46875 \nQ 13.421875 21 14.109375 17.09375 \nQ 14.796875 13.1875 16.3125 10.671875 \nQ 17.828125 8.15625 20.171875 6.984375 \nQ 22.515625 5.8125 25.875 5.8125 \nQ 29.34375 5.8125 32 6.9375 \nQ 34.671875 8.0625 36.453125 10.578125 \nQ 38.234375 13.09375 39.15625 17.140625 \nQ 40.09375 21.1875 40.09375 27.046875 \nQ 40.09375 32.671875 39.15625 36.546875 \nQ 38.234375 40.4375 36.421875 42.828125 \nQ 34.625 45.21875 32 46.265625 \nQ 29.390625 47.3125 25.984375 47.3125 \nQ 22.75 47.3125 20.40625 46.1875 \nQ 18.0625 45.0625 16.5 42.578125 \nQ 14.9375 40.09375 14.171875 36.109375 \nQ 13.421875 32.125 13.421875 26.46875 \nz\n\" id=\"LiberationSans-100\"/>\n       <path d=\"M 13.484375 24.5625 \nQ 13.484375 20.40625 14.328125 16.90625 \nQ 15.1875 13.421875 16.96875 10.90625 \nQ 18.75 8.40625 21.53125 7 \nQ 24.3125 5.609375 28.21875 5.609375 \nQ 33.9375 5.609375 37.375 7.90625 \nQ 40.828125 10.203125 42.046875 13.71875 \nL 49.75 11.53125 \nQ 48.921875 9.328125 47.4375 7.109375 \nQ 45.953125 4.890625 43.453125 3.09375 \nQ 40.96875 1.3125 37.234375 0.15625 \nQ 33.5 -0.984375 28.21875 -0.984375 \nQ 16.5 -0.984375 10.375 6 \nQ 4.25 12.984375 4.25 26.765625 \nQ 4.25 34.1875 6.09375 39.328125 \nQ 7.953125 44.484375 11.171875 47.703125 \nQ 14.40625 50.921875 18.703125 52.359375 \nQ 23 53.8125 27.875 53.8125 \nQ 34.515625 53.8125 38.984375 51.65625 \nQ 43.453125 49.515625 46.15625 45.71875 \nQ 48.875 41.9375 50.015625 36.8125 \nQ 51.171875 31.6875 51.171875 25.734375 \nL 51.171875 24.5625 \nz\nM 42.09375 31.296875 \nQ 41.359375 39.65625 37.84375 43.484375 \nQ 34.328125 47.3125 27.734375 47.3125 \nQ 25.53125 47.3125 23.109375 46.609375 \nQ 20.703125 45.90625 18.65625 44.09375 \nQ 16.609375 42.28125 15.1875 39.171875 \nQ 13.765625 36.078125 13.578125 31.296875 \nz\n\" id=\"LiberationSans-101\"/>\n      </defs>\n      <g style=\"fill:#262626;\" transform=\"translate(183.780653 53.325)rotate(-90)scale(0.1 -0.1)\">\n       <use xlink:href=\"#LiberationSans-100\"/>\n       <use x=\"55.615234\" xlink:href=\"#LiberationSans-101\"/>\n       <use x=\"111.230469\" xlink:href=\"#LiberationSans-115\"/>\n       <use x=\"161.230469\" xlink:href=\"#LiberationSans-115\"/>\n       <use x=\"211.230469\" xlink:href=\"#LiberationSans-97\"/>\n      </g>\n     </g>\n    </g>\n    <g id=\"xtick_5\">\n     <g id=\"line2d_5\"/>\n     <g id=\"text_5\">\n      <!-- förslag -->\n      <defs>\n       <path d=\"M 17.625 46.4375 \nL 17.625 0 \nL 8.84375 0 \nL 8.84375 46.4375 \nL 1.421875 46.4375 \nL 1.421875 52.828125 \nL 8.84375 52.828125 \nL 8.84375 58.796875 \nQ 8.84375 61.671875 9.375 64.140625 \nQ 9.90625 66.609375 11.34375 68.4375 \nQ 12.796875 70.265625 15.28125 71.3125 \nQ 17.78125 72.359375 21.734375 72.359375 \nQ 23.296875 72.359375 24.96875 72.21875 \nQ 26.65625 72.078125 27.9375 71.78125 \nL 27.9375 65.09375 \nQ 27.09375 65.234375 26 65.359375 \nQ 24.90625 65.484375 24.03125 65.484375 \nQ 22.078125 65.484375 20.828125 64.9375 \nQ 19.578125 64.40625 18.875 63.40625 \nQ 18.171875 62.40625 17.890625 60.9375 \nQ 17.625 59.46875 17.625 57.5625 \nL 17.625 52.828125 \nL 27.9375 52.828125 \nL 27.9375 46.4375 \nz\n\" id=\"LiberationSans-102\"/>\n       <path d=\"M 51.421875 26.46875 \nQ 51.421875 12.59375 45.3125 5.796875 \nQ 39.203125 -0.984375 27.59375 -0.984375 \nQ 22.078125 -0.984375 17.71875 0.671875 \nQ 13.375 2.34375 10.375 5.765625 \nQ 7.375 9.1875 5.78125 14.328125 \nQ 4.203125 19.484375 4.203125 26.46875 \nQ 4.203125 53.8125 27.875 53.8125 \nQ 34.03125 53.8125 38.5 52.09375 \nQ 42.96875 50.390625 45.828125 46.96875 \nQ 48.6875 43.5625 50.046875 38.421875 \nQ 51.421875 33.296875 51.421875 26.46875 \nz\nM 42.1875 26.46875 \nQ 42.1875 32.625 41.234375 36.625 \nQ 40.28125 40.625 38.453125 43.015625 \nQ 36.625 45.40625 33.984375 46.359375 \nQ 31.34375 47.3125 28.03125 47.3125 \nQ 24.65625 47.3125 21.9375 46.3125 \nQ 19.234375 45.3125 17.328125 42.890625 \nQ 15.4375 40.484375 14.421875 36.46875 \nQ 13.421875 32.46875 13.421875 26.46875 \nQ 13.421875 20.3125 14.5 16.28125 \nQ 15.578125 12.25 17.453125 9.859375 \nQ 19.34375 7.46875 21.90625 6.484375 \nQ 24.46875 5.515625 27.484375 5.515625 \nQ 30.859375 5.515625 33.59375 6.46875 \nQ 36.328125 7.421875 38.234375 9.8125 \nQ 40.140625 12.203125 41.15625 16.25 \nQ 42.1875 20.3125 42.1875 26.46875 \nz\nM 33.6875 59.515625 \nL 33.6875 68.5 \nL 41.640625 68.5 \nL 41.640625 59.515625 \nz\nM 14.453125 59.515625 \nL 14.453125 68.5 \nL 22.5 68.5 \nL 22.5 59.515625 \nz\n\" id=\"LiberationSans-246\"/>\n      </defs>\n      <g style=\"fill:#262626;\" transform=\"translate(216.246108 53.325)rotate(-90)scale(0.1 -0.1)\">\n       <use xlink:href=\"#LiberationSans-102\"/>\n       <use x=\"27.783203\" xlink:href=\"#LiberationSans-246\"/>\n       <use x=\"83.398438\" xlink:href=\"#LiberationSans-114\"/>\n       <use x=\"116.699219\" xlink:href=\"#LiberationSans-115\"/>\n       <use x=\"166.699219\" xlink:href=\"#LiberationSans-108\"/>\n       <use x=\"188.916016\" xlink:href=\"#LiberationSans-97\"/>\n       <use x=\"244.53125\" xlink:href=\"#LiberationSans-103\"/>\n      </g>\n     </g>\n    </g>\n    <g id=\"xtick_6\">\n     <g id=\"line2d_6\"/>\n     <g id=\"text_6\">\n      <!-- med -->\n      <g style=\"fill:#262626;\" transform=\"translate(248.711563 53.325)rotate(-90)scale(0.1 -0.1)\">\n       <use xlink:href=\"#LiberationSans-109\"/>\n       <use x=\"83.300781\" xlink:href=\"#LiberationSans-101\"/>\n       <use x=\"138.916016\" xlink:href=\"#LiberationSans-100\"/>\n      </g>\n     </g>\n    </g>\n    <g id=\"xtick_7\">\n     <g id=\"line2d_7\"/>\n     <g id=\"text_7\">\n      <!-- öppna -->\n      <defs>\n       <path d=\"M 51.421875 26.65625 \nQ 51.421875 20.65625 50.4375 15.578125 \nQ 49.46875 10.5 47.1875 6.828125 \nQ 44.921875 3.171875 41.1875 1.09375 \nQ 37.453125 -0.984375 31.984375 -0.984375 \nQ 26.3125 -0.984375 22.0625 1.171875 \nQ 17.828125 3.328125 15.578125 8.203125 \nL 15.328125 8.203125 \nQ 15.375 8.109375 15.40625 7.328125 \nQ 15.4375 6.546875 15.453125 5.375 \nQ 15.484375 4.203125 15.5 2.75 \nQ 15.53125 1.3125 15.53125 -0.09375 \nL 15.53125 -20.75 \nL 6.734375 -20.75 \nL 6.734375 42.046875 \nQ 6.734375 43.953125 6.703125 45.703125 \nQ 6.6875 47.46875 6.640625 48.90625 \nQ 6.59375 50.34375 6.546875 51.359375 \nQ 6.5 52.390625 6.453125 52.828125 \nL 14.9375 52.828125 \nQ 14.984375 52.6875 15.0625 51.796875 \nQ 15.140625 50.921875 15.203125 49.671875 \nQ 15.28125 48.4375 15.359375 47.015625 \nQ 15.4375 45.609375 15.4375 44.34375 \nL 15.625 44.34375 \nQ 16.84375 46.875 18.40625 48.65625 \nQ 19.96875 50.4375 21.96875 51.578125 \nQ 23.96875 52.734375 26.4375 53.25 \nQ 28.90625 53.765625 31.984375 53.765625 \nQ 37.453125 53.765625 41.1875 51.8125 \nQ 44.921875 49.859375 47.1875 46.3125 \nQ 49.46875 42.78125 50.4375 37.765625 \nQ 51.421875 32.765625 51.421875 26.65625 \nz\nM 42.1875 26.46875 \nQ 42.1875 31.34375 41.59375 35.15625 \nQ 41.015625 38.96875 39.578125 41.59375 \nQ 38.140625 44.234375 35.734375 45.59375 \nQ 33.34375 46.96875 29.734375 46.96875 \nQ 26.8125 46.96875 24.21875 46.140625 \nQ 21.625 45.3125 19.703125 42.96875 \nQ 17.78125 40.625 16.65625 36.5 \nQ 15.53125 32.375 15.53125 25.78125 \nQ 15.53125 20.171875 16.453125 16.28125 \nQ 17.390625 12.40625 19.171875 10.015625 \nQ 20.953125 7.625 23.578125 6.5625 \nQ 26.21875 5.515625 29.640625 5.515625 \nQ 33.296875 5.515625 35.71875 6.921875 \nQ 38.140625 8.34375 39.578125 11.03125 \nQ 41.015625 13.71875 41.59375 17.59375 \nQ 42.1875 21.484375 42.1875 26.46875 \nz\n\" id=\"LiberationSans-112\"/>\n      </defs>\n      <g style=\"fill:#262626;\" transform=\"translate(281.177017 53.325)rotate(-90)scale(0.1 -0.1)\">\n       <use xlink:href=\"#LiberationSans-246\"/>\n       <use x=\"55.615234\" xlink:href=\"#LiberationSans-112\"/>\n       <use x=\"111.230469\" xlink:href=\"#LiberationSans-112\"/>\n       <use x=\"166.845703\" xlink:href=\"#LiberationSans-110\"/>\n       <use x=\"222.460938\" xlink:href=\"#LiberationSans-97\"/>\n      </g>\n     </g>\n    </g>\n    <g id=\"xtick_8\">\n     <g id=\"line2d_8\"/>\n     <g id=\"text_8\">\n      <!-- vapen. -->\n      <defs>\n       <path d=\"M 9.125 0 \nL 9.125 10.6875 \nL 18.65625 10.6875 \nL 18.65625 0 \nz\n\" id=\"LiberationSans-46\"/>\n      </defs>\n      <g style=\"fill:#262626;\" transform=\"translate(313.642472 53.325)rotate(-90)scale(0.1 -0.1)\">\n       <use xlink:href=\"#LiberationSans-118\"/>\n       <use x=\"50\" xlink:href=\"#LiberationSans-97\"/>\n       <use x=\"105.615234\" xlink:href=\"#LiberationSans-112\"/>\n       <use x=\"161.230469\" xlink:href=\"#LiberationSans-101\"/>\n       <use x=\"216.845703\" xlink:href=\"#LiberationSans-110\"/>\n       <use x=\"272.460938\" xlink:href=\"#LiberationSans-46\"/>\n      </g>\n     </g>\n    </g>\n    <g id=\"xtick_9\">\n     <g id=\"line2d_9\"/>\n    </g>\n    <g id=\"xtick_10\">\n     <g id=\"line2d_10\"/>\n    </g>\n    <g id=\"xtick_11\">\n     <g id=\"line2d_11\"/>\n    </g>\n   </g>\n   <g id=\"matplotlib.axis_2\">\n    <g id=\"ytick_1\">\n     <g id=\"line2d_12\"/>\n     <g id=\"text_9\">\n      <!-- I -->\n      <defs>\n       <path d=\"M 9.234375 0 \nL 9.234375 68.796875 \nL 18.5625 68.796875 \nL 18.5625 0 \nz\n\" id=\"LiberationSans-73\"/>\n      </defs>\n      <g style=\"fill:#262626;\" transform=\"translate(57.7875 80.558437)scale(0.1 -0.1)\">\n       <use xlink:href=\"#LiberationSans-73\"/>\n      </g>\n     </g>\n    </g>\n    <g id=\"ytick_2\">\n     <g id=\"line2d_13\"/>\n     <g id=\"text_10\">\n      <!-- welcome -->\n      <defs>\n       <path d=\"M 57.328125 0 \nL 47.125 0 \nL 38.671875 34.078125 \nQ 38.28125 35.40625 37.859375 37.359375 \nQ 37.453125 39.3125 37.0625 41.15625 \nQ 36.578125 43.3125 36.140625 45.609375 \nQ 35.6875 43.40625 35.203125 41.265625 \nQ 34.8125 39.40625 34.34375 37.40625 \nQ 33.890625 35.40625 33.5 33.890625 \nL 24.8125 0 \nL 14.65625 0 \nL -0.140625 52.828125 \nL 8.546875 52.828125 \nL 17.484375 16.9375 \nQ 17.828125 15.828125 18.15625 14.1875 \nQ 18.5 12.546875 18.84375 10.984375 \nQ 19.1875 9.1875 19.578125 7.28125 \nQ 19.96875 9.125 20.40625 10.890625 \nQ 20.796875 12.40625 21.1875 13.96875 \nQ 21.578125 15.53125 21.875 16.546875 \nL 31.453125 52.828125 \nL 40.875 52.828125 \nL 50.09375 16.546875 \nQ 50.4375 15.28125 50.828125 13.671875 \nQ 51.21875 12.0625 51.5625 10.640625 \nQ 51.953125 8.984375 52.34375 7.28125 \nQ 52.734375 9.125 53.125 10.890625 \nQ 53.46875 12.40625 53.828125 14.03125 \nQ 54.203125 15.671875 54.546875 16.9375 \nL 63.875 52.828125 \nL 72.46875 52.828125 \nz\n\" id=\"LiberationSans-119\"/>\n       <path d=\"M 13.421875 26.65625 \nQ 13.421875 22.125 14.078125 18.3125 \nQ 14.75 14.5 16.3125 11.734375 \nQ 17.875 8.984375 20.4375 7.46875 \nQ 23 5.953125 26.765625 5.953125 \nQ 31.453125 5.953125 34.59375 8.484375 \nQ 37.75 11.03125 38.484375 16.3125 \nL 47.359375 15.71875 \nQ 46.921875 12.453125 45.453125 9.421875 \nQ 44 6.390625 41.484375 4.09375 \nQ 38.96875 1.8125 35.34375 0.40625 \nQ 31.734375 -0.984375 27 -0.984375 \nQ 20.796875 -0.984375 16.453125 1.109375 \nQ 12.109375 3.21875 9.390625 6.90625 \nQ 6.6875 10.59375 5.46875 15.59375 \nQ 4.25 20.609375 4.25 26.46875 \nQ 4.25 31.78125 5.125 35.859375 \nQ 6 39.9375 7.59375 42.984375 \nQ 9.1875 46.046875 11.328125 48.125 \nQ 13.484375 50.203125 15.984375 51.4375 \nQ 18.5 52.6875 21.28125 53.25 \nQ 24.078125 53.8125 26.90625 53.8125 \nQ 31.34375 53.8125 34.8125 52.59375 \nQ 38.28125 51.375 40.796875 49.25 \nQ 43.3125 47.125 44.875 44.234375 \nQ 46.4375 41.359375 47.078125 38.03125 \nL 38.03125 37.359375 \nQ 37.359375 41.75 34.5625 44.328125 \nQ 31.78125 46.921875 26.65625 46.921875 \nQ 22.90625 46.921875 20.390625 45.671875 \nQ 17.875 44.4375 16.3125 41.921875 \nQ 14.75 39.40625 14.078125 35.59375 \nQ 13.421875 31.78125 13.421875 26.65625 \nz\n\" id=\"LiberationSans-99\"/>\n      </defs>\n      <g style=\"fill:#262626;\" transform=\"translate(21.109375 113.778437)scale(0.1 -0.1)\">\n       <use xlink:href=\"#LiberationSans-119\"/>\n       <use x=\"72.216797\" xlink:href=\"#LiberationSans-101\"/>\n       <use x=\"127.832031\" xlink:href=\"#LiberationSans-108\"/>\n       <use x=\"150.048828\" xlink:href=\"#LiberationSans-99\"/>\n       <use x=\"200.048828\" xlink:href=\"#LiberationSans-111\"/>\n       <use x=\"255.664062\" xlink:href=\"#LiberationSans-109\"/>\n       <use x=\"338.964844\" xlink:href=\"#LiberationSans-101\"/>\n      </g>\n     </g>\n    </g>\n    <g id=\"ytick_3\">\n     <g id=\"line2d_14\"/>\n     <g id=\"text_11\">\n      <!-- these -->\n      <defs>\n       <path d=\"M 15.484375 43.796875 \nQ 16.9375 46.484375 18.640625 48.359375 \nQ 20.359375 50.25 22.40625 51.46875 \nQ 24.46875 52.6875 26.90625 53.25 \nQ 29.34375 53.8125 32.375 53.8125 \nQ 37.453125 53.8125 40.703125 52.4375 \nQ 43.953125 51.078125 45.828125 48.609375 \nQ 47.703125 46.140625 48.40625 42.71875 \nQ 49.125 39.3125 49.125 35.203125 \nL 49.125 0 \nL 40.28125 0 \nL 40.28125 33.5 \nQ 40.28125 36.859375 39.859375 39.390625 \nQ 39.453125 41.9375 38.28125 43.625 \nQ 37.109375 45.3125 34.953125 46.15625 \nQ 32.8125 47.015625 29.390625 47.015625 \nQ 26.265625 47.015625 23.75 45.890625 \nQ 21.234375 44.78125 19.453125 42.71875 \nQ 17.671875 40.671875 16.6875 37.734375 \nQ 15.71875 34.8125 15.71875 31.15625 \nL 15.71875 0 \nL 6.9375 0 \nL 6.9375 72.46875 \nL 15.71875 72.46875 \nL 15.71875 53.609375 \nQ 15.71875 52 15.671875 50.390625 \nQ 15.625 48.78125 15.546875 47.40625 \nQ 15.484375 46.046875 15.421875 45.09375 \nQ 15.375 44.140625 15.328125 43.796875 \nz\n\" id=\"LiberationSans-104\"/>\n      </defs>\n      <g style=\"fill:#262626;\" transform=\"translate(36.104687 146.998437)scale(0.1 -0.1)\">\n       <use xlink:href=\"#LiberationSans-116\"/>\n       <use x=\"27.783203\" xlink:href=\"#LiberationSans-104\"/>\n       <use x=\"83.398438\" xlink:href=\"#LiberationSans-101\"/>\n       <use x=\"139.013672\" xlink:href=\"#LiberationSans-115\"/>\n       <use x=\"189.013672\" xlink:href=\"#LiberationSans-101\"/>\n      </g>\n     </g>\n    </g>\n    <g id=\"ytick_4\">\n     <g id=\"line2d_15\"/>\n     <g id=\"text_12\">\n      <!-- suggestions -->\n      <defs>\n       <path d=\"M 15.328125 52.828125 \nL 15.328125 19.34375 \nQ 15.328125 15.484375 15.890625 12.890625 \nQ 16.453125 10.296875 17.71875 8.703125 \nQ 19 7.125 21.0625 6.46875 \nQ 23.140625 5.8125 26.21875 5.8125 \nQ 29.34375 5.8125 31.859375 6.90625 \nQ 34.375 8.015625 36.15625 10.078125 \nQ 37.9375 12.15625 38.90625 15.203125 \nQ 39.890625 18.265625 39.890625 22.21875 \nL 39.890625 52.828125 \nL 48.6875 52.828125 \nL 48.6875 11.28125 \nQ 48.6875 9.625 48.703125 7.78125 \nQ 48.734375 5.953125 48.78125 4.3125 \nQ 48.828125 2.6875 48.875 1.515625 \nQ 48.921875 0.34375 48.96875 0 \nL 40.671875 0 \nQ 40.625 0.25 40.578125 1.3125 \nQ 40.53125 2.390625 40.453125 3.78125 \nQ 40.375 5.171875 40.328125 6.609375 \nQ 40.28125 8.0625 40.28125 9.03125 \nL 40.140625 9.03125 \nQ 38.875 6.734375 37.359375 4.875 \nQ 35.84375 3.03125 33.84375 1.734375 \nQ 31.84375 0.4375 29.25 -0.265625 \nQ 26.65625 -0.984375 23.25 -0.984375 \nQ 18.84375 -0.984375 15.671875 0.09375 \nQ 12.5 1.171875 10.453125 3.421875 \nQ 8.40625 5.671875 7.453125 9.1875 \nQ 6.5 12.703125 6.5 17.625 \nL 6.5 52.828125 \nz\n\" id=\"LiberationSans-117\"/>\n       <path d=\"M 6.6875 64.0625 \nL 6.6875 72.46875 \nL 15.484375 72.46875 \nL 15.484375 64.0625 \nz\nM 6.6875 0 \nL 6.6875 52.828125 \nL 15.484375 52.828125 \nL 15.484375 0 \nz\n\" id=\"LiberationSans-105\"/>\n      </defs>\n      <g style=\"fill:#262626;\" transform=\"translate(7.2 180.218437)scale(0.1 -0.1)\">\n       <use xlink:href=\"#LiberationSans-115\"/>\n       <use x=\"50\" xlink:href=\"#LiberationSans-117\"/>\n       <use x=\"105.615234\" xlink:href=\"#LiberationSans-103\"/>\n       <use x=\"161.230469\" xlink:href=\"#LiberationSans-103\"/>\n       <use x=\"216.845703\" xlink:href=\"#LiberationSans-101\"/>\n       <use x=\"272.460938\" xlink:href=\"#LiberationSans-115\"/>\n       <use x=\"322.460938\" xlink:href=\"#LiberationSans-116\"/>\n       <use x=\"350.244141\" xlink:href=\"#LiberationSans-105\"/>\n       <use x=\"372.460938\" xlink:href=\"#LiberationSans-111\"/>\n       <use x=\"428.076172\" xlink:href=\"#LiberationSans-110\"/>\n       <use x=\"483.691406\" xlink:href=\"#LiberationSans-115\"/>\n      </g>\n     </g>\n    </g>\n    <g id=\"ytick_5\">\n     <g id=\"line2d_16\"/>\n     <g id=\"text_13\">\n      <!-- with -->\n      <g style=\"fill:#262626;\" transform=\"translate(42.782812 213.438437)scale(0.1 -0.1)\">\n       <use xlink:href=\"#LiberationSans-119\"/>\n       <use x=\"72.216797\" xlink:href=\"#LiberationSans-105\"/>\n       <use x=\"94.433594\" xlink:href=\"#LiberationSans-116\"/>\n       <use x=\"122.216797\" xlink:href=\"#LiberationSans-104\"/>\n      </g>\n     </g>\n    </g>\n    <g id=\"ytick_6\">\n     <g id=\"line2d_17\"/>\n     <g id=\"text_14\">\n      <!-- open -->\n      <g style=\"fill:#262626;\" transform=\"translate(38.321875 246.658437)scale(0.1 -0.1)\">\n       <use xlink:href=\"#LiberationSans-111\"/>\n       <use x=\"55.615234\" xlink:href=\"#LiberationSans-112\"/>\n       <use x=\"111.230469\" xlink:href=\"#LiberationSans-101\"/>\n       <use x=\"166.845703\" xlink:href=\"#LiberationSans-110\"/>\n      </g>\n     </g>\n    </g>\n    <g id=\"ytick_7\">\n     <g id=\"line2d_18\"/>\n     <g id=\"text_15\">\n      <!-- arms. -->\n      <g style=\"fill:#262626;\" transform=\"translate(35.567187 279.878437)scale(0.1 -0.1)\">\n       <use xlink:href=\"#LiberationSans-97\"/>\n       <use x=\"55.615234\" xlink:href=\"#LiberationSans-114\"/>\n       <use x=\"88.916016\" xlink:href=\"#LiberationSans-109\"/>\n       <use x=\"172.216797\" xlink:href=\"#LiberationSans-115\"/>\n       <use x=\"222.216797\" xlink:href=\"#LiberationSans-46\"/>\n      </g>\n     </g>\n    </g>\n    <g id=\"ytick_8\">\n     <g id=\"line2d_19\"/>\n    </g>\n    <g id=\"ytick_9\">\n     <g id=\"line2d_20\"/>\n    </g>\n   </g>\n   <g id=\"PolyCollection_1\">\n    <path clip-path=\"url(#pc043154320)\" d=\"M 67.565625 60.325 \nL 67.565625 93.545 \nL 100.03108 93.545 \nL 100.03108 60.325 \nL 67.565625 60.325 \nz\n\" style=\"fill:#084688;\"/>\n    <path clip-path=\"url(#pc043154320)\" d=\"M 100.03108 60.325 \nL 100.03108 93.545 \nL 132.496534 93.545 \nL 132.496534 60.325 \nL 100.03108 60.325 \nz\n\" style=\"fill:#92d5bc;\"/>\n    <path clip-path=\"url(#pc043154320)\" d=\"M 132.496534 60.325 \nL 132.496534 93.545 \nL 164.961989 93.545 \nL 164.961989 60.325 \nL 132.496534 60.325 \nz\n\" style=\"fill:#0862a5;\"/>\n    <path clip-path=\"url(#pc043154320)\" d=\"M 164.961989 60.325 \nL 164.961989 93.545 \nL 197.427443 93.545 \nL 197.427443 60.325 \nL 164.961989 60.325 \nz\n\" style=\"fill:#0f6faf;\"/>\n    <path clip-path=\"url(#pc043154320)\" d=\"M 197.427443 60.325 \nL 197.427443 93.545 \nL 229.892898 93.545 \nL 229.892898 60.325 \nL 197.427443 60.325 \nz\n\" style=\"fill:#084a8c;\"/>\n    <path clip-path=\"url(#pc043154320)\" d=\"M 229.892898 60.325 \nL 229.892898 93.545 \nL 262.358352 93.545 \nL 262.358352 60.325 \nL 229.892898 60.325 \nz\n\" style=\"fill:#085093;\"/>\n    <path clip-path=\"url(#pc043154320)\" d=\"M 262.358352 60.325 \nL 262.358352 93.545 \nL 294.823807 93.545 \nL 294.823807 60.325 \nL 262.358352 60.325 \nz\n\" style=\"fill:#084586;\"/>\n    <path clip-path=\"url(#pc043154320)\" d=\"M 294.823807 60.325 \nL 294.823807 93.545 \nL 327.289261 93.545 \nL 327.289261 60.325 \nL 294.823807 60.325 \nz\n\" style=\"fill:#084485;\"/>\n    <path clip-path=\"url(#pc043154320)\" d=\"M 327.289261 60.325 \nL 327.289261 93.545 \nL 359.754716 93.545 \nL 359.754716 60.325 \nL 327.289261 60.325 \nz\n\" style=\"fill:#084081;\"/>\n    <path clip-path=\"url(#pc043154320)\" d=\"M 359.754716 60.325 \nL 359.754716 93.545 \nL 392.22017 93.545 \nL 392.22017 60.325 \nL 359.754716 60.325 \nz\n\" style=\"fill:#084688;\"/>\n    <path clip-path=\"url(#pc043154320)\" d=\"M 392.22017 60.325 \nL 392.22017 93.545 \nL 424.685625 93.545 \nL 424.685625 60.325 \nL 392.22017 60.325 \nz\n\" style=\"fill:#084688;\"/>\n    <path clip-path=\"url(#pc043154320)\" d=\"M 67.565625 93.545 \nL 67.565625 126.765 \nL 100.03108 126.765 \nL 100.03108 93.545 \nL 67.565625 93.545 \nz\n\" style=\"fill:#084081;\"/>\n    <path clip-path=\"url(#pc043154320)\" d=\"M 100.03108 93.545 \nL 100.03108 126.765 \nL 132.496534 126.765 \nL 132.496534 93.545 \nL 100.03108 93.545 \nz\n\" style=\"fill:#084081;\"/>\n    <path clip-path=\"url(#pc043154320)\" d=\"M 132.496534 93.545 \nL 132.496534 126.765 \nL 164.961989 126.765 \nL 164.961989 93.545 \nL 132.496534 93.545 \nz\n\" style=\"fill:#f7fcf0;\"/>\n    <path clip-path=\"url(#pc043154320)\" d=\"M 164.961989 93.545 \nL 164.961989 126.765 \nL 197.427443 126.765 \nL 197.427443 93.545 \nL 164.961989 93.545 \nz\n\" style=\"fill:#084081;\"/>\n    <path clip-path=\"url(#pc043154320)\" d=\"M 197.427443 93.545 \nL 197.427443 126.765 \nL 229.892898 126.765 \nL 229.892898 93.545 \nL 197.427443 93.545 \nz\n\" style=\"fill:#084081;\"/>\n    <path clip-path=\"url(#pc043154320)\" d=\"M 229.892898 93.545 \nL 229.892898 126.765 \nL 262.358352 126.765 \nL 262.358352 93.545 \nL 229.892898 93.545 \nz\n\" style=\"fill:#084081;\"/>\n    <path clip-path=\"url(#pc043154320)\" d=\"M 262.358352 93.545 \nL 262.358352 126.765 \nL 294.823807 126.765 \nL 294.823807 93.545 \nL 262.358352 93.545 \nz\n\" style=\"fill:#084081;\"/>\n    <path clip-path=\"url(#pc043154320)\" d=\"M 294.823807 93.545 \nL 294.823807 126.765 \nL 327.289261 126.765 \nL 327.289261 93.545 \nL 294.823807 93.545 \nz\n\" style=\"fill:#084081;\"/>\n    <path clip-path=\"url(#pc043154320)\" d=\"M 327.289261 93.545 \nL 327.289261 126.765 \nL 359.754716 126.765 \nL 359.754716 93.545 \nL 327.289261 93.545 \nz\n\" style=\"fill:#084081;\"/>\n    <path clip-path=\"url(#pc043154320)\" d=\"M 359.754716 93.545 \nL 359.754716 126.765 \nL 392.22017 126.765 \nL 392.22017 93.545 \nL 359.754716 93.545 \nz\n\" style=\"fill:#084081;\"/>\n    <path clip-path=\"url(#pc043154320)\" d=\"M 392.22017 93.545 \nL 392.22017 126.765 \nL 424.685625 126.765 \nL 424.685625 93.545 \nL 392.22017 93.545 \nz\n\" style=\"fill:#084081;\"/>\n    <path clip-path=\"url(#pc043154320)\" d=\"M 67.565625 126.765 \nL 67.565625 159.985 \nL 100.03108 159.985 \nL 100.03108 126.765 \nL 67.565625 126.765 \nz\n\" style=\"fill:#08498a;\"/>\n    <path clip-path=\"url(#pc043154320)\" d=\"M 100.03108 126.765 \nL 100.03108 159.985 \nL 132.496534 159.985 \nL 132.496534 126.765 \nL 100.03108 126.765 \nz\n\" style=\"fill:#084586;\"/>\n    <path clip-path=\"url(#pc043154320)\" d=\"M 132.496534 126.765 \nL 132.496534 159.985 \nL 164.961989 159.985 \nL 164.961989 126.765 \nL 132.496534 126.765 \nz\n\" style=\"fill:#084889;\"/>\n    <path clip-path=\"url(#pc043154320)\" d=\"M 164.961989 126.765 \nL 164.961989 159.985 \nL 197.427443 159.985 \nL 197.427443 126.765 \nL 164.961989 126.765 \nz\n\" style=\"fill:#0b6cae;\"/>\n    <path clip-path=\"url(#pc043154320)\" d=\"M 197.427443 126.765 \nL 197.427443 159.985 \nL 229.892898 159.985 \nL 229.892898 126.765 \nL 197.427443 126.765 \nz\n\" style=\"fill:#a2dbb7;\"/>\n    <path clip-path=\"url(#pc043154320)\" d=\"M 229.892898 126.765 \nL 229.892898 159.985 \nL 262.358352 159.985 \nL 262.358352 126.765 \nL 229.892898 126.765 \nz\n\" style=\"fill:#085ea1;\"/>\n    <path clip-path=\"url(#pc043154320)\" d=\"M 262.358352 126.765 \nL 262.358352 159.985 \nL 294.823807 159.985 \nL 294.823807 126.765 \nL 262.358352 126.765 \nz\n\" style=\"fill:#084d8e;\"/>\n    <path clip-path=\"url(#pc043154320)\" d=\"M 294.823807 126.765 \nL 294.823807 159.985 \nL 327.289261 159.985 \nL 327.289261 126.765 \nL 294.823807 126.765 \nz\n\" style=\"fill:#084a8c;\"/>\n    <path clip-path=\"url(#pc043154320)\" d=\"M 327.289261 126.765 \nL 327.289261 159.985 \nL 359.754716 159.985 \nL 359.754716 126.765 \nL 327.289261 126.765 \nz\n\" style=\"fill:#084081;\"/>\n    <path clip-path=\"url(#pc043154320)\" d=\"M 359.754716 126.765 \nL 359.754716 159.985 \nL 392.22017 159.985 \nL 392.22017 126.765 \nL 359.754716 126.765 \nz\n\" style=\"fill:#084182;\"/>\n    <path clip-path=\"url(#pc043154320)\" d=\"M 392.22017 126.765 \nL 392.22017 159.985 \nL 424.685625 159.985 \nL 424.685625 126.765 \nL 392.22017 126.765 \nz\n\" style=\"fill:#084688;\"/>\n    <path clip-path=\"url(#pc043154320)\" d=\"M 67.565625 159.985 \nL 67.565625 193.205 \nL 100.03108 193.205 \nL 100.03108 159.985 \nL 67.565625 159.985 \nz\n\" style=\"fill:#084081;\"/>\n    <path clip-path=\"url(#pc043154320)\" d=\"M 100.03108 159.985 \nL 100.03108 193.205 \nL 132.496534 193.205 \nL 132.496534 159.985 \nL 100.03108 159.985 \nz\n\" style=\"fill:#084081;\"/>\n    <path clip-path=\"url(#pc043154320)\" d=\"M 132.496534 159.985 \nL 132.496534 193.205 \nL 164.961989 193.205 \nL 164.961989 159.985 \nL 132.496534 159.985 \nz\n\" style=\"fill:#084081;\"/>\n    <path clip-path=\"url(#pc043154320)\" d=\"M 164.961989 159.985 \nL 164.961989 193.205 \nL 197.427443 193.205 \nL 197.427443 159.985 \nL 164.961989 159.985 \nz\n\" style=\"fill:#084182;\"/>\n    <path clip-path=\"url(#pc043154320)\" d=\"M 197.427443 159.985 \nL 197.427443 193.205 \nL 229.892898 193.205 \nL 229.892898 159.985 \nL 197.427443 159.985 \nz\n\" style=\"fill:#eef9e8;\"/>\n    <path clip-path=\"url(#pc043154320)\" d=\"M 229.892898 159.985 \nL 229.892898 193.205 \nL 262.358352 193.205 \nL 262.358352 159.985 \nL 229.892898 159.985 \nz\n\" style=\"fill:#084688;\"/>\n    <path clip-path=\"url(#pc043154320)\" d=\"M 262.358352 159.985 \nL 262.358352 193.205 \nL 294.823807 193.205 \nL 294.823807 159.985 \nL 262.358352 159.985 \nz\n\" style=\"fill:#084182;\"/>\n    <path clip-path=\"url(#pc043154320)\" d=\"M 294.823807 159.985 \nL 294.823807 193.205 \nL 327.289261 193.205 \nL 327.289261 159.985 \nL 294.823807 159.985 \nz\n\" style=\"fill:#084586;\"/>\n    <path clip-path=\"url(#pc043154320)\" d=\"M 327.289261 159.985 \nL 327.289261 193.205 \nL 359.754716 193.205 \nL 359.754716 159.985 \nL 327.289261 159.985 \nz\n\" style=\"fill:#084081;\"/>\n    <path clip-path=\"url(#pc043154320)\" d=\"M 359.754716 159.985 \nL 359.754716 193.205 \nL 392.22017 193.205 \nL 392.22017 159.985 \nL 359.754716 159.985 \nz\n\" style=\"fill:#084081;\"/>\n    <path clip-path=\"url(#pc043154320)\" d=\"M 392.22017 159.985 \nL 392.22017 193.205 \nL 424.685625 193.205 \nL 424.685625 159.985 \nL 392.22017 159.985 \nz\n\" style=\"fill:#084081;\"/>\n    <path clip-path=\"url(#pc043154320)\" d=\"M 67.565625 193.205 \nL 67.565625 226.425 \nL 100.03108 226.425 \nL 100.03108 193.205 \nL 67.565625 193.205 \nz\n\" style=\"fill:#084081;\"/>\n    <path clip-path=\"url(#pc043154320)\" d=\"M 100.03108 193.205 \nL 100.03108 226.425 \nL 132.496534 226.425 \nL 132.496534 193.205 \nL 100.03108 193.205 \nz\n\" style=\"fill:#084081;\"/>\n    <path clip-path=\"url(#pc043154320)\" d=\"M 132.496534 193.205 \nL 132.496534 226.425 \nL 164.961989 226.425 \nL 164.961989 193.205 \nL 132.496534 193.205 \nz\n\" style=\"fill:#084081;\"/>\n    <path clip-path=\"url(#pc043154320)\" d=\"M 164.961989 193.205 \nL 164.961989 226.425 \nL 197.427443 226.425 \nL 197.427443 193.205 \nL 164.961989 193.205 \nz\n\" style=\"fill:#084081;\"/>\n    <path clip-path=\"url(#pc043154320)\" d=\"M 197.427443 193.205 \nL 197.427443 226.425 \nL 229.892898 226.425 \nL 229.892898 193.205 \nL 197.427443 193.205 \nz\n\" style=\"fill:#084081;\"/>\n    <path clip-path=\"url(#pc043154320)\" d=\"M 229.892898 193.205 \nL 229.892898 226.425 \nL 262.358352 226.425 \nL 262.358352 193.205 \nL 229.892898 193.205 \nz\n\" style=\"fill:#e9f7e3;\"/>\n    <path clip-path=\"url(#pc043154320)\" d=\"M 262.358352 193.205 \nL 262.358352 226.425 \nL 294.823807 226.425 \nL 294.823807 193.205 \nL 262.358352 193.205 \nz\n\" style=\"fill:#085799;\"/>\n    <path clip-path=\"url(#pc043154320)\" d=\"M 294.823807 193.205 \nL 294.823807 226.425 \nL 327.289261 226.425 \nL 327.289261 193.205 \nL 294.823807 193.205 \nz\n\" style=\"fill:#084081;\"/>\n    <path clip-path=\"url(#pc043154320)\" d=\"M 327.289261 193.205 \nL 327.289261 226.425 \nL 359.754716 226.425 \nL 359.754716 193.205 \nL 327.289261 193.205 \nz\n\" style=\"fill:#084081;\"/>\n    <path clip-path=\"url(#pc043154320)\" d=\"M 359.754716 193.205 \nL 359.754716 226.425 \nL 392.22017 226.425 \nL 392.22017 193.205 \nL 359.754716 193.205 \nz\n\" style=\"fill:#084081;\"/>\n    <path clip-path=\"url(#pc043154320)\" d=\"M 392.22017 193.205 \nL 392.22017 226.425 \nL 424.685625 226.425 \nL 424.685625 193.205 \nL 392.22017 193.205 \nz\n\" style=\"fill:#084081;\"/>\n    <path clip-path=\"url(#pc043154320)\" d=\"M 67.565625 226.425 \nL 67.565625 259.645 \nL 100.03108 259.645 \nL 100.03108 226.425 \nL 67.565625 226.425 \nz\n\" style=\"fill:#084081;\"/>\n    <path clip-path=\"url(#pc043154320)\" d=\"M 100.03108 226.425 \nL 100.03108 259.645 \nL 132.496534 259.645 \nL 132.496534 226.425 \nL 100.03108 226.425 \nz\n\" style=\"fill:#084081;\"/>\n    <path clip-path=\"url(#pc043154320)\" d=\"M 132.496534 226.425 \nL 132.496534 259.645 \nL 164.961989 259.645 \nL 164.961989 226.425 \nL 132.496534 226.425 \nz\n\" style=\"fill:#084081;\"/>\n    <path clip-path=\"url(#pc043154320)\" d=\"M 164.961989 226.425 \nL 164.961989 259.645 \nL 197.427443 259.645 \nL 197.427443 226.425 \nL 164.961989 226.425 \nz\n\" style=\"fill:#084081;\"/>\n    <path clip-path=\"url(#pc043154320)\" d=\"M 197.427443 226.425 \nL 197.427443 259.645 \nL 229.892898 259.645 \nL 229.892898 226.425 \nL 197.427443 226.425 \nz\n\" style=\"fill:#084081;\"/>\n    <path clip-path=\"url(#pc043154320)\" d=\"M 229.892898 226.425 \nL 229.892898 259.645 \nL 262.358352 259.645 \nL 262.358352 226.425 \nL 229.892898 226.425 \nz\n\" style=\"fill:#084485;\"/>\n    <path clip-path=\"url(#pc043154320)\" d=\"M 262.358352 226.425 \nL 262.358352 259.645 \nL 294.823807 259.645 \nL 294.823807 226.425 \nL 262.358352 226.425 \nz\n\" style=\"fill:#f3fbed;\"/>\n    <path clip-path=\"url(#pc043154320)\" d=\"M 294.823807 226.425 \nL 294.823807 259.645 \nL 327.289261 259.645 \nL 327.289261 226.425 \nL 294.823807 226.425 \nz\n\" style=\"fill:#084384;\"/>\n    <path clip-path=\"url(#pc043154320)\" d=\"M 327.289261 226.425 \nL 327.289261 259.645 \nL 359.754716 259.645 \nL 359.754716 226.425 \nL 327.289261 226.425 \nz\n\" style=\"fill:#084081;\"/>\n    <path clip-path=\"url(#pc043154320)\" d=\"M 359.754716 226.425 \nL 359.754716 259.645 \nL 392.22017 259.645 \nL 392.22017 226.425 \nL 359.754716 226.425 \nz\n\" style=\"fill:#084081;\"/>\n    <path clip-path=\"url(#pc043154320)\" d=\"M 392.22017 226.425 \nL 392.22017 259.645 \nL 424.685625 259.645 \nL 424.685625 226.425 \nL 392.22017 226.425 \nz\n\" style=\"fill:#084081;\"/>\n    <path clip-path=\"url(#pc043154320)\" d=\"M 67.565625 259.645 \nL 67.565625 292.865 \nL 100.03108 292.865 \nL 100.03108 259.645 \nL 67.565625 259.645 \nz\n\" style=\"fill:#084081;\"/>\n    <path clip-path=\"url(#pc043154320)\" d=\"M 100.03108 259.645 \nL 100.03108 292.865 \nL 132.496534 292.865 \nL 132.496534 259.645 \nL 100.03108 259.645 \nz\n\" style=\"fill:#084081;\"/>\n    <path clip-path=\"url(#pc043154320)\" d=\"M 132.496534 259.645 \nL 132.496534 292.865 \nL 164.961989 292.865 \nL 164.961989 259.645 \nL 132.496534 259.645 \nz\n\" style=\"fill:#084081;\"/>\n    <path clip-path=\"url(#pc043154320)\" d=\"M 164.961989 259.645 \nL 164.961989 292.865 \nL 197.427443 292.865 \nL 197.427443 259.645 \nL 164.961989 259.645 \nz\n\" style=\"fill:#084081;\"/>\n    <path clip-path=\"url(#pc043154320)\" d=\"M 197.427443 259.645 \nL 197.427443 292.865 \nL 229.892898 292.865 \nL 229.892898 259.645 \nL 197.427443 259.645 \nz\n\" style=\"fill:#084081;\"/>\n    <path clip-path=\"url(#pc043154320)\" d=\"M 229.892898 259.645 \nL 229.892898 292.865 \nL 262.358352 292.865 \nL 262.358352 259.645 \nL 229.892898 259.645 \nz\n\" style=\"fill:#084081;\"/>\n    <path clip-path=\"url(#pc043154320)\" d=\"M 262.358352 259.645 \nL 262.358352 292.865 \nL 294.823807 292.865 \nL 294.823807 259.645 \nL 262.358352 259.645 \nz\n\" style=\"fill:#084384;\"/>\n    <path clip-path=\"url(#pc043154320)\" d=\"M 294.823807 259.645 \nL 294.823807 292.865 \nL 327.289261 292.865 \nL 327.289261 259.645 \nL 294.823807 259.645 \nz\n\" style=\"fill:#f6fcef;\"/>\n    <path clip-path=\"url(#pc043154320)\" d=\"M 327.289261 259.645 \nL 327.289261 292.865 \nL 359.754716 292.865 \nL 359.754716 259.645 \nL 327.289261 259.645 \nz\n\" style=\"fill:#084081;\"/>\n    <path clip-path=\"url(#pc043154320)\" d=\"M 359.754716 259.645 \nL 359.754716 292.865 \nL 392.22017 292.865 \nL 392.22017 259.645 \nL 359.754716 259.645 \nz\n\" style=\"fill:#084081;\"/>\n    <path clip-path=\"url(#pc043154320)\" d=\"M 392.22017 259.645 \nL 392.22017 292.865 \nL 424.685625 292.865 \nL 424.685625 259.645 \nL 392.22017 259.645 \nz\n\" style=\"fill:#084081;\"/>\n    <path clip-path=\"url(#pc043154320)\" d=\"M 67.565625 292.865 \nL 67.565625 326.085 \nL 100.03108 326.085 \nL 100.03108 292.865 \nL 67.565625 292.865 \nz\n\" style=\"fill:#085598;\"/>\n    <path clip-path=\"url(#pc043154320)\" d=\"M 100.03108 292.865 \nL 100.03108 326.085 \nL 132.496534 326.085 \nL 132.496534 292.865 \nL 100.03108 292.865 \nz\n\" style=\"fill:#084081;\"/>\n    <path clip-path=\"url(#pc043154320)\" d=\"M 132.496534 292.865 \nL 132.496534 326.085 \nL 164.961989 326.085 \nL 164.961989 292.865 \nL 132.496534 292.865 \nz\n\" style=\"fill:#084081;\"/>\n    <path clip-path=\"url(#pc043154320)\" d=\"M 164.961989 292.865 \nL 164.961989 326.085 \nL 197.427443 326.085 \nL 197.427443 292.865 \nL 164.961989 292.865 \nz\n\" style=\"fill:#084081;\"/>\n    <path clip-path=\"url(#pc043154320)\" d=\"M 197.427443 292.865 \nL 197.427443 326.085 \nL 229.892898 326.085 \nL 229.892898 292.865 \nL 197.427443 292.865 \nz\n\" style=\"fill:#1272b1;\"/>\n    <path clip-path=\"url(#pc043154320)\" d=\"M 229.892898 292.865 \nL 229.892898 326.085 \nL 262.358352 326.085 \nL 262.358352 292.865 \nL 229.892898 292.865 \nz\n\" style=\"fill:#084081;\"/>\n    <path clip-path=\"url(#pc043154320)\" d=\"M 262.358352 292.865 \nL 262.358352 326.085 \nL 294.823807 326.085 \nL 294.823807 292.865 \nL 262.358352 292.865 \nz\n\" style=\"fill:#085294;\"/>\n    <path clip-path=\"url(#pc043154320)\" d=\"M 294.823807 292.865 \nL 294.823807 326.085 \nL 327.289261 326.085 \nL 327.289261 292.865 \nL 294.823807 292.865 \nz\n\" style=\"fill:#47abcf;\"/>\n    <path clip-path=\"url(#pc043154320)\" d=\"M 327.289261 292.865 \nL 327.289261 326.085 \nL 359.754716 326.085 \nL 359.754716 292.865 \nL 327.289261 292.865 \nz\n\" style=\"fill:#2788bc;\"/>\n    <path clip-path=\"url(#pc043154320)\" d=\"M 359.754716 292.865 \nL 359.754716 326.085 \nL 392.22017 326.085 \nL 392.22017 292.865 \nL 359.754716 292.865 \nz\n\" style=\"fill:#085093;\"/>\n    <path clip-path=\"url(#pc043154320)\" d=\"M 392.22017 292.865 \nL 392.22017 326.085 \nL 424.685625 326.085 \nL 424.685625 292.865 \nL 392.22017 292.865 \nz\n\" style=\"fill:#08599c;\"/>\n    <path clip-path=\"url(#pc043154320)\" d=\"M 67.565625 326.085 \nL 67.565625 359.305 \nL 100.03108 359.305 \nL 100.03108 326.085 \nL 67.565625 326.085 \nz\n\" style=\"fill:#62becc;\"/>\n    <path clip-path=\"url(#pc043154320)\" d=\"M 100.03108 326.085 \nL 100.03108 359.305 \nL 132.496534 359.305 \nL 132.496534 326.085 \nL 100.03108 326.085 \nz\n\" style=\"fill:#084586;\"/>\n    <path clip-path=\"url(#pc043154320)\" d=\"M 132.496534 326.085 \nL 132.496534 359.305 \nL 164.961989 359.305 \nL 164.961989 326.085 \nL 132.496534 326.085 \nz\n\" style=\"fill:#084384;\"/>\n    <path clip-path=\"url(#pc043154320)\" d=\"M 164.961989 326.085 \nL 164.961989 359.305 \nL 197.427443 359.305 \nL 197.427443 326.085 \nL 164.961989 326.085 \nz\n\" style=\"fill:#084081;\"/>\n    <path clip-path=\"url(#pc043154320)\" d=\"M 197.427443 326.085 \nL 197.427443 359.305 \nL 229.892898 359.305 \nL 229.892898 326.085 \nL 197.427443 326.085 \nz\n\" style=\"fill:#084081;\"/>\n    <path clip-path=\"url(#pc043154320)\" d=\"M 229.892898 326.085 \nL 229.892898 359.305 \nL 262.358352 359.305 \nL 262.358352 326.085 \nL 229.892898 326.085 \nz\n\" style=\"fill:#084081;\"/>\n    <path clip-path=\"url(#pc043154320)\" d=\"M 262.358352 326.085 \nL 262.358352 359.305 \nL 294.823807 359.305 \nL 294.823807 326.085 \nL 262.358352 326.085 \nz\n\" style=\"fill:#084485;\"/>\n    <path clip-path=\"url(#pc043154320)\" d=\"M 294.823807 326.085 \nL 294.823807 359.305 \nL 327.289261 359.305 \nL 327.289261 326.085 \nL 294.823807 326.085 \nz\n\" style=\"fill:#084081;\"/>\n    <path clip-path=\"url(#pc043154320)\" d=\"M 327.289261 326.085 \nL 327.289261 359.305 \nL 359.754716 359.305 \nL 359.754716 326.085 \nL 327.289261 326.085 \nz\n\" style=\"fill:#084889;\"/>\n    <path clip-path=\"url(#pc043154320)\" d=\"M 359.754716 326.085 \nL 359.754716 359.305 \nL 392.22017 359.305 \nL 392.22017 326.085 \nL 359.754716 326.085 \nz\n\" style=\"fill:#085a9d;\"/>\n    <path clip-path=\"url(#pc043154320)\" d=\"M 392.22017 326.085 \nL 392.22017 359.305 \nL 424.685625 359.305 \nL 424.685625 326.085 \nL 392.22017 326.085 \nz\n\" style=\"fill:#5ebcce;\"/>\n   </g>\n   <g id=\"patch_3\">\n    <path d=\"M 67.565625 359.305 \nL 67.565625 60.325 \n\" style=\"fill:none;\"/>\n   </g>\n   <g id=\"patch_4\">\n    <path d=\"M 424.685625 359.305 \nL 424.685625 60.325 \n\" style=\"fill:none;\"/>\n   </g>\n   <g id=\"patch_5\">\n    <path d=\"M 67.565625 359.305 \nL 424.685625 359.305 \n\" style=\"fill:none;\"/>\n   </g>\n   <g id=\"patch_6\">\n    <path d=\"M 67.565625 60.325 \nL 424.685625 60.325 \n\" style=\"fill:none;\"/>\n   </g>\n  </g>\n  <g id=\"axes_2\">\n   <g id=\"patch_7\">\n    <path clip-path=\"url(#p9292dcf94f)\" d=\"M 447.005625 359.305 \nL 447.005625 358.137109 \nL 447.005625 61.492891 \nL 447.005625 60.325 \nL 461.954625 60.325 \nL 461.954625 61.492891 \nL 461.954625 358.137109 \nL 461.954625 359.305 \nz\n\" style=\"fill:#eaeaf2;stroke:#eaeaf2;stroke-linejoin:miter;stroke-width:0.01;\"/>\n   </g>\n   <g id=\"matplotlib.axis_3\"/>\n   <g id=\"matplotlib.axis_4\">\n    <g id=\"ytick_10\">\n     <g id=\"line2d_21\"/>\n     <g id=\"text_16\">\n      <!-- 0.2 -->\n      <defs>\n       <path d=\"M 51.703125 34.421875 \nQ 51.703125 24.515625 49.828125 17.75 \nQ 47.953125 10.984375 44.703125 6.8125 \nQ 41.453125 2.640625 37.0625 0.828125 \nQ 32.671875 -0.984375 27.6875 -0.984375 \nQ 22.65625 -0.984375 18.3125 0.828125 \nQ 13.96875 2.640625 10.765625 6.78125 \nQ 7.5625 10.9375 5.734375 17.703125 \nQ 3.90625 24.46875 3.90625 34.421875 \nQ 3.90625 44.828125 5.734375 51.640625 \nQ 7.5625 58.453125 10.78125 62.5 \nQ 14.015625 66.546875 18.40625 68.1875 \nQ 22.796875 69.828125 27.984375 69.828125 \nQ 32.90625 69.828125 37.21875 68.1875 \nQ 41.546875 66.546875 44.765625 62.5 \nQ 48 58.453125 49.84375 51.640625 \nQ 51.703125 44.828125 51.703125 34.421875 \nz\nM 42.78125 34.421875 \nQ 42.78125 42.625 41.796875 48.0625 \nQ 40.828125 53.515625 38.921875 56.765625 \nQ 37.015625 60.015625 34.25 61.359375 \nQ 31.5 62.703125 27.984375 62.703125 \nQ 24.265625 62.703125 21.4375 61.328125 \nQ 18.609375 59.96875 16.671875 56.71875 \nQ 14.75 53.46875 13.765625 48.015625 \nQ 12.796875 42.578125 12.796875 34.421875 \nQ 12.796875 26.515625 13.796875 21.09375 \nQ 14.796875 15.671875 16.71875 12.375 \nQ 18.65625 9.078125 21.4375 7.640625 \nQ 24.21875 6.203125 27.78125 6.203125 \nQ 31.25 6.203125 34.03125 7.640625 \nQ 36.8125 9.078125 38.734375 12.375 \nQ 40.671875 15.671875 41.71875 21.09375 \nQ 42.78125 26.515625 42.78125 34.421875 \nz\n\" id=\"LiberationSans-48\"/>\n       <path d=\"M 5.03125 0 \nL 5.03125 6.203125 \nQ 7.515625 11.921875 11.109375 16.28125 \nQ 14.703125 20.65625 18.65625 24.1875 \nQ 22.609375 27.734375 26.484375 30.765625 \nQ 30.375 33.796875 33.5 36.8125 \nQ 36.625 39.84375 38.546875 43.15625 \nQ 40.484375 46.484375 40.484375 50.6875 \nQ 40.484375 53.609375 39.59375 55.828125 \nQ 38.71875 58.0625 37.0625 59.5625 \nQ 35.40625 61.078125 33.078125 61.828125 \nQ 30.765625 62.59375 27.9375 62.59375 \nQ 25.296875 62.59375 22.96875 61.859375 \nQ 20.65625 61.140625 18.84375 59.671875 \nQ 17.046875 58.203125 15.890625 56.03125 \nQ 14.75 53.859375 14.40625 50.984375 \nL 5.421875 51.8125 \nQ 5.859375 55.515625 7.46875 58.78125 \nQ 9.078125 62.0625 11.90625 64.53125 \nQ 14.75 67 18.71875 68.40625 \nQ 22.703125 69.828125 27.9375 69.828125 \nQ 33.0625 69.828125 37.0625 68.609375 \nQ 41.0625 67.390625 43.8125 64.984375 \nQ 46.578125 62.59375 48.046875 59.078125 \nQ 49.515625 55.5625 49.515625 50.984375 \nQ 49.515625 47.515625 48.265625 44.390625 \nQ 47.015625 41.265625 44.9375 38.421875 \nQ 42.875 35.59375 40.140625 32.953125 \nQ 37.40625 30.328125 34.421875 27.8125 \nQ 31.453125 25.296875 28.421875 22.828125 \nQ 25.390625 20.359375 22.71875 17.859375 \nQ 20.0625 15.375 17.96875 12.8125 \nQ 15.875 10.25 14.703125 7.46875 \nL 50.59375 7.46875 \nL 50.59375 0 \nz\n\" id=\"LiberationSans-50\"/>\n      </defs>\n      <g style=\"fill:#262626;\" transform=\"translate(468.954625 302.711073)scale(0.1 -0.1)\">\n       <use xlink:href=\"#LiberationSans-48\"/>\n       <use x=\"55.615234\" xlink:href=\"#LiberationSans-46\"/>\n       <use x=\"83.398438\" xlink:href=\"#LiberationSans-50\"/>\n      </g>\n     </g>\n    </g>\n    <g id=\"ytick_11\">\n     <g id=\"line2d_22\"/>\n     <g id=\"text_17\">\n      <!-- 0.4 -->\n      <defs>\n       <path d=\"M 43.015625 15.578125 \nL 43.015625 0 \nL 34.71875 0 \nL 34.71875 15.578125 \nL 2.296875 15.578125 \nL 2.296875 22.40625 \nL 33.796875 68.796875 \nL 43.015625 68.796875 \nL 43.015625 22.515625 \nL 52.6875 22.515625 \nL 52.6875 15.578125 \nz\nM 34.71875 58.890625 \nQ 34.625 58.640625 34.234375 57.9375 \nQ 33.84375 57.234375 33.34375 56.34375 \nQ 32.859375 55.46875 32.34375 54.5625 \nQ 31.84375 53.65625 31.453125 53.078125 \nL 13.8125 27.09375 \nQ 13.578125 26.703125 13.109375 26.0625 \nQ 12.640625 25.4375 12.15625 24.78125 \nQ 11.671875 24.125 11.171875 23.484375 \nQ 10.6875 22.859375 10.40625 22.515625 \nL 34.71875 22.515625 \nz\n\" id=\"LiberationSans-52\"/>\n      </defs>\n      <g style=\"fill:#262626;\" transform=\"translate(468.954625 242.492906)scale(0.1 -0.1)\">\n       <use xlink:href=\"#LiberationSans-48\"/>\n       <use x=\"55.615234\" xlink:href=\"#LiberationSans-46\"/>\n       <use x=\"83.398438\" xlink:href=\"#LiberationSans-52\"/>\n      </g>\n     </g>\n    </g>\n    <g id=\"ytick_12\">\n     <g id=\"line2d_23\"/>\n     <g id=\"text_18\">\n      <!-- 0.6 -->\n      <defs>\n       <path d=\"M 51.21875 22.515625 \nQ 51.21875 17.328125 49.78125 13 \nQ 48.34375 8.6875 45.53125 5.578125 \nQ 42.71875 2.484375 38.5625 0.75 \nQ 34.421875 -0.984375 29 -0.984375 \nQ 23 -0.984375 18.5 1.3125 \nQ 14.015625 3.609375 11.03125 7.921875 \nQ 8.0625 12.25 6.5625 18.53125 \nQ 5.078125 24.8125 5.078125 32.8125 \nQ 5.078125 42 6.765625 48.921875 \nQ 8.453125 55.859375 11.625 60.5 \nQ 14.796875 65.140625 19.359375 67.484375 \nQ 23.921875 69.828125 29.6875 69.828125 \nQ 33.203125 69.828125 36.28125 69.09375 \nQ 39.359375 68.359375 41.875 66.71875 \nQ 44.390625 65.09375 46.28125 62.40625 \nQ 48.1875 59.71875 49.3125 55.8125 \nL 40.921875 54.296875 \nQ 39.546875 58.734375 36.546875 60.71875 \nQ 33.546875 62.703125 29.59375 62.703125 \nQ 25.984375 62.703125 23.046875 60.984375 \nQ 20.125 59.28125 18.0625 55.875 \nQ 16.015625 52.484375 14.90625 47.359375 \nQ 13.8125 42.234375 13.8125 35.40625 \nQ 16.21875 39.84375 20.5625 42.15625 \nQ 24.90625 44.484375 30.515625 44.484375 \nQ 35.203125 44.484375 39.015625 42.96875 \nQ 42.828125 41.453125 45.53125 38.59375 \nQ 48.25 35.75 49.734375 31.671875 \nQ 51.21875 27.59375 51.21875 22.515625 \nz\nM 42.28125 22.125 \nQ 42.28125 25.6875 41.40625 28.5625 \nQ 40.53125 31.453125 38.765625 33.46875 \nQ 37.015625 35.5 34.421875 36.59375 \nQ 31.84375 37.703125 28.421875 37.703125 \nQ 26.03125 37.703125 23.578125 36.984375 \nQ 21.140625 36.28125 19.15625 34.6875 \nQ 17.1875 33.109375 15.9375 30.515625 \nQ 14.703125 27.9375 14.703125 24.21875 \nQ 14.703125 20.40625 15.671875 17.109375 \nQ 16.65625 13.8125 18.484375 11.375 \nQ 20.3125 8.9375 22.890625 7.515625 \nQ 25.484375 6.109375 28.71875 6.109375 \nQ 31.890625 6.109375 34.40625 7.203125 \nQ 36.921875 8.296875 38.671875 10.375 \nQ 40.4375 12.453125 41.359375 15.421875 \nQ 42.28125 18.40625 42.28125 22.125 \nz\n\" id=\"LiberationSans-54\"/>\n      </defs>\n      <g style=\"fill:#262626;\" transform=\"translate(468.954625 182.274739)scale(0.1 -0.1)\">\n       <use xlink:href=\"#LiberationSans-48\"/>\n       <use x=\"55.615234\" xlink:href=\"#LiberationSans-46\"/>\n       <use x=\"83.398438\" xlink:href=\"#LiberationSans-54\"/>\n      </g>\n     </g>\n    </g>\n    <g id=\"ytick_13\">\n     <g id=\"line2d_24\"/>\n     <g id=\"text_19\">\n      <!-- 0.8 -->\n      <defs>\n       <path d=\"M 51.265625 19.1875 \nQ 51.265625 14.796875 49.875 11.109375 \nQ 48.484375 7.421875 45.625 4.734375 \nQ 42.78125 2.046875 38.328125 0.53125 \nQ 33.890625 -0.984375 27.828125 -0.984375 \nQ 21.78125 -0.984375 17.359375 0.53125 \nQ 12.9375 2.046875 10.03125 4.703125 \nQ 7.125 7.375 5.734375 11.0625 \nQ 4.34375 14.75 4.34375 19.09375 \nQ 4.34375 22.859375 5.484375 25.78125 \nQ 6.640625 28.71875 8.5625 30.828125 \nQ 10.5 32.953125 12.96875 34.25 \nQ 15.4375 35.546875 18.0625 35.984375 \nL 18.0625 36.1875 \nQ 15.1875 36.859375 12.90625 38.375 \nQ 10.640625 39.890625 9.09375 42.015625 \nQ 7.5625 44.140625 6.75 46.71875 \nQ 5.953125 49.3125 5.953125 52.203125 \nQ 5.953125 55.8125 7.34375 59 \nQ 8.734375 62.203125 11.46875 64.625 \nQ 14.203125 67.046875 18.25 68.4375 \nQ 22.3125 69.828125 27.640625 69.828125 \nQ 33.25 69.828125 37.375 68.40625 \nQ 41.5 67 44.203125 64.578125 \nQ 46.921875 62.15625 48.234375 58.9375 \nQ 49.5625 55.71875 49.5625 52.09375 \nQ 49.5625 49.265625 48.75 46.671875 \nQ 47.953125 44.09375 46.40625 41.96875 \nQ 44.875 39.84375 42.59375 38.34375 \nQ 40.328125 36.859375 37.359375 36.28125 \nL 37.359375 36.078125 \nQ 40.328125 35.59375 42.859375 34.296875 \nQ 45.40625 33.015625 47.265625 30.890625 \nQ 49.125 28.765625 50.1875 25.828125 \nQ 51.265625 22.90625 51.265625 19.1875 \nz\nM 40.4375 51.609375 \nQ 40.4375 54.203125 39.765625 56.34375 \nQ 39.109375 58.5 37.59375 60.03125 \nQ 36.078125 61.578125 33.640625 62.421875 \nQ 31.203125 63.28125 27.640625 63.28125 \nQ 24.171875 63.28125 21.78125 62.421875 \nQ 19.390625 61.578125 17.84375 60.03125 \nQ 16.3125 58.5 15.625 56.34375 \nQ 14.9375 54.203125 14.9375 51.609375 \nQ 14.9375 49.5625 15.46875 47.40625 \nQ 16.015625 45.265625 17.421875 43.5 \nQ 18.84375 41.75 21.328125 40.625 \nQ 23.828125 39.5 27.734375 39.5 \nQ 31.890625 39.5 34.40625 40.625 \nQ 36.921875 41.75 38.25 43.5 \nQ 39.59375 45.265625 40.015625 47.40625 \nQ 40.4375 49.5625 40.4375 51.609375 \nz\nM 42.140625 20.015625 \nQ 42.140625 22.515625 41.453125 24.828125 \nQ 40.765625 27.15625 39.109375 28.9375 \nQ 37.453125 30.71875 34.640625 31.8125 \nQ 31.84375 32.90625 27.640625 32.90625 \nQ 23.78125 32.90625 21.0625 31.8125 \nQ 18.359375 30.71875 16.671875 28.90625 \nQ 14.984375 27.09375 14.203125 24.71875 \nQ 13.421875 22.359375 13.421875 19.828125 \nQ 13.421875 16.65625 14.203125 14.03125 \nQ 14.984375 11.421875 16.6875 9.546875 \nQ 18.40625 7.671875 21.1875 6.640625 \nQ 23.96875 5.609375 27.9375 5.609375 \nQ 31.9375 5.609375 34.671875 6.640625 \nQ 37.40625 7.671875 39.0625 9.546875 \nQ 40.71875 11.421875 41.421875 14.078125 \nQ 42.140625 16.75 42.140625 20.015625 \nz\n\" id=\"LiberationSans-56\"/>\n      </defs>\n      <g style=\"fill:#262626;\" transform=\"translate(468.954625 122.056573)scale(0.1 -0.1)\">\n       <use xlink:href=\"#LiberationSans-48\"/>\n       <use x=\"55.615234\" xlink:href=\"#LiberationSans-46\"/>\n       <use x=\"83.398438\" xlink:href=\"#LiberationSans-56\"/>\n      </g>\n     </g>\n    </g>\n   </g>\n   <image height=\"299\" id=\"imagef00c8be78e\" transform=\"scale(1 -1)translate(0 -299)\" width=\"15\" x=\"447\" xlink:href=\"data:image/png;base64,\niVBORw0KGgoAAAANSUhEUgAAAA8AAAErCAYAAAABnNneAAAABHNCSVQICAgIfAhkiAAAAYNJREFUeJztmjESAyEMAw1DkWfla3l5UuQFeIsdje96jcCyhQJZr/fnW83v1FpdbJ3aG4ARMwD31/xnJnve0p7hslmTZErlVTuySahUUoepTSJZrynVM1VX3zNVt+DFwG0slGqRagOsWDDKbMUKcc9g4aLOW5QqtLcJM3ES0QBTpdJ8W/tdlToYT6y4BFumH+qeMw1Q6zAvAcLeBsyw2vOkymzPobEiU6rIDhOlgrcV7bcuHGgIc58Yn1VWwTKrjZjV31WgYGTdkFm8cJCWfVZlepgmlWcGmdU+G3RYrIfNc084VQTMchhhfpLBLZgwZ1ZbzNuZThLKLEol9raVDMx3DAIe6GG5sYJcpoUyV+RD7gbLpoEmkVlNgOS6tk+cOs/iWZVpQ/Q+bN5UDWROjRWFqt2Gmss2DZBUm/1zvA3lTRJpgNqeoVSsSbypinztF91TK5hnQ8w9tVhhnlWWhwFs6rJTpco8bsRHkMw9h87zyFiROc+qAVrMWhoSqx2aAAcmgx/UQiYy385K1QAAAABJRU5ErkJggg==\" y=\"-60\"/>\n   <g id=\"patch_8\">\n    <path d=\"M 447.005625 359.305 \nL 447.005625 358.137109 \nL 447.005625 61.492891 \nL 447.005625 60.325 \nL 461.954625 60.325 \nL 461.954625 61.492891 \nL 461.954625 358.137109 \nL 461.954625 359.305 \nz\n\" style=\"fill:none;\"/>\n   </g>\n  </g>\n </g>\n <defs>\n  <clipPath id=\"pc043154320\">\n   <rect height=\"298.98\" width=\"357.12\" x=\"67.565625\" y=\"60.325\"/>\n  </clipPath>\n  <clipPath id=\"p9292dcf94f\">\n   <rect height=\"298.98\" width=\"14.949\" x=\"447.005625\" y=\"60.325\"/>\n  </clipPath>\n </defs>\n</svg>\n"
          },
          "metadata": {
            "tags": []
          }
        }
      ]
    },
    {
      "cell_type": "code",
      "metadata": {
        "colab": {
          "base_uri": "https://localhost:8080/",
          "height": 490
        },
        "id": "buq9nOAB7q6X",
        "outputId": "be250e0c-243e-4230-de7b-66ebf2a23b26"
      },
      "source": [
        "sentence = 'There is no doubt about that.'\n",
        "plot_attention(sentence)"
      ],
      "execution_count": null,
      "outputs": [
        {
          "output_type": "display_data",
          "data": {
            "text/plain": [
              "<Figure size 576x396 with 2 Axes>"
            ],
            "image/svg+xml": "<?xml version=\"1.0\" encoding=\"utf-8\" standalone=\"no\"?>\n<!DOCTYPE svg PUBLIC \"-//W3C//DTD SVG 1.1//EN\"\n  \"http://www.w3.org/Graphics/SVG/1.1/DTD/svg11.dtd\">\n<!-- Created with matplotlib (https://matplotlib.org/) -->\n<svg height=\"351.508125pt\" version=\"1.1\" viewBox=\"0 0 467.817125 351.508125\" width=\"467.817125pt\" xmlns=\"http://www.w3.org/2000/svg\" xmlns:xlink=\"http://www.w3.org/1999/xlink\">\n <defs>\n  <style type=\"text/css\">\n*{stroke-linecap:butt;stroke-linejoin:round;}\n  </style>\n </defs>\n <g id=\"figure_1\">\n  <g id=\"patch_1\">\n   <path d=\"M 0 351.508125 \nL 467.817125 351.508125 \nL 467.817125 0 \nL 0 0 \nz\n\" style=\"fill:#ffffff;\"/>\n  </g>\n  <g id=\"axes_1\">\n   <g id=\"patch_2\">\n    <path d=\"M 45.328125 344.308125 \nL 402.448125 344.308125 \nL 402.448125 45.328125 \nL 45.328125 45.328125 \nz\n\" style=\"fill:#eaeaf2;\"/>\n   </g>\n   <g id=\"matplotlib.axis_1\">\n    <g id=\"xtick_1\">\n     <g id=\"line2d_1\"/>\n     <g id=\"text_1\">\n      <!-- &lt;start&gt; -->\n      <defs>\n       <path d=\"M 4.9375 27.875 \nL 4.9375 37.890625 \nL 53.515625 58.296875 \nL 53.515625 50.78125 \nL 11.625 32.90625 \nL 53.515625 14.984375 \nL 53.515625 7.515625 \nz\n\" id=\"LiberationSans-60\"/>\n       <path d=\"M 46.390625 14.59375 \nQ 46.390625 10.890625 44.9375 7.984375 \nQ 43.5 5.078125 40.765625 3.09375 \nQ 38.03125 1.125 34.046875 0.0625 \nQ 30.078125 -0.984375 24.953125 -0.984375 \nQ 20.359375 -0.984375 16.671875 -0.265625 \nQ 12.984375 0.4375 10.203125 2 \nQ 7.421875 3.5625 5.53125 6.125 \nQ 3.65625 8.6875 2.78125 12.40625 \nL 10.546875 13.921875 \nQ 11.671875 9.671875 15.1875 7.6875 \nQ 18.703125 5.71875 24.953125 5.71875 \nQ 27.78125 5.71875 30.140625 6.109375 \nQ 32.515625 6.5 34.21875 7.453125 \nQ 35.9375 8.40625 36.890625 9.984375 \nQ 37.84375 11.578125 37.84375 13.921875 \nQ 37.84375 16.3125 36.71875 17.84375 \nQ 35.59375 19.390625 33.59375 20.40625 \nQ 31.59375 21.4375 28.734375 22.1875 \nQ 25.875 22.953125 22.46875 23.875 \nQ 19.28125 24.703125 16.15625 25.734375 \nQ 13.03125 26.765625 10.515625 28.4375 \nQ 8.015625 30.125 6.453125 32.609375 \nQ 4.890625 35.109375 4.890625 38.875 \nQ 4.890625 46.09375 10.03125 49.875 \nQ 15.1875 53.65625 25.046875 53.65625 \nQ 33.796875 53.65625 38.9375 50.578125 \nQ 44.09375 47.515625 45.453125 40.71875 \nL 37.546875 39.75 \nQ 37.109375 41.796875 35.9375 43.1875 \nQ 34.765625 44.578125 33.109375 45.4375 \nQ 31.453125 46.296875 29.375 46.65625 \nQ 27.296875 47.015625 25.046875 47.015625 \nQ 19.09375 47.015625 16.25 45.203125 \nQ 13.421875 43.40625 13.421875 39.75 \nQ 13.421875 37.59375 14.46875 36.203125 \nQ 15.53125 34.8125 17.40625 33.859375 \nQ 19.28125 32.90625 21.921875 32.203125 \nQ 24.5625 31.5 27.734375 30.71875 \nQ 29.828125 30.171875 32.03125 29.5625 \nQ 34.234375 28.953125 36.296875 28.09375 \nQ 38.375 27.25 40.203125 26.09375 \nQ 42.046875 24.953125 43.40625 23.34375 \nQ 44.78125 21.734375 45.578125 19.578125 \nQ 46.390625 17.4375 46.390625 14.59375 \nz\n\" id=\"LiberationSans-115\"/>\n       <path d=\"M 27.046875 0.390625 \nQ 25.046875 -0.140625 22.96875 -0.453125 \nQ 20.90625 -0.78125 18.171875 -0.78125 \nQ 7.625 -0.78125 7.625 11.1875 \nL 7.625 46.4375 \nL 1.515625 46.4375 \nL 1.515625 52.828125 \nL 7.953125 52.828125 \nL 10.546875 64.65625 \nL 16.40625 64.65625 \nL 16.40625 52.828125 \nL 26.171875 52.828125 \nL 26.171875 46.4375 \nL 16.40625 46.4375 \nL 16.40625 13.09375 \nQ 16.40625 9.28125 17.640625 7.734375 \nQ 18.890625 6.203125 21.96875 6.203125 \nQ 23.25 6.203125 24.4375 6.390625 \nQ 25.640625 6.59375 27.046875 6.890625 \nz\n\" id=\"LiberationSans-116\"/>\n       <path d=\"M 20.21875 -0.984375 \nQ 12.25 -0.984375 8.25 3.21875 \nQ 4.25 7.421875 4.25 14.75 \nQ 4.25 19.96875 6.21875 23.3125 \nQ 8.203125 26.65625 11.390625 28.5625 \nQ 14.59375 30.46875 18.6875 31.203125 \nQ 22.796875 31.9375 27.046875 32.03125 \nL 38.921875 32.234375 \nL 38.921875 35.109375 \nQ 38.921875 38.375 38.234375 40.671875 \nQ 37.546875 42.96875 36.125 44.375 \nQ 34.71875 45.796875 32.59375 46.453125 \nQ 30.46875 47.125 27.59375 47.125 \nQ 25.046875 47.125 23 46.75 \nQ 20.953125 46.390625 19.4375 45.4375 \nQ 17.921875 44.484375 16.984375 42.84375 \nQ 16.0625 41.21875 15.765625 38.71875 \nL 6.59375 39.546875 \nQ 7.078125 42.671875 8.4375 45.28125 \nQ 9.8125 47.90625 12.328125 49.796875 \nQ 14.84375 51.703125 18.625 52.75 \nQ 22.40625 53.8125 27.78125 53.8125 \nQ 37.75 53.8125 42.765625 49.234375 \nQ 47.796875 44.671875 47.796875 36.03125 \nL 47.796875 13.28125 \nQ 47.796875 9.375 48.828125 7.390625 \nQ 49.859375 5.421875 52.734375 5.421875 \nQ 53.46875 5.421875 54.203125 5.515625 \nQ 54.9375 5.609375 55.609375 5.765625 \nL 55.609375 0.296875 \nQ 53.953125 -0.09375 52.3125 -0.28125 \nQ 50.6875 -0.484375 48.828125 -0.484375 \nQ 46.34375 -0.484375 44.5625 0.171875 \nQ 42.78125 0.828125 41.65625 2.171875 \nQ 40.53125 3.515625 39.9375 5.484375 \nQ 39.359375 7.46875 39.203125 10.109375 \nL 38.921875 10.109375 \nQ 37.5 7.5625 35.8125 5.515625 \nQ 34.125 3.46875 31.875 2.03125 \nQ 29.640625 0.59375 26.78125 -0.1875 \nQ 23.921875 -0.984375 20.21875 -0.984375 \nz\nM 22.21875 5.609375 \nQ 26.421875 5.609375 29.5625 7.140625 \nQ 32.71875 8.6875 34.78125 11.078125 \nQ 36.859375 13.484375 37.890625 16.3125 \nQ 38.921875 19.140625 38.921875 21.734375 \nL 38.921875 26.078125 \nL 29.296875 25.875 \nQ 26.078125 25.828125 23.171875 25.40625 \nQ 20.265625 25 18.0625 23.78125 \nQ 15.875 22.5625 14.578125 20.359375 \nQ 13.28125 18.171875 13.28125 14.59375 \nQ 13.28125 10.296875 15.59375 7.953125 \nQ 17.921875 5.609375 22.21875 5.609375 \nz\n\" id=\"LiberationSans-97\"/>\n       <path d=\"M 6.9375 0 \nL 6.9375 40.53125 \nQ 6.9375 42.1875 6.90625 43.921875 \nQ 6.890625 45.65625 6.828125 47.265625 \nQ 6.78125 48.875 6.734375 50.28125 \nQ 6.6875 51.703125 6.640625 52.828125 \nL 14.9375 52.828125 \nQ 14.984375 51.703125 15.0625 50.265625 \nQ 15.140625 48.828125 15.203125 47.3125 \nQ 15.28125 45.796875 15.296875 44.40625 \nQ 15.328125 43.015625 15.328125 42.046875 \nL 15.53125 42.046875 \nQ 16.453125 45.0625 17.5 47.28125 \nQ 18.5625 49.515625 19.96875 50.953125 \nQ 21.390625 52.390625 23.34375 53.09375 \nQ 25.296875 53.8125 28.078125 53.8125 \nQ 29.15625 53.8125 30.125 53.640625 \nQ 31.109375 53.46875 31.640625 53.328125 \nL 31.640625 45.265625 \nQ 30.765625 45.515625 29.59375 45.625 \nQ 28.421875 45.75 26.953125 45.75 \nQ 23.921875 45.75 21.796875 44.375 \nQ 19.671875 43.015625 18.328125 40.59375 \nQ 17 38.1875 16.359375 34.84375 \nQ 15.71875 31.5 15.71875 27.546875 \nL 15.71875 0 \nz\n\" id=\"LiberationSans-114\"/>\n       <path d=\"M 4.9375 7.515625 \nL 4.9375 14.984375 \nL 46.828125 32.90625 \nL 4.9375 50.78125 \nL 4.9375 58.296875 \nL 53.515625 37.890625 \nL 53.515625 27.875 \nz\n\" id=\"LiberationSans-62\"/>\n      </defs>\n      <g style=\"fill:#262626;\" transform=\"translate(67.754063 38.328125)rotate(-90)scale(0.1 -0.1)\">\n       <use xlink:href=\"#LiberationSans-60\"/>\n       <use x=\"58.398438\" xlink:href=\"#LiberationSans-115\"/>\n       <use x=\"108.398438\" xlink:href=\"#LiberationSans-116\"/>\n       <use x=\"136.181641\" xlink:href=\"#LiberationSans-97\"/>\n       <use x=\"191.796875\" xlink:href=\"#LiberationSans-114\"/>\n       <use x=\"225.097656\" xlink:href=\"#LiberationSans-116\"/>\n       <use x=\"252.880859\" xlink:href=\"#LiberationSans-62\"/>\n      </g>\n     </g>\n    </g>\n    <g id=\"xtick_2\">\n     <g id=\"line2d_2\"/>\n     <g id=\"text_2\">\n      <!-- Det -->\n      <defs>\n       <path d=\"M 67.4375 35.109375 \nQ 67.4375 26.515625 64.84375 19.9375 \nQ 62.25 13.375 57.75 8.953125 \nQ 53.265625 4.546875 47.140625 2.265625 \nQ 41.015625 0 33.9375 0 \nL 8.203125 0 \nL 8.203125 68.796875 \nL 30.953125 68.796875 \nQ 38.921875 68.796875 45.625 66.8125 \nQ 52.34375 64.84375 57.171875 60.71875 \nQ 62.015625 56.59375 64.71875 50.234375 \nQ 67.4375 43.890625 67.4375 35.109375 \nz\nM 58.0625 35.109375 \nQ 58.0625 42.09375 56.046875 47.046875 \nQ 54.046875 52 50.4375 55.171875 \nQ 46.828125 58.34375 41.796875 59.828125 \nQ 36.765625 61.328125 30.765625 61.328125 \nL 17.53125 61.328125 \nL 17.53125 7.46875 \nL 32.859375 7.46875 \nQ 38.28125 7.46875 42.890625 9.21875 \nQ 47.515625 10.984375 50.875 14.453125 \nQ 54.25 17.921875 56.15625 23.09375 \nQ 58.0625 28.265625 58.0625 35.109375 \nz\n\" id=\"LiberationSans-68\"/>\n       <path d=\"M 13.484375 24.5625 \nQ 13.484375 20.40625 14.328125 16.90625 \nQ 15.1875 13.421875 16.96875 10.90625 \nQ 18.75 8.40625 21.53125 7 \nQ 24.3125 5.609375 28.21875 5.609375 \nQ 33.9375 5.609375 37.375 7.90625 \nQ 40.828125 10.203125 42.046875 13.71875 \nL 49.75 11.53125 \nQ 48.921875 9.328125 47.4375 7.109375 \nQ 45.953125 4.890625 43.453125 3.09375 \nQ 40.96875 1.3125 37.234375 0.15625 \nQ 33.5 -0.984375 28.21875 -0.984375 \nQ 16.5 -0.984375 10.375 6 \nQ 4.25 12.984375 4.25 26.765625 \nQ 4.25 34.1875 6.09375 39.328125 \nQ 7.953125 44.484375 11.171875 47.703125 \nQ 14.40625 50.921875 18.703125 52.359375 \nQ 23 53.8125 27.875 53.8125 \nQ 34.515625 53.8125 38.984375 51.65625 \nQ 43.453125 49.515625 46.15625 45.71875 \nQ 48.875 41.9375 50.015625 36.8125 \nQ 51.171875 31.6875 51.171875 25.734375 \nL 51.171875 24.5625 \nz\nM 42.09375 31.296875 \nQ 41.359375 39.65625 37.84375 43.484375 \nQ 34.328125 47.3125 27.734375 47.3125 \nQ 25.53125 47.3125 23.109375 46.609375 \nQ 20.703125 45.90625 18.65625 44.09375 \nQ 16.609375 42.28125 15.1875 39.171875 \nQ 13.765625 36.078125 13.578125 31.296875 \nz\n\" id=\"LiberationSans-101\"/>\n      </defs>\n      <g style=\"fill:#262626;\" transform=\"translate(107.434063 38.328125)rotate(-90)scale(0.1 -0.1)\">\n       <use xlink:href=\"#LiberationSans-68\"/>\n       <use x=\"72.216797\" xlink:href=\"#LiberationSans-101\"/>\n       <use x=\"127.832031\" xlink:href=\"#LiberationSans-116\"/>\n      </g>\n     </g>\n    </g>\n    <g id=\"xtick_3\">\n     <g id=\"line2d_3\"/>\n     <g id=\"text_3\">\n      <!-- råder -->\n      <defs>\n       <path d=\"M 20.21875 -0.984375 \nQ 12.25 -0.984375 8.25 3.21875 \nQ 4.25 7.421875 4.25 14.75 \nQ 4.25 19.96875 6.21875 23.3125 \nQ 8.203125 26.65625 11.390625 28.5625 \nQ 14.59375 30.46875 18.6875 31.203125 \nQ 22.796875 31.9375 27.046875 32.03125 \nL 38.921875 32.234375 \nL 38.921875 35.109375 \nQ 38.921875 38.375 38.234375 40.671875 \nQ 37.546875 42.96875 36.125 44.375 \nQ 34.71875 45.796875 32.59375 46.453125 \nQ 30.46875 47.125 27.59375 47.125 \nQ 25.046875 47.125 23 46.75 \nQ 20.953125 46.390625 19.4375 45.4375 \nQ 17.921875 44.484375 16.984375 42.84375 \nQ 16.0625 41.21875 15.765625 38.71875 \nL 6.59375 39.546875 \nQ 7.078125 42.671875 8.4375 45.28125 \nQ 9.8125 47.90625 12.328125 49.796875 \nQ 14.84375 51.703125 18.625 52.75 \nQ 22.40625 53.8125 27.78125 53.8125 \nQ 37.75 53.8125 42.765625 49.234375 \nQ 47.796875 44.671875 47.796875 36.03125 \nL 47.796875 13.28125 \nQ 47.796875 9.375 48.828125 7.390625 \nQ 49.859375 5.421875 52.734375 5.421875 \nQ 53.46875 5.421875 54.203125 5.515625 \nQ 54.9375 5.609375 55.609375 5.765625 \nL 55.609375 0.296875 \nQ 53.953125 -0.09375 52.3125 -0.28125 \nQ 50.6875 -0.484375 48.828125 -0.484375 \nQ 46.34375 -0.484375 44.5625 0.171875 \nQ 42.78125 0.828125 41.65625 2.171875 \nQ 40.53125 3.515625 39.9375 5.484375 \nQ 39.359375 7.46875 39.203125 10.109375 \nL 38.921875 10.109375 \nQ 37.5 7.5625 35.8125 5.515625 \nQ 34.125 3.46875 31.875 2.03125 \nQ 29.640625 0.59375 26.78125 -0.1875 \nQ 23.921875 -0.984375 20.21875 -0.984375 \nz\nM 22.21875 5.609375 \nQ 26.421875 5.609375 29.5625 7.140625 \nQ 32.71875 8.6875 34.78125 11.078125 \nQ 36.859375 13.484375 37.890625 16.3125 \nQ 38.921875 19.140625 38.921875 21.734375 \nL 38.921875 26.078125 \nL 29.296875 25.875 \nQ 26.078125 25.828125 23.171875 25.40625 \nQ 20.265625 25 18.0625 23.78125 \nQ 15.875 22.5625 14.578125 20.359375 \nQ 13.28125 18.171875 13.28125 14.59375 \nQ 13.28125 10.296875 15.59375 7.953125 \nQ 17.921875 5.609375 22.21875 5.609375 \nz\nM 39 68.84375 \nQ 39 66.40625 38.0625 64.25 \nQ 37.140625 62.109375 35.53125 60.5 \nQ 33.921875 58.890625 31.765625 57.953125 \nQ 29.625 57.03125 27.1875 57.03125 \nQ 24.734375 57.03125 22.578125 57.953125 \nQ 20.4375 58.890625 18.828125 60.5 \nQ 17.21875 62.109375 16.28125 64.25 \nQ 15.359375 66.40625 15.359375 68.84375 \nQ 15.359375 71.296875 16.28125 73.4375 \nQ 17.21875 75.59375 18.828125 77.171875 \nQ 20.4375 78.765625 22.578125 79.6875 \nQ 24.734375 80.609375 27.1875 80.609375 \nQ 29.625 80.609375 31.765625 79.6875 \nQ 33.921875 78.765625 35.53125 77.171875 \nQ 37.140625 75.59375 38.0625 73.4375 \nQ 39 71.296875 39 68.84375 \nz\nM 33.71875 68.84375 \nQ 33.71875 70.21875 33.203125 71.40625 \nQ 32.703125 72.609375 31.8125 73.484375 \nQ 30.9375 74.359375 29.734375 74.875 \nQ 28.546875 75.390625 27.1875 75.390625 \nQ 25.765625 75.390625 24.5625 74.875 \nQ 23.375 74.359375 22.484375 73.484375 \nQ 21.609375 72.609375 21.09375 71.40625 \nQ 20.59375 70.21875 20.59375 68.84375 \nQ 20.59375 67.4375 21.09375 66.234375 \nQ 21.609375 65.046875 22.484375 64.109375 \nQ 23.375 63.1875 24.5625 62.671875 \nQ 25.765625 62.15625 27.1875 62.15625 \nQ 28.546875 62.15625 29.734375 62.671875 \nQ 30.9375 63.1875 31.8125 64.109375 \nQ 32.703125 65.046875 33.203125 66.234375 \nQ 33.71875 67.4375 33.71875 68.84375 \nz\n\" id=\"LiberationSans-229\"/>\n       <path d=\"M 40.09375 8.5 \nQ 37.640625 3.421875 33.609375 1.21875 \nQ 29.59375 -0.984375 23.640625 -0.984375 \nQ 13.625 -0.984375 8.90625 5.75 \nQ 4.203125 12.5 4.203125 26.171875 \nQ 4.203125 53.8125 23.640625 53.8125 \nQ 29.640625 53.8125 33.640625 51.609375 \nQ 37.640625 49.421875 40.09375 44.625 \nL 40.1875 44.625 \nQ 40.1875 45.125 40.15625 46.171875 \nQ 40.140625 47.21875 40.109375 48.359375 \nQ 40.09375 49.515625 40.09375 50.53125 \nQ 40.09375 51.5625 40.09375 52 \nL 40.09375 72.46875 \nL 48.875 72.46875 \nL 48.875 10.890625 \nQ 48.875 8.984375 48.890625 7.21875 \nQ 48.921875 5.46875 48.96875 4 \nQ 49.03125 2.546875 49.078125 1.484375 \nQ 49.125 0.4375 49.171875 0 \nL 40.765625 0 \nQ 40.671875 0.484375 40.59375 1.390625 \nQ 40.53125 2.296875 40.453125 3.46875 \nQ 40.375 4.640625 40.328125 5.9375 \nQ 40.28125 7.234375 40.28125 8.5 \nz\nM 13.421875 26.46875 \nQ 13.421875 21 14.109375 17.09375 \nQ 14.796875 13.1875 16.3125 10.671875 \nQ 17.828125 8.15625 20.171875 6.984375 \nQ 22.515625 5.8125 25.875 5.8125 \nQ 29.34375 5.8125 32 6.9375 \nQ 34.671875 8.0625 36.453125 10.578125 \nQ 38.234375 13.09375 39.15625 17.140625 \nQ 40.09375 21.1875 40.09375 27.046875 \nQ 40.09375 32.671875 39.15625 36.546875 \nQ 38.234375 40.4375 36.421875 42.828125 \nQ 34.625 45.21875 32 46.265625 \nQ 29.390625 47.3125 25.984375 47.3125 \nQ 22.75 47.3125 20.40625 46.1875 \nQ 18.0625 45.0625 16.5 42.578125 \nQ 14.9375 40.09375 14.171875 36.109375 \nQ 13.421875 32.125 13.421875 26.46875 \nz\n\" id=\"LiberationSans-100\"/>\n      </defs>\n      <g style=\"fill:#262626;\" transform=\"translate(147.114063 38.328125)rotate(-90)scale(0.1 -0.1)\">\n       <use xlink:href=\"#LiberationSans-114\"/>\n       <use x=\"33.300781\" xlink:href=\"#LiberationSans-229\"/>\n       <use x=\"88.916016\" xlink:href=\"#LiberationSans-100\"/>\n       <use x=\"144.53125\" xlink:href=\"#LiberationSans-101\"/>\n       <use x=\"200.146484\" xlink:href=\"#LiberationSans-114\"/>\n      </g>\n     </g>\n    </g>\n    <g id=\"xtick_4\">\n     <g id=\"line2d_4\"/>\n     <g id=\"text_4\">\n      <!-- ingen -->\n      <defs>\n       <path d=\"M 6.6875 64.0625 \nL 6.6875 72.46875 \nL 15.484375 72.46875 \nL 15.484375 64.0625 \nz\nM 6.6875 0 \nL 6.6875 52.828125 \nL 15.484375 52.828125 \nL 15.484375 0 \nz\n\" id=\"LiberationSans-105\"/>\n       <path d=\"M 40.28125 0 \nL 40.28125 33.5 \nQ 40.28125 37.359375 39.71875 39.9375 \nQ 39.15625 42.53125 37.890625 44.109375 \nQ 36.625 45.703125 34.546875 46.359375 \nQ 32.46875 47.015625 29.390625 47.015625 \nQ 26.265625 47.015625 23.75 45.921875 \nQ 21.234375 44.828125 19.453125 42.75 \nQ 17.671875 40.671875 16.6875 37.625 \nQ 15.71875 34.578125 15.71875 30.609375 \nL 15.71875 0 \nL 6.9375 0 \nL 6.9375 41.546875 \nQ 6.9375 43.21875 6.90625 45.046875 \nQ 6.890625 46.875 6.828125 48.5 \nQ 6.78125 50.140625 6.734375 51.3125 \nQ 6.6875 52.484375 6.640625 52.828125 \nL 14.9375 52.828125 \nQ 14.984375 52.59375 15.03125 51.515625 \nQ 15.09375 50.4375 15.15625 49.046875 \nQ 15.234375 47.65625 15.28125 46.21875 \nQ 15.328125 44.78125 15.328125 43.796875 \nL 15.484375 43.796875 \nQ 16.75 46.09375 18.265625 47.953125 \nQ 19.78125 49.8125 21.78125 51.09375 \nQ 23.78125 52.390625 26.359375 53.09375 \nQ 28.953125 53.8125 32.375 53.8125 \nQ 36.765625 53.8125 39.9375 52.734375 \nQ 43.109375 51.65625 45.15625 49.40625 \nQ 47.21875 47.171875 48.171875 43.625 \nQ 49.125 40.09375 49.125 35.203125 \nL 49.125 0 \nz\n\" id=\"LiberationSans-110\"/>\n       <path d=\"M 26.765625 -20.75 \nQ 22.21875 -20.75 18.703125 -19.8125 \nQ 15.1875 -18.890625 12.6875 -17.15625 \nQ 10.203125 -15.4375 8.640625 -13.03125 \nQ 7.078125 -10.640625 6.390625 -7.71875 \nL 15.234375 -6.453125 \nQ 16.109375 -10.109375 19.109375 -12.078125 \nQ 22.125 -14.0625 27 -14.0625 \nQ 29.984375 -14.0625 32.421875 -13.234375 \nQ 34.859375 -12.40625 36.5625 -10.5625 \nQ 38.28125 -8.734375 39.203125 -5.796875 \nQ 40.140625 -2.875 40.140625 1.3125 \nL 40.140625 9.8125 \nL 40.046875 9.8125 \nQ 39.0625 7.8125 37.625 5.984375 \nQ 36.1875 4.15625 34.109375 2.734375 \nQ 32.03125 1.3125 29.296875 0.453125 \nQ 26.5625 -0.390625 23.046875 -0.390625 \nQ 18.015625 -0.390625 14.421875 1.296875 \nQ 10.84375 2.984375 8.5625 6.34375 \nQ 6.296875 9.71875 5.25 14.71875 \nQ 4.203125 19.734375 4.203125 26.3125 \nQ 4.203125 32.671875 5.25 37.75 \nQ 6.296875 42.828125 8.65625 46.359375 \nQ 11.03125 49.90625 14.8125 51.78125 \nQ 18.609375 53.65625 24.03125 53.65625 \nQ 29.640625 53.65625 33.765625 51.09375 \nQ 37.890625 48.53125 40.140625 43.796875 \nL 40.234375 43.796875 \nQ 40.234375 45.015625 40.296875 46.53125 \nQ 40.375 48.046875 40.453125 49.390625 \nQ 40.53125 50.734375 40.625 51.703125 \nQ 40.71875 52.6875 40.828125 52.828125 \nL 49.171875 52.828125 \nQ 49.125 52.390625 49.078125 51.34375 \nQ 49.03125 50.296875 48.96875 48.828125 \nQ 48.921875 47.359375 48.890625 45.578125 \nQ 48.875 43.796875 48.875 41.890625 \nL 48.875 1.515625 \nQ 48.875 -9.578125 43.421875 -15.15625 \nQ 37.984375 -20.75 26.765625 -20.75 \nz\nM 40.140625 26.421875 \nQ 40.140625 31.9375 38.9375 35.859375 \nQ 37.75 39.796875 35.796875 42.28125 \nQ 33.84375 44.78125 31.328125 45.953125 \nQ 28.8125 47.125 26.171875 47.125 \nQ 22.796875 47.125 20.375 45.953125 \nQ 17.96875 44.78125 16.375 42.265625 \nQ 14.796875 39.75 14.03125 35.8125 \nQ 13.28125 31.890625 13.28125 26.421875 \nQ 13.28125 20.703125 14.03125 16.8125 \nQ 14.796875 12.9375 16.359375 10.546875 \nQ 17.921875 8.15625 20.3125 7.125 \nQ 22.703125 6.109375 26.03125 6.109375 \nQ 28.65625 6.109375 31.171875 7.21875 \nQ 33.6875 8.34375 35.6875 10.78125 \nQ 37.703125 13.234375 38.921875 17.09375 \nQ 40.140625 20.953125 40.140625 26.421875 \nz\n\" id=\"LiberationSans-103\"/>\n      </defs>\n      <g style=\"fill:#262626;\" transform=\"translate(186.794063 38.328125)rotate(-90)scale(0.1 -0.1)\">\n       <use xlink:href=\"#LiberationSans-105\"/>\n       <use x=\"22.216797\" xlink:href=\"#LiberationSans-110\"/>\n       <use x=\"77.832031\" xlink:href=\"#LiberationSans-103\"/>\n       <use x=\"133.447266\" xlink:href=\"#LiberationSans-101\"/>\n       <use x=\"189.0625\" xlink:href=\"#LiberationSans-110\"/>\n      </g>\n     </g>\n    </g>\n    <g id=\"xtick_5\">\n     <g id=\"line2d_5\"/>\n     <g id=\"text_5\">\n      <!-- tvekan -->\n      <defs>\n       <path d=\"M 29.9375 0 \nL 19.53125 0 \nL 0.34375 52.828125 \nL 9.71875 52.828125 \nL 21.34375 18.453125 \nQ 21.6875 17.390625 22.140625 15.84375 \nQ 22.609375 14.3125 23.09375 12.640625 \nQ 23.578125 10.984375 24 9.4375 \nQ 24.421875 7.90625 24.703125 6.890625 \nQ 25 7.90625 25.453125 9.4375 \nQ 25.921875 10.984375 26.40625 12.59375 \nQ 26.90625 14.203125 27.421875 15.734375 \nQ 27.9375 17.28125 28.328125 18.359375 \nL 40.328125 52.828125 \nL 49.65625 52.828125 \nz\n\" id=\"LiberationSans-118\"/>\n       <path d=\"M 39.84375 0 \nL 21.96875 24.125 \nL 15.53125 18.796875 \nL 15.53125 0 \nL 6.734375 0 \nL 6.734375 72.46875 \nL 15.53125 72.46875 \nL 15.53125 27.203125 \nL 38.71875 52.828125 \nL 49.03125 52.828125 \nL 27.59375 30.125 \nL 50.140625 0 \nz\n\" id=\"LiberationSans-107\"/>\n      </defs>\n      <g style=\"fill:#262626;\" transform=\"translate(226.474063 38.328125)rotate(-90)scale(0.1 -0.1)\">\n       <use xlink:href=\"#LiberationSans-116\"/>\n       <use x=\"27.783203\" xlink:href=\"#LiberationSans-118\"/>\n       <use x=\"77.783203\" xlink:href=\"#LiberationSans-101\"/>\n       <use x=\"133.398438\" xlink:href=\"#LiberationSans-107\"/>\n       <use x=\"183.398438\" xlink:href=\"#LiberationSans-97\"/>\n       <use x=\"239.013672\" xlink:href=\"#LiberationSans-110\"/>\n      </g>\n     </g>\n    </g>\n    <g id=\"xtick_6\">\n     <g id=\"line2d_6\"/>\n     <g id=\"text_6\">\n      <!-- om -->\n      <defs>\n       <path d=\"M 51.421875 26.46875 \nQ 51.421875 12.59375 45.3125 5.796875 \nQ 39.203125 -0.984375 27.59375 -0.984375 \nQ 22.078125 -0.984375 17.71875 0.671875 \nQ 13.375 2.34375 10.375 5.765625 \nQ 7.375 9.1875 5.78125 14.328125 \nQ 4.203125 19.484375 4.203125 26.46875 \nQ 4.203125 53.8125 27.875 53.8125 \nQ 34.03125 53.8125 38.5 52.09375 \nQ 42.96875 50.390625 45.828125 46.96875 \nQ 48.6875 43.5625 50.046875 38.421875 \nQ 51.421875 33.296875 51.421875 26.46875 \nz\nM 42.1875 26.46875 \nQ 42.1875 32.625 41.234375 36.625 \nQ 40.28125 40.625 38.453125 43.015625 \nQ 36.625 45.40625 33.984375 46.359375 \nQ 31.34375 47.3125 28.03125 47.3125 \nQ 24.65625 47.3125 21.9375 46.3125 \nQ 19.234375 45.3125 17.328125 42.890625 \nQ 15.4375 40.484375 14.421875 36.46875 \nQ 13.421875 32.46875 13.421875 26.46875 \nQ 13.421875 20.3125 14.5 16.28125 \nQ 15.578125 12.25 17.453125 9.859375 \nQ 19.34375 7.46875 21.90625 6.484375 \nQ 24.46875 5.515625 27.484375 5.515625 \nQ 30.859375 5.515625 33.59375 6.46875 \nQ 36.328125 7.421875 38.234375 9.8125 \nQ 40.140625 12.203125 41.15625 16.25 \nQ 42.1875 20.3125 42.1875 26.46875 \nz\n\" id=\"LiberationSans-111\"/>\n       <path d=\"M 37.5 0 \nL 37.5 33.5 \nQ 37.5 37.359375 37.015625 39.9375 \nQ 36.53125 42.53125 35.375 44.109375 \nQ 34.234375 45.703125 32.375 46.359375 \nQ 30.515625 47.015625 27.828125 47.015625 \nQ 25.046875 47.015625 22.796875 45.921875 \nQ 20.5625 44.828125 18.96875 42.75 \nQ 17.390625 40.671875 16.53125 37.625 \nQ 15.671875 34.578125 15.671875 30.609375 \nL 15.671875 0 \nL 6.9375 0 \nL 6.9375 41.546875 \nQ 6.9375 43.21875 6.90625 45.046875 \nQ 6.890625 46.875 6.828125 48.5 \nQ 6.78125 50.140625 6.734375 51.3125 \nQ 6.6875 52.484375 6.640625 52.828125 \nL 14.9375 52.828125 \nQ 14.984375 52.59375 15.03125 51.515625 \nQ 15.09375 50.4375 15.15625 49.046875 \nQ 15.234375 47.65625 15.28125 46.21875 \nQ 15.328125 44.78125 15.328125 43.796875 \nL 15.484375 43.796875 \nQ 16.65625 46.09375 18.015625 47.953125 \nQ 19.390625 49.8125 21.21875 51.09375 \nQ 23.046875 52.390625 25.40625 53.09375 \nQ 27.78125 53.8125 30.90625 53.8125 \nQ 36.921875 53.8125 40.40625 51.421875 \nQ 43.890625 49.03125 45.265625 43.796875 \nL 45.40625 43.796875 \nQ 46.578125 46.09375 48.046875 47.953125 \nQ 49.515625 49.8125 51.46875 51.09375 \nQ 53.421875 52.390625 55.859375 53.09375 \nQ 58.296875 53.8125 61.421875 53.8125 \nQ 65.4375 53.8125 68.328125 52.734375 \nQ 71.234375 51.65625 73.09375 49.40625 \nQ 74.953125 47.171875 75.828125 43.625 \nQ 76.703125 40.09375 76.703125 35.203125 \nL 76.703125 0 \nL 68.015625 0 \nL 68.015625 33.5 \nQ 68.015625 37.359375 67.53125 39.9375 \nQ 67.046875 42.53125 65.890625 44.109375 \nQ 64.75 45.703125 62.890625 46.359375 \nQ 61.03125 47.015625 58.34375 47.015625 \nQ 55.5625 47.015625 53.3125 45.96875 \nQ 51.078125 44.921875 49.484375 42.875 \nQ 47.90625 40.828125 47.046875 37.75 \nQ 46.1875 34.671875 46.1875 30.609375 \nL 46.1875 0 \nz\n\" id=\"LiberationSans-109\"/>\n      </defs>\n      <g style=\"fill:#262626;\" transform=\"translate(266.154063 38.328125)rotate(-90)scale(0.1 -0.1)\">\n       <use xlink:href=\"#LiberationSans-111\"/>\n       <use x=\"55.615234\" xlink:href=\"#LiberationSans-109\"/>\n      </g>\n     </g>\n    </g>\n    <g id=\"xtick_7\">\n     <g id=\"line2d_7\"/>\n     <g id=\"text_7\">\n      <!-- det. -->\n      <defs>\n       <path d=\"M 9.125 0 \nL 9.125 10.6875 \nL 18.65625 10.6875 \nL 18.65625 0 \nz\n\" id=\"LiberationSans-46\"/>\n      </defs>\n      <g style=\"fill:#262626;\" transform=\"translate(305.834063 38.328125)rotate(-90)scale(0.1 -0.1)\">\n       <use xlink:href=\"#LiberationSans-100\"/>\n       <use x=\"55.615234\" xlink:href=\"#LiberationSans-101\"/>\n       <use x=\"111.230469\" xlink:href=\"#LiberationSans-116\"/>\n       <use x=\"139.013672\" xlink:href=\"#LiberationSans-46\"/>\n      </g>\n     </g>\n    </g>\n    <g id=\"xtick_8\">\n     <g id=\"line2d_8\"/>\n    </g>\n    <g id=\"xtick_9\">\n     <g id=\"line2d_9\"/>\n    </g>\n   </g>\n   <g id=\"matplotlib.axis_2\">\n    <g id=\"ytick_1\">\n     <g id=\"line2d_10\"/>\n     <g id=\"text_8\">\n      <!-- &lt;start&gt; -->\n      <g style=\"fill:#262626;\" transform=\"translate(7.2 67.637813)scale(0.1 -0.1)\">\n       <use xlink:href=\"#LiberationSans-60\"/>\n       <use x=\"58.398438\" xlink:href=\"#LiberationSans-115\"/>\n       <use x=\"108.398438\" xlink:href=\"#LiberationSans-116\"/>\n       <use x=\"136.181641\" xlink:href=\"#LiberationSans-97\"/>\n       <use x=\"191.796875\" xlink:href=\"#LiberationSans-114\"/>\n       <use x=\"225.097656\" xlink:href=\"#LiberationSans-116\"/>\n       <use x=\"252.880859\" xlink:href=\"#LiberationSans-62\"/>\n      </g>\n     </g>\n    </g>\n    <g id=\"ytick_2\">\n     <g id=\"line2d_11\"/>\n     <g id=\"text_9\">\n      <!-- There -->\n      <defs>\n       <path d=\"M 35.15625 61.1875 \nL 35.15625 0 \nL 25.875 0 \nL 25.875 61.1875 \nL 2.25 61.1875 \nL 2.25 68.796875 \nL 58.796875 68.796875 \nL 58.796875 61.1875 \nz\n\" id=\"LiberationSans-84\"/>\n       <path d=\"M 15.484375 43.796875 \nQ 16.9375 46.484375 18.640625 48.359375 \nQ 20.359375 50.25 22.40625 51.46875 \nQ 24.46875 52.6875 26.90625 53.25 \nQ 29.34375 53.8125 32.375 53.8125 \nQ 37.453125 53.8125 40.703125 52.4375 \nQ 43.953125 51.078125 45.828125 48.609375 \nQ 47.703125 46.140625 48.40625 42.71875 \nQ 49.125 39.3125 49.125 35.203125 \nL 49.125 0 \nL 40.28125 0 \nL 40.28125 33.5 \nQ 40.28125 36.859375 39.859375 39.390625 \nQ 39.453125 41.9375 38.28125 43.625 \nQ 37.109375 45.3125 34.953125 46.15625 \nQ 32.8125 47.015625 29.390625 47.015625 \nQ 26.265625 47.015625 23.75 45.890625 \nQ 21.234375 44.78125 19.453125 42.71875 \nQ 17.671875 40.671875 16.6875 37.734375 \nQ 15.71875 34.8125 15.71875 31.15625 \nL 15.71875 0 \nL 6.9375 0 \nL 6.9375 72.46875 \nL 15.71875 72.46875 \nL 15.71875 53.609375 \nQ 15.71875 52 15.671875 50.390625 \nQ 15.625 48.78125 15.546875 47.40625 \nQ 15.484375 46.046875 15.421875 45.09375 \nQ 15.375 44.140625 15.328125 43.796875 \nz\n\" id=\"LiberationSans-104\"/>\n      </defs>\n      <g style=\"fill:#262626;\" transform=\"translate(12.207812 105.010312)scale(0.1 -0.1)\">\n       <use xlink:href=\"#LiberationSans-84\"/>\n       <use x=\"61.083984\" xlink:href=\"#LiberationSans-104\"/>\n       <use x=\"116.699219\" xlink:href=\"#LiberationSans-101\"/>\n       <use x=\"172.314453\" xlink:href=\"#LiberationSans-114\"/>\n       <use x=\"205.615234\" xlink:href=\"#LiberationSans-101\"/>\n      </g>\n     </g>\n    </g>\n    <g id=\"ytick_3\">\n     <g id=\"line2d_12\"/>\n     <g id=\"text_10\">\n      <!-- is -->\n      <g style=\"fill:#262626;\" transform=\"translate(31.10625 142.382812)scale(0.1 -0.1)\">\n       <use xlink:href=\"#LiberationSans-105\"/>\n       <use x=\"22.216797\" xlink:href=\"#LiberationSans-115\"/>\n      </g>\n     </g>\n    </g>\n    <g id=\"ytick_4\">\n     <g id=\"line2d_13\"/>\n     <g id=\"text_11\">\n      <!-- no -->\n      <g style=\"fill:#262626;\" transform=\"translate(27.20625 179.755313)scale(0.1 -0.1)\">\n       <use xlink:href=\"#LiberationSans-110\"/>\n       <use x=\"55.615234\" xlink:href=\"#LiberationSans-111\"/>\n      </g>\n     </g>\n    </g>\n    <g id=\"ytick_5\">\n     <g id=\"line2d_14\"/>\n     <g id=\"text_12\">\n      <!-- doubt -->\n      <defs>\n       <path d=\"M 15.328125 52.828125 \nL 15.328125 19.34375 \nQ 15.328125 15.484375 15.890625 12.890625 \nQ 16.453125 10.296875 17.71875 8.703125 \nQ 19 7.125 21.0625 6.46875 \nQ 23.140625 5.8125 26.21875 5.8125 \nQ 29.34375 5.8125 31.859375 6.90625 \nQ 34.375 8.015625 36.15625 10.078125 \nQ 37.9375 12.15625 38.90625 15.203125 \nQ 39.890625 18.265625 39.890625 22.21875 \nL 39.890625 52.828125 \nL 48.6875 52.828125 \nL 48.6875 11.28125 \nQ 48.6875 9.625 48.703125 7.78125 \nQ 48.734375 5.953125 48.78125 4.3125 \nQ 48.828125 2.6875 48.875 1.515625 \nQ 48.921875 0.34375 48.96875 0 \nL 40.671875 0 \nQ 40.625 0.25 40.578125 1.3125 \nQ 40.53125 2.390625 40.453125 3.78125 \nQ 40.375 5.171875 40.328125 6.609375 \nQ 40.28125 8.0625 40.28125 9.03125 \nL 40.140625 9.03125 \nQ 38.875 6.734375 37.359375 4.875 \nQ 35.84375 3.03125 33.84375 1.734375 \nQ 31.84375 0.4375 29.25 -0.265625 \nQ 26.65625 -0.984375 23.25 -0.984375 \nQ 18.84375 -0.984375 15.671875 0.09375 \nQ 12.5 1.171875 10.453125 3.421875 \nQ 8.40625 5.671875 7.453125 9.1875 \nQ 6.5 12.703125 6.5 17.625 \nL 6.5 52.828125 \nz\n\" id=\"LiberationSans-117\"/>\n       <path d=\"M 51.421875 26.65625 \nQ 51.421875 -0.984375 31.984375 -0.984375 \nQ 25.984375 -0.984375 22 1.1875 \nQ 18.015625 3.375 15.53125 8.203125 \nL 15.4375 8.203125 \nQ 15.4375 6.9375 15.359375 5.5625 \nQ 15.28125 4.203125 15.203125 3.03125 \nQ 15.140625 1.859375 15.0625 1.03125 \nQ 14.984375 0.203125 14.9375 0 \nL 6.453125 0 \nQ 6.5 0.4375 6.546875 1.484375 \nQ 6.59375 2.546875 6.640625 4 \nQ 6.6875 5.46875 6.703125 7.21875 \nQ 6.734375 8.984375 6.734375 10.890625 \nL 6.734375 72.46875 \nL 15.53125 72.46875 \nL 15.53125 51.8125 \nQ 15.53125 50.34375 15.5 49 \nQ 15.484375 47.65625 15.4375 46.625 \nQ 15.375 45.40625 15.328125 44.34375 \nL 15.53125 44.34375 \nQ 17.96875 49.421875 22 51.609375 \nQ 26.03125 53.8125 31.984375 53.8125 \nQ 42 53.8125 46.703125 47.0625 \nQ 51.421875 40.328125 51.421875 26.65625 \nz\nM 42.1875 26.375 \nQ 42.1875 31.84375 41.5 35.75 \nQ 40.828125 39.65625 39.3125 42.15625 \nQ 37.796875 44.671875 35.453125 45.84375 \nQ 33.109375 47.015625 29.734375 47.015625 \nQ 26.265625 47.015625 23.609375 45.890625 \nQ 20.953125 44.78125 19.171875 42.28125 \nQ 17.390625 39.796875 16.453125 35.734375 \nQ 15.53125 31.6875 15.53125 25.828125 \nQ 15.53125 20.171875 16.453125 16.3125 \nQ 17.390625 12.453125 19.171875 10.03125 \nQ 20.953125 7.625 23.578125 6.5625 \nQ 26.21875 5.515625 29.640625 5.515625 \nQ 32.859375 5.515625 35.203125 6.640625 \nQ 37.546875 7.765625 39.109375 10.25 \nQ 40.671875 12.75 41.421875 16.71875 \nQ 42.1875 20.703125 42.1875 26.375 \nz\n\" id=\"LiberationSans-98\"/>\n      </defs>\n      <g style=\"fill:#262626;\" transform=\"translate(13.30625 217.127813)scale(0.1 -0.1)\">\n       <use xlink:href=\"#LiberationSans-100\"/>\n       <use x=\"55.615234\" xlink:href=\"#LiberationSans-111\"/>\n       <use x=\"111.230469\" xlink:href=\"#LiberationSans-117\"/>\n       <use x=\"166.845703\" xlink:href=\"#LiberationSans-98\"/>\n       <use x=\"222.460938\" xlink:href=\"#LiberationSans-116\"/>\n      </g>\n     </g>\n    </g>\n    <g id=\"ytick_6\">\n     <g id=\"line2d_15\"/>\n     <g id=\"text_13\">\n      <!-- about -->\n      <g style=\"fill:#262626;\" transform=\"translate(13.30625 254.500313)scale(0.1 -0.1)\">\n       <use xlink:href=\"#LiberationSans-97\"/>\n       <use x=\"55.615234\" xlink:href=\"#LiberationSans-98\"/>\n       <use x=\"111.230469\" xlink:href=\"#LiberationSans-111\"/>\n       <use x=\"166.845703\" xlink:href=\"#LiberationSans-117\"/>\n       <use x=\"222.460938\" xlink:href=\"#LiberationSans-116\"/>\n      </g>\n     </g>\n    </g>\n    <g id=\"ytick_7\">\n     <g id=\"line2d_16\"/>\n     <g id=\"text_14\">\n      <!-- that. -->\n      <g style=\"fill:#262626;\" transform=\"translate(18.871875 291.872813)scale(0.1 -0.1)\">\n       <use xlink:href=\"#LiberationSans-116\"/>\n       <use x=\"27.783203\" xlink:href=\"#LiberationSans-104\"/>\n       <use x=\"83.398438\" xlink:href=\"#LiberationSans-97\"/>\n       <use x=\"139.013672\" xlink:href=\"#LiberationSans-116\"/>\n       <use x=\"166.796875\" xlink:href=\"#LiberationSans-46\"/>\n      </g>\n     </g>\n    </g>\n    <g id=\"ytick_8\">\n     <g id=\"line2d_17\"/>\n    </g>\n   </g>\n   <g id=\"PolyCollection_1\">\n    <path clip-path=\"url(#p19d9c387ba)\" d=\"M 45.328125 45.328125 \nL 45.328125 82.700625 \nL 85.008125 82.700625 \nL 85.008125 45.328125 \nL 45.328125 45.328125 \nz\n\" style=\"fill:#0862a5;\"/>\n    <path clip-path=\"url(#p19d9c387ba)\" d=\"M 85.008125 45.328125 \nL 85.008125 82.700625 \nL 124.688125 82.700625 \nL 124.688125 45.328125 \nL 85.008125 45.328125 \nz\n\" style=\"fill:#085497;\"/>\n    <path clip-path=\"url(#p19d9c387ba)\" d=\"M 124.688125 45.328125 \nL 124.688125 82.700625 \nL 164.368125 82.700625 \nL 164.368125 45.328125 \nL 124.688125 45.328125 \nz\n\" style=\"fill:#0864a8;\"/>\n    <path clip-path=\"url(#p19d9c387ba)\" d=\"M 164.368125 45.328125 \nL 164.368125 82.700625 \nL 204.048125 82.700625 \nL 204.048125 45.328125 \nL 164.368125 45.328125 \nz\n\" style=\"fill:#69c2ca;\"/>\n    <path clip-path=\"url(#p19d9c387ba)\" d=\"M 204.048125 45.328125 \nL 204.048125 82.700625 \nL 243.728125 82.700625 \nL 243.728125 45.328125 \nL 204.048125 45.328125 \nz\n\" style=\"fill:#1171b1;\"/>\n    <path clip-path=\"url(#p19d9c387ba)\" d=\"M 243.728125 45.328125 \nL 243.728125 82.700625 \nL 283.408125 82.700625 \nL 283.408125 45.328125 \nL 243.728125 45.328125 \nz\n\" style=\"fill:#75c8c6;\"/>\n    <path clip-path=\"url(#p19d9c387ba)\" d=\"M 283.408125 45.328125 \nL 283.408125 82.700625 \nL 323.088125 82.700625 \nL 323.088125 45.328125 \nL 283.408125 45.328125 \nz\n\" style=\"fill:#1576b3;\"/>\n    <path clip-path=\"url(#p19d9c387ba)\" d=\"M 323.088125 45.328125 \nL 323.088125 82.700625 \nL 362.768125 82.700625 \nL 362.768125 45.328125 \nL 323.088125 45.328125 \nz\n\" style=\"fill:#1e7fb7;\"/>\n    <path clip-path=\"url(#p19d9c387ba)\" d=\"M 362.768125 45.328125 \nL 362.768125 82.700625 \nL 402.448125 82.700625 \nL 402.448125 45.328125 \nL 362.768125 45.328125 \nz\n\" style=\"fill:#0868ac;\"/>\n    <path clip-path=\"url(#p19d9c387ba)\" d=\"M 45.328125 82.700625 \nL 45.328125 120.073125 \nL 85.008125 120.073125 \nL 85.008125 82.700625 \nL 45.328125 82.700625 \nz\n\" style=\"fill:#084e90;\"/>\n    <path clip-path=\"url(#p19d9c387ba)\" d=\"M 85.008125 82.700625 \nL 85.008125 120.073125 \nL 124.688125 120.073125 \nL 124.688125 82.700625 \nL 85.008125 82.700625 \nz\n\" style=\"fill:#f7fcf0;\"/>\n    <path clip-path=\"url(#p19d9c387ba)\" d=\"M 124.688125 82.700625 \nL 124.688125 120.073125 \nL 164.368125 120.073125 \nL 164.368125 82.700625 \nL 124.688125 82.700625 \nz\n\" style=\"fill:#085497;\"/>\n    <path clip-path=\"url(#p19d9c387ba)\" d=\"M 164.368125 82.700625 \nL 164.368125 120.073125 \nL 204.048125 120.073125 \nL 204.048125 82.700625 \nL 164.368125 82.700625 \nz\n\" style=\"fill:#084d8e;\"/>\n    <path clip-path=\"url(#p19d9c387ba)\" d=\"M 204.048125 82.700625 \nL 204.048125 120.073125 \nL 243.728125 120.073125 \nL 243.728125 82.700625 \nL 204.048125 82.700625 \nz\n\" style=\"fill:#a7ddb5;\"/>\n    <path clip-path=\"url(#p19d9c387ba)\" d=\"M 243.728125 82.700625 \nL 243.728125 120.073125 \nL 283.408125 120.073125 \nL 283.408125 82.700625 \nL 243.728125 82.700625 \nz\n\" style=\"fill:#085395;\"/>\n    <path clip-path=\"url(#p19d9c387ba)\" d=\"M 283.408125 82.700625 \nL 283.408125 120.073125 \nL 323.088125 120.073125 \nL 323.088125 82.700625 \nL 283.408125 82.700625 \nz\n\" style=\"fill:#084081;\"/>\n    <path clip-path=\"url(#p19d9c387ba)\" d=\"M 323.088125 82.700625 \nL 323.088125 120.073125 \nL 362.768125 120.073125 \nL 362.768125 82.700625 \nL 323.088125 82.700625 \nz\n\" style=\"fill:#084485;\"/>\n    <path clip-path=\"url(#p19d9c387ba)\" d=\"M 362.768125 82.700625 \nL 362.768125 120.073125 \nL 402.448125 120.073125 \nL 402.448125 82.700625 \nL 362.768125 82.700625 \nz\n\" style=\"fill:#084b8d;\"/>\n    <path clip-path=\"url(#p19d9c387ba)\" d=\"M 45.328125 120.073125 \nL 45.328125 157.445625 \nL 85.008125 157.445625 \nL 85.008125 120.073125 \nL 45.328125 120.073125 \nz\n\" style=\"fill:#2d8fbf;\"/>\n    <path clip-path=\"url(#p19d9c387ba)\" d=\"M 85.008125 120.073125 \nL 85.008125 157.445625 \nL 124.688125 157.445625 \nL 124.688125 120.073125 \nL 85.008125 120.073125 \nz\n\" style=\"fill:#0863a7;\"/>\n    <path clip-path=\"url(#p19d9c387ba)\" d=\"M 124.688125 120.073125 \nL 124.688125 157.445625 \nL 164.368125 157.445625 \nL 164.368125 120.073125 \nL 124.688125 120.073125 \nz\n\" style=\"fill:#085c9f;\"/>\n    <path clip-path=\"url(#p19d9c387ba)\" d=\"M 164.368125 120.073125 \nL 164.368125 157.445625 \nL 204.048125 157.445625 \nL 204.048125 120.073125 \nL 164.368125 120.073125 \nz\n\" style=\"fill:#5dbbce;\"/>\n    <path clip-path=\"url(#p19d9c387ba)\" d=\"M 204.048125 120.073125 \nL 204.048125 157.445625 \nL 243.728125 157.445625 \nL 243.728125 120.073125 \nL 204.048125 120.073125 \nz\n\" style=\"fill:#50b4d2;\"/>\n    <path clip-path=\"url(#p19d9c387ba)\" d=\"M 243.728125 120.073125 \nL 243.728125 157.445625 \nL 283.408125 157.445625 \nL 283.408125 120.073125 \nL 243.728125 120.073125 \nz\n\" style=\"fill:#0861a4;\"/>\n    <path clip-path=\"url(#p19d9c387ba)\" d=\"M 283.408125 120.073125 \nL 283.408125 157.445625 \nL 323.088125 157.445625 \nL 323.088125 120.073125 \nL 283.408125 120.073125 \nz\n\" style=\"fill:#1171b1;\"/>\n    <path clip-path=\"url(#p19d9c387ba)\" d=\"M 323.088125 120.073125 \nL 323.088125 157.445625 \nL 362.768125 157.445625 \nL 362.768125 120.073125 \nL 323.088125 120.073125 \nz\n\" style=\"fill:#0868ac;\"/>\n    <path clip-path=\"url(#p19d9c387ba)\" d=\"M 362.768125 120.073125 \nL 362.768125 157.445625 \nL 402.448125 157.445625 \nL 402.448125 120.073125 \nL 362.768125 120.073125 \nz\n\" style=\"fill:#2788bc;\"/>\n    <path clip-path=\"url(#p19d9c387ba)\" d=\"M 45.328125 157.445625 \nL 45.328125 194.818125 \nL 85.008125 194.818125 \nL 85.008125 157.445625 \nL 45.328125 157.445625 \nz\n\" style=\"fill:#aadeb6;\"/>\n    <path clip-path=\"url(#p19d9c387ba)\" d=\"M 85.008125 157.445625 \nL 85.008125 194.818125 \nL 124.688125 194.818125 \nL 124.688125 157.445625 \nL 85.008125 157.445625 \nz\n\" style=\"fill:#08599c;\"/>\n    <path clip-path=\"url(#p19d9c387ba)\" d=\"M 124.688125 157.445625 \nL 124.688125 194.818125 \nL 164.368125 194.818125 \nL 164.368125 157.445625 \nL 124.688125 157.445625 \nz\n\" style=\"fill:#0864a8;\"/>\n    <path clip-path=\"url(#p19d9c387ba)\" d=\"M 164.368125 157.445625 \nL 164.368125 194.818125 \nL 204.048125 194.818125 \nL 204.048125 157.445625 \nL 164.368125 157.445625 \nz\n\" style=\"fill:#085294;\"/>\n    <path clip-path=\"url(#p19d9c387ba)\" d=\"M 204.048125 157.445625 \nL 204.048125 194.818125 \nL 243.728125 194.818125 \nL 243.728125 157.445625 \nL 204.048125 157.445625 \nz\n\" style=\"fill:#9cd9b9;\"/>\n    <path clip-path=\"url(#p19d9c387ba)\" d=\"M 243.728125 157.445625 \nL 243.728125 194.818125 \nL 283.408125 194.818125 \nL 283.408125 157.445625 \nL 243.728125 157.445625 \nz\n\" style=\"fill:#08498a;\"/>\n    <path clip-path=\"url(#p19d9c387ba)\" d=\"M 283.408125 157.445625 \nL 283.408125 194.818125 \nL 323.088125 194.818125 \nL 323.088125 157.445625 \nL 283.408125 157.445625 \nz\n\" style=\"fill:#084688;\"/>\n    <path clip-path=\"url(#p19d9c387ba)\" d=\"M 323.088125 157.445625 \nL 323.088125 194.818125 \nL 362.768125 194.818125 \nL 362.768125 157.445625 \nL 323.088125 157.445625 \nz\n\" style=\"fill:#084a8c;\"/>\n    <path clip-path=\"url(#p19d9c387ba)\" d=\"M 362.768125 157.445625 \nL 362.768125 194.818125 \nL 402.448125 194.818125 \nL 402.448125 157.445625 \nL 362.768125 157.445625 \nz\n\" style=\"fill:#40a4cb;\"/>\n    <path clip-path=\"url(#p19d9c387ba)\" d=\"M 45.328125 194.818125 \nL 45.328125 232.190625 \nL 85.008125 232.190625 \nL 85.008125 194.818125 \nL 45.328125 194.818125 \nz\n\" style=\"fill:#81cec2;\"/>\n    <path clip-path=\"url(#p19d9c387ba)\" d=\"M 85.008125 194.818125 \nL 85.008125 232.190625 \nL 124.688125 232.190625 \nL 124.688125 194.818125 \nL 85.008125 194.818125 \nz\n\" style=\"fill:#084384;\"/>\n    <path clip-path=\"url(#p19d9c387ba)\" d=\"M 124.688125 194.818125 \nL 124.688125 232.190625 \nL 164.368125 232.190625 \nL 164.368125 194.818125 \nL 124.688125 194.818125 \nz\n\" style=\"fill:#085799;\"/>\n    <path clip-path=\"url(#p19d9c387ba)\" d=\"M 164.368125 194.818125 \nL 164.368125 232.190625 \nL 204.048125 232.190625 \nL 204.048125 194.818125 \nL 164.368125 194.818125 \nz\n\" style=\"fill:#085294;\"/>\n    <path clip-path=\"url(#p19d9c387ba)\" d=\"M 204.048125 194.818125 \nL 204.048125 232.190625 \nL 243.728125 232.190625 \nL 243.728125 194.818125 \nL 204.048125 194.818125 \nz\n\" style=\"fill:#3294c2;\"/>\n    <path clip-path=\"url(#p19d9c387ba)\" d=\"M 243.728125 194.818125 \nL 243.728125 232.190625 \nL 283.408125 232.190625 \nL 283.408125 194.818125 \nL 243.728125 194.818125 \nz\n\" style=\"fill:#2b8cbe;\"/>\n    <path clip-path=\"url(#p19d9c387ba)\" d=\"M 283.408125 194.818125 \nL 283.408125 232.190625 \nL 323.088125 232.190625 \nL 323.088125 194.818125 \nL 283.408125 194.818125 \nz\n\" style=\"fill:#085fa3;\"/>\n    <path clip-path=\"url(#p19d9c387ba)\" d=\"M 323.088125 194.818125 \nL 323.088125 232.190625 \nL 362.768125 232.190625 \nL 362.768125 194.818125 \nL 323.088125 194.818125 \nz\n\" style=\"fill:#0b6cae;\"/>\n    <path clip-path=\"url(#p19d9c387ba)\" d=\"M 362.768125 194.818125 \nL 362.768125 232.190625 \nL 402.448125 232.190625 \nL 402.448125 194.818125 \nL 362.768125 194.818125 \nz\n\" style=\"fill:#6fc5c8;\"/>\n    <path clip-path=\"url(#p19d9c387ba)\" d=\"M 45.328125 232.190625 \nL 45.328125 269.563125 \nL 85.008125 269.563125 \nL 85.008125 232.190625 \nL 45.328125 232.190625 \nz\n\" style=\"fill:#6bc3c9;\"/>\n    <path clip-path=\"url(#p19d9c387ba)\" d=\"M 85.008125 232.190625 \nL 85.008125 269.563125 \nL 124.688125 269.563125 \nL 124.688125 232.190625 \nL 85.008125 232.190625 \nz\n\" style=\"fill:#084081;\"/>\n    <path clip-path=\"url(#p19d9c387ba)\" d=\"M 124.688125 232.190625 \nL 124.688125 269.563125 \nL 164.368125 269.563125 \nL 164.368125 232.190625 \nL 124.688125 232.190625 \nz\n\" style=\"fill:#085395;\"/>\n    <path clip-path=\"url(#p19d9c387ba)\" d=\"M 164.368125 232.190625 \nL 164.368125 269.563125 \nL 204.048125 269.563125 \nL 204.048125 232.190625 \nL 164.368125 232.190625 \nz\n\" style=\"fill:#085da0;\"/>\n    <path clip-path=\"url(#p19d9c387ba)\" d=\"M 204.048125 232.190625 \nL 204.048125 269.563125 \nL 243.728125 269.563125 \nL 243.728125 232.190625 \nL 204.048125 232.190625 \nz\n\" style=\"fill:#0861a4;\"/>\n    <path clip-path=\"url(#p19d9c387ba)\" d=\"M 243.728125 232.190625 \nL 243.728125 269.563125 \nL 283.408125 269.563125 \nL 283.408125 232.190625 \nL 243.728125 232.190625 \nz\n\" style=\"fill:#0863a7;\"/>\n    <path clip-path=\"url(#p19d9c387ba)\" d=\"M 283.408125 232.190625 \nL 283.408125 269.563125 \nL 323.088125 269.563125 \nL 323.088125 232.190625 \nL 283.408125 232.190625 \nz\n\" style=\"fill:#45a8cd;\"/>\n    <path clip-path=\"url(#p19d9c387ba)\" d=\"M 323.088125 232.190625 \nL 323.088125 269.563125 \nL 362.768125 269.563125 \nL 362.768125 232.190625 \nL 323.088125 232.190625 \nz\n\" style=\"fill:#2b8cbe;\"/>\n    <path clip-path=\"url(#p19d9c387ba)\" d=\"M 362.768125 232.190625 \nL 362.768125 269.563125 \nL 402.448125 269.563125 \nL 402.448125 232.190625 \nL 362.768125 232.190625 \nz\n\" style=\"fill:#72c7c7;\"/>\n    <path clip-path=\"url(#p19d9c387ba)\" d=\"M 45.328125 269.563125 \nL 45.328125 306.935625 \nL 85.008125 306.935625 \nL 85.008125 269.563125 \nL 45.328125 269.563125 \nz\n\" style=\"fill:#9cd9b9;\"/>\n    <path clip-path=\"url(#p19d9c387ba)\" d=\"M 85.008125 269.563125 \nL 85.008125 306.935625 \nL 124.688125 306.935625 \nL 124.688125 269.563125 \nL 85.008125 269.563125 \nz\n\" style=\"fill:#084081;\"/>\n    <path clip-path=\"url(#p19d9c387ba)\" d=\"M 124.688125 269.563125 \nL 124.688125 306.935625 \nL 164.368125 306.935625 \nL 164.368125 269.563125 \nL 124.688125 269.563125 \nz\n\" style=\"fill:#084b8d;\"/>\n    <path clip-path=\"url(#p19d9c387ba)\" d=\"M 164.368125 269.563125 \nL 164.368125 306.935625 \nL 204.048125 306.935625 \nL 204.048125 269.563125 \nL 164.368125 269.563125 \nz\n\" style=\"fill:#0863a7;\"/>\n    <path clip-path=\"url(#p19d9c387ba)\" d=\"M 204.048125 269.563125 \nL 204.048125 306.935625 \nL 243.728125 306.935625 \nL 243.728125 269.563125 \nL 204.048125 269.563125 \nz\n\" style=\"fill:#084b8d;\"/>\n    <path clip-path=\"url(#p19d9c387ba)\" d=\"M 243.728125 269.563125 \nL 243.728125 306.935625 \nL 283.408125 306.935625 \nL 283.408125 269.563125 \nL 243.728125 269.563125 \nz\n\" style=\"fill:#2182b9;\"/>\n    <path clip-path=\"url(#p19d9c387ba)\" d=\"M 283.408125 269.563125 \nL 283.408125 306.935625 \nL 323.088125 306.935625 \nL 323.088125 269.563125 \nL 283.408125 269.563125 \nz\n\" style=\"fill:#085497;\"/>\n    <path clip-path=\"url(#p19d9c387ba)\" d=\"M 323.088125 269.563125 \nL 323.088125 306.935625 \nL 362.768125 306.935625 \nL 362.768125 269.563125 \nL 323.088125 269.563125 \nz\n\" style=\"fill:#1d7eb7;\"/>\n    <path clip-path=\"url(#p19d9c387ba)\" d=\"M 362.768125 269.563125 \nL 362.768125 306.935625 \nL 402.448125 306.935625 \nL 402.448125 269.563125 \nL 362.768125 269.563125 \nz\n\" style=\"fill:#a7ddb5;\"/>\n    <path clip-path=\"url(#p19d9c387ba)\" d=\"M 45.328125 306.935625 \nL 45.328125 344.308125 \nL 85.008125 344.308125 \nL 85.008125 306.935625 \nL 45.328125 306.935625 \nz\n\" style=\"fill:#ebf7e5;\"/>\n    <path clip-path=\"url(#p19d9c387ba)\" d=\"M 85.008125 306.935625 \nL 85.008125 344.308125 \nL 124.688125 344.308125 \nL 124.688125 306.935625 \nL 85.008125 306.935625 \nz\n\" style=\"fill:#084688;\"/>\n    <path clip-path=\"url(#p19d9c387ba)\" d=\"M 124.688125 306.935625 \nL 124.688125 344.308125 \nL 164.368125 344.308125 \nL 164.368125 306.935625 \nL 124.688125 306.935625 \nz\n\" style=\"fill:#085093;\"/>\n    <path clip-path=\"url(#p19d9c387ba)\" d=\"M 164.368125 306.935625 \nL 164.368125 344.308125 \nL 204.048125 344.308125 \nL 204.048125 306.935625 \nL 164.368125 306.935625 \nz\n\" style=\"fill:#084485;\"/>\n    <path clip-path=\"url(#p19d9c387ba)\" d=\"M 204.048125 306.935625 \nL 204.048125 344.308125 \nL 243.728125 344.308125 \nL 243.728125 306.935625 \nL 204.048125 306.935625 \nz\n\" style=\"fill:#08498a;\"/>\n    <path clip-path=\"url(#p19d9c387ba)\" d=\"M 243.728125 306.935625 \nL 243.728125 344.308125 \nL 283.408125 344.308125 \nL 283.408125 306.935625 \nL 243.728125 306.935625 \nz\n\" style=\"fill:#084889;\"/>\n    <path clip-path=\"url(#p19d9c387ba)\" d=\"M 283.408125 306.935625 \nL 283.408125 344.308125 \nL 323.088125 344.308125 \nL 323.088125 306.935625 \nL 283.408125 306.935625 \nz\n\" style=\"fill:#084d8e;\"/>\n    <path clip-path=\"url(#p19d9c387ba)\" d=\"M 323.088125 306.935625 \nL 323.088125 344.308125 \nL 362.768125 344.308125 \nL 362.768125 306.935625 \nL 323.088125 306.935625 \nz\n\" style=\"fill:#085ea1;\"/>\n    <path clip-path=\"url(#p19d9c387ba)\" d=\"M 362.768125 306.935625 \nL 362.768125 344.308125 \nL 402.448125 344.308125 \nL 402.448125 306.935625 \nL 362.768125 306.935625 \nz\n\" style=\"fill:#b7e3bc;\"/>\n   </g>\n   <g id=\"patch_3\">\n    <path d=\"M 45.328125 344.308125 \nL 45.328125 45.328125 \n\" style=\"fill:none;\"/>\n   </g>\n   <g id=\"patch_4\">\n    <path d=\"M 402.448125 344.308125 \nL 402.448125 45.328125 \n\" style=\"fill:none;\"/>\n   </g>\n   <g id=\"patch_5\">\n    <path d=\"M 45.328125 344.308125 \nL 402.448125 344.308125 \n\" style=\"fill:none;\"/>\n   </g>\n   <g id=\"patch_6\">\n    <path d=\"M 45.328125 45.328125 \nL 402.448125 45.328125 \n\" style=\"fill:none;\"/>\n   </g>\n  </g>\n  <g id=\"axes_2\">\n   <g id=\"patch_7\">\n    <path clip-path=\"url(#pba7b5f44eb)\" d=\"M 424.768125 344.308125 \nL 424.768125 343.140234 \nL 424.768125 46.496016 \nL 424.768125 45.328125 \nL 439.717125 45.328125 \nL 439.717125 46.496016 \nL 439.717125 343.140234 \nL 439.717125 344.308125 \nz\n\" style=\"fill:#eaeaf2;stroke:#eaeaf2;stroke-linejoin:miter;stroke-width:0.01;\"/>\n   </g>\n   <g id=\"matplotlib.axis_3\"/>\n   <g id=\"matplotlib.axis_4\">\n    <g id=\"ytick_9\">\n     <g id=\"line2d_18\"/>\n     <g id=\"text_15\">\n      <!-- 0.1 -->\n      <defs>\n       <path d=\"M 51.703125 34.421875 \nQ 51.703125 24.515625 49.828125 17.75 \nQ 47.953125 10.984375 44.703125 6.8125 \nQ 41.453125 2.640625 37.0625 0.828125 \nQ 32.671875 -0.984375 27.6875 -0.984375 \nQ 22.65625 -0.984375 18.3125 0.828125 \nQ 13.96875 2.640625 10.765625 6.78125 \nQ 7.5625 10.9375 5.734375 17.703125 \nQ 3.90625 24.46875 3.90625 34.421875 \nQ 3.90625 44.828125 5.734375 51.640625 \nQ 7.5625 58.453125 10.78125 62.5 \nQ 14.015625 66.546875 18.40625 68.1875 \nQ 22.796875 69.828125 27.984375 69.828125 \nQ 32.90625 69.828125 37.21875 68.1875 \nQ 41.546875 66.546875 44.765625 62.5 \nQ 48 58.453125 49.84375 51.640625 \nQ 51.703125 44.828125 51.703125 34.421875 \nz\nM 42.78125 34.421875 \nQ 42.78125 42.625 41.796875 48.0625 \nQ 40.828125 53.515625 38.921875 56.765625 \nQ 37.015625 60.015625 34.25 61.359375 \nQ 31.5 62.703125 27.984375 62.703125 \nQ 24.265625 62.703125 21.4375 61.328125 \nQ 18.609375 59.96875 16.671875 56.71875 \nQ 14.75 53.46875 13.765625 48.015625 \nQ 12.796875 42.578125 12.796875 34.421875 \nQ 12.796875 26.515625 13.796875 21.09375 \nQ 14.796875 15.671875 16.71875 12.375 \nQ 18.65625 9.078125 21.4375 7.640625 \nQ 24.21875 6.203125 27.78125 6.203125 \nQ 31.25 6.203125 34.03125 7.640625 \nQ 36.8125 9.078125 38.734375 12.375 \nQ 40.671875 15.671875 41.71875 21.09375 \nQ 42.78125 26.515625 42.78125 34.421875 \nz\n\" id=\"LiberationSans-48\"/>\n       <path d=\"M 7.625 0 \nL 7.625 7.46875 \nL 25.140625 7.46875 \nL 25.140625 60.40625 \nL 9.625 49.3125 \nL 9.625 57.625 \nL 25.875 68.796875 \nL 33.984375 68.796875 \nL 33.984375 7.46875 \nL 50.734375 7.46875 \nL 50.734375 0 \nz\n\" id=\"LiberationSans-49\"/>\n      </defs>\n      <g style=\"fill:#262626;\" transform=\"translate(446.717125 291.677577)scale(0.1 -0.1)\">\n       <use xlink:href=\"#LiberationSans-48\"/>\n       <use x=\"55.615234\" xlink:href=\"#LiberationSans-46\"/>\n       <use x=\"83.398438\" xlink:href=\"#LiberationSans-49\"/>\n      </g>\n     </g>\n    </g>\n    <g id=\"ytick_10\">\n     <g id=\"line2d_19\"/>\n     <g id=\"text_16\">\n      <!-- 0.2 -->\n      <defs>\n       <path d=\"M 5.03125 0 \nL 5.03125 6.203125 \nQ 7.515625 11.921875 11.109375 16.28125 \nQ 14.703125 20.65625 18.65625 24.1875 \nQ 22.609375 27.734375 26.484375 30.765625 \nQ 30.375 33.796875 33.5 36.8125 \nQ 36.625 39.84375 38.546875 43.15625 \nQ 40.484375 46.484375 40.484375 50.6875 \nQ 40.484375 53.609375 39.59375 55.828125 \nQ 38.71875 58.0625 37.0625 59.5625 \nQ 35.40625 61.078125 33.078125 61.828125 \nQ 30.765625 62.59375 27.9375 62.59375 \nQ 25.296875 62.59375 22.96875 61.859375 \nQ 20.65625 61.140625 18.84375 59.671875 \nQ 17.046875 58.203125 15.890625 56.03125 \nQ 14.75 53.859375 14.40625 50.984375 \nL 5.421875 51.8125 \nQ 5.859375 55.515625 7.46875 58.78125 \nQ 9.078125 62.0625 11.90625 64.53125 \nQ 14.75 67 18.71875 68.40625 \nQ 22.703125 69.828125 27.9375 69.828125 \nQ 33.0625 69.828125 37.0625 68.609375 \nQ 41.0625 67.390625 43.8125 64.984375 \nQ 46.578125 62.59375 48.046875 59.078125 \nQ 49.515625 55.5625 49.515625 50.984375 \nQ 49.515625 47.515625 48.265625 44.390625 \nQ 47.015625 41.265625 44.9375 38.421875 \nQ 42.875 35.59375 40.140625 32.953125 \nQ 37.40625 30.328125 34.421875 27.8125 \nQ 31.453125 25.296875 28.421875 22.828125 \nQ 25.390625 20.359375 22.71875 17.859375 \nQ 20.0625 15.375 17.96875 12.8125 \nQ 15.875 10.25 14.703125 7.46875 \nL 50.59375 7.46875 \nL 50.59375 0 \nz\n\" id=\"LiberationSans-50\"/>\n      </defs>\n      <g style=\"fill:#262626;\" transform=\"translate(446.717125 234.174421)scale(0.1 -0.1)\">\n       <use xlink:href=\"#LiberationSans-48\"/>\n       <use x=\"55.615234\" xlink:href=\"#LiberationSans-46\"/>\n       <use x=\"83.398438\" xlink:href=\"#LiberationSans-50\"/>\n      </g>\n     </g>\n    </g>\n    <g id=\"ytick_11\">\n     <g id=\"line2d_20\"/>\n     <g id=\"text_17\">\n      <!-- 0.3 -->\n      <defs>\n       <path d=\"M 51.21875 19 \nQ 51.21875 14.265625 49.671875 10.546875 \nQ 48.140625 6.84375 45.1875 4.265625 \nQ 42.234375 1.703125 37.859375 0.359375 \nQ 33.5 -0.984375 27.875 -0.984375 \nQ 21.484375 -0.984375 17.109375 0.609375 \nQ 12.75 2.203125 9.90625 4.8125 \nQ 7.078125 7.421875 5.65625 10.765625 \nQ 4.25 14.109375 3.8125 17.671875 \nL 12.890625 18.5 \nQ 13.28125 15.765625 14.328125 13.515625 \nQ 15.375 11.28125 17.1875 9.671875 \nQ 19 8.0625 21.625 7.171875 \nQ 24.265625 6.296875 27.875 6.296875 \nQ 34.515625 6.296875 38.296875 9.5625 \nQ 42.09375 12.84375 42.09375 19.28125 \nQ 42.09375 23.09375 40.40625 25.40625 \nQ 38.71875 27.734375 36.203125 29.03125 \nQ 33.6875 30.328125 30.734375 30.765625 \nQ 27.78125 31.203125 25.296875 31.203125 \nL 20.3125 31.203125 \nL 20.3125 38.8125 \nL 25.09375 38.8125 \nQ 27.59375 38.8125 30.265625 39.328125 \nQ 32.953125 39.84375 35.171875 41.1875 \nQ 37.40625 42.53125 38.84375 44.828125 \nQ 40.28125 47.125 40.28125 50.6875 \nQ 40.28125 56.203125 37.03125 59.390625 \nQ 33.796875 62.59375 27.390625 62.59375 \nQ 21.578125 62.59375 17.984375 59.609375 \nQ 14.40625 56.640625 13.8125 51.21875 \nL 4.984375 51.90625 \nQ 5.515625 56.453125 7.46875 59.8125 \nQ 9.421875 63.1875 12.421875 65.40625 \nQ 15.4375 67.625 19.28125 68.71875 \nQ 23.140625 69.828125 27.484375 69.828125 \nQ 33.25 69.828125 37.390625 68.375 \nQ 41.546875 66.9375 44.1875 64.46875 \nQ 46.828125 62.015625 48.0625 58.6875 \nQ 49.3125 55.375 49.3125 51.609375 \nQ 49.3125 48.578125 48.484375 45.9375 \nQ 47.65625 43.3125 45.890625 41.203125 \nQ 44.140625 39.109375 41.421875 37.59375 \nQ 38.71875 36.078125 34.90625 35.296875 \nL 34.90625 35.109375 \nQ 39.0625 34.671875 42.140625 33.21875 \nQ 45.21875 31.78125 47.21875 29.625 \nQ 49.21875 27.484375 50.21875 24.75 \nQ 51.21875 22.015625 51.21875 19 \nz\n\" id=\"LiberationSans-51\"/>\n      </defs>\n      <g style=\"fill:#262626;\" transform=\"translate(446.717125 176.671265)scale(0.1 -0.1)\">\n       <use xlink:href=\"#LiberationSans-48\"/>\n       <use x=\"55.615234\" xlink:href=\"#LiberationSans-46\"/>\n       <use x=\"83.398438\" xlink:href=\"#LiberationSans-51\"/>\n      </g>\n     </g>\n    </g>\n    <g id=\"ytick_12\">\n     <g id=\"line2d_21\"/>\n     <g id=\"text_18\">\n      <!-- 0.4 -->\n      <defs>\n       <path d=\"M 43.015625 15.578125 \nL 43.015625 0 \nL 34.71875 0 \nL 34.71875 15.578125 \nL 2.296875 15.578125 \nL 2.296875 22.40625 \nL 33.796875 68.796875 \nL 43.015625 68.796875 \nL 43.015625 22.515625 \nL 52.6875 22.515625 \nL 52.6875 15.578125 \nz\nM 34.71875 58.890625 \nQ 34.625 58.640625 34.234375 57.9375 \nQ 33.84375 57.234375 33.34375 56.34375 \nQ 32.859375 55.46875 32.34375 54.5625 \nQ 31.84375 53.65625 31.453125 53.078125 \nL 13.8125 27.09375 \nQ 13.578125 26.703125 13.109375 26.0625 \nQ 12.640625 25.4375 12.15625 24.78125 \nQ 11.671875 24.125 11.171875 23.484375 \nQ 10.6875 22.859375 10.40625 22.515625 \nL 34.71875 22.515625 \nz\n\" id=\"LiberationSans-52\"/>\n      </defs>\n      <g style=\"fill:#262626;\" transform=\"translate(446.717125 119.168109)scale(0.1 -0.1)\">\n       <use xlink:href=\"#LiberationSans-48\"/>\n       <use x=\"55.615234\" xlink:href=\"#LiberationSans-46\"/>\n       <use x=\"83.398438\" xlink:href=\"#LiberationSans-52\"/>\n      </g>\n     </g>\n    </g>\n    <g id=\"ytick_13\">\n     <g id=\"line2d_22\"/>\n     <g id=\"text_19\">\n      <!-- 0.5 -->\n      <defs>\n       <path d=\"M 51.421875 22.40625 \nQ 51.421875 17.234375 49.859375 12.9375 \nQ 48.296875 8.640625 45.21875 5.53125 \nQ 42.140625 2.4375 37.578125 0.71875 \nQ 33.015625 -0.984375 27 -0.984375 \nQ 21.578125 -0.984375 17.546875 0.28125 \nQ 13.53125 1.5625 10.734375 3.78125 \nQ 7.953125 6 6.3125 8.984375 \nQ 4.6875 11.96875 4 15.375 \nL 12.890625 16.40625 \nQ 13.421875 14.453125 14.390625 12.625 \nQ 15.375 10.796875 17.0625 9.34375 \nQ 18.75 7.90625 21.21875 7.046875 \nQ 23.6875 6.203125 27.203125 6.203125 \nQ 30.609375 6.203125 33.390625 7.25 \nQ 36.1875 8.296875 38.15625 10.34375 \nQ 40.140625 12.40625 41.203125 15.375 \nQ 42.28125 18.359375 42.28125 22.21875 \nQ 42.28125 25.390625 41.25 28.046875 \nQ 40.234375 30.71875 38.328125 32.640625 \nQ 36.421875 34.578125 33.65625 35.640625 \nQ 30.90625 36.71875 27.390625 36.71875 \nQ 25.203125 36.71875 23.34375 36.328125 \nQ 21.484375 35.9375 19.890625 35.25 \nQ 18.3125 34.578125 17.015625 33.671875 \nQ 15.71875 32.765625 14.59375 31.78125 \nL 6 31.78125 \nL 8.296875 68.796875 \nL 47.40625 68.796875 \nL 47.40625 61.328125 \nL 16.3125 61.328125 \nL 14.984375 39.5 \nQ 17.328125 41.3125 20.84375 42.59375 \nQ 24.359375 43.890625 29.203125 43.890625 \nQ 34.328125 43.890625 38.421875 42.328125 \nQ 42.53125 40.765625 45.40625 37.90625 \nQ 48.296875 35.0625 49.859375 31.109375 \nQ 51.421875 27.15625 51.421875 22.40625 \nz\n\" id=\"LiberationSans-53\"/>\n      </defs>\n      <g style=\"fill:#262626;\" transform=\"translate(446.717125 61.664953)scale(0.1 -0.1)\">\n       <use xlink:href=\"#LiberationSans-48\"/>\n       <use x=\"55.615234\" xlink:href=\"#LiberationSans-46\"/>\n       <use x=\"83.398438\" xlink:href=\"#LiberationSans-53\"/>\n      </g>\n     </g>\n    </g>\n   </g>\n   <image height=\"299\" id=\"image6461275995\" transform=\"scale(1 -1)translate(0 -299)\" width=\"15\" x=\"425\" xlink:href=\"data:image/png;base64,\niVBORw0KGgoAAAANSUhEUgAAAA8AAAErCAYAAAABnNneAAAABHNCSVQICAgIfAhkiAAAAYNJREFUeJztmjESAyEMAw1DkWfla3l5UuQFeIsdje96jcCyhQJZr/fnW83v1FpdbJ3aG4ARMwD31/xnJnve0p7hslmTZErlVTuySahUUoepTSJZrynVM1VX3zNVt+DFwG0slGqRagOsWDDKbMUKcc9g4aLOW5QqtLcJM3ES0QBTpdJ8W/tdlToYT6y4BFumH+qeMw1Q6zAvAcLeBsyw2vOkymzPobEiU6rIDhOlgrcV7bcuHGgIc58Yn1VWwTKrjZjV31WgYGTdkFm8cJCWfVZlepgmlWcGmdU+G3RYrIfNc084VQTMchhhfpLBLZgwZ1ZbzNuZThLKLEol9raVDMx3DAIe6GG5sYJcpoUyV+RD7gbLpoEmkVlNgOS6tk+cOs/iWZVpQ/Q+bN5UDWROjRWFqt2Gmss2DZBUm/1zvA3lTRJpgNqeoVSsSbypinztF91TK5hnQ8w9tVhhnlWWhwFs6rJTpco8bsRHkMw9h87zyFiROc+qAVrMWhoSqx2aAAcmgx/UQiYy385K1QAAAABJRU5ErkJggg==\" y=\"-45\"/>\n   <g id=\"patch_8\">\n    <path d=\"M 424.768125 344.308125 \nL 424.768125 343.140234 \nL 424.768125 46.496016 \nL 424.768125 45.328125 \nL 439.717125 45.328125 \nL 439.717125 46.496016 \nL 439.717125 343.140234 \nL 439.717125 344.308125 \nz\n\" style=\"fill:none;\"/>\n   </g>\n  </g>\n </g>\n <defs>\n  <clipPath id=\"p19d9c387ba\">\n   <rect height=\"298.98\" width=\"357.12\" x=\"45.328125\" y=\"45.328125\"/>\n  </clipPath>\n  <clipPath id=\"pba7b5f44eb\">\n   <rect height=\"298.98\" width=\"14.949\" x=\"424.768125\" y=\"45.328125\"/>\n  </clipPath>\n </defs>\n</svg>\n"
          },
          "metadata": {
            "tags": []
          }
        }
      ]
    },
    {
      "cell_type": "code",
      "metadata": {
        "colab": {
          "base_uri": "https://localhost:8080/",
          "height": 532
        },
        "id": "VI8O_alD79za",
        "outputId": "9e60e691-3200-40cd-a630-a9f1ee2cdd1b"
      },
      "source": [
        "sentence = 'The vote will take place tomorrow at 12 noon.'\n",
        "plot_attention(sentence)"
      ],
      "execution_count": null,
      "outputs": [
        {
          "output_type": "display_data",
          "data": {
            "text/plain": [
              "<Figure size 576x396 with 2 Axes>"
            ],
            "image/svg+xml": "<?xml version=\"1.0\" encoding=\"utf-8\" standalone=\"no\"?>\n<!DOCTYPE svg PUBLIC \"-//W3C//DTD SVG 1.1//EN\"\n  \"http://www.w3.org/Graphics/SVG/1.1/DTD/svg11.dtd\">\n<!-- Created with matplotlib (https://matplotlib.org/) -->\n<svg height=\"383.183125pt\" version=\"1.1\" viewBox=\"0 0 478.360875 383.183125\" width=\"478.360875pt\" xmlns=\"http://www.w3.org/2000/svg\" xmlns:xlink=\"http://www.w3.org/1999/xlink\">\n <defs>\n  <style type=\"text/css\">\n*{stroke-linecap:butt;stroke-linejoin:round;}\n  </style>\n </defs>\n <g id=\"figure_1\">\n  <g id=\"patch_1\">\n   <path d=\"M 0 383.183125 \nL 478.360875 383.183125 \nL 478.360875 -0 \nL 0 -0 \nz\n\" style=\"fill:#ffffff;\"/>\n  </g>\n  <g id=\"axes_1\">\n   <g id=\"patch_2\">\n    <path d=\"M 55.871875 375.983125 \nL 412.991875 375.983125 \nL 412.991875 77.003125 \nL 55.871875 77.003125 \nz\n\" style=\"fill:#eaeaf2;\"/>\n   </g>\n   <g id=\"matplotlib.axis_1\">\n    <g id=\"xtick_1\">\n     <g id=\"line2d_1\"/>\n     <g id=\"text_1\">\n      <!-- &lt;start&gt; -->\n      <defs>\n       <path d=\"M 4.9375 27.875 \nL 4.9375 37.890625 \nL 53.515625 58.296875 \nL 53.515625 50.78125 \nL 11.625 32.90625 \nL 53.515625 14.984375 \nL 53.515625 7.515625 \nz\n\" id=\"LiberationSans-60\"/>\n       <path d=\"M 46.390625 14.59375 \nQ 46.390625 10.890625 44.9375 7.984375 \nQ 43.5 5.078125 40.765625 3.09375 \nQ 38.03125 1.125 34.046875 0.0625 \nQ 30.078125 -0.984375 24.953125 -0.984375 \nQ 20.359375 -0.984375 16.671875 -0.265625 \nQ 12.984375 0.4375 10.203125 2 \nQ 7.421875 3.5625 5.53125 6.125 \nQ 3.65625 8.6875 2.78125 12.40625 \nL 10.546875 13.921875 \nQ 11.671875 9.671875 15.1875 7.6875 \nQ 18.703125 5.71875 24.953125 5.71875 \nQ 27.78125 5.71875 30.140625 6.109375 \nQ 32.515625 6.5 34.21875 7.453125 \nQ 35.9375 8.40625 36.890625 9.984375 \nQ 37.84375 11.578125 37.84375 13.921875 \nQ 37.84375 16.3125 36.71875 17.84375 \nQ 35.59375 19.390625 33.59375 20.40625 \nQ 31.59375 21.4375 28.734375 22.1875 \nQ 25.875 22.953125 22.46875 23.875 \nQ 19.28125 24.703125 16.15625 25.734375 \nQ 13.03125 26.765625 10.515625 28.4375 \nQ 8.015625 30.125 6.453125 32.609375 \nQ 4.890625 35.109375 4.890625 38.875 \nQ 4.890625 46.09375 10.03125 49.875 \nQ 15.1875 53.65625 25.046875 53.65625 \nQ 33.796875 53.65625 38.9375 50.578125 \nQ 44.09375 47.515625 45.453125 40.71875 \nL 37.546875 39.75 \nQ 37.109375 41.796875 35.9375 43.1875 \nQ 34.765625 44.578125 33.109375 45.4375 \nQ 31.453125 46.296875 29.375 46.65625 \nQ 27.296875 47.015625 25.046875 47.015625 \nQ 19.09375 47.015625 16.25 45.203125 \nQ 13.421875 43.40625 13.421875 39.75 \nQ 13.421875 37.59375 14.46875 36.203125 \nQ 15.53125 34.8125 17.40625 33.859375 \nQ 19.28125 32.90625 21.921875 32.203125 \nQ 24.5625 31.5 27.734375 30.71875 \nQ 29.828125 30.171875 32.03125 29.5625 \nQ 34.234375 28.953125 36.296875 28.09375 \nQ 38.375 27.25 40.203125 26.09375 \nQ 42.046875 24.953125 43.40625 23.34375 \nQ 44.78125 21.734375 45.578125 19.578125 \nQ 46.390625 17.4375 46.390625 14.59375 \nz\n\" id=\"LiberationSans-115\"/>\n       <path d=\"M 27.046875 0.390625 \nQ 25.046875 -0.140625 22.96875 -0.453125 \nQ 20.90625 -0.78125 18.171875 -0.78125 \nQ 7.625 -0.78125 7.625 11.1875 \nL 7.625 46.4375 \nL 1.515625 46.4375 \nL 1.515625 52.828125 \nL 7.953125 52.828125 \nL 10.546875 64.65625 \nL 16.40625 64.65625 \nL 16.40625 52.828125 \nL 26.171875 52.828125 \nL 26.171875 46.4375 \nL 16.40625 46.4375 \nL 16.40625 13.09375 \nQ 16.40625 9.28125 17.640625 7.734375 \nQ 18.890625 6.203125 21.96875 6.203125 \nQ 23.25 6.203125 24.4375 6.390625 \nQ 25.640625 6.59375 27.046875 6.890625 \nz\n\" id=\"LiberationSans-116\"/>\n       <path d=\"M 20.21875 -0.984375 \nQ 12.25 -0.984375 8.25 3.21875 \nQ 4.25 7.421875 4.25 14.75 \nQ 4.25 19.96875 6.21875 23.3125 \nQ 8.203125 26.65625 11.390625 28.5625 \nQ 14.59375 30.46875 18.6875 31.203125 \nQ 22.796875 31.9375 27.046875 32.03125 \nL 38.921875 32.234375 \nL 38.921875 35.109375 \nQ 38.921875 38.375 38.234375 40.671875 \nQ 37.546875 42.96875 36.125 44.375 \nQ 34.71875 45.796875 32.59375 46.453125 \nQ 30.46875 47.125 27.59375 47.125 \nQ 25.046875 47.125 23 46.75 \nQ 20.953125 46.390625 19.4375 45.4375 \nQ 17.921875 44.484375 16.984375 42.84375 \nQ 16.0625 41.21875 15.765625 38.71875 \nL 6.59375 39.546875 \nQ 7.078125 42.671875 8.4375 45.28125 \nQ 9.8125 47.90625 12.328125 49.796875 \nQ 14.84375 51.703125 18.625 52.75 \nQ 22.40625 53.8125 27.78125 53.8125 \nQ 37.75 53.8125 42.765625 49.234375 \nQ 47.796875 44.671875 47.796875 36.03125 \nL 47.796875 13.28125 \nQ 47.796875 9.375 48.828125 7.390625 \nQ 49.859375 5.421875 52.734375 5.421875 \nQ 53.46875 5.421875 54.203125 5.515625 \nQ 54.9375 5.609375 55.609375 5.765625 \nL 55.609375 0.296875 \nQ 53.953125 -0.09375 52.3125 -0.28125 \nQ 50.6875 -0.484375 48.828125 -0.484375 \nQ 46.34375 -0.484375 44.5625 0.171875 \nQ 42.78125 0.828125 41.65625 2.171875 \nQ 40.53125 3.515625 39.9375 5.484375 \nQ 39.359375 7.46875 39.203125 10.109375 \nL 38.921875 10.109375 \nQ 37.5 7.5625 35.8125 5.515625 \nQ 34.125 3.46875 31.875 2.03125 \nQ 29.640625 0.59375 26.78125 -0.1875 \nQ 23.921875 -0.984375 20.21875 -0.984375 \nz\nM 22.21875 5.609375 \nQ 26.421875 5.609375 29.5625 7.140625 \nQ 32.71875 8.6875 34.78125 11.078125 \nQ 36.859375 13.484375 37.890625 16.3125 \nQ 38.921875 19.140625 38.921875 21.734375 \nL 38.921875 26.078125 \nL 29.296875 25.875 \nQ 26.078125 25.828125 23.171875 25.40625 \nQ 20.265625 25 18.0625 23.78125 \nQ 15.875 22.5625 14.578125 20.359375 \nQ 13.28125 18.171875 13.28125 14.59375 \nQ 13.28125 10.296875 15.59375 7.953125 \nQ 17.921875 5.609375 22.21875 5.609375 \nz\n\" id=\"LiberationSans-97\"/>\n       <path d=\"M 6.9375 0 \nL 6.9375 40.53125 \nQ 6.9375 42.1875 6.90625 43.921875 \nQ 6.890625 45.65625 6.828125 47.265625 \nQ 6.78125 48.875 6.734375 50.28125 \nQ 6.6875 51.703125 6.640625 52.828125 \nL 14.9375 52.828125 \nQ 14.984375 51.703125 15.0625 50.265625 \nQ 15.140625 48.828125 15.203125 47.3125 \nQ 15.28125 45.796875 15.296875 44.40625 \nQ 15.328125 43.015625 15.328125 42.046875 \nL 15.53125 42.046875 \nQ 16.453125 45.0625 17.5 47.28125 \nQ 18.5625 49.515625 19.96875 50.953125 \nQ 21.390625 52.390625 23.34375 53.09375 \nQ 25.296875 53.8125 28.078125 53.8125 \nQ 29.15625 53.8125 30.125 53.640625 \nQ 31.109375 53.46875 31.640625 53.328125 \nL 31.640625 45.265625 \nQ 30.765625 45.515625 29.59375 45.625 \nQ 28.421875 45.75 26.953125 45.75 \nQ 23.921875 45.75 21.796875 44.375 \nQ 19.671875 43.015625 18.328125 40.59375 \nQ 17 38.1875 16.359375 34.84375 \nQ 15.71875 31.5 15.71875 27.546875 \nL 15.71875 0 \nz\n\" id=\"LiberationSans-114\"/>\n       <path d=\"M 4.9375 7.515625 \nL 4.9375 14.984375 \nL 46.828125 32.90625 \nL 4.9375 50.78125 \nL 4.9375 58.296875 \nL 53.515625 37.890625 \nL 53.515625 27.875 \nz\n\" id=\"LiberationSans-62\"/>\n      </defs>\n      <g style=\"fill:#262626;\" transform=\"translate(73.337813 70.003125)rotate(-90)scale(0.1 -0.1)\">\n       <use xlink:href=\"#LiberationSans-60\"/>\n       <use x=\"58.398438\" xlink:href=\"#LiberationSans-115\"/>\n       <use x=\"108.398438\" xlink:href=\"#LiberationSans-116\"/>\n       <use x=\"136.181641\" xlink:href=\"#LiberationSans-97\"/>\n       <use x=\"191.796875\" xlink:href=\"#LiberationSans-114\"/>\n       <use x=\"225.097656\" xlink:href=\"#LiberationSans-116\"/>\n       <use x=\"252.880859\" xlink:href=\"#LiberationSans-62\"/>\n      </g>\n     </g>\n    </g>\n    <g id=\"xtick_2\">\n     <g id=\"line2d_2\"/>\n     <g id=\"text_2\">\n      <!-- Omröstningen -->\n      <defs>\n       <path d=\"M 73 34.71875 \nQ 73 26.65625 70.671875 20.0625 \nQ 68.359375 13.484375 63.96875 8.796875 \nQ 59.578125 4.109375 53.21875 1.5625 \nQ 46.875 -0.984375 38.8125 -0.984375 \nQ 30.328125 -0.984375 23.921875 1.671875 \nQ 17.53125 4.34375 13.28125 9.109375 \nQ 9.03125 13.875 6.875 20.40625 \nQ 4.734375 26.953125 4.734375 34.71875 \nQ 4.734375 42.78125 6.984375 49.265625 \nQ 9.234375 55.765625 13.578125 60.328125 \nQ 17.921875 64.890625 24.296875 67.359375 \nQ 30.671875 69.828125 38.921875 69.828125 \nQ 47.125 69.828125 53.484375 67.328125 \nQ 59.859375 64.84375 64.171875 60.25 \nQ 68.5 55.671875 70.75 49.171875 \nQ 73 42.671875 73 34.71875 \nz\nM 63.484375 34.71875 \nQ 63.484375 40.921875 61.890625 46 \nQ 60.296875 51.078125 57.203125 54.6875 \nQ 54.109375 58.296875 49.515625 60.25 \nQ 44.921875 62.203125 38.921875 62.203125 \nQ 32.765625 62.203125 28.125 60.25 \nQ 23.484375 58.296875 20.375 54.6875 \nQ 17.28125 51.078125 15.734375 46 \nQ 14.203125 40.921875 14.203125 34.71875 \nQ 14.203125 28.515625 15.796875 23.359375 \nQ 17.390625 18.21875 20.484375 14.484375 \nQ 23.578125 10.75 28.1875 8.671875 \nQ 32.8125 6.59375 38.8125 6.59375 \nQ 45.265625 6.59375 49.921875 8.6875 \nQ 54.59375 10.796875 57.59375 14.53125 \nQ 60.59375 18.265625 62.03125 23.4375 \nQ 63.484375 28.609375 63.484375 34.71875 \nz\n\" id=\"LiberationSans-79\"/>\n       <path d=\"M 37.5 0 \nL 37.5 33.5 \nQ 37.5 37.359375 37.015625 39.9375 \nQ 36.53125 42.53125 35.375 44.109375 \nQ 34.234375 45.703125 32.375 46.359375 \nQ 30.515625 47.015625 27.828125 47.015625 \nQ 25.046875 47.015625 22.796875 45.921875 \nQ 20.5625 44.828125 18.96875 42.75 \nQ 17.390625 40.671875 16.53125 37.625 \nQ 15.671875 34.578125 15.671875 30.609375 \nL 15.671875 0 \nL 6.9375 0 \nL 6.9375 41.546875 \nQ 6.9375 43.21875 6.90625 45.046875 \nQ 6.890625 46.875 6.828125 48.5 \nQ 6.78125 50.140625 6.734375 51.3125 \nQ 6.6875 52.484375 6.640625 52.828125 \nL 14.9375 52.828125 \nQ 14.984375 52.59375 15.03125 51.515625 \nQ 15.09375 50.4375 15.15625 49.046875 \nQ 15.234375 47.65625 15.28125 46.21875 \nQ 15.328125 44.78125 15.328125 43.796875 \nL 15.484375 43.796875 \nQ 16.65625 46.09375 18.015625 47.953125 \nQ 19.390625 49.8125 21.21875 51.09375 \nQ 23.046875 52.390625 25.40625 53.09375 \nQ 27.78125 53.8125 30.90625 53.8125 \nQ 36.921875 53.8125 40.40625 51.421875 \nQ 43.890625 49.03125 45.265625 43.796875 \nL 45.40625 43.796875 \nQ 46.578125 46.09375 48.046875 47.953125 \nQ 49.515625 49.8125 51.46875 51.09375 \nQ 53.421875 52.390625 55.859375 53.09375 \nQ 58.296875 53.8125 61.421875 53.8125 \nQ 65.4375 53.8125 68.328125 52.734375 \nQ 71.234375 51.65625 73.09375 49.40625 \nQ 74.953125 47.171875 75.828125 43.625 \nQ 76.703125 40.09375 76.703125 35.203125 \nL 76.703125 0 \nL 68.015625 0 \nL 68.015625 33.5 \nQ 68.015625 37.359375 67.53125 39.9375 \nQ 67.046875 42.53125 65.890625 44.109375 \nQ 64.75 45.703125 62.890625 46.359375 \nQ 61.03125 47.015625 58.34375 47.015625 \nQ 55.5625 47.015625 53.3125 45.96875 \nQ 51.078125 44.921875 49.484375 42.875 \nQ 47.90625 40.828125 47.046875 37.75 \nQ 46.1875 34.671875 46.1875 30.609375 \nL 46.1875 0 \nz\n\" id=\"LiberationSans-109\"/>\n       <path d=\"M 51.421875 26.46875 \nQ 51.421875 12.59375 45.3125 5.796875 \nQ 39.203125 -0.984375 27.59375 -0.984375 \nQ 22.078125 -0.984375 17.71875 0.671875 \nQ 13.375 2.34375 10.375 5.765625 \nQ 7.375 9.1875 5.78125 14.328125 \nQ 4.203125 19.484375 4.203125 26.46875 \nQ 4.203125 53.8125 27.875 53.8125 \nQ 34.03125 53.8125 38.5 52.09375 \nQ 42.96875 50.390625 45.828125 46.96875 \nQ 48.6875 43.5625 50.046875 38.421875 \nQ 51.421875 33.296875 51.421875 26.46875 \nz\nM 42.1875 26.46875 \nQ 42.1875 32.625 41.234375 36.625 \nQ 40.28125 40.625 38.453125 43.015625 \nQ 36.625 45.40625 33.984375 46.359375 \nQ 31.34375 47.3125 28.03125 47.3125 \nQ 24.65625 47.3125 21.9375 46.3125 \nQ 19.234375 45.3125 17.328125 42.890625 \nQ 15.4375 40.484375 14.421875 36.46875 \nQ 13.421875 32.46875 13.421875 26.46875 \nQ 13.421875 20.3125 14.5 16.28125 \nQ 15.578125 12.25 17.453125 9.859375 \nQ 19.34375 7.46875 21.90625 6.484375 \nQ 24.46875 5.515625 27.484375 5.515625 \nQ 30.859375 5.515625 33.59375 6.46875 \nQ 36.328125 7.421875 38.234375 9.8125 \nQ 40.140625 12.203125 41.15625 16.25 \nQ 42.1875 20.3125 42.1875 26.46875 \nz\nM 33.6875 59.515625 \nL 33.6875 68.5 \nL 41.640625 68.5 \nL 41.640625 59.515625 \nz\nM 14.453125 59.515625 \nL 14.453125 68.5 \nL 22.5 68.5 \nL 22.5 59.515625 \nz\n\" id=\"LiberationSans-246\"/>\n       <path d=\"M 40.28125 0 \nL 40.28125 33.5 \nQ 40.28125 37.359375 39.71875 39.9375 \nQ 39.15625 42.53125 37.890625 44.109375 \nQ 36.625 45.703125 34.546875 46.359375 \nQ 32.46875 47.015625 29.390625 47.015625 \nQ 26.265625 47.015625 23.75 45.921875 \nQ 21.234375 44.828125 19.453125 42.75 \nQ 17.671875 40.671875 16.6875 37.625 \nQ 15.71875 34.578125 15.71875 30.609375 \nL 15.71875 0 \nL 6.9375 0 \nL 6.9375 41.546875 \nQ 6.9375 43.21875 6.90625 45.046875 \nQ 6.890625 46.875 6.828125 48.5 \nQ 6.78125 50.140625 6.734375 51.3125 \nQ 6.6875 52.484375 6.640625 52.828125 \nL 14.9375 52.828125 \nQ 14.984375 52.59375 15.03125 51.515625 \nQ 15.09375 50.4375 15.15625 49.046875 \nQ 15.234375 47.65625 15.28125 46.21875 \nQ 15.328125 44.78125 15.328125 43.796875 \nL 15.484375 43.796875 \nQ 16.75 46.09375 18.265625 47.953125 \nQ 19.78125 49.8125 21.78125 51.09375 \nQ 23.78125 52.390625 26.359375 53.09375 \nQ 28.953125 53.8125 32.375 53.8125 \nQ 36.765625 53.8125 39.9375 52.734375 \nQ 43.109375 51.65625 45.15625 49.40625 \nQ 47.21875 47.171875 48.171875 43.625 \nQ 49.125 40.09375 49.125 35.203125 \nL 49.125 0 \nz\n\" id=\"LiberationSans-110\"/>\n       <path d=\"M 6.6875 64.0625 \nL 6.6875 72.46875 \nL 15.484375 72.46875 \nL 15.484375 64.0625 \nz\nM 6.6875 0 \nL 6.6875 52.828125 \nL 15.484375 52.828125 \nL 15.484375 0 \nz\n\" id=\"LiberationSans-105\"/>\n       <path d=\"M 26.765625 -20.75 \nQ 22.21875 -20.75 18.703125 -19.8125 \nQ 15.1875 -18.890625 12.6875 -17.15625 \nQ 10.203125 -15.4375 8.640625 -13.03125 \nQ 7.078125 -10.640625 6.390625 -7.71875 \nL 15.234375 -6.453125 \nQ 16.109375 -10.109375 19.109375 -12.078125 \nQ 22.125 -14.0625 27 -14.0625 \nQ 29.984375 -14.0625 32.421875 -13.234375 \nQ 34.859375 -12.40625 36.5625 -10.5625 \nQ 38.28125 -8.734375 39.203125 -5.796875 \nQ 40.140625 -2.875 40.140625 1.3125 \nL 40.140625 9.8125 \nL 40.046875 9.8125 \nQ 39.0625 7.8125 37.625 5.984375 \nQ 36.1875 4.15625 34.109375 2.734375 \nQ 32.03125 1.3125 29.296875 0.453125 \nQ 26.5625 -0.390625 23.046875 -0.390625 \nQ 18.015625 -0.390625 14.421875 1.296875 \nQ 10.84375 2.984375 8.5625 6.34375 \nQ 6.296875 9.71875 5.25 14.71875 \nQ 4.203125 19.734375 4.203125 26.3125 \nQ 4.203125 32.671875 5.25 37.75 \nQ 6.296875 42.828125 8.65625 46.359375 \nQ 11.03125 49.90625 14.8125 51.78125 \nQ 18.609375 53.65625 24.03125 53.65625 \nQ 29.640625 53.65625 33.765625 51.09375 \nQ 37.890625 48.53125 40.140625 43.796875 \nL 40.234375 43.796875 \nQ 40.234375 45.015625 40.296875 46.53125 \nQ 40.375 48.046875 40.453125 49.390625 \nQ 40.53125 50.734375 40.625 51.703125 \nQ 40.71875 52.6875 40.828125 52.828125 \nL 49.171875 52.828125 \nQ 49.125 52.390625 49.078125 51.34375 \nQ 49.03125 50.296875 48.96875 48.828125 \nQ 48.921875 47.359375 48.890625 45.578125 \nQ 48.875 43.796875 48.875 41.890625 \nL 48.875 1.515625 \nQ 48.875 -9.578125 43.421875 -15.15625 \nQ 37.984375 -20.75 26.765625 -20.75 \nz\nM 40.140625 26.421875 \nQ 40.140625 31.9375 38.9375 35.859375 \nQ 37.75 39.796875 35.796875 42.28125 \nQ 33.84375 44.78125 31.328125 45.953125 \nQ 28.8125 47.125 26.171875 47.125 \nQ 22.796875 47.125 20.375 45.953125 \nQ 17.96875 44.78125 16.375 42.265625 \nQ 14.796875 39.75 14.03125 35.8125 \nQ 13.28125 31.890625 13.28125 26.421875 \nQ 13.28125 20.703125 14.03125 16.8125 \nQ 14.796875 12.9375 16.359375 10.546875 \nQ 17.921875 8.15625 20.3125 7.125 \nQ 22.703125 6.109375 26.03125 6.109375 \nQ 28.65625 6.109375 31.171875 7.21875 \nQ 33.6875 8.34375 35.6875 10.78125 \nQ 37.703125 13.234375 38.921875 17.09375 \nQ 40.140625 20.953125 40.140625 26.421875 \nz\n\" id=\"LiberationSans-103\"/>\n       <path d=\"M 13.484375 24.5625 \nQ 13.484375 20.40625 14.328125 16.90625 \nQ 15.1875 13.421875 16.96875 10.90625 \nQ 18.75 8.40625 21.53125 7 \nQ 24.3125 5.609375 28.21875 5.609375 \nQ 33.9375 5.609375 37.375 7.90625 \nQ 40.828125 10.203125 42.046875 13.71875 \nL 49.75 11.53125 \nQ 48.921875 9.328125 47.4375 7.109375 \nQ 45.953125 4.890625 43.453125 3.09375 \nQ 40.96875 1.3125 37.234375 0.15625 \nQ 33.5 -0.984375 28.21875 -0.984375 \nQ 16.5 -0.984375 10.375 6 \nQ 4.25 12.984375 4.25 26.765625 \nQ 4.25 34.1875 6.09375 39.328125 \nQ 7.953125 44.484375 11.171875 47.703125 \nQ 14.40625 50.921875 18.703125 52.359375 \nQ 23 53.8125 27.875 53.8125 \nQ 34.515625 53.8125 38.984375 51.65625 \nQ 43.453125 49.515625 46.15625 45.71875 \nQ 48.875 41.9375 50.015625 36.8125 \nQ 51.171875 31.6875 51.171875 25.734375 \nL 51.171875 24.5625 \nz\nM 42.09375 31.296875 \nQ 41.359375 39.65625 37.84375 43.484375 \nQ 34.328125 47.3125 27.734375 47.3125 \nQ 25.53125 47.3125 23.109375 46.609375 \nQ 20.703125 45.90625 18.65625 44.09375 \nQ 16.609375 42.28125 15.1875 39.171875 \nQ 13.765625 36.078125 13.578125 31.296875 \nz\n\" id=\"LiberationSans-101\"/>\n      </defs>\n      <g style=\"fill:#262626;\" transform=\"translate(103.097813 70.003125)rotate(-90)scale(0.1 -0.1)\">\n       <use xlink:href=\"#LiberationSans-79\"/>\n       <use x=\"77.783203\" xlink:href=\"#LiberationSans-109\"/>\n       <use x=\"161.083984\" xlink:href=\"#LiberationSans-114\"/>\n       <use x=\"194.384766\" xlink:href=\"#LiberationSans-246\"/>\n       <use x=\"250\" xlink:href=\"#LiberationSans-115\"/>\n       <use x=\"300\" xlink:href=\"#LiberationSans-116\"/>\n       <use x=\"327.783203\" xlink:href=\"#LiberationSans-110\"/>\n       <use x=\"383.398438\" xlink:href=\"#LiberationSans-105\"/>\n       <use x=\"405.615234\" xlink:href=\"#LiberationSans-110\"/>\n       <use x=\"461.230469\" xlink:href=\"#LiberationSans-103\"/>\n       <use x=\"516.845703\" xlink:href=\"#LiberationSans-101\"/>\n       <use x=\"572.460938\" xlink:href=\"#LiberationSans-110\"/>\n      </g>\n     </g>\n    </g>\n    <g id=\"xtick_3\">\n     <g id=\"line2d_3\"/>\n     <g id=\"text_3\">\n      <!-- kommer -->\n      <defs>\n       <path d=\"M 39.84375 0 \nL 21.96875 24.125 \nL 15.53125 18.796875 \nL 15.53125 0 \nL 6.734375 0 \nL 6.734375 72.46875 \nL 15.53125 72.46875 \nL 15.53125 27.203125 \nL 38.71875 52.828125 \nL 49.03125 52.828125 \nL 27.59375 30.125 \nL 50.140625 0 \nz\n\" id=\"LiberationSans-107\"/>\n       <path d=\"M 51.421875 26.46875 \nQ 51.421875 12.59375 45.3125 5.796875 \nQ 39.203125 -0.984375 27.59375 -0.984375 \nQ 22.078125 -0.984375 17.71875 0.671875 \nQ 13.375 2.34375 10.375 5.765625 \nQ 7.375 9.1875 5.78125 14.328125 \nQ 4.203125 19.484375 4.203125 26.46875 \nQ 4.203125 53.8125 27.875 53.8125 \nQ 34.03125 53.8125 38.5 52.09375 \nQ 42.96875 50.390625 45.828125 46.96875 \nQ 48.6875 43.5625 50.046875 38.421875 \nQ 51.421875 33.296875 51.421875 26.46875 \nz\nM 42.1875 26.46875 \nQ 42.1875 32.625 41.234375 36.625 \nQ 40.28125 40.625 38.453125 43.015625 \nQ 36.625 45.40625 33.984375 46.359375 \nQ 31.34375 47.3125 28.03125 47.3125 \nQ 24.65625 47.3125 21.9375 46.3125 \nQ 19.234375 45.3125 17.328125 42.890625 \nQ 15.4375 40.484375 14.421875 36.46875 \nQ 13.421875 32.46875 13.421875 26.46875 \nQ 13.421875 20.3125 14.5 16.28125 \nQ 15.578125 12.25 17.453125 9.859375 \nQ 19.34375 7.46875 21.90625 6.484375 \nQ 24.46875 5.515625 27.484375 5.515625 \nQ 30.859375 5.515625 33.59375 6.46875 \nQ 36.328125 7.421875 38.234375 9.8125 \nQ 40.140625 12.203125 41.15625 16.25 \nQ 42.1875 20.3125 42.1875 26.46875 \nz\n\" id=\"LiberationSans-111\"/>\n      </defs>\n      <g style=\"fill:#262626;\" transform=\"translate(132.857813 70.003125)rotate(-90)scale(0.1 -0.1)\">\n       <use xlink:href=\"#LiberationSans-107\"/>\n       <use x=\"50\" xlink:href=\"#LiberationSans-111\"/>\n       <use x=\"105.615234\" xlink:href=\"#LiberationSans-109\"/>\n       <use x=\"188.916016\" xlink:href=\"#LiberationSans-109\"/>\n       <use x=\"272.216797\" xlink:href=\"#LiberationSans-101\"/>\n       <use x=\"327.832031\" xlink:href=\"#LiberationSans-114\"/>\n      </g>\n     </g>\n    </g>\n    <g id=\"xtick_4\">\n     <g id=\"line2d_4\"/>\n     <g id=\"text_4\">\n      <!-- att -->\n      <g style=\"fill:#262626;\" transform=\"translate(162.617813 70.003125)rotate(-90)scale(0.1 -0.1)\">\n       <use xlink:href=\"#LiberationSans-97\"/>\n       <use x=\"55.615234\" xlink:href=\"#LiberationSans-116\"/>\n       <use x=\"83.398438\" xlink:href=\"#LiberationSans-116\"/>\n      </g>\n     </g>\n    </g>\n    <g id=\"xtick_5\">\n     <g id=\"line2d_5\"/>\n     <g id=\"text_5\">\n      <!-- äga -->\n      <defs>\n       <path d=\"M 20.21875 -0.984375 \nQ 12.25 -0.984375 8.25 3.21875 \nQ 4.25 7.421875 4.25 14.75 \nQ 4.25 19.96875 6.21875 23.3125 \nQ 8.203125 26.65625 11.390625 28.5625 \nQ 14.59375 30.46875 18.6875 31.203125 \nQ 22.796875 31.9375 27.046875 32.03125 \nL 38.921875 32.234375 \nL 38.921875 35.109375 \nQ 38.921875 38.375 38.234375 40.671875 \nQ 37.546875 42.96875 36.125 44.375 \nQ 34.71875 45.796875 32.59375 46.453125 \nQ 30.46875 47.125 27.59375 47.125 \nQ 25.046875 47.125 23 46.75 \nQ 20.953125 46.390625 19.4375 45.4375 \nQ 17.921875 44.484375 16.984375 42.84375 \nQ 16.0625 41.21875 15.765625 38.71875 \nL 6.59375 39.546875 \nQ 7.078125 42.671875 8.4375 45.28125 \nQ 9.8125 47.90625 12.328125 49.796875 \nQ 14.84375 51.703125 18.625 52.75 \nQ 22.40625 53.8125 27.78125 53.8125 \nQ 37.75 53.8125 42.765625 49.234375 \nQ 47.796875 44.671875 47.796875 36.03125 \nL 47.796875 13.28125 \nQ 47.796875 9.375 48.828125 7.390625 \nQ 49.859375 5.421875 52.734375 5.421875 \nQ 53.46875 5.421875 54.203125 5.515625 \nQ 54.9375 5.609375 55.609375 5.765625 \nL 55.609375 0.296875 \nQ 53.953125 -0.09375 52.3125 -0.28125 \nQ 50.6875 -0.484375 48.828125 -0.484375 \nQ 46.34375 -0.484375 44.5625 0.171875 \nQ 42.78125 0.828125 41.65625 2.171875 \nQ 40.53125 3.515625 39.9375 5.484375 \nQ 39.359375 7.46875 39.203125 10.109375 \nL 38.921875 10.109375 \nQ 37.5 7.5625 35.8125 5.515625 \nQ 34.125 3.46875 31.875 2.03125 \nQ 29.640625 0.59375 26.78125 -0.1875 \nQ 23.921875 -0.984375 20.21875 -0.984375 \nz\nM 22.21875 5.609375 \nQ 26.421875 5.609375 29.5625 7.140625 \nQ 32.71875 8.6875 34.78125 11.078125 \nQ 36.859375 13.484375 37.890625 16.3125 \nQ 38.921875 19.140625 38.921875 21.734375 \nL 38.921875 26.078125 \nL 29.296875 25.875 \nQ 26.078125 25.828125 23.171875 25.40625 \nQ 20.265625 25 18.0625 23.78125 \nQ 15.875 22.5625 14.578125 20.359375 \nQ 13.28125 18.171875 13.28125 14.59375 \nQ 13.28125 10.296875 15.59375 7.953125 \nQ 17.921875 5.609375 22.21875 5.609375 \nz\nM 32.9375 59.515625 \nL 32.9375 68.5 \nL 40.890625 68.5 \nL 40.890625 59.515625 \nz\nM 13.703125 59.515625 \nL 13.703125 68.5 \nL 21.75 68.5 \nL 21.75 59.515625 \nz\n\" id=\"LiberationSans-228\"/>\n      </defs>\n      <g style=\"fill:#262626;\" transform=\"translate(192.377813 70.003125)rotate(-90)scale(0.1 -0.1)\">\n       <use xlink:href=\"#LiberationSans-228\"/>\n       <use x=\"55.615234\" xlink:href=\"#LiberationSans-103\"/>\n       <use x=\"111.230469\" xlink:href=\"#LiberationSans-97\"/>\n      </g>\n     </g>\n    </g>\n    <g id=\"xtick_6\">\n     <g id=\"line2d_6\"/>\n     <g id=\"text_6\">\n      <!-- rum -->\n      <defs>\n       <path d=\"M 15.328125 52.828125 \nL 15.328125 19.34375 \nQ 15.328125 15.484375 15.890625 12.890625 \nQ 16.453125 10.296875 17.71875 8.703125 \nQ 19 7.125 21.0625 6.46875 \nQ 23.140625 5.8125 26.21875 5.8125 \nQ 29.34375 5.8125 31.859375 6.90625 \nQ 34.375 8.015625 36.15625 10.078125 \nQ 37.9375 12.15625 38.90625 15.203125 \nQ 39.890625 18.265625 39.890625 22.21875 \nL 39.890625 52.828125 \nL 48.6875 52.828125 \nL 48.6875 11.28125 \nQ 48.6875 9.625 48.703125 7.78125 \nQ 48.734375 5.953125 48.78125 4.3125 \nQ 48.828125 2.6875 48.875 1.515625 \nQ 48.921875 0.34375 48.96875 0 \nL 40.671875 0 \nQ 40.625 0.25 40.578125 1.3125 \nQ 40.53125 2.390625 40.453125 3.78125 \nQ 40.375 5.171875 40.328125 6.609375 \nQ 40.28125 8.0625 40.28125 9.03125 \nL 40.140625 9.03125 \nQ 38.875 6.734375 37.359375 4.875 \nQ 35.84375 3.03125 33.84375 1.734375 \nQ 31.84375 0.4375 29.25 -0.265625 \nQ 26.65625 -0.984375 23.25 -0.984375 \nQ 18.84375 -0.984375 15.671875 0.09375 \nQ 12.5 1.171875 10.453125 3.421875 \nQ 8.40625 5.671875 7.453125 9.1875 \nQ 6.5 12.703125 6.5 17.625 \nL 6.5 52.828125 \nz\n\" id=\"LiberationSans-117\"/>\n      </defs>\n      <g style=\"fill:#262626;\" transform=\"translate(222.137813 70.003125)rotate(-90)scale(0.1 -0.1)\">\n       <use xlink:href=\"#LiberationSans-114\"/>\n       <use x=\"33.300781\" xlink:href=\"#LiberationSans-117\"/>\n       <use x=\"88.916016\" xlink:href=\"#LiberationSans-109\"/>\n      </g>\n     </g>\n    </g>\n    <g id=\"xtick_7\">\n     <g id=\"line2d_7\"/>\n     <g id=\"text_7\">\n      <!-- i -->\n      <g style=\"fill:#262626;\" transform=\"translate(251.897813 70.003125)rotate(-90)scale(0.1 -0.1)\">\n       <use xlink:href=\"#LiberationSans-105\"/>\n      </g>\n     </g>\n    </g>\n    <g id=\"xtick_8\">\n     <g id=\"line2d_8\"/>\n     <g id=\"text_8\">\n      <!-- morgon -->\n      <g style=\"fill:#262626;\" transform=\"translate(281.657813 70.003125)rotate(-90)scale(0.1 -0.1)\">\n       <use xlink:href=\"#LiberationSans-109\"/>\n       <use x=\"83.300781\" xlink:href=\"#LiberationSans-111\"/>\n       <use x=\"138.916016\" xlink:href=\"#LiberationSans-114\"/>\n       <use x=\"172.216797\" xlink:href=\"#LiberationSans-103\"/>\n       <use x=\"227.832031\" xlink:href=\"#LiberationSans-111\"/>\n       <use x=\"283.447266\" xlink:href=\"#LiberationSans-110\"/>\n      </g>\n     </g>\n    </g>\n    <g id=\"xtick_9\">\n     <g id=\"line2d_9\"/>\n     <g id=\"text_9\">\n      <!-- kl. -->\n      <defs>\n       <path d=\"M 6.734375 0 \nL 6.734375 72.46875 \nL 15.53125 72.46875 \nL 15.53125 0 \nz\n\" id=\"LiberationSans-108\"/>\n       <path d=\"M 9.125 0 \nL 9.125 10.6875 \nL 18.65625 10.6875 \nL 18.65625 0 \nz\n\" id=\"LiberationSans-46\"/>\n      </defs>\n      <g style=\"fill:#262626;\" transform=\"translate(311.417813 70.003125)rotate(-90)scale(0.1 -0.1)\">\n       <use xlink:href=\"#LiberationSans-107\"/>\n       <use x=\"50\" xlink:href=\"#LiberationSans-108\"/>\n       <use x=\"72.216797\" xlink:href=\"#LiberationSans-46\"/>\n      </g>\n     </g>\n    </g>\n    <g id=\"xtick_10\">\n     <g id=\"line2d_10\"/>\n     <g id=\"text_10\">\n      <!-- 1200. -->\n      <defs>\n       <path d=\"M 7.625 0 \nL 7.625 7.46875 \nL 25.140625 7.46875 \nL 25.140625 60.40625 \nL 9.625 49.3125 \nL 9.625 57.625 \nL 25.875 68.796875 \nL 33.984375 68.796875 \nL 33.984375 7.46875 \nL 50.734375 7.46875 \nL 50.734375 0 \nz\n\" id=\"LiberationSans-49\"/>\n       <path d=\"M 5.03125 0 \nL 5.03125 6.203125 \nQ 7.515625 11.921875 11.109375 16.28125 \nQ 14.703125 20.65625 18.65625 24.1875 \nQ 22.609375 27.734375 26.484375 30.765625 \nQ 30.375 33.796875 33.5 36.8125 \nQ 36.625 39.84375 38.546875 43.15625 \nQ 40.484375 46.484375 40.484375 50.6875 \nQ 40.484375 53.609375 39.59375 55.828125 \nQ 38.71875 58.0625 37.0625 59.5625 \nQ 35.40625 61.078125 33.078125 61.828125 \nQ 30.765625 62.59375 27.9375 62.59375 \nQ 25.296875 62.59375 22.96875 61.859375 \nQ 20.65625 61.140625 18.84375 59.671875 \nQ 17.046875 58.203125 15.890625 56.03125 \nQ 14.75 53.859375 14.40625 50.984375 \nL 5.421875 51.8125 \nQ 5.859375 55.515625 7.46875 58.78125 \nQ 9.078125 62.0625 11.90625 64.53125 \nQ 14.75 67 18.71875 68.40625 \nQ 22.703125 69.828125 27.9375 69.828125 \nQ 33.0625 69.828125 37.0625 68.609375 \nQ 41.0625 67.390625 43.8125 64.984375 \nQ 46.578125 62.59375 48.046875 59.078125 \nQ 49.515625 55.5625 49.515625 50.984375 \nQ 49.515625 47.515625 48.265625 44.390625 \nQ 47.015625 41.265625 44.9375 38.421875 \nQ 42.875 35.59375 40.140625 32.953125 \nQ 37.40625 30.328125 34.421875 27.8125 \nQ 31.453125 25.296875 28.421875 22.828125 \nQ 25.390625 20.359375 22.71875 17.859375 \nQ 20.0625 15.375 17.96875 12.8125 \nQ 15.875 10.25 14.703125 7.46875 \nL 50.59375 7.46875 \nL 50.59375 0 \nz\n\" id=\"LiberationSans-50\"/>\n       <path d=\"M 51.703125 34.421875 \nQ 51.703125 24.515625 49.828125 17.75 \nQ 47.953125 10.984375 44.703125 6.8125 \nQ 41.453125 2.640625 37.0625 0.828125 \nQ 32.671875 -0.984375 27.6875 -0.984375 \nQ 22.65625 -0.984375 18.3125 0.828125 \nQ 13.96875 2.640625 10.765625 6.78125 \nQ 7.5625 10.9375 5.734375 17.703125 \nQ 3.90625 24.46875 3.90625 34.421875 \nQ 3.90625 44.828125 5.734375 51.640625 \nQ 7.5625 58.453125 10.78125 62.5 \nQ 14.015625 66.546875 18.40625 68.1875 \nQ 22.796875 69.828125 27.984375 69.828125 \nQ 32.90625 69.828125 37.21875 68.1875 \nQ 41.546875 66.546875 44.765625 62.5 \nQ 48 58.453125 49.84375 51.640625 \nQ 51.703125 44.828125 51.703125 34.421875 \nz\nM 42.78125 34.421875 \nQ 42.78125 42.625 41.796875 48.0625 \nQ 40.828125 53.515625 38.921875 56.765625 \nQ 37.015625 60.015625 34.25 61.359375 \nQ 31.5 62.703125 27.984375 62.703125 \nQ 24.265625 62.703125 21.4375 61.328125 \nQ 18.609375 59.96875 16.671875 56.71875 \nQ 14.75 53.46875 13.765625 48.015625 \nQ 12.796875 42.578125 12.796875 34.421875 \nQ 12.796875 26.515625 13.796875 21.09375 \nQ 14.796875 15.671875 16.71875 12.375 \nQ 18.65625 9.078125 21.4375 7.640625 \nQ 24.21875 6.203125 27.78125 6.203125 \nQ 31.25 6.203125 34.03125 7.640625 \nQ 36.8125 9.078125 38.734375 12.375 \nQ 40.671875 15.671875 41.71875 21.09375 \nQ 42.78125 26.515625 42.78125 34.421875 \nz\n\" id=\"LiberationSans-48\"/>\n      </defs>\n      <g style=\"fill:#262626;\" transform=\"translate(341.177813 70.003125)rotate(-90)scale(0.1 -0.1)\">\n       <use xlink:href=\"#LiberationSans-49\"/>\n       <use x=\"55.615234\" xlink:href=\"#LiberationSans-50\"/>\n       <use x=\"111.230469\" xlink:href=\"#LiberationSans-48\"/>\n       <use x=\"166.845703\" xlink:href=\"#LiberationSans-48\"/>\n       <use x=\"222.460938\" xlink:href=\"#LiberationSans-46\"/>\n      </g>\n     </g>\n    </g>\n    <g id=\"xtick_11\">\n     <g id=\"line2d_11\"/>\n    </g>\n    <g id=\"xtick_12\">\n     <g id=\"line2d_12\"/>\n    </g>\n   </g>\n   <g id=\"matplotlib.axis_2\">\n    <g id=\"ytick_1\">\n     <g id=\"line2d_13\"/>\n     <g id=\"text_11\">\n      <!-- &lt;start&gt; -->\n      <g style=\"fill:#262626;\" transform=\"translate(17.74375 93.084063)scale(0.1 -0.1)\">\n       <use xlink:href=\"#LiberationSans-60\"/>\n       <use x=\"58.398438\" xlink:href=\"#LiberationSans-115\"/>\n       <use x=\"108.398438\" xlink:href=\"#LiberationSans-116\"/>\n       <use x=\"136.181641\" xlink:href=\"#LiberationSans-97\"/>\n       <use x=\"191.796875\" xlink:href=\"#LiberationSans-114\"/>\n       <use x=\"225.097656\" xlink:href=\"#LiberationSans-116\"/>\n       <use x=\"252.880859\" xlink:href=\"#LiberationSans-62\"/>\n      </g>\n     </g>\n    </g>\n    <g id=\"ytick_2\">\n     <g id=\"line2d_14\"/>\n     <g id=\"text_12\">\n      <!-- The -->\n      <defs>\n       <path d=\"M 35.15625 61.1875 \nL 35.15625 0 \nL 25.875 0 \nL 25.875 61.1875 \nL 2.25 61.1875 \nL 2.25 68.796875 \nL 58.796875 68.796875 \nL 58.796875 61.1875 \nz\n\" id=\"LiberationSans-84\"/>\n       <path d=\"M 15.484375 43.796875 \nQ 16.9375 46.484375 18.640625 48.359375 \nQ 20.359375 50.25 22.40625 51.46875 \nQ 24.46875 52.6875 26.90625 53.25 \nQ 29.34375 53.8125 32.375 53.8125 \nQ 37.453125 53.8125 40.703125 52.4375 \nQ 43.953125 51.078125 45.828125 48.609375 \nQ 47.703125 46.140625 48.40625 42.71875 \nQ 49.125 39.3125 49.125 35.203125 \nL 49.125 0 \nL 40.28125 0 \nL 40.28125 33.5 \nQ 40.28125 36.859375 39.859375 39.390625 \nQ 39.453125 41.9375 38.28125 43.625 \nQ 37.109375 45.3125 34.953125 46.15625 \nQ 32.8125 47.015625 29.390625 47.015625 \nQ 26.265625 47.015625 23.75 45.890625 \nQ 21.234375 44.78125 19.453125 42.71875 \nQ 17.671875 40.671875 16.6875 37.734375 \nQ 15.71875 34.8125 15.71875 31.15625 \nL 15.71875 0 \nL 6.9375 0 \nL 6.9375 72.46875 \nL 15.71875 72.46875 \nL 15.71875 53.609375 \nQ 15.71875 52 15.671875 50.390625 \nQ 15.625 48.78125 15.546875 47.40625 \nQ 15.484375 46.046875 15.421875 45.09375 \nQ 15.375 44.140625 15.328125 43.796875 \nz\n\" id=\"LiberationSans-104\"/>\n      </defs>\n      <g style=\"fill:#262626;\" transform=\"translate(31.642188 117.999063)scale(0.1 -0.1)\">\n       <use xlink:href=\"#LiberationSans-84\"/>\n       <use x=\"61.083984\" xlink:href=\"#LiberationSans-104\"/>\n       <use x=\"116.699219\" xlink:href=\"#LiberationSans-101\"/>\n      </g>\n     </g>\n    </g>\n    <g id=\"ytick_3\">\n     <g id=\"line2d_15\"/>\n     <g id=\"text_13\">\n      <!-- vote -->\n      <defs>\n       <path d=\"M 29.9375 0 \nL 19.53125 0 \nL 0.34375 52.828125 \nL 9.71875 52.828125 \nL 21.34375 18.453125 \nQ 21.6875 17.390625 22.140625 15.84375 \nQ 22.609375 14.3125 23.09375 12.640625 \nQ 23.578125 10.984375 24 9.4375 \nQ 24.421875 7.90625 24.703125 6.890625 \nQ 25 7.90625 25.453125 9.4375 \nQ 25.921875 10.984375 26.40625 12.59375 \nQ 26.90625 14.203125 27.421875 15.734375 \nQ 27.9375 17.28125 28.328125 18.359375 \nL 40.328125 52.828125 \nL 49.65625 52.828125 \nz\n\" id=\"LiberationSans-118\"/>\n      </defs>\n      <g style=\"fill:#262626;\" transform=\"translate(29.971875 142.914062)scale(0.1 -0.1)\">\n       <use xlink:href=\"#LiberationSans-118\"/>\n       <use x=\"50\" xlink:href=\"#LiberationSans-111\"/>\n       <use x=\"105.615234\" xlink:href=\"#LiberationSans-116\"/>\n       <use x=\"133.398438\" xlink:href=\"#LiberationSans-101\"/>\n      </g>\n     </g>\n    </g>\n    <g id=\"ytick_4\">\n     <g id=\"line2d_16\"/>\n     <g id=\"text_14\">\n      <!-- will -->\n      <defs>\n       <path d=\"M 57.328125 0 \nL 47.125 0 \nL 38.671875 34.078125 \nQ 38.28125 35.40625 37.859375 37.359375 \nQ 37.453125 39.3125 37.0625 41.15625 \nQ 36.578125 43.3125 36.140625 45.609375 \nQ 35.6875 43.40625 35.203125 41.265625 \nQ 34.8125 39.40625 34.34375 37.40625 \nQ 33.890625 35.40625 33.5 33.890625 \nL 24.8125 0 \nL 14.65625 0 \nL -0.140625 52.828125 \nL 8.546875 52.828125 \nL 17.484375 16.9375 \nQ 17.828125 15.828125 18.15625 14.1875 \nQ 18.5 12.546875 18.84375 10.984375 \nQ 19.1875 9.1875 19.578125 7.28125 \nQ 19.96875 9.125 20.40625 10.890625 \nQ 20.796875 12.40625 21.1875 13.96875 \nQ 21.578125 15.53125 21.875 16.546875 \nL 31.453125 52.828125 \nL 40.875 52.828125 \nL 50.09375 16.546875 \nQ 50.4375 15.28125 50.828125 13.671875 \nQ 51.21875 12.0625 51.5625 10.640625 \nQ 51.953125 8.984375 52.34375 7.28125 \nQ 52.734375 9.125 53.125 10.890625 \nQ 53.46875 12.40625 53.828125 14.03125 \nQ 54.203125 15.671875 54.546875 16.9375 \nL 63.875 52.828125 \nL 72.46875 52.828125 \nz\n\" id=\"LiberationSans-119\"/>\n      </defs>\n      <g style=\"fill:#262626;\" transform=\"translate(34.984375 167.829062)scale(0.1 -0.1)\">\n       <use xlink:href=\"#LiberationSans-119\"/>\n       <use x=\"72.216797\" xlink:href=\"#LiberationSans-105\"/>\n       <use x=\"94.433594\" xlink:href=\"#LiberationSans-108\"/>\n       <use x=\"116.650391\" xlink:href=\"#LiberationSans-108\"/>\n      </g>\n     </g>\n    </g>\n    <g id=\"ytick_5\">\n     <g id=\"line2d_17\"/>\n     <g id=\"text_15\">\n      <!-- take -->\n      <g style=\"fill:#262626;\" transform=\"translate(29.971875 192.744063)scale(0.1 -0.1)\">\n       <use xlink:href=\"#LiberationSans-116\"/>\n       <use x=\"27.783203\" xlink:href=\"#LiberationSans-97\"/>\n       <use x=\"83.398438\" xlink:href=\"#LiberationSans-107\"/>\n       <use x=\"133.398438\" xlink:href=\"#LiberationSans-101\"/>\n      </g>\n     </g>\n    </g>\n    <g id=\"ytick_6\">\n     <g id=\"line2d_18\"/>\n     <g id=\"text_16\">\n      <!-- place -->\n      <defs>\n       <path d=\"M 51.421875 26.65625 \nQ 51.421875 20.65625 50.4375 15.578125 \nQ 49.46875 10.5 47.1875 6.828125 \nQ 44.921875 3.171875 41.1875 1.09375 \nQ 37.453125 -0.984375 31.984375 -0.984375 \nQ 26.3125 -0.984375 22.0625 1.171875 \nQ 17.828125 3.328125 15.578125 8.203125 \nL 15.328125 8.203125 \nQ 15.375 8.109375 15.40625 7.328125 \nQ 15.4375 6.546875 15.453125 5.375 \nQ 15.484375 4.203125 15.5 2.75 \nQ 15.53125 1.3125 15.53125 -0.09375 \nL 15.53125 -20.75 \nL 6.734375 -20.75 \nL 6.734375 42.046875 \nQ 6.734375 43.953125 6.703125 45.703125 \nQ 6.6875 47.46875 6.640625 48.90625 \nQ 6.59375 50.34375 6.546875 51.359375 \nQ 6.5 52.390625 6.453125 52.828125 \nL 14.9375 52.828125 \nQ 14.984375 52.6875 15.0625 51.796875 \nQ 15.140625 50.921875 15.203125 49.671875 \nQ 15.28125 48.4375 15.359375 47.015625 \nQ 15.4375 45.609375 15.4375 44.34375 \nL 15.625 44.34375 \nQ 16.84375 46.875 18.40625 48.65625 \nQ 19.96875 50.4375 21.96875 51.578125 \nQ 23.96875 52.734375 26.4375 53.25 \nQ 28.90625 53.765625 31.984375 53.765625 \nQ 37.453125 53.765625 41.1875 51.8125 \nQ 44.921875 49.859375 47.1875 46.3125 \nQ 49.46875 42.78125 50.4375 37.765625 \nQ 51.421875 32.765625 51.421875 26.65625 \nz\nM 42.1875 26.46875 \nQ 42.1875 31.34375 41.59375 35.15625 \nQ 41.015625 38.96875 39.578125 41.59375 \nQ 38.140625 44.234375 35.734375 45.59375 \nQ 33.34375 46.96875 29.734375 46.96875 \nQ 26.8125 46.96875 24.21875 46.140625 \nQ 21.625 45.3125 19.703125 42.96875 \nQ 17.78125 40.625 16.65625 36.5 \nQ 15.53125 32.375 15.53125 25.78125 \nQ 15.53125 20.171875 16.453125 16.28125 \nQ 17.390625 12.40625 19.171875 10.015625 \nQ 20.953125 7.625 23.578125 6.5625 \nQ 26.21875 5.515625 29.640625 5.515625 \nQ 33.296875 5.515625 35.71875 6.921875 \nQ 38.140625 8.34375 39.578125 11.03125 \nQ 41.015625 13.71875 41.59375 17.59375 \nQ 42.1875 21.484375 42.1875 26.46875 \nz\n\" id=\"LiberationSans-112\"/>\n       <path d=\"M 13.421875 26.65625 \nQ 13.421875 22.125 14.078125 18.3125 \nQ 14.75 14.5 16.3125 11.734375 \nQ 17.875 8.984375 20.4375 7.46875 \nQ 23 5.953125 26.765625 5.953125 \nQ 31.453125 5.953125 34.59375 8.484375 \nQ 37.75 11.03125 38.484375 16.3125 \nL 47.359375 15.71875 \nQ 46.921875 12.453125 45.453125 9.421875 \nQ 44 6.390625 41.484375 4.09375 \nQ 38.96875 1.8125 35.34375 0.40625 \nQ 31.734375 -0.984375 27 -0.984375 \nQ 20.796875 -0.984375 16.453125 1.109375 \nQ 12.109375 3.21875 9.390625 6.90625 \nQ 6.6875 10.59375 5.46875 15.59375 \nQ 4.25 20.609375 4.25 26.46875 \nQ 4.25 31.78125 5.125 35.859375 \nQ 6 39.9375 7.59375 42.984375 \nQ 9.1875 46.046875 11.328125 48.125 \nQ 13.484375 50.203125 15.984375 51.4375 \nQ 18.5 52.6875 21.28125 53.25 \nQ 24.078125 53.8125 26.90625 53.8125 \nQ 31.34375 53.8125 34.8125 52.59375 \nQ 38.28125 51.375 40.796875 49.25 \nQ 43.3125 47.125 44.875 44.234375 \nQ 46.4375 41.359375 47.078125 38.03125 \nL 38.03125 37.359375 \nQ 37.359375 41.75 34.5625 44.328125 \nQ 31.78125 46.921875 26.65625 46.921875 \nQ 22.90625 46.921875 20.390625 45.671875 \nQ 17.875 44.4375 16.3125 41.921875 \nQ 14.75 39.40625 14.078125 35.59375 \nQ 13.421875 31.78125 13.421875 26.65625 \nz\n\" id=\"LiberationSans-99\"/>\n      </defs>\n      <g style=\"fill:#262626;\" transform=\"translate(24.967188 217.659063)scale(0.1 -0.1)\">\n       <use xlink:href=\"#LiberationSans-112\"/>\n       <use x=\"55.615234\" xlink:href=\"#LiberationSans-108\"/>\n       <use x=\"77.832031\" xlink:href=\"#LiberationSans-97\"/>\n       <use x=\"133.447266\" xlink:href=\"#LiberationSans-99\"/>\n       <use x=\"183.447266\" xlink:href=\"#LiberationSans-101\"/>\n      </g>\n     </g>\n    </g>\n    <g id=\"ytick_7\">\n     <g id=\"line2d_19\"/>\n     <g id=\"text_17\">\n      <!-- tomorrow -->\n      <g style=\"fill:#262626;\" transform=\"translate(7.2 242.574062)scale(0.1 -0.1)\">\n       <use xlink:href=\"#LiberationSans-116\"/>\n       <use x=\"27.783203\" xlink:href=\"#LiberationSans-111\"/>\n       <use x=\"83.398438\" xlink:href=\"#LiberationSans-109\"/>\n       <use x=\"166.699219\" xlink:href=\"#LiberationSans-111\"/>\n       <use x=\"222.314453\" xlink:href=\"#LiberationSans-114\"/>\n       <use x=\"255.615234\" xlink:href=\"#LiberationSans-114\"/>\n       <use x=\"288.916016\" xlink:href=\"#LiberationSans-111\"/>\n       <use x=\"344.53125\" xlink:href=\"#LiberationSans-119\"/>\n      </g>\n     </g>\n    </g>\n    <g id=\"ytick_8\">\n     <g id=\"line2d_20\"/>\n     <g id=\"text_18\">\n      <!-- at -->\n      <g style=\"fill:#262626;\" transform=\"translate(40.532813 267.489062)scale(0.1 -0.1)\">\n       <use xlink:href=\"#LiberationSans-97\"/>\n       <use x=\"55.615234\" xlink:href=\"#LiberationSans-116\"/>\n      </g>\n     </g>\n    </g>\n    <g id=\"ytick_9\">\n     <g id=\"line2d_21\"/>\n     <g id=\"text_19\">\n      <!-- 12 -->\n      <g style=\"fill:#262626;\" transform=\"translate(37.75 292.404063)scale(0.1 -0.1)\">\n       <use xlink:href=\"#LiberationSans-49\"/>\n       <use x=\"55.615234\" xlink:href=\"#LiberationSans-50\"/>\n      </g>\n     </g>\n    </g>\n    <g id=\"ytick_10\">\n     <g id=\"line2d_22\"/>\n     <g id=\"text_20\">\n      <!-- noon. -->\n      <g style=\"fill:#262626;\" transform=\"translate(23.85 317.319062)scale(0.1 -0.1)\">\n       <use xlink:href=\"#LiberationSans-110\"/>\n       <use x=\"55.615234\" xlink:href=\"#LiberationSans-111\"/>\n       <use x=\"111.230469\" xlink:href=\"#LiberationSans-111\"/>\n       <use x=\"166.845703\" xlink:href=\"#LiberationSans-110\"/>\n       <use x=\"222.460938\" xlink:href=\"#LiberationSans-46\"/>\n      </g>\n     </g>\n    </g>\n    <g id=\"ytick_11\">\n     <g id=\"line2d_23\"/>\n    </g>\n    <g id=\"ytick_12\">\n     <g id=\"line2d_24\"/>\n    </g>\n   </g>\n   <g id=\"PolyCollection_1\">\n    <path clip-path=\"url(#p7a756e43a1)\" d=\"M 55.871875 77.003125 \nL 55.871875 101.918125 \nL 85.631875 101.918125 \nL 85.631875 77.003125 \nL 55.871875 77.003125 \nz\n\" style=\"fill:#084182;\"/>\n    <path clip-path=\"url(#p7a756e43a1)\" d=\"M 85.631875 77.003125 \nL 85.631875 101.918125 \nL 115.391875 101.918125 \nL 115.391875 77.003125 \nL 85.631875 77.003125 \nz\n\" style=\"fill:#0863a7;\"/>\n    <path clip-path=\"url(#p7a756e43a1)\" d=\"M 115.391875 77.003125 \nL 115.391875 101.918125 \nL 145.151875 101.918125 \nL 145.151875 77.003125 \nL 115.391875 77.003125 \nz\n\" style=\"fill:#e2f4dd;\"/>\n    <path clip-path=\"url(#p7a756e43a1)\" d=\"M 145.151875 77.003125 \nL 145.151875 101.918125 \nL 174.911875 101.918125 \nL 174.911875 77.003125 \nL 145.151875 77.003125 \nz\n\" style=\"fill:#084586;\"/>\n    <path clip-path=\"url(#p7a756e43a1)\" d=\"M 174.911875 77.003125 \nL 174.911875 101.918125 \nL 204.671875 101.918125 \nL 204.671875 77.003125 \nL 174.911875 77.003125 \nz\n\" style=\"fill:#1373b2;\"/>\n    <path clip-path=\"url(#p7a756e43a1)\" d=\"M 204.671875 77.003125 \nL 204.671875 101.918125 \nL 234.431875 101.918125 \nL 234.431875 77.003125 \nL 204.671875 77.003125 \nz\n\" style=\"fill:#084b8d;\"/>\n    <path clip-path=\"url(#p7a756e43a1)\" d=\"M 234.431875 77.003125 \nL 234.431875 101.918125 \nL 264.191875 101.918125 \nL 264.191875 77.003125 \nL 234.431875 77.003125 \nz\n\" style=\"fill:#085294;\"/>\n    <path clip-path=\"url(#p7a756e43a1)\" d=\"M 264.191875 77.003125 \nL 264.191875 101.918125 \nL 293.951875 101.918125 \nL 293.951875 77.003125 \nL 264.191875 77.003125 \nz\n\" style=\"fill:#084688;\"/>\n    <path clip-path=\"url(#p7a756e43a1)\" d=\"M 293.951875 77.003125 \nL 293.951875 101.918125 \nL 323.711875 101.918125 \nL 323.711875 77.003125 \nL 293.951875 77.003125 \nz\n\" style=\"fill:#085093;\"/>\n    <path clip-path=\"url(#p7a756e43a1)\" d=\"M 323.711875 77.003125 \nL 323.711875 101.918125 \nL 353.471875 101.918125 \nL 353.471875 77.003125 \nL 323.711875 77.003125 \nz\n\" style=\"fill:#08599c;\"/>\n    <path clip-path=\"url(#p7a756e43a1)\" d=\"M 353.471875 77.003125 \nL 353.471875 101.918125 \nL 383.231875 101.918125 \nL 383.231875 77.003125 \nL 353.471875 77.003125 \nz\n\" style=\"fill:#084182;\"/>\n    <path clip-path=\"url(#p7a756e43a1)\" d=\"M 383.231875 77.003125 \nL 383.231875 101.918125 \nL 412.991875 101.918125 \nL 412.991875 77.003125 \nL 383.231875 77.003125 \nz\n\" style=\"fill:#084182;\"/>\n    <path clip-path=\"url(#p7a756e43a1)\" d=\"M 55.871875 101.918125 \nL 55.871875 126.833125 \nL 85.631875 126.833125 \nL 85.631875 101.918125 \nL 55.871875 101.918125 \nz\n\" style=\"fill:#084688;\"/>\n    <path clip-path=\"url(#p7a756e43a1)\" d=\"M 85.631875 101.918125 \nL 85.631875 126.833125 \nL 115.391875 126.833125 \nL 115.391875 101.918125 \nL 85.631875 101.918125 \nz\n\" style=\"fill:#08498a;\"/>\n    <path clip-path=\"url(#p7a756e43a1)\" d=\"M 115.391875 101.918125 \nL 115.391875 126.833125 \nL 145.151875 126.833125 \nL 145.151875 101.918125 \nL 115.391875 101.918125 \nz\n\" style=\"fill:#0d6dae;\"/>\n    <path clip-path=\"url(#p7a756e43a1)\" d=\"M 145.151875 101.918125 \nL 145.151875 126.833125 \nL 174.911875 126.833125 \nL 174.911875 101.918125 \nL 145.151875 101.918125 \nz\n\" style=\"fill:#084889;\"/>\n    <path clip-path=\"url(#p7a756e43a1)\" d=\"M 174.911875 101.918125 \nL 174.911875 126.833125 \nL 204.671875 126.833125 \nL 204.671875 101.918125 \nL 174.911875 101.918125 \nz\n\" style=\"fill:#9fdab8;\"/>\n    <path clip-path=\"url(#p7a756e43a1)\" d=\"M 204.671875 101.918125 \nL 204.671875 126.833125 \nL 234.431875 126.833125 \nL 234.431875 101.918125 \nL 204.671875 101.918125 \nz\n\" style=\"fill:#8fd4bd;\"/>\n    <path clip-path=\"url(#p7a756e43a1)\" d=\"M 234.431875 101.918125 \nL 234.431875 126.833125 \nL 264.191875 126.833125 \nL 264.191875 101.918125 \nL 234.431875 101.918125 \nz\n\" style=\"fill:#084688;\"/>\n    <path clip-path=\"url(#p7a756e43a1)\" d=\"M 264.191875 101.918125 \nL 264.191875 126.833125 \nL 293.951875 126.833125 \nL 293.951875 101.918125 \nL 264.191875 101.918125 \nz\n\" style=\"fill:#084485;\"/>\n    <path clip-path=\"url(#p7a756e43a1)\" d=\"M 293.951875 101.918125 \nL 293.951875 126.833125 \nL 323.711875 126.833125 \nL 323.711875 101.918125 \nL 293.951875 101.918125 \nz\n\" style=\"fill:#084182;\"/>\n    <path clip-path=\"url(#p7a756e43a1)\" d=\"M 323.711875 101.918125 \nL 323.711875 126.833125 \nL 353.471875 126.833125 \nL 353.471875 101.918125 \nL 323.711875 101.918125 \nz\n\" style=\"fill:#084081;\"/>\n    <path clip-path=\"url(#p7a756e43a1)\" d=\"M 353.471875 101.918125 \nL 353.471875 126.833125 \nL 383.231875 126.833125 \nL 383.231875 101.918125 \nL 353.471875 101.918125 \nz\n\" style=\"fill:#084384;\"/>\n    <path clip-path=\"url(#p7a756e43a1)\" d=\"M 383.231875 101.918125 \nL 383.231875 126.833125 \nL 412.991875 126.833125 \nL 412.991875 101.918125 \nL 383.231875 101.918125 \nz\n\" style=\"fill:#084586;\"/>\n    <path clip-path=\"url(#p7a756e43a1)\" d=\"M 55.871875 126.833125 \nL 55.871875 151.748125 \nL 85.631875 151.748125 \nL 85.631875 126.833125 \nL 55.871875 126.833125 \nz\n\" style=\"fill:#0e6eaf;\"/>\n    <path clip-path=\"url(#p7a756e43a1)\" d=\"M 85.631875 126.833125 \nL 85.631875 151.748125 \nL 115.391875 151.748125 \nL 115.391875 126.833125 \nL 85.631875 126.833125 \nz\n\" style=\"fill:#085395;\"/>\n    <path clip-path=\"url(#p7a756e43a1)\" d=\"M 115.391875 126.833125 \nL 115.391875 151.748125 \nL 145.151875 151.748125 \nL 145.151875 126.833125 \nL 115.391875 126.833125 \nz\n\" style=\"fill:#085294;\"/>\n    <path clip-path=\"url(#p7a756e43a1)\" d=\"M 145.151875 126.833125 \nL 145.151875 151.748125 \nL 174.911875 151.748125 \nL 174.911875 126.833125 \nL 145.151875 126.833125 \nz\n\" style=\"fill:#084e90;\"/>\n    <path clip-path=\"url(#p7a756e43a1)\" d=\"M 174.911875 126.833125 \nL 174.911875 151.748125 \nL 204.671875 151.748125 \nL 204.671875 126.833125 \nL 174.911875 126.833125 \nz\n\" style=\"fill:#1979b5;\"/>\n    <path clip-path=\"url(#p7a756e43a1)\" d=\"M 204.671875 126.833125 \nL 204.671875 151.748125 \nL 234.431875 151.748125 \nL 234.431875 126.833125 \nL 204.671875 126.833125 \nz\n\" style=\"fill:#1979b5;\"/>\n    <path clip-path=\"url(#p7a756e43a1)\" d=\"M 234.431875 126.833125 \nL 234.431875 151.748125 \nL 264.191875 151.748125 \nL 264.191875 126.833125 \nL 234.431875 126.833125 \nz\n\" style=\"fill:#2889bc;\"/>\n    <path clip-path=\"url(#p7a756e43a1)\" d=\"M 264.191875 126.833125 \nL 264.191875 151.748125 \nL 293.951875 151.748125 \nL 293.951875 126.833125 \nL 264.191875 126.833125 \nz\n\" style=\"fill:#1979b5;\"/>\n    <path clip-path=\"url(#p7a756e43a1)\" d=\"M 293.951875 126.833125 \nL 293.951875 151.748125 \nL 323.711875 151.748125 \nL 323.711875 126.833125 \nL 293.951875 126.833125 \nz\n\" style=\"fill:#085093;\"/>\n    <path clip-path=\"url(#p7a756e43a1)\" d=\"M 323.711875 126.833125 \nL 323.711875 151.748125 \nL 353.471875 151.748125 \nL 353.471875 126.833125 \nL 323.711875 126.833125 \nz\n\" style=\"fill:#085294;\"/>\n    <path clip-path=\"url(#p7a756e43a1)\" d=\"M 353.471875 126.833125 \nL 353.471875 151.748125 \nL 383.231875 151.748125 \nL 383.231875 126.833125 \nL 353.471875 126.833125 \nz\n\" style=\"fill:#085fa3;\"/>\n    <path clip-path=\"url(#p7a756e43a1)\" d=\"M 383.231875 126.833125 \nL 383.231875 151.748125 \nL 412.991875 151.748125 \nL 412.991875 126.833125 \nL 383.231875 126.833125 \nz\n\" style=\"fill:#0969ad;\"/>\n    <path clip-path=\"url(#p7a756e43a1)\" d=\"M 55.871875 151.748125 \nL 55.871875 176.663125 \nL 85.631875 176.663125 \nL 85.631875 151.748125 \nL 55.871875 151.748125 \nz\n\" style=\"fill:#084688;\"/>\n    <path clip-path=\"url(#p7a756e43a1)\" d=\"M 85.631875 151.748125 \nL 85.631875 176.663125 \nL 115.391875 176.663125 \nL 115.391875 151.748125 \nL 85.631875 151.748125 \nz\n\" style=\"fill:#084485;\"/>\n    <path clip-path=\"url(#p7a756e43a1)\" d=\"M 115.391875 151.748125 \nL 115.391875 176.663125 \nL 145.151875 176.663125 \nL 145.151875 151.748125 \nL 115.391875 151.748125 \nz\n\" style=\"fill:#084586;\"/>\n    <path clip-path=\"url(#p7a756e43a1)\" d=\"M 145.151875 151.748125 \nL 145.151875 176.663125 \nL 174.911875 176.663125 \nL 174.911875 151.748125 \nL 145.151875 151.748125 \nz\n\" style=\"fill:#084182;\"/>\n    <path clip-path=\"url(#p7a756e43a1)\" d=\"M 174.911875 151.748125 \nL 174.911875 176.663125 \nL 204.671875 176.663125 \nL 204.671875 151.748125 \nL 174.911875 151.748125 \nz\n\" style=\"fill:#4aafd1;\"/>\n    <path clip-path=\"url(#p7a756e43a1)\" d=\"M 204.671875 151.748125 \nL 204.671875 176.663125 \nL 234.431875 176.663125 \nL 234.431875 151.748125 \nL 204.671875 151.748125 \nz\n\" style=\"fill:#f4fbed;\"/>\n    <path clip-path=\"url(#p7a756e43a1)\" d=\"M 234.431875 151.748125 \nL 234.431875 176.663125 \nL 264.191875 176.663125 \nL 264.191875 151.748125 \nL 234.431875 151.748125 \nz\n\" style=\"fill:#084182;\"/>\n    <path clip-path=\"url(#p7a756e43a1)\" d=\"M 264.191875 151.748125 \nL 264.191875 176.663125 \nL 293.951875 176.663125 \nL 293.951875 151.748125 \nL 264.191875 151.748125 \nz\n\" style=\"fill:#084485;\"/>\n    <path clip-path=\"url(#p7a756e43a1)\" d=\"M 293.951875 151.748125 \nL 293.951875 176.663125 \nL 323.711875 176.663125 \nL 323.711875 151.748125 \nL 293.951875 151.748125 \nz\n\" style=\"fill:#084081;\"/>\n    <path clip-path=\"url(#p7a756e43a1)\" d=\"M 323.711875 151.748125 \nL 323.711875 176.663125 \nL 353.471875 176.663125 \nL 353.471875 151.748125 \nL 323.711875 151.748125 \nz\n\" style=\"fill:#084081;\"/>\n    <path clip-path=\"url(#p7a756e43a1)\" d=\"M 353.471875 151.748125 \nL 353.471875 176.663125 \nL 383.231875 176.663125 \nL 383.231875 151.748125 \nL 353.471875 151.748125 \nz\n\" style=\"fill:#084384;\"/>\n    <path clip-path=\"url(#p7a756e43a1)\" d=\"M 383.231875 151.748125 \nL 383.231875 176.663125 \nL 412.991875 176.663125 \nL 412.991875 151.748125 \nL 383.231875 151.748125 \nz\n\" style=\"fill:#084586;\"/>\n    <path clip-path=\"url(#p7a756e43a1)\" d=\"M 55.871875 176.663125 \nL 55.871875 201.578125 \nL 85.631875 201.578125 \nL 85.631875 176.663125 \nL 55.871875 176.663125 \nz\n\" style=\"fill:#2586bb;\"/>\n    <path clip-path=\"url(#p7a756e43a1)\" d=\"M 85.631875 176.663125 \nL 85.631875 201.578125 \nL 115.391875 201.578125 \nL 115.391875 176.663125 \nL 85.631875 176.663125 \nz\n\" style=\"fill:#085497;\"/>\n    <path clip-path=\"url(#p7a756e43a1)\" d=\"M 115.391875 176.663125 \nL 115.391875 201.578125 \nL 145.151875 201.578125 \nL 145.151875 176.663125 \nL 115.391875 176.663125 \nz\n\" style=\"fill:#08498a;\"/>\n    <path clip-path=\"url(#p7a756e43a1)\" d=\"M 145.151875 176.663125 \nL 145.151875 201.578125 \nL 174.911875 201.578125 \nL 174.911875 176.663125 \nL 145.151875 176.663125 \nz\n\" style=\"fill:#08498a;\"/>\n    <path clip-path=\"url(#p7a756e43a1)\" d=\"M 174.911875 176.663125 \nL 174.911875 201.578125 \nL 204.671875 201.578125 \nL 204.671875 176.663125 \nL 174.911875 176.663125 \nz\n\" style=\"fill:#49add0;\"/>\n    <path clip-path=\"url(#p7a756e43a1)\" d=\"M 204.671875 176.663125 \nL 204.671875 201.578125 \nL 234.431875 201.578125 \nL 234.431875 176.663125 \nL 204.671875 176.663125 \nz\n\" style=\"fill:#53b6d1;\"/>\n    <path clip-path=\"url(#p7a756e43a1)\" d=\"M 234.431875 176.663125 \nL 234.431875 201.578125 \nL 264.191875 201.578125 \nL 264.191875 176.663125 \nL 234.431875 176.663125 \nz\n\" style=\"fill:#085395;\"/>\n    <path clip-path=\"url(#p7a756e43a1)\" d=\"M 264.191875 176.663125 \nL 264.191875 201.578125 \nL 293.951875 201.578125 \nL 293.951875 176.663125 \nL 264.191875 176.663125 \nz\n\" style=\"fill:#084f91;\"/>\n    <path clip-path=\"url(#p7a756e43a1)\" d=\"M 293.951875 176.663125 \nL 293.951875 201.578125 \nL 323.711875 201.578125 \nL 323.711875 176.663125 \nL 293.951875 176.663125 \nz\n\" style=\"fill:#084384;\"/>\n    <path clip-path=\"url(#p7a756e43a1)\" d=\"M 323.711875 176.663125 \nL 323.711875 201.578125 \nL 353.471875 201.578125 \nL 353.471875 176.663125 \nL 323.711875 176.663125 \nz\n\" style=\"fill:#084182;\"/>\n    <path clip-path=\"url(#p7a756e43a1)\" d=\"M 353.471875 176.663125 \nL 353.471875 201.578125 \nL 383.231875 201.578125 \nL 383.231875 176.663125 \nL 353.471875 176.663125 \nz\n\" style=\"fill:#085497;\"/>\n    <path clip-path=\"url(#p7a756e43a1)\" d=\"M 383.231875 176.663125 \nL 383.231875 201.578125 \nL 412.991875 201.578125 \nL 412.991875 176.663125 \nL 383.231875 176.663125 \nz\n\" style=\"fill:#1272b1;\"/>\n    <path clip-path=\"url(#p7a756e43a1)\" d=\"M 55.871875 201.578125 \nL 55.871875 226.493125 \nL 85.631875 226.493125 \nL 85.631875 201.578125 \nL 55.871875 201.578125 \nz\n\" style=\"fill:#085395;\"/>\n    <path clip-path=\"url(#p7a756e43a1)\" d=\"M 85.631875 201.578125 \nL 85.631875 226.493125 \nL 115.391875 226.493125 \nL 115.391875 201.578125 \nL 85.631875 201.578125 \nz\n\" style=\"fill:#084485;\"/>\n    <path clip-path=\"url(#p7a756e43a1)\" d=\"M 115.391875 201.578125 \nL 115.391875 226.493125 \nL 145.151875 226.493125 \nL 145.151875 201.578125 \nL 115.391875 201.578125 \nz\n\" style=\"fill:#084081;\"/>\n    <path clip-path=\"url(#p7a756e43a1)\" d=\"M 145.151875 201.578125 \nL 145.151875 226.493125 \nL 174.911875 226.493125 \nL 174.911875 201.578125 \nL 145.151875 201.578125 \nz\n\" style=\"fill:#084081;\"/>\n    <path clip-path=\"url(#p7a756e43a1)\" d=\"M 174.911875 201.578125 \nL 174.911875 226.493125 \nL 204.671875 226.493125 \nL 204.671875 201.578125 \nL 174.911875 201.578125 \nz\n\" style=\"fill:#084d8e;\"/>\n    <path clip-path=\"url(#p7a756e43a1)\" d=\"M 204.671875 201.578125 \nL 204.671875 226.493125 \nL 234.431875 226.493125 \nL 234.431875 201.578125 \nL 204.671875 201.578125 \nz\n\" style=\"fill:#085395;\"/>\n    <path clip-path=\"url(#p7a756e43a1)\" d=\"M 234.431875 201.578125 \nL 234.431875 226.493125 \nL 264.191875 226.493125 \nL 264.191875 201.578125 \nL 234.431875 201.578125 \nz\n\" style=\"fill:#b9e3bc;\"/>\n    <path clip-path=\"url(#p7a756e43a1)\" d=\"M 264.191875 201.578125 \nL 264.191875 226.493125 \nL 293.951875 226.493125 \nL 293.951875 201.578125 \nL 264.191875 201.578125 \nz\n\" style=\"fill:#50b4d2;\"/>\n    <path clip-path=\"url(#p7a756e43a1)\" d=\"M 293.951875 201.578125 \nL 293.951875 226.493125 \nL 323.711875 226.493125 \nL 323.711875 201.578125 \nL 293.951875 201.578125 \nz\n\" style=\"fill:#08498a;\"/>\n    <path clip-path=\"url(#p7a756e43a1)\" d=\"M 323.711875 201.578125 \nL 323.711875 226.493125 \nL 353.471875 226.493125 \nL 353.471875 201.578125 \nL 323.711875 201.578125 \nz\n\" style=\"fill:#085598;\"/>\n    <path clip-path=\"url(#p7a756e43a1)\" d=\"M 353.471875 201.578125 \nL 353.471875 226.493125 \nL 383.231875 226.493125 \nL 383.231875 201.578125 \nL 353.471875 201.578125 \nz\n\" style=\"fill:#085093;\"/>\n    <path clip-path=\"url(#p7a756e43a1)\" d=\"M 383.231875 201.578125 \nL 383.231875 226.493125 \nL 412.991875 226.493125 \nL 412.991875 201.578125 \nL 383.231875 201.578125 \nz\n\" style=\"fill:#085294;\"/>\n    <path clip-path=\"url(#p7a756e43a1)\" d=\"M 55.871875 226.493125 \nL 55.871875 251.408125 \nL 85.631875 251.408125 \nL 85.631875 226.493125 \nL 55.871875 226.493125 \nz\n\" style=\"fill:#085799;\"/>\n    <path clip-path=\"url(#p7a756e43a1)\" d=\"M 85.631875 226.493125 \nL 85.631875 251.408125 \nL 115.391875 251.408125 \nL 115.391875 226.493125 \nL 85.631875 226.493125 \nz\n\" style=\"fill:#084a8c;\"/>\n    <path clip-path=\"url(#p7a756e43a1)\" d=\"M 115.391875 226.493125 \nL 115.391875 251.408125 \nL 145.151875 251.408125 \nL 145.151875 226.493125 \nL 115.391875 226.493125 \nz\n\" style=\"fill:#3b9dc7;\"/>\n    <path clip-path=\"url(#p7a756e43a1)\" d=\"M 145.151875 226.493125 \nL 145.151875 251.408125 \nL 174.911875 251.408125 \nL 174.911875 226.493125 \nL 145.151875 226.493125 \nz\n\" style=\"fill:#084182;\"/>\n    <path clip-path=\"url(#p7a756e43a1)\" d=\"M 174.911875 226.493125 \nL 174.911875 251.408125 \nL 204.671875 251.408125 \nL 204.671875 226.493125 \nL 174.911875 226.493125 \nz\n\" style=\"fill:#084d8e;\"/>\n    <path clip-path=\"url(#p7a756e43a1)\" d=\"M 204.671875 226.493125 \nL 204.671875 251.408125 \nL 234.431875 251.408125 \nL 234.431875 226.493125 \nL 204.671875 226.493125 \nz\n\" style=\"fill:#085da0;\"/>\n    <path clip-path=\"url(#p7a756e43a1)\" d=\"M 234.431875 226.493125 \nL 234.431875 251.408125 \nL 264.191875 251.408125 \nL 264.191875 226.493125 \nL 234.431875 226.493125 \nz\n\" style=\"fill:#b6e3bb;\"/>\n    <path clip-path=\"url(#p7a756e43a1)\" d=\"M 264.191875 226.493125 \nL 264.191875 251.408125 \nL 293.951875 251.408125 \nL 293.951875 226.493125 \nL 264.191875 226.493125 \nz\n\" style=\"fill:#084688;\"/>\n    <path clip-path=\"url(#p7a756e43a1)\" d=\"M 293.951875 226.493125 \nL 293.951875 251.408125 \nL 323.711875 251.408125 \nL 323.711875 226.493125 \nL 293.951875 226.493125 \nz\n\" style=\"fill:#084688;\"/>\n    <path clip-path=\"url(#p7a756e43a1)\" d=\"M 323.711875 226.493125 \nL 323.711875 251.408125 \nL 353.471875 251.408125 \nL 353.471875 226.493125 \nL 323.711875 226.493125 \nz\n\" style=\"fill:#085395;\"/>\n    <path clip-path=\"url(#p7a756e43a1)\" d=\"M 353.471875 226.493125 \nL 353.471875 251.408125 \nL 383.231875 251.408125 \nL 383.231875 226.493125 \nL 353.471875 226.493125 \nz\n\" style=\"fill:#085093;\"/>\n    <path clip-path=\"url(#p7a756e43a1)\" d=\"M 383.231875 226.493125 \nL 383.231875 251.408125 \nL 412.991875 251.408125 \nL 412.991875 226.493125 \nL 383.231875 226.493125 \nz\n\" style=\"fill:#085598;\"/>\n    <path clip-path=\"url(#p7a756e43a1)\" d=\"M 55.871875 251.408125 \nL 55.871875 276.323125 \nL 85.631875 276.323125 \nL 85.631875 251.408125 \nL 55.871875 251.408125 \nz\n\" style=\"fill:#084f91;\"/>\n    <path clip-path=\"url(#p7a756e43a1)\" d=\"M 85.631875 251.408125 \nL 85.631875 276.323125 \nL 115.391875 276.323125 \nL 115.391875 251.408125 \nL 85.631875 251.408125 \nz\n\" style=\"fill:#084081;\"/>\n    <path clip-path=\"url(#p7a756e43a1)\" d=\"M 115.391875 251.408125 \nL 115.391875 276.323125 \nL 145.151875 276.323125 \nL 145.151875 251.408125 \nL 115.391875 251.408125 \nz\n\" style=\"fill:#084081;\"/>\n    <path clip-path=\"url(#p7a756e43a1)\" d=\"M 145.151875 251.408125 \nL 145.151875 276.323125 \nL 174.911875 276.323125 \nL 174.911875 251.408125 \nL 145.151875 251.408125 \nz\n\" style=\"fill:#084081;\"/>\n    <path clip-path=\"url(#p7a756e43a1)\" d=\"M 174.911875 251.408125 \nL 174.911875 276.323125 \nL 204.671875 276.323125 \nL 204.671875 251.408125 \nL 174.911875 251.408125 \nz\n\" style=\"fill:#084384;\"/>\n    <path clip-path=\"url(#p7a756e43a1)\" d=\"M 204.671875 251.408125 \nL 204.671875 276.323125 \nL 234.431875 276.323125 \nL 234.431875 251.408125 \nL 204.671875 251.408125 \nz\n\" style=\"fill:#085497;\"/>\n    <path clip-path=\"url(#p7a756e43a1)\" d=\"M 234.431875 251.408125 \nL 234.431875 276.323125 \nL 264.191875 276.323125 \nL 264.191875 251.408125 \nL 234.431875 251.408125 \nz\n\" style=\"fill:#085ea1;\"/>\n    <path clip-path=\"url(#p7a756e43a1)\" d=\"M 264.191875 251.408125 \nL 264.191875 276.323125 \nL 293.951875 276.323125 \nL 293.951875 251.408125 \nL 264.191875 251.408125 \nz\n\" style=\"fill:#f7fcf0;\"/>\n    <path clip-path=\"url(#p7a756e43a1)\" d=\"M 293.951875 251.408125 \nL 293.951875 276.323125 \nL 323.711875 276.323125 \nL 323.711875 251.408125 \nL 293.951875 251.408125 \nz\n\" style=\"fill:#08498a;\"/>\n    <path clip-path=\"url(#p7a756e43a1)\" d=\"M 323.711875 251.408125 \nL 323.711875 276.323125 \nL 353.471875 276.323125 \nL 353.471875 251.408125 \nL 323.711875 251.408125 \nz\n\" style=\"fill:#085799;\"/>\n    <path clip-path=\"url(#p7a756e43a1)\" d=\"M 353.471875 251.408125 \nL 353.471875 276.323125 \nL 383.231875 276.323125 \nL 383.231875 251.408125 \nL 353.471875 251.408125 \nz\n\" style=\"fill:#085598;\"/>\n    <path clip-path=\"url(#p7a756e43a1)\" d=\"M 383.231875 251.408125 \nL 383.231875 276.323125 \nL 412.991875 276.323125 \nL 412.991875 251.408125 \nL 383.231875 251.408125 \nz\n\" style=\"fill:#085093;\"/>\n    <path clip-path=\"url(#p7a756e43a1)\" d=\"M 55.871875 276.323125 \nL 55.871875 301.238125 \nL 85.631875 301.238125 \nL 85.631875 276.323125 \nL 55.871875 276.323125 \nz\n\" style=\"fill:#084b8d;\"/>\n    <path clip-path=\"url(#p7a756e43a1)\" d=\"M 85.631875 276.323125 \nL 85.631875 301.238125 \nL 115.391875 301.238125 \nL 115.391875 276.323125 \nL 85.631875 276.323125 \nz\n\" style=\"fill:#084182;\"/>\n    <path clip-path=\"url(#p7a756e43a1)\" d=\"M 115.391875 276.323125 \nL 115.391875 301.238125 \nL 145.151875 301.238125 \nL 145.151875 276.323125 \nL 115.391875 276.323125 \nz\n\" style=\"fill:#084182;\"/>\n    <path clip-path=\"url(#p7a756e43a1)\" d=\"M 145.151875 276.323125 \nL 145.151875 301.238125 \nL 174.911875 301.238125 \nL 174.911875 276.323125 \nL 145.151875 276.323125 \nz\n\" style=\"fill:#084081;\"/>\n    <path clip-path=\"url(#p7a756e43a1)\" d=\"M 174.911875 276.323125 \nL 174.911875 301.238125 \nL 204.671875 301.238125 \nL 204.671875 276.323125 \nL 174.911875 276.323125 \nz\n\" style=\"fill:#084081;\"/>\n    <path clip-path=\"url(#p7a756e43a1)\" d=\"M 204.671875 276.323125 \nL 204.671875 301.238125 \nL 234.431875 301.238125 \nL 234.431875 276.323125 \nL 204.671875 276.323125 \nz\n\" style=\"fill:#084384;\"/>\n    <path clip-path=\"url(#p7a756e43a1)\" d=\"M 234.431875 276.323125 \nL 234.431875 301.238125 \nL 264.191875 301.238125 \nL 264.191875 276.323125 \nL 234.431875 276.323125 \nz\n\" style=\"fill:#084a8c;\"/>\n    <path clip-path=\"url(#p7a756e43a1)\" d=\"M 264.191875 276.323125 \nL 264.191875 301.238125 \nL 293.951875 301.238125 \nL 293.951875 276.323125 \nL 264.191875 276.323125 \nz\n\" style=\"fill:#1070b0;\"/>\n    <path clip-path=\"url(#p7a756e43a1)\" d=\"M 293.951875 276.323125 \nL 293.951875 301.238125 \nL 323.711875 301.238125 \nL 323.711875 276.323125 \nL 293.951875 276.323125 \nz\n\" style=\"fill:#41a5cb;\"/>\n    <path clip-path=\"url(#p7a756e43a1)\" d=\"M 323.711875 276.323125 \nL 323.711875 301.238125 \nL 353.471875 301.238125 \nL 353.471875 276.323125 \nL 323.711875 276.323125 \nz\n\" style=\"fill:#d1edca;\"/>\n    <path clip-path=\"url(#p7a756e43a1)\" d=\"M 353.471875 276.323125 \nL 353.471875 301.238125 \nL 383.231875 301.238125 \nL 383.231875 276.323125 \nL 353.471875 276.323125 \nz\n\" style=\"fill:#084d8e;\"/>\n    <path clip-path=\"url(#p7a756e43a1)\" d=\"M 383.231875 276.323125 \nL 383.231875 301.238125 \nL 412.991875 301.238125 \nL 412.991875 276.323125 \nL 383.231875 276.323125 \nz\n\" style=\"fill:#084d8e;\"/>\n    <path clip-path=\"url(#p7a756e43a1)\" d=\"M 55.871875 301.238125 \nL 55.871875 326.153125 \nL 85.631875 326.153125 \nL 85.631875 301.238125 \nL 55.871875 301.238125 \nz\n\" style=\"fill:#084384;\"/>\n    <path clip-path=\"url(#p7a756e43a1)\" d=\"M 85.631875 301.238125 \nL 85.631875 326.153125 \nL 115.391875 326.153125 \nL 115.391875 301.238125 \nL 85.631875 301.238125 \nz\n\" style=\"fill:#084081;\"/>\n    <path clip-path=\"url(#p7a756e43a1)\" d=\"M 115.391875 301.238125 \nL 115.391875 326.153125 \nL 145.151875 326.153125 \nL 145.151875 301.238125 \nL 115.391875 301.238125 \nz\n\" style=\"fill:#084081;\"/>\n    <path clip-path=\"url(#p7a756e43a1)\" d=\"M 145.151875 301.238125 \nL 145.151875 326.153125 \nL 174.911875 326.153125 \nL 174.911875 301.238125 \nL 145.151875 301.238125 \nz\n\" style=\"fill:#084081;\"/>\n    <path clip-path=\"url(#p7a756e43a1)\" d=\"M 174.911875 301.238125 \nL 174.911875 326.153125 \nL 204.671875 326.153125 \nL 204.671875 301.238125 \nL 174.911875 301.238125 \nz\n\" style=\"fill:#084182;\"/>\n    <path clip-path=\"url(#p7a756e43a1)\" d=\"M 204.671875 301.238125 \nL 204.671875 326.153125 \nL 234.431875 326.153125 \nL 234.431875 301.238125 \nL 204.671875 301.238125 \nz\n\" style=\"fill:#084182;\"/>\n    <path clip-path=\"url(#p7a756e43a1)\" d=\"M 234.431875 301.238125 \nL 234.431875 326.153125 \nL 264.191875 326.153125 \nL 264.191875 301.238125 \nL 234.431875 301.238125 \nz\n\" style=\"fill:#084889;\"/>\n    <path clip-path=\"url(#p7a756e43a1)\" d=\"M 264.191875 301.238125 \nL 264.191875 326.153125 \nL 293.951875 326.153125 \nL 293.951875 301.238125 \nL 264.191875 301.238125 \nz\n\" style=\"fill:#084688;\"/>\n    <path clip-path=\"url(#p7a756e43a1)\" d=\"M 293.951875 301.238125 \nL 293.951875 326.153125 \nL 323.711875 326.153125 \nL 323.711875 301.238125 \nL 293.951875 301.238125 \nz\n\" style=\"fill:#dff3da;\"/>\n    <path clip-path=\"url(#p7a756e43a1)\" d=\"M 323.711875 301.238125 \nL 323.711875 326.153125 \nL 353.471875 326.153125 \nL 353.471875 301.238125 \nL 323.711875 301.238125 \nz\n\" style=\"fill:#73c8c7;\"/>\n    <path clip-path=\"url(#p7a756e43a1)\" d=\"M 353.471875 301.238125 \nL 353.471875 326.153125 \nL 383.231875 326.153125 \nL 383.231875 301.238125 \nL 353.471875 301.238125 \nz\n\" style=\"fill:#084485;\"/>\n    <path clip-path=\"url(#p7a756e43a1)\" d=\"M 383.231875 301.238125 \nL 383.231875 326.153125 \nL 412.991875 326.153125 \nL 412.991875 301.238125 \nL 383.231875 301.238125 \nz\n\" style=\"fill:#084485;\"/>\n    <path clip-path=\"url(#p7a756e43a1)\" d=\"M 55.871875 326.153125 \nL 55.871875 351.068125 \nL 85.631875 351.068125 \nL 85.631875 326.153125 \nL 55.871875 326.153125 \nz\n\" style=\"fill:#61bdcd;\"/>\n    <path clip-path=\"url(#p7a756e43a1)\" d=\"M 85.631875 326.153125 \nL 85.631875 351.068125 \nL 115.391875 351.068125 \nL 115.391875 326.153125 \nL 85.631875 326.153125 \nz\n\" style=\"fill:#085799;\"/>\n    <path clip-path=\"url(#p7a756e43a1)\" d=\"M 115.391875 326.153125 \nL 115.391875 351.068125 \nL 145.151875 351.068125 \nL 145.151875 326.153125 \nL 115.391875 326.153125 \nz\n\" style=\"fill:#084081;\"/>\n    <path clip-path=\"url(#p7a756e43a1)\" d=\"M 145.151875 326.153125 \nL 145.151875 351.068125 \nL 174.911875 351.068125 \nL 174.911875 326.153125 \nL 145.151875 326.153125 \nz\n\" style=\"fill:#084384;\"/>\n    <path clip-path=\"url(#p7a756e43a1)\" d=\"M 174.911875 326.153125 \nL 174.911875 351.068125 \nL 204.671875 351.068125 \nL 204.671875 326.153125 \nL 174.911875 326.153125 \nz\n\" style=\"fill:#084081;\"/>\n    <path clip-path=\"url(#p7a756e43a1)\" d=\"M 204.671875 326.153125 \nL 204.671875 351.068125 \nL 234.431875 351.068125 \nL 234.431875 326.153125 \nL 204.671875 326.153125 \nz\n\" style=\"fill:#084182;\"/>\n    <path clip-path=\"url(#p7a756e43a1)\" d=\"M 234.431875 326.153125 \nL 234.431875 351.068125 \nL 264.191875 351.068125 \nL 264.191875 326.153125 \nL 234.431875 326.153125 \nz\n\" style=\"fill:#084384;\"/>\n    <path clip-path=\"url(#p7a756e43a1)\" d=\"M 264.191875 326.153125 \nL 264.191875 351.068125 \nL 293.951875 351.068125 \nL 293.951875 326.153125 \nL 264.191875 326.153125 \nz\n\" style=\"fill:#0b6cae;\"/>\n    <path clip-path=\"url(#p7a756e43a1)\" d=\"M 293.951875 326.153125 \nL 293.951875 351.068125 \nL 323.711875 351.068125 \nL 323.711875 326.153125 \nL 293.951875 326.153125 \nz\n\" style=\"fill:#084384;\"/>\n    <path clip-path=\"url(#p7a756e43a1)\" d=\"M 323.711875 326.153125 \nL 323.711875 351.068125 \nL 353.471875 351.068125 \nL 353.471875 326.153125 \nL 323.711875 326.153125 \nz\n\" style=\"fill:#084485;\"/>\n    <path clip-path=\"url(#p7a756e43a1)\" d=\"M 353.471875 326.153125 \nL 353.471875 351.068125 \nL 383.231875 351.068125 \nL 383.231875 326.153125 \nL 353.471875 326.153125 \nz\n\" style=\"fill:#42a6cc;\"/>\n    <path clip-path=\"url(#p7a756e43a1)\" d=\"M 383.231875 326.153125 \nL 383.231875 351.068125 \nL 412.991875 351.068125 \nL 412.991875 326.153125 \nL 383.231875 326.153125 \nz\n\" style=\"fill:#5ebcce;\"/>\n    <path clip-path=\"url(#p7a756e43a1)\" d=\"M 55.871875 351.068125 \nL 55.871875 375.983125 \nL 85.631875 375.983125 \nL 85.631875 351.068125 \nL 55.871875 351.068125 \nz\n\" style=\"fill:#81cec2;\"/>\n    <path clip-path=\"url(#p7a756e43a1)\" d=\"M 85.631875 351.068125 \nL 85.631875 375.983125 \nL 115.391875 375.983125 \nL 115.391875 351.068125 \nL 85.631875 351.068125 \nz\n\" style=\"fill:#08498a;\"/>\n    <path clip-path=\"url(#p7a756e43a1)\" d=\"M 115.391875 351.068125 \nL 115.391875 375.983125 \nL 145.151875 375.983125 \nL 145.151875 351.068125 \nL 115.391875 351.068125 \nz\n\" style=\"fill:#084384;\"/>\n    <path clip-path=\"url(#p7a756e43a1)\" d=\"M 145.151875 351.068125 \nL 145.151875 375.983125 \nL 174.911875 375.983125 \nL 174.911875 351.068125 \nL 145.151875 351.068125 \nz\n\" style=\"fill:#084081;\"/>\n    <path clip-path=\"url(#p7a756e43a1)\" d=\"M 174.911875 351.068125 \nL 174.911875 375.983125 \nL 204.671875 375.983125 \nL 204.671875 351.068125 \nL 174.911875 351.068125 \nz\n\" style=\"fill:#084081;\"/>\n    <path clip-path=\"url(#p7a756e43a1)\" d=\"M 204.671875 351.068125 \nL 204.671875 375.983125 \nL 234.431875 375.983125 \nL 234.431875 351.068125 \nL 204.671875 351.068125 \nz\n\" style=\"fill:#084688;\"/>\n    <path clip-path=\"url(#p7a756e43a1)\" d=\"M 234.431875 351.068125 \nL 234.431875 375.983125 \nL 264.191875 375.983125 \nL 264.191875 351.068125 \nL 234.431875 351.068125 \nz\n\" style=\"fill:#084889;\"/>\n    <path clip-path=\"url(#p7a756e43a1)\" d=\"M 264.191875 351.068125 \nL 264.191875 375.983125 \nL 293.951875 375.983125 \nL 293.951875 351.068125 \nL 264.191875 351.068125 \nz\n\" style=\"fill:#0862a5;\"/>\n    <path clip-path=\"url(#p7a756e43a1)\" d=\"M 293.951875 351.068125 \nL 293.951875 375.983125 \nL 323.711875 375.983125 \nL 323.711875 351.068125 \nL 293.951875 351.068125 \nz\n\" style=\"fill:#084384;\"/>\n    <path clip-path=\"url(#p7a756e43a1)\" d=\"M 323.711875 351.068125 \nL 323.711875 375.983125 \nL 353.471875 375.983125 \nL 353.471875 351.068125 \nL 323.711875 351.068125 \nz\n\" style=\"fill:#084586;\"/>\n    <path clip-path=\"url(#p7a756e43a1)\" d=\"M 353.471875 351.068125 \nL 353.471875 375.983125 \nL 383.231875 375.983125 \nL 383.231875 351.068125 \nL 353.471875 351.068125 \nz\n\" style=\"fill:#2c8ebf;\"/>\n    <path clip-path=\"url(#p7a756e43a1)\" d=\"M 383.231875 351.068125 \nL 383.231875 375.983125 \nL 412.991875 375.983125 \nL 412.991875 351.068125 \nL 383.231875 351.068125 \nz\n\" style=\"fill:#67c1cb;\"/>\n   </g>\n   <g id=\"patch_3\">\n    <path d=\"M 55.871875 375.983125 \nL 55.871875 77.003125 \n\" style=\"fill:none;\"/>\n   </g>\n   <g id=\"patch_4\">\n    <path d=\"M 412.991875 375.983125 \nL 412.991875 77.003125 \n\" style=\"fill:none;\"/>\n   </g>\n   <g id=\"patch_5\">\n    <path d=\"M 55.871875 375.983125 \nL 412.991875 375.983125 \n\" style=\"fill:none;\"/>\n   </g>\n   <g id=\"patch_6\">\n    <path d=\"M 55.871875 77.003125 \nL 412.991875 77.003125 \n\" style=\"fill:none;\"/>\n   </g>\n  </g>\n  <g id=\"axes_2\">\n   <g id=\"patch_7\">\n    <path clip-path=\"url(#p4f3505f0dc)\" d=\"M 435.311875 375.983125 \nL 435.311875 374.815234 \nL 435.311875 78.171016 \nL 435.311875 77.003125 \nL 450.260875 77.003125 \nL 450.260875 78.171016 \nL 450.260875 374.815234 \nL 450.260875 375.983125 \nz\n\" style=\"fill:#eaeaf2;stroke:#eaeaf2;stroke-linejoin:miter;stroke-width:0.01;\"/>\n   </g>\n   <g id=\"matplotlib.axis_3\"/>\n   <g id=\"matplotlib.axis_4\">\n    <g id=\"ytick_13\">\n     <g id=\"line2d_25\"/>\n     <g id=\"text_21\">\n      <!-- 0.1 -->\n      <g style=\"fill:#262626;\" transform=\"translate(457.260875 336.40149)scale(0.1 -0.1)\">\n       <use xlink:href=\"#LiberationSans-48\"/>\n       <use x=\"55.615234\" xlink:href=\"#LiberationSans-46\"/>\n       <use x=\"83.398438\" xlink:href=\"#LiberationSans-49\"/>\n      </g>\n     </g>\n    </g>\n    <g id=\"ytick_14\">\n     <g id=\"line2d_26\"/>\n     <g id=\"text_22\">\n      <!-- 0.2 -->\n      <g style=\"fill:#262626;\" transform=\"translate(457.260875 293.071454)scale(0.1 -0.1)\">\n       <use xlink:href=\"#LiberationSans-48\"/>\n       <use x=\"55.615234\" xlink:href=\"#LiberationSans-46\"/>\n       <use x=\"83.398438\" xlink:href=\"#LiberationSans-50\"/>\n      </g>\n     </g>\n    </g>\n    <g id=\"ytick_15\">\n     <g id=\"line2d_27\"/>\n     <g id=\"text_23\">\n      <!-- 0.3 -->\n      <defs>\n       <path d=\"M 51.21875 19 \nQ 51.21875 14.265625 49.671875 10.546875 \nQ 48.140625 6.84375 45.1875 4.265625 \nQ 42.234375 1.703125 37.859375 0.359375 \nQ 33.5 -0.984375 27.875 -0.984375 \nQ 21.484375 -0.984375 17.109375 0.609375 \nQ 12.75 2.203125 9.90625 4.8125 \nQ 7.078125 7.421875 5.65625 10.765625 \nQ 4.25 14.109375 3.8125 17.671875 \nL 12.890625 18.5 \nQ 13.28125 15.765625 14.328125 13.515625 \nQ 15.375 11.28125 17.1875 9.671875 \nQ 19 8.0625 21.625 7.171875 \nQ 24.265625 6.296875 27.875 6.296875 \nQ 34.515625 6.296875 38.296875 9.5625 \nQ 42.09375 12.84375 42.09375 19.28125 \nQ 42.09375 23.09375 40.40625 25.40625 \nQ 38.71875 27.734375 36.203125 29.03125 \nQ 33.6875 30.328125 30.734375 30.765625 \nQ 27.78125 31.203125 25.296875 31.203125 \nL 20.3125 31.203125 \nL 20.3125 38.8125 \nL 25.09375 38.8125 \nQ 27.59375 38.8125 30.265625 39.328125 \nQ 32.953125 39.84375 35.171875 41.1875 \nQ 37.40625 42.53125 38.84375 44.828125 \nQ 40.28125 47.125 40.28125 50.6875 \nQ 40.28125 56.203125 37.03125 59.390625 \nQ 33.796875 62.59375 27.390625 62.59375 \nQ 21.578125 62.59375 17.984375 59.609375 \nQ 14.40625 56.640625 13.8125 51.21875 \nL 4.984375 51.90625 \nQ 5.515625 56.453125 7.46875 59.8125 \nQ 9.421875 63.1875 12.421875 65.40625 \nQ 15.4375 67.625 19.28125 68.71875 \nQ 23.140625 69.828125 27.484375 69.828125 \nQ 33.25 69.828125 37.390625 68.375 \nQ 41.546875 66.9375 44.1875 64.46875 \nQ 46.828125 62.015625 48.0625 58.6875 \nQ 49.3125 55.375 49.3125 51.609375 \nQ 49.3125 48.578125 48.484375 45.9375 \nQ 47.65625 43.3125 45.890625 41.203125 \nQ 44.140625 39.109375 41.421875 37.59375 \nQ 38.71875 36.078125 34.90625 35.296875 \nL 34.90625 35.109375 \nQ 39.0625 34.671875 42.140625 33.21875 \nQ 45.21875 31.78125 47.21875 29.625 \nQ 49.21875 27.484375 50.21875 24.75 \nQ 51.21875 22.015625 51.21875 19 \nz\n\" id=\"LiberationSans-51\"/>\n      </defs>\n      <g style=\"fill:#262626;\" transform=\"translate(457.260875 249.741417)scale(0.1 -0.1)\">\n       <use xlink:href=\"#LiberationSans-48\"/>\n       <use x=\"55.615234\" xlink:href=\"#LiberationSans-46\"/>\n       <use x=\"83.398438\" xlink:href=\"#LiberationSans-51\"/>\n      </g>\n     </g>\n    </g>\n    <g id=\"ytick_16\">\n     <g id=\"line2d_28\"/>\n     <g id=\"text_24\">\n      <!-- 0.4 -->\n      <defs>\n       <path d=\"M 43.015625 15.578125 \nL 43.015625 0 \nL 34.71875 0 \nL 34.71875 15.578125 \nL 2.296875 15.578125 \nL 2.296875 22.40625 \nL 33.796875 68.796875 \nL 43.015625 68.796875 \nL 43.015625 22.515625 \nL 52.6875 22.515625 \nL 52.6875 15.578125 \nz\nM 34.71875 58.890625 \nQ 34.625 58.640625 34.234375 57.9375 \nQ 33.84375 57.234375 33.34375 56.34375 \nQ 32.859375 55.46875 32.34375 54.5625 \nQ 31.84375 53.65625 31.453125 53.078125 \nL 13.8125 27.09375 \nQ 13.578125 26.703125 13.109375 26.0625 \nQ 12.640625 25.4375 12.15625 24.78125 \nQ 11.671875 24.125 11.171875 23.484375 \nQ 10.6875 22.859375 10.40625 22.515625 \nL 34.71875 22.515625 \nz\n\" id=\"LiberationSans-52\"/>\n      </defs>\n      <g style=\"fill:#262626;\" transform=\"translate(457.260875 206.411381)scale(0.1 -0.1)\">\n       <use xlink:href=\"#LiberationSans-48\"/>\n       <use x=\"55.615234\" xlink:href=\"#LiberationSans-46\"/>\n       <use x=\"83.398438\" xlink:href=\"#LiberationSans-52\"/>\n      </g>\n     </g>\n    </g>\n    <g id=\"ytick_17\">\n     <g id=\"line2d_29\"/>\n     <g id=\"text_25\">\n      <!-- 0.5 -->\n      <defs>\n       <path d=\"M 51.421875 22.40625 \nQ 51.421875 17.234375 49.859375 12.9375 \nQ 48.296875 8.640625 45.21875 5.53125 \nQ 42.140625 2.4375 37.578125 0.71875 \nQ 33.015625 -0.984375 27 -0.984375 \nQ 21.578125 -0.984375 17.546875 0.28125 \nQ 13.53125 1.5625 10.734375 3.78125 \nQ 7.953125 6 6.3125 8.984375 \nQ 4.6875 11.96875 4 15.375 \nL 12.890625 16.40625 \nQ 13.421875 14.453125 14.390625 12.625 \nQ 15.375 10.796875 17.0625 9.34375 \nQ 18.75 7.90625 21.21875 7.046875 \nQ 23.6875 6.203125 27.203125 6.203125 \nQ 30.609375 6.203125 33.390625 7.25 \nQ 36.1875 8.296875 38.15625 10.34375 \nQ 40.140625 12.40625 41.203125 15.375 \nQ 42.28125 18.359375 42.28125 22.21875 \nQ 42.28125 25.390625 41.25 28.046875 \nQ 40.234375 30.71875 38.328125 32.640625 \nQ 36.421875 34.578125 33.65625 35.640625 \nQ 30.90625 36.71875 27.390625 36.71875 \nQ 25.203125 36.71875 23.34375 36.328125 \nQ 21.484375 35.9375 19.890625 35.25 \nQ 18.3125 34.578125 17.015625 33.671875 \nQ 15.71875 32.765625 14.59375 31.78125 \nL 6 31.78125 \nL 8.296875 68.796875 \nL 47.40625 68.796875 \nL 47.40625 61.328125 \nL 16.3125 61.328125 \nL 14.984375 39.5 \nQ 17.328125 41.3125 20.84375 42.59375 \nQ 24.359375 43.890625 29.203125 43.890625 \nQ 34.328125 43.890625 38.421875 42.328125 \nQ 42.53125 40.765625 45.40625 37.90625 \nQ 48.296875 35.0625 49.859375 31.109375 \nQ 51.421875 27.15625 51.421875 22.40625 \nz\n\" id=\"LiberationSans-53\"/>\n      </defs>\n      <g style=\"fill:#262626;\" transform=\"translate(457.260875 163.081344)scale(0.1 -0.1)\">\n       <use xlink:href=\"#LiberationSans-48\"/>\n       <use x=\"55.615234\" xlink:href=\"#LiberationSans-46\"/>\n       <use x=\"83.398438\" xlink:href=\"#LiberationSans-53\"/>\n      </g>\n     </g>\n    </g>\n    <g id=\"ytick_18\">\n     <g id=\"line2d_30\"/>\n     <g id=\"text_26\">\n      <!-- 0.6 -->\n      <defs>\n       <path d=\"M 51.21875 22.515625 \nQ 51.21875 17.328125 49.78125 13 \nQ 48.34375 8.6875 45.53125 5.578125 \nQ 42.71875 2.484375 38.5625 0.75 \nQ 34.421875 -0.984375 29 -0.984375 \nQ 23 -0.984375 18.5 1.3125 \nQ 14.015625 3.609375 11.03125 7.921875 \nQ 8.0625 12.25 6.5625 18.53125 \nQ 5.078125 24.8125 5.078125 32.8125 \nQ 5.078125 42 6.765625 48.921875 \nQ 8.453125 55.859375 11.625 60.5 \nQ 14.796875 65.140625 19.359375 67.484375 \nQ 23.921875 69.828125 29.6875 69.828125 \nQ 33.203125 69.828125 36.28125 69.09375 \nQ 39.359375 68.359375 41.875 66.71875 \nQ 44.390625 65.09375 46.28125 62.40625 \nQ 48.1875 59.71875 49.3125 55.8125 \nL 40.921875 54.296875 \nQ 39.546875 58.734375 36.546875 60.71875 \nQ 33.546875 62.703125 29.59375 62.703125 \nQ 25.984375 62.703125 23.046875 60.984375 \nQ 20.125 59.28125 18.0625 55.875 \nQ 16.015625 52.484375 14.90625 47.359375 \nQ 13.8125 42.234375 13.8125 35.40625 \nQ 16.21875 39.84375 20.5625 42.15625 \nQ 24.90625 44.484375 30.515625 44.484375 \nQ 35.203125 44.484375 39.015625 42.96875 \nQ 42.828125 41.453125 45.53125 38.59375 \nQ 48.25 35.75 49.734375 31.671875 \nQ 51.21875 27.59375 51.21875 22.515625 \nz\nM 42.28125 22.125 \nQ 42.28125 25.6875 41.40625 28.5625 \nQ 40.53125 31.453125 38.765625 33.46875 \nQ 37.015625 35.5 34.421875 36.59375 \nQ 31.84375 37.703125 28.421875 37.703125 \nQ 26.03125 37.703125 23.578125 36.984375 \nQ 21.140625 36.28125 19.15625 34.6875 \nQ 17.1875 33.109375 15.9375 30.515625 \nQ 14.703125 27.9375 14.703125 24.21875 \nQ 14.703125 20.40625 15.671875 17.109375 \nQ 16.65625 13.8125 18.484375 11.375 \nQ 20.3125 8.9375 22.890625 7.515625 \nQ 25.484375 6.109375 28.71875 6.109375 \nQ 31.890625 6.109375 34.40625 7.203125 \nQ 36.921875 8.296875 38.671875 10.375 \nQ 40.4375 12.453125 41.359375 15.421875 \nQ 42.28125 18.40625 42.28125 22.125 \nz\n\" id=\"LiberationSans-54\"/>\n      </defs>\n      <g style=\"fill:#262626;\" transform=\"translate(457.260875 119.751307)scale(0.1 -0.1)\">\n       <use xlink:href=\"#LiberationSans-48\"/>\n       <use x=\"55.615234\" xlink:href=\"#LiberationSans-46\"/>\n       <use x=\"83.398438\" xlink:href=\"#LiberationSans-54\"/>\n      </g>\n     </g>\n    </g>\n   </g>\n   <image height=\"299\" id=\"image594f72b8a8\" transform=\"scale(1 -1)translate(0 -299)\" width=\"15\" x=\"435\" xlink:href=\"data:image/png;base64,\niVBORw0KGgoAAAANSUhEUgAAAA8AAAErCAYAAAABnNneAAAABHNCSVQICAgIfAhkiAAAAYNJREFUeJztmjESAyEMAw1DkWfla3l5UuQFeIsdje96jcCyhQJZr/fnW83v1FpdbJ3aG4ARMwD31/xnJnve0p7hslmTZErlVTuySahUUoepTSJZrynVM1VX3zNVt+DFwG0slGqRagOsWDDKbMUKcc9g4aLOW5QqtLcJM3ES0QBTpdJ8W/tdlToYT6y4BFumH+qeMw1Q6zAvAcLeBsyw2vOkymzPobEiU6rIDhOlgrcV7bcuHGgIc58Yn1VWwTKrjZjV31WgYGTdkFm8cJCWfVZlepgmlWcGmdU+G3RYrIfNc084VQTMchhhfpLBLZgwZ1ZbzNuZThLKLEol9raVDMx3DAIe6GG5sYJcpoUyV+RD7gbLpoEmkVlNgOS6tk+cOs/iWZVpQ/Q+bN5UDWROjRWFqt2Gmss2DZBUm/1zvA3lTRJpgNqeoVSsSbypinztF91TK5hnQ8w9tVhhnlWWhwFs6rJTpco8bsRHkMw9h87zyFiROc+qAVrMWhoSqx2aAAcmgx/UQiYy385K1QAAAABJRU5ErkJggg==\" y=\"-77\"/>\n   <g id=\"patch_8\">\n    <path d=\"M 435.311875 375.983125 \nL 435.311875 374.815234 \nL 435.311875 78.171016 \nL 435.311875 77.003125 \nL 450.260875 77.003125 \nL 450.260875 78.171016 \nL 450.260875 374.815234 \nL 450.260875 375.983125 \nz\n\" style=\"fill:none;\"/>\n   </g>\n  </g>\n </g>\n <defs>\n  <clipPath id=\"p7a756e43a1\">\n   <rect height=\"298.98\" width=\"357.12\" x=\"55.871875\" y=\"77.003125\"/>\n  </clipPath>\n  <clipPath id=\"p4f3505f0dc\">\n   <rect height=\"298.98\" width=\"14.949\" x=\"435.311875\" y=\"77.003125\"/>\n  </clipPath>\n </defs>\n</svg>\n"
          },
          "metadata": {
            "tags": []
          }
        }
      ]
    },
    {
      "cell_type": "markdown",
      "metadata": {
        "id": "46Utp1ry4LOl"
      },
      "source": [
        "***Thank You!!!***"
      ]
    }
  ]
}
